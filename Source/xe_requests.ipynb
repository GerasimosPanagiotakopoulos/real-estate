{
 "cells": [
  {
   "cell_type": "code",
   "execution_count": 1,
   "id": "4edcb37c",
   "metadata": {},
   "outputs": [],
   "source": [
    "import os.path\n",
    "import requests\n",
    "from bs4 import BeautifulSoup\n",
    "import re\n",
    "import json\n",
    "import html\n",
    "import pandas as pd\n",
    "import datetime\n",
    "import time\n",
    "import random\n",
    "\n",
    "from fake_useragent import UserAgent\n",
    "from tqdm import tqdm"
   ]
  },
  {
   "cell_type": "code",
   "execution_count": 2,
   "id": "028b0eeb",
   "metadata": {},
   "outputs": [],
   "source": [
    "base_link = 'https://www.xe.gr/property/results?transaction_name=rent&item_type=re_residence&geo_place_ids[]=ChIJ8UNwBh-9oRQR3Y1mdkU1Nic&page='"
   ]
  },
  {
   "cell_type": "code",
   "execution_count": 3,
   "id": "59ec73ad",
   "metadata": {},
   "outputs": [
    {
     "name": "stdout",
     "output_type": "stream",
     "text": [
      "Success\n"
     ]
    }
   ],
   "source": [
    "ua = UserAgent()\n",
    "user_agent = {'User-agent': ua.random}\n",
    "response = requests.get(base_link + '1', headers=user_agent)\n",
    "if response.status_code == 200:\n",
    "    print(\"Success\")\n",
    "else:\n",
    "     print(\"Request failed\")   "
   ]
  },
  {
   "cell_type": "code",
   "execution_count": 4,
   "id": "4721ef48",
   "metadata": {},
   "outputs": [
    {
     "data": {
      "text/plain": [
       "174"
      ]
     },
     "execution_count": 4,
     "metadata": {},
     "output_type": "execute_result"
    }
   ],
   "source": [
    "soup = BeautifulSoup(response.content, 'html.parser')\n",
    "# page_json = re.search(r'(?<=data-json-data=\\').*(?=\\' data-language)', str(soup)).group(0)\n",
    "page_json = re.search(r'(?<=data-json-data=.).*(?=. data-language)', str(soup)).group(0) # sometimes json regex needs \"\" isntead of ''\n",
    "my_json_content = json.loads(page_json)\n",
    "page_count = my_json_content['selected_values']['pagination']['total_pages']\n",
    "page_count"
   ]
  },
  {
   "cell_type": "code",
   "execution_count": 5,
   "id": "ec6fe837",
   "metadata": {},
   "outputs": [
    {
     "name": "stderr",
     "output_type": "stream",
     "text": [
      "100%|████████████████████████████████████████████████████████████████████████████████| 174/174 [01:30<00:00,  1.92it/s]"
     ]
    },
    {
     "name": "stdout",
     "output_type": "stream",
     "text": [
      "13/174 successes\n"
     ]
    },
    {
     "name": "stderr",
     "output_type": "stream",
     "text": [
      "\n"
     ]
    }
   ],
   "source": [
    "failed_pages = 0\n",
    "json_content_list = []\n",
    "for page_number in tqdm(range(page_count)):\n",
    "# for page_number in tqdm(range(151, 172)): # temp fix to get pages after a ban\n",
    "    page_link = base_link + str(page_number + 1)\n",
    "    user_agent = {'User-agent': ua.random}\n",
    "    response = requests.get(page_link, headers=user_agent)\n",
    "    if response.status_code == 200:\n",
    "        soup = BeautifulSoup(response.content, 'html.parser')\n",
    "#         str_json = re.search(r'(?<=data-json-data=\\').*(?=\\' data-language)', str(soup)).group(0)\n",
    "        str_json = re.search(r'(?<=data-json-data=.).*(?=. data-language)', str(soup)).group(0) # sometimes json regex needs \"\" isntead of ''\n",
    "#         my_json_content = json.loads(str_json)\n",
    "        my_json_content = json.loads(html.unescape(str_json))  # sometimes str_json comes in escaped format (e.g. \"{&quot;results&quot;}\"), this gets resolved by using html.unescape\n",
    "        json_content_list.append(my_json_content)\n",
    "#         time.sleep(0.6)\n",
    "        time.sleep(random.uniform(0.9, 1.5))\n",
    "    else:\n",
    "        failed_pages +=1\n",
    "        next\n",
    "\n",
    "print(f\"{page_count - failed_pages}/{page_count} successes\")"
   ]
  },
  {
   "cell_type": "code",
   "execution_count": 6,
   "id": "424e23c3",
   "metadata": {},
   "outputs": [],
   "source": [
    "def convert_json_to_df(page_json):\n",
    "    page_apartments = page_json['results']\n",
    "    return pd.DataFrame(page_apartments)\n",
    "\n",
    "df_list = list(map(convert_json_to_df, json_content_list))"
   ]
  },
  {
   "cell_type": "code",
   "execution_count": 7,
   "id": "75dfbb85",
   "metadata": {},
   "outputs": [],
   "source": [
    "master_df = pd.concat(df_list)\n",
    "master_df['extraction_date'] = pd.to_datetime(datetime.datetime.today().date())"
   ]
  },
  {
   "cell_type": "code",
   "execution_count": 8,
   "id": "8b9c353e",
   "metadata": {},
   "outputs": [],
   "source": [
    "master_df.to_csv(os.path.join('Data', 'Raw', f'xe_{datetime.datetime.today().strftime(\"%Y%m%d\")}.csv'), encoding='utf-8-sig', index=False)"
   ]
  }
 ],
 "metadata": {
  "kernelspec": {
   "display_name": "Python 3 (ipykernel)",
   "language": "python",
   "name": "python3"
  },
  "language_info": {
   "codemirror_mode": {
    "name": "ipython",
    "version": 3
   },
   "file_extension": ".py",
   "mimetype": "text/x-python",
   "name": "python",
   "nbconvert_exporter": "python",
   "pygments_lexer": "ipython3",
   "version": "3.9.16"
  }
 },
 "nbformat": 4,
 "nbformat_minor": 5
}
