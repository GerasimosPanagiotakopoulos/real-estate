{
 "cells": [
  {
   "cell_type": "markdown",
   "id": "e0ca9f79",
   "metadata": {},
   "source": [
    "# geojson file\n",
    "\n",
    "## Aim: Get a geojson file for future use in Choropleth\n",
    "\n",
    "The structure of this notebooks is as follows:\n",
    "- Download the file from http://gis.cityofathens.gr\n",
    "- Filter out irrelevant areas\n",
    "- Convert downloaded file's projection from ESPG:2100 to ESPG:4326\n",
    "- Export the final geojson file\n",
    "\n",
    "For each step we save our datasets into temporary geojson files."
   ]
  },
  {
   "cell_type": "code",
   "execution_count": 1,
   "id": "9825dae3",
   "metadata": {},
   "outputs": [],
   "source": [
    "import json\n",
    "import pyproj\n",
    "import os.path\n",
    "import requests\n",
    "import geopandas as gpd"
   ]
  },
  {
   "cell_type": "markdown",
   "id": "eca648e5",
   "metadata": {},
   "source": [
    "**Downloading**"
   ]
  },
  {
   "cell_type": "code",
   "execution_count": 2,
   "id": "8213432c",
   "metadata": {},
   "outputs": [
    {
     "name": "stdout",
     "output_type": "stream",
     "text": [
      "GeoJSON file downloaded successfully.\n"
     ]
    }
   ],
   "source": [
    "geojson_directory = os.path.join('..', 'Data', 'geojson')\n",
    "url = 'http://gis.cityofathens.gr/geoserver/ows?service=WFS&version=1.0.0&request=GetFeature&typename=geonode%3Aper_enot_attki&outputFormat=json&srs=EPSG%3A2100&srsName=EPSG%3A2100'\n",
    "\n",
    "response = requests.get(url)\n",
    "if response.status_code == 200:\n",
    "    with open(os.path.join(geojson_directory, 'dimoi_athens_full.geojson'), 'wb') as file:\n",
    "        file.write(response.content)\n",
    "    print('GeoJSON file downloaded successfully.')\n",
    "else:\n",
    "    print('Failed to download the GeoJSON file.')"
   ]
  },
  {
   "cell_type": "markdown",
   "id": "c7dbf1c8",
   "metadata": {},
   "source": [
    "**Cleaning**"
   ]
  },
  {
   "cell_type": "code",
   "execution_count": 3,
   "id": "73421a5b",
   "metadata": {},
   "outputs": [],
   "source": [
    "geojson_full = gpd.read_file(os.path.join(geojson_directory, 'dimoi_athens_full.geojson'))\n",
    "geojson_clean = geojson_full[~geojson_full['enotites'].isin(['ΠΕΙΡΑΙΩΣ','ΝΗΣΩΝ','ΑΝΑΤΟΛΙΚΗΣ ΑΤΤΙΚΗΣ','ΔΥΤΙΚΗΣ ΑΤΤΙΚΗΣ'])].reset_index()[[\"kwd_ypes\",\"geometry\"]]\n",
    "geojson_clean.to_file(os.path.join(geojson_directory, 'geojson_clean.geojson'), driver='GeoJSON')"
   ]
  },
  {
   "cell_type": "markdown",
   "id": "2f50ad7a",
   "metadata": {},
   "source": [
    "**Converting projection system from ESPG:2100 to ESPG:4326**"
   ]
  },
  {
   "cell_type": "code",
   "execution_count": 4,
   "id": "bdc8594b",
   "metadata": {},
   "outputs": [],
   "source": [
    "with open(os.path.join(geojson_directory, 'geojson_clean.geojson')) as f:\n",
    "    data = json.load(f)"
   ]
  },
  {
   "cell_type": "code",
   "execution_count": 5,
   "id": "158c09a4",
   "metadata": {},
   "outputs": [],
   "source": [
    "# Define the source and target coordinate systems\n",
    "src_crs = pyproj.CRS.from_epsg(2100)\n",
    "target_crs = pyproj.CRS.from_epsg(4326)\n",
    "\n",
    "# Create a transformer to convert coordinates\n",
    "transformer = pyproj.Transformer.from_crs(src_crs, target_crs, always_xy=True)\n",
    "\n",
    "# Convert the coordinates in the GeoJSON features\n",
    "for feature in data['features']:\n",
    "    geometry = feature['geometry']\n",
    "    coordinates = geometry['coordinates']\n",
    "\n",
    "    def convert_coordinates(coords):\n",
    "        if isinstance(coords[0], list):\n",
    "            # If it's a MultiPolygon, recursively convert each set of coordinates\n",
    "            return [convert_coordinates(sub_coords) for sub_coords in coords]\n",
    "        else:\n",
    "            # Convert the coordinates\n",
    "            x, y = coords\n",
    "            lon, lat = transformer.transform(x, y)\n",
    "            return [lon, lat]\n",
    "\n",
    "    converted_coords = convert_coordinates(coordinates)\n",
    "    geometry['coordinates'] = converted_coords\n",
    "\n",
    "# Save the converted GeoJSON to a new file\n",
    "with open(os.path.join(geojson_directory, 'dimoi_final.geojson'), 'w') as f:\n",
    "    json.dump(data, f)"
   ]
  }
 ],
 "metadata": {
  "kernelspec": {
   "display_name": "Python 3 (ipykernel)",
   "language": "python",
   "name": "python3"
  },
  "language_info": {
   "codemirror_mode": {
    "name": "ipython",
    "version": 3
   },
   "file_extension": ".py",
   "mimetype": "text/x-python",
   "name": "python",
   "nbconvert_exporter": "python",
   "pygments_lexer": "ipython3",
   "version": "3.9.16"
  }
 },
 "nbformat": 4,
 "nbformat_minor": 5
}
