{
 "cells": [
  {
   "cell_type": "code",
   "execution_count": 4,
   "id": "9825dae3",
   "metadata": {},
   "outputs": [],
   "source": [
    "import json\n",
    "import pyproj\n",
    "import os.path"
   ]
  },
  {
   "cell_type": "code",
   "execution_count": 5,
   "id": "bdc8594b",
   "metadata": {},
   "outputs": [],
   "source": [
    "geojson_directory = os.path.join('..', 'Data', 'geojson')\n",
    "with open(os.path.join(geojson_directory, 'geojson_clean2.geojson')) as f:\n",
    "    data = json.load(f)"
   ]
  },
  {
   "cell_type": "code",
   "execution_count": 6,
   "id": "158c09a4",
   "metadata": {},
   "outputs": [],
   "source": [
    "# Define the source and target coordinate systems\n",
    "src_crs = pyproj.CRS.from_epsg(2100)\n",
    "target_crs = pyproj.CRS.from_epsg(4326)\n",
    "\n",
    "# Create a transformer to convert coordinates\n",
    "transformer = pyproj.Transformer.from_crs(src_crs, target_crs, always_xy=True)\n",
    "\n",
    "# Convert the coordinates in the GeoJSON features\n",
    "for feature in data['features']:\n",
    "    geometry = feature['geometry']\n",
    "    coordinates = geometry['coordinates']\n",
    "\n",
    "    def convert_coordinates(coords):\n",
    "        if isinstance(coords[0], list):\n",
    "            # If it's a MultiPolygon, recursively convert each set of coordinates\n",
    "            return [convert_coordinates(sub_coords) for sub_coords in coords]\n",
    "        else:\n",
    "            # Convert the coordinates\n",
    "            x, y = coords\n",
    "            lon, lat = transformer.transform(x, y)\n",
    "            return [lon, lat]\n",
    "\n",
    "    converted_coords = convert_coordinates(coordinates)\n",
    "    geometry['coordinates'] = converted_coords\n",
    "\n",
    "# Save the converted GeoJSON to a new file\n",
    "with open(os.path.join(geojson_directory, 'output.geojson'), 'w') as f:\n",
    "    json.dump(data, f)\n"
   ]
  }
 ],
 "metadata": {
  "kernelspec": {
   "display_name": "Python 3 (ipykernel)",
   "language": "python",
   "name": "python3"
  },
  "language_info": {
   "codemirror_mode": {
    "name": "ipython",
    "version": 3
   },
   "file_extension": ".py",
   "mimetype": "text/x-python",
   "name": "python",
   "nbconvert_exporter": "python",
   "pygments_lexer": "ipython3",
   "version": "3.9.16"
  }
 },
 "nbformat": 4,
 "nbformat_minor": 5
}
