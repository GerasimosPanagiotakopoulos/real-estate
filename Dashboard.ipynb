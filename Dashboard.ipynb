{
 "cells": [
  {
   "cell_type": "code",
   "execution_count": 1,
   "id": "c1695424",
   "metadata": {},
   "outputs": [],
   "source": [
    "import requests\n",
    "import re\n",
    "import json\n",
    "import pandas as pd\n",
    "import datetime\n",
    "import numpy as np\n",
    "\n",
    "import geopandas as gpd\n",
    "import folium\n",
    "from folium import IFrame\n",
    "\n",
    "import plotly\n",
    "import plotly.express as px\n",
    "import dash\n",
    "from dash import dcc\n",
    "from dash import html\n",
    "from dash.dependencies import Input, Output\n",
    "from dash import dash_table\n",
    "from dash.exceptions import PreventUpdate\n",
    "from jupyter_dash import JupyterDash\n",
    "\n",
    "pd.set_option('display.max_columns', None) \n",
    "pd.options.mode.chained_assignment = None"
   ]
  },
  {
   "cell_type": "code",
   "execution_count": 2,
   "id": "2883c424",
   "metadata": {},
   "outputs": [],
   "source": [
    "df_full = pd.read_csv('full_dataset.csv')\n",
    "municipalities = gpd.read_file('output.geojson')"
   ]
  },
  {
   "cell_type": "code",
   "execution_count": 39,
   "id": "5b51e6f3",
   "metadata": {},
   "outputs": [],
   "source": [
    "df_full['construction_era'] = pd.cut(df_full['construction_year'], \n",
    "                                     bins=[0, 1970, 1980, 1990, 2000, 2010, 2020, 2030], \n",
    "                                     labels=['< 1970', '1970-1980', '1980-1990', '1990-2000', '2000-2010', '2010-2020', '> 2020'])\n",
    "\n",
    "df_full['area_group'] = pd.cut(df_full['area'], \n",
    "                                     bins=[0, 20, 40, 60, 10000], \n",
    "                                     labels=['< 20', '21-40', '41-60', '61+'])\n",
    "\n",
    "df_full['bedrooms_group'] = pd.cut(df_full['bedrooms'], \n",
    "                                   bins=[0, 1, 2, 3, 10000], \n",
    "                                   labels=['1', '2', '3', '4+'])\n",
    "\n",
    "df_full['level_group'] = pd.cut(df_full['min_level'], \n",
    "                                bins=[-100, -1, -0.5, 0, 0.5, 1, 2, 10000], \n",
    "                                labels=['Υπόγειο', 'Ημιυπόγειο', 'Ισόγειο', 'Ημιώροφος', '1', '2', '3+'])\n"
   ]
  },
  {
   "cell_type": "code",
   "execution_count": 3,
   "id": "1e29fa24",
   "metadata": {},
   "outputs": [
    {
     "data": {
      "text/html": [
       "<div>\n",
       "<style scoped>\n",
       "    .dataframe tbody tr th:only-of-type {\n",
       "        vertical-align: middle;\n",
       "    }\n",
       "\n",
       "    .dataframe tbody tr th {\n",
       "        vertical-align: top;\n",
       "    }\n",
       "\n",
       "    .dataframe thead th {\n",
       "        text-align: right;\n",
       "    }\n",
       "</style>\n",
       "<table border=\"1\" class=\"dataframe\">\n",
       "  <thead>\n",
       "    <tr style=\"text-align: right;\">\n",
       "      <th></th>\n",
       "      <th>extraction_date</th>\n",
       "      <th>ids</th>\n",
       "      <th>ids_yesterday</th>\n",
       "      <th>in</th>\n",
       "      <th>out</th>\n",
       "    </tr>\n",
       "  </thead>\n",
       "  <tbody>\n",
       "    <tr>\n",
       "      <th>1</th>\n",
       "      <td>2023-06-02</td>\n",
       "      <td>{814874624, 815104013, 815267868, 812941342, 8...</td>\n",
       "      <td>{814874624, 815104013, 812941342, 815038502, 8...</td>\n",
       "      <td>296</td>\n",
       "      <td>300</td>\n",
       "    </tr>\n",
       "    <tr>\n",
       "      <th>2</th>\n",
       "      <td>2023-06-03</td>\n",
       "      <td>{814874624, 801701890, 815104013, 815267868, 8...</td>\n",
       "      <td>{814874624, 815104013, 815267868, 812941342, 8...</td>\n",
       "      <td>229</td>\n",
       "      <td>200</td>\n",
       "    </tr>\n",
       "    <tr>\n",
       "      <th>3</th>\n",
       "      <td>2023-06-04</td>\n",
       "      <td>{814874624, 801701890, 815104013, 815267868, 8...</td>\n",
       "      <td>{814874624, 801701890, 815104013, 815267868, 8...</td>\n",
       "      <td>107</td>\n",
       "      <td>114</td>\n",
       "    </tr>\n",
       "    <tr>\n",
       "      <th>4</th>\n",
       "      <td>2023-06-05</td>\n",
       "      <td>{814874624, 801701890, 815104013, 33095702, 81...</td>\n",
       "      <td>{814874624, 801701890, 815104013, 815267868, 8...</td>\n",
       "      <td>189</td>\n",
       "      <td>203</td>\n",
       "    </tr>\n",
       "  </tbody>\n",
       "</table>\n",
       "</div>"
      ],
      "text/plain": [
       "  extraction_date                                                ids  \\\n",
       "1      2023-06-02  {814874624, 815104013, 815267868, 812941342, 8...   \n",
       "2      2023-06-03  {814874624, 801701890, 815104013, 815267868, 8...   \n",
       "3      2023-06-04  {814874624, 801701890, 815104013, 815267868, 8...   \n",
       "4      2023-06-05  {814874624, 801701890, 815104013, 33095702, 81...   \n",
       "\n",
       "                                       ids_yesterday   in  out  \n",
       "1  {814874624, 815104013, 812941342, 815038502, 8...  296  300  \n",
       "2  {814874624, 815104013, 815267868, 812941342, 8...  229  200  \n",
       "3  {814874624, 801701890, 815104013, 815267868, 8...  107  114  \n",
       "4  {814874624, 801701890, 815104013, 815267868, 8...  189  203  "
      ]
     },
     "execution_count": 3,
     "metadata": {},
     "output_type": "execute_result"
    }
   ],
   "source": [
    "daily_ids = {date: set(df_full.loc[df_full['extraction_date'] == date, 'id']) for date in df_full['extraction_date'].unique()}\n",
    "# daily_ids_df = pd.from_dict(daily_ids)\n",
    "df_population = pd.DataFrame(daily_ids.items(), columns=['extraction_date','ids'])\n",
    "df_population['ids_yesterday'] = df_population['ids'].shift(1)\n",
    "df_population.dropna(inplace=True)\n",
    "df_population['in'] = (df_population['ids'] - df_population['ids_yesterday']).apply(len)\n",
    "df_population['out'] = (df_population['ids_yesterday'] - df_population['ids']).apply(len)"
   ]
  },
  {
   "cell_type": "code",
   "execution_count": 9,
   "id": "0f74dbbc",
   "metadata": {},
   "outputs": [],
   "source": [
    "fig_bar_population_new_left = px.bar(df_population, x='extraction_date', y=['in', 'out'], orientation='v', \n",
    "                                     barmode=\"group\")\n",
    "fig_bar_population_new_left.update_traces(marker_color='darkcyan', selector=dict(type='bar', name='in'))\n",
    "fig_bar_population_new_left.update_traces(marker_color='darkturquoise', selector=dict(type='bar', name='out'))\n",
    "\n",
    "fig_bar_population_new_left.update_traces(text=df_population['in'], textposition='auto', selector=dict(type='bar', name='in'))\n",
    "fig_bar_population_new_left.update_traces(text=df_population['out'], textposition='auto', selector=dict(type='bar', name='out'))\n",
    "\n",
    "fig_bar_population_new_left.update_layout(\n",
    "    title=\"Incoming and outgoing ads\",\n",
    "    title_font=dict(size=24),\n",
    "    title_x=0.5\n",
    ")\n",
    "\n",
    "fig_bar_population_new_left.update_layout(\n",
    "    xaxis_title='Date',\n",
    "    yaxis_title='Ad Count'\n",
    ")\n",
    "\n",
    "df_ad_age = df_full[df_full['extraction_date'] == \"2023-06-05\"].groupby('days_passed').size().reset_index(name='Count')\n",
    "df_ad_age['age'] = pd.cut(df_ad_age['days_passed'], bins=[0, 7, 14, 21, 28, 60], labels=['< 1 week', '< 2 weeks', '< 3 weeks', '< 1 month', '< 2 months'])\n",
    "df_age_graph = df_ad_age.groupby('age')['Count'].sum().reset_index(name='Count')\n",
    "fig_ad_age = px.bar(df_age_graph, x='age', y='Count', \n",
    "             orientation='v', title='Ad age (2023-06-05)')\n",
    "fig_ad_age.update_traces(marker_color='darkcyan')\n",
    "fig_ad_age.update_traces(text=df_age_graph['Count'], textposition='auto')\n",
    "fig_ad_age.update_layout(\n",
    "    xaxis_title='Age',\n",
    "    yaxis_title='Count',\n",
    "    title_x=0.5\n",
    ")\n",
    "\n",
    "None"
   ]
  },
  {
   "cell_type": "code",
   "execution_count": 10,
   "id": "9dfee658",
   "metadata": {},
   "outputs": [
    {
     "data": {
      "application/vnd.plotly.v1+json": {
       "config": {
        "plotlyServerURL": "https://plot.ly"
       },
       "data": [
        {
         "alignmentgroup": "True",
         "customdata": [
          [
           32
          ],
          [
           148
          ],
          [
           585
          ],
          [
           452
          ],
          [
           1252
          ],
          [
           7
          ],
          [
           988
          ],
          [
           751
          ],
          [
           589
          ],
          [
           423
          ],
          [
           120
          ],
          [
           50
          ],
          [
           19
          ]
         ],
         "hovertemplate": "price_per_area=%{x}<br>max_level=%{y}<br>count=%{customdata[0]}<extra></extra>",
         "legendgroup": "",
         "marker": {
          "color": "darkcyan",
          "pattern": {
           "shape": ""
          }
         },
         "name": "",
         "offsetgroup": "",
         "orientation": "h",
         "showlegend": false,
         "text": [
          11.585679102684082,
          9.818492117760059,
          10.79206344734431,
          9.743709525374598,
          9.955457791860294,
          9.259950335716628,
          9.921711753364432,
          10.239537048763907,
          10.25638291732811,
          10.646262327509497,
          11.98327047800816,
          12.374751750560511,
          11.541353326470414
         ],
         "textposition": "auto",
         "texttemplate": "%{text:.4s}",
         "type": "bar",
         "x": [
          11.585679102684082,
          9.818492117760059,
          10.79206344734431,
          9.743709525374598,
          9.955457791860294,
          9.259950335716628,
          9.921711753364432,
          10.239537048763907,
          10.25638291732811,
          10.646262327509497,
          11.98327047800816,
          12.374751750560511,
          11.541353326470414
         ],
         "xaxis": "x",
         "y": [
          -1,
          -0.5,
          0,
          0.5,
          1,
          1.5,
          2,
          3,
          4,
          5,
          6,
          7,
          8
         ],
         "yaxis": "y"
        }
       ],
       "layout": {
        "barmode": "relative",
        "legend": {
         "tracegroupgap": 0
        },
        "margin": {
         "t": 60
        },
        "template": {
         "data": {
          "bar": [
           {
            "error_x": {
             "color": "#2a3f5f"
            },
            "error_y": {
             "color": "#2a3f5f"
            },
            "marker": {
             "line": {
              "color": "#E5ECF6",
              "width": 0.5
             },
             "pattern": {
              "fillmode": "overlay",
              "size": 10,
              "solidity": 0.2
             }
            },
            "type": "bar"
           }
          ],
          "barpolar": [
           {
            "marker": {
             "line": {
              "color": "#E5ECF6",
              "width": 0.5
             },
             "pattern": {
              "fillmode": "overlay",
              "size": 10,
              "solidity": 0.2
             }
            },
            "type": "barpolar"
           }
          ],
          "carpet": [
           {
            "aaxis": {
             "endlinecolor": "#2a3f5f",
             "gridcolor": "white",
             "linecolor": "white",
             "minorgridcolor": "white",
             "startlinecolor": "#2a3f5f"
            },
            "baxis": {
             "endlinecolor": "#2a3f5f",
             "gridcolor": "white",
             "linecolor": "white",
             "minorgridcolor": "white",
             "startlinecolor": "#2a3f5f"
            },
            "type": "carpet"
           }
          ],
          "choropleth": [
           {
            "colorbar": {
             "outlinewidth": 0,
             "ticks": ""
            },
            "type": "choropleth"
           }
          ],
          "contour": [
           {
            "colorbar": {
             "outlinewidth": 0,
             "ticks": ""
            },
            "colorscale": [
             [
              0,
              "#0d0887"
             ],
             [
              0.1111111111111111,
              "#46039f"
             ],
             [
              0.2222222222222222,
              "#7201a8"
             ],
             [
              0.3333333333333333,
              "#9c179e"
             ],
             [
              0.4444444444444444,
              "#bd3786"
             ],
             [
              0.5555555555555556,
              "#d8576b"
             ],
             [
              0.6666666666666666,
              "#ed7953"
             ],
             [
              0.7777777777777778,
              "#fb9f3a"
             ],
             [
              0.8888888888888888,
              "#fdca26"
             ],
             [
              1,
              "#f0f921"
             ]
            ],
            "type": "contour"
           }
          ],
          "contourcarpet": [
           {
            "colorbar": {
             "outlinewidth": 0,
             "ticks": ""
            },
            "type": "contourcarpet"
           }
          ],
          "heatmap": [
           {
            "colorbar": {
             "outlinewidth": 0,
             "ticks": ""
            },
            "colorscale": [
             [
              0,
              "#0d0887"
             ],
             [
              0.1111111111111111,
              "#46039f"
             ],
             [
              0.2222222222222222,
              "#7201a8"
             ],
             [
              0.3333333333333333,
              "#9c179e"
             ],
             [
              0.4444444444444444,
              "#bd3786"
             ],
             [
              0.5555555555555556,
              "#d8576b"
             ],
             [
              0.6666666666666666,
              "#ed7953"
             ],
             [
              0.7777777777777778,
              "#fb9f3a"
             ],
             [
              0.8888888888888888,
              "#fdca26"
             ],
             [
              1,
              "#f0f921"
             ]
            ],
            "type": "heatmap"
           }
          ],
          "heatmapgl": [
           {
            "colorbar": {
             "outlinewidth": 0,
             "ticks": ""
            },
            "colorscale": [
             [
              0,
              "#0d0887"
             ],
             [
              0.1111111111111111,
              "#46039f"
             ],
             [
              0.2222222222222222,
              "#7201a8"
             ],
             [
              0.3333333333333333,
              "#9c179e"
             ],
             [
              0.4444444444444444,
              "#bd3786"
             ],
             [
              0.5555555555555556,
              "#d8576b"
             ],
             [
              0.6666666666666666,
              "#ed7953"
             ],
             [
              0.7777777777777778,
              "#fb9f3a"
             ],
             [
              0.8888888888888888,
              "#fdca26"
             ],
             [
              1,
              "#f0f921"
             ]
            ],
            "type": "heatmapgl"
           }
          ],
          "histogram": [
           {
            "marker": {
             "pattern": {
              "fillmode": "overlay",
              "size": 10,
              "solidity": 0.2
             }
            },
            "type": "histogram"
           }
          ],
          "histogram2d": [
           {
            "colorbar": {
             "outlinewidth": 0,
             "ticks": ""
            },
            "colorscale": [
             [
              0,
              "#0d0887"
             ],
             [
              0.1111111111111111,
              "#46039f"
             ],
             [
              0.2222222222222222,
              "#7201a8"
             ],
             [
              0.3333333333333333,
              "#9c179e"
             ],
             [
              0.4444444444444444,
              "#bd3786"
             ],
             [
              0.5555555555555556,
              "#d8576b"
             ],
             [
              0.6666666666666666,
              "#ed7953"
             ],
             [
              0.7777777777777778,
              "#fb9f3a"
             ],
             [
              0.8888888888888888,
              "#fdca26"
             ],
             [
              1,
              "#f0f921"
             ]
            ],
            "type": "histogram2d"
           }
          ],
          "histogram2dcontour": [
           {
            "colorbar": {
             "outlinewidth": 0,
             "ticks": ""
            },
            "colorscale": [
             [
              0,
              "#0d0887"
             ],
             [
              0.1111111111111111,
              "#46039f"
             ],
             [
              0.2222222222222222,
              "#7201a8"
             ],
             [
              0.3333333333333333,
              "#9c179e"
             ],
             [
              0.4444444444444444,
              "#bd3786"
             ],
             [
              0.5555555555555556,
              "#d8576b"
             ],
             [
              0.6666666666666666,
              "#ed7953"
             ],
             [
              0.7777777777777778,
              "#fb9f3a"
             ],
             [
              0.8888888888888888,
              "#fdca26"
             ],
             [
              1,
              "#f0f921"
             ]
            ],
            "type": "histogram2dcontour"
           }
          ],
          "mesh3d": [
           {
            "colorbar": {
             "outlinewidth": 0,
             "ticks": ""
            },
            "type": "mesh3d"
           }
          ],
          "parcoords": [
           {
            "line": {
             "colorbar": {
              "outlinewidth": 0,
              "ticks": ""
             }
            },
            "type": "parcoords"
           }
          ],
          "pie": [
           {
            "automargin": true,
            "type": "pie"
           }
          ],
          "scatter": [
           {
            "fillpattern": {
             "fillmode": "overlay",
             "size": 10,
             "solidity": 0.2
            },
            "type": "scatter"
           }
          ],
          "scatter3d": [
           {
            "line": {
             "colorbar": {
              "outlinewidth": 0,
              "ticks": ""
             }
            },
            "marker": {
             "colorbar": {
              "outlinewidth": 0,
              "ticks": ""
             }
            },
            "type": "scatter3d"
           }
          ],
          "scattercarpet": [
           {
            "marker": {
             "colorbar": {
              "outlinewidth": 0,
              "ticks": ""
             }
            },
            "type": "scattercarpet"
           }
          ],
          "scattergeo": [
           {
            "marker": {
             "colorbar": {
              "outlinewidth": 0,
              "ticks": ""
             }
            },
            "type": "scattergeo"
           }
          ],
          "scattergl": [
           {
            "marker": {
             "colorbar": {
              "outlinewidth": 0,
              "ticks": ""
             }
            },
            "type": "scattergl"
           }
          ],
          "scattermapbox": [
           {
            "marker": {
             "colorbar": {
              "outlinewidth": 0,
              "ticks": ""
             }
            },
            "type": "scattermapbox"
           }
          ],
          "scatterpolar": [
           {
            "marker": {
             "colorbar": {
              "outlinewidth": 0,
              "ticks": ""
             }
            },
            "type": "scatterpolar"
           }
          ],
          "scatterpolargl": [
           {
            "marker": {
             "colorbar": {
              "outlinewidth": 0,
              "ticks": ""
             }
            },
            "type": "scatterpolargl"
           }
          ],
          "scatterternary": [
           {
            "marker": {
             "colorbar": {
              "outlinewidth": 0,
              "ticks": ""
             }
            },
            "type": "scatterternary"
           }
          ],
          "surface": [
           {
            "colorbar": {
             "outlinewidth": 0,
             "ticks": ""
            },
            "colorscale": [
             [
              0,
              "#0d0887"
             ],
             [
              0.1111111111111111,
              "#46039f"
             ],
             [
              0.2222222222222222,
              "#7201a8"
             ],
             [
              0.3333333333333333,
              "#9c179e"
             ],
             [
              0.4444444444444444,
              "#bd3786"
             ],
             [
              0.5555555555555556,
              "#d8576b"
             ],
             [
              0.6666666666666666,
              "#ed7953"
             ],
             [
              0.7777777777777778,
              "#fb9f3a"
             ],
             [
              0.8888888888888888,
              "#fdca26"
             ],
             [
              1,
              "#f0f921"
             ]
            ],
            "type": "surface"
           }
          ],
          "table": [
           {
            "cells": {
             "fill": {
              "color": "#EBF0F8"
             },
             "line": {
              "color": "white"
             }
            },
            "header": {
             "fill": {
              "color": "#C8D4E3"
             },
             "line": {
              "color": "white"
             }
            },
            "type": "table"
           }
          ]
         },
         "layout": {
          "annotationdefaults": {
           "arrowcolor": "#2a3f5f",
           "arrowhead": 0,
           "arrowwidth": 1
          },
          "autotypenumbers": "strict",
          "coloraxis": {
           "colorbar": {
            "outlinewidth": 0,
            "ticks": ""
           }
          },
          "colorscale": {
           "diverging": [
            [
             0,
             "#8e0152"
            ],
            [
             0.1,
             "#c51b7d"
            ],
            [
             0.2,
             "#de77ae"
            ],
            [
             0.3,
             "#f1b6da"
            ],
            [
             0.4,
             "#fde0ef"
            ],
            [
             0.5,
             "#f7f7f7"
            ],
            [
             0.6,
             "#e6f5d0"
            ],
            [
             0.7,
             "#b8e186"
            ],
            [
             0.8,
             "#7fbc41"
            ],
            [
             0.9,
             "#4d9221"
            ],
            [
             1,
             "#276419"
            ]
           ],
           "sequential": [
            [
             0,
             "#0d0887"
            ],
            [
             0.1111111111111111,
             "#46039f"
            ],
            [
             0.2222222222222222,
             "#7201a8"
            ],
            [
             0.3333333333333333,
             "#9c179e"
            ],
            [
             0.4444444444444444,
             "#bd3786"
            ],
            [
             0.5555555555555556,
             "#d8576b"
            ],
            [
             0.6666666666666666,
             "#ed7953"
            ],
            [
             0.7777777777777778,
             "#fb9f3a"
            ],
            [
             0.8888888888888888,
             "#fdca26"
            ],
            [
             1,
             "#f0f921"
            ]
           ],
           "sequentialminus": [
            [
             0,
             "#0d0887"
            ],
            [
             0.1111111111111111,
             "#46039f"
            ],
            [
             0.2222222222222222,
             "#7201a8"
            ],
            [
             0.3333333333333333,
             "#9c179e"
            ],
            [
             0.4444444444444444,
             "#bd3786"
            ],
            [
             0.5555555555555556,
             "#d8576b"
            ],
            [
             0.6666666666666666,
             "#ed7953"
            ],
            [
             0.7777777777777778,
             "#fb9f3a"
            ],
            [
             0.8888888888888888,
             "#fdca26"
            ],
            [
             1,
             "#f0f921"
            ]
           ]
          },
          "colorway": [
           "#636efa",
           "#EF553B",
           "#00cc96",
           "#ab63fa",
           "#FFA15A",
           "#19d3f3",
           "#FF6692",
           "#B6E880",
           "#FF97FF",
           "#FECB52"
          ],
          "font": {
           "color": "#2a3f5f"
          },
          "geo": {
           "bgcolor": "white",
           "lakecolor": "white",
           "landcolor": "#E5ECF6",
           "showlakes": true,
           "showland": true,
           "subunitcolor": "white"
          },
          "hoverlabel": {
           "align": "left"
          },
          "hovermode": "closest",
          "mapbox": {
           "style": "light"
          },
          "paper_bgcolor": "white",
          "plot_bgcolor": "#E5ECF6",
          "polar": {
           "angularaxis": {
            "gridcolor": "white",
            "linecolor": "white",
            "ticks": ""
           },
           "bgcolor": "#E5ECF6",
           "radialaxis": {
            "gridcolor": "white",
            "linecolor": "white",
            "ticks": ""
           }
          },
          "scene": {
           "xaxis": {
            "backgroundcolor": "#E5ECF6",
            "gridcolor": "white",
            "gridwidth": 2,
            "linecolor": "white",
            "showbackground": true,
            "ticks": "",
            "zerolinecolor": "white"
           },
           "yaxis": {
            "backgroundcolor": "#E5ECF6",
            "gridcolor": "white",
            "gridwidth": 2,
            "linecolor": "white",
            "showbackground": true,
            "ticks": "",
            "zerolinecolor": "white"
           },
           "zaxis": {
            "backgroundcolor": "#E5ECF6",
            "gridcolor": "white",
            "gridwidth": 2,
            "linecolor": "white",
            "showbackground": true,
            "ticks": "",
            "zerolinecolor": "white"
           }
          },
          "shapedefaults": {
           "line": {
            "color": "#2a3f5f"
           }
          },
          "ternary": {
           "aaxis": {
            "gridcolor": "white",
            "linecolor": "white",
            "ticks": ""
           },
           "baxis": {
            "gridcolor": "white",
            "linecolor": "white",
            "ticks": ""
           },
           "bgcolor": "#E5ECF6",
           "caxis": {
            "gridcolor": "white",
            "linecolor": "white",
            "ticks": ""
           }
          },
          "title": {
           "x": 0.05
          },
          "xaxis": {
           "automargin": true,
           "gridcolor": "white",
           "linecolor": "white",
           "ticks": "",
           "title": {
            "standoff": 15
           },
           "zerolinecolor": "white",
           "zerolinewidth": 2
          },
          "yaxis": {
           "automargin": true,
           "gridcolor": "white",
           "linecolor": "white",
           "ticks": "",
           "title": {
            "standoff": 15
           },
           "zerolinecolor": "white",
           "zerolinewidth": 2
          }
         }
        },
        "title": {
         "text": "Prices for different house levels",
         "x": 0.5
        },
        "xaxis": {
         "anchor": "y",
         "domain": [
          0,
          1
         ],
         "title": {
          "text": "Average price per area"
         }
        },
        "yaxis": {
         "anchor": "x",
         "domain": [
          0,
          1
         ],
         "title": {
          "text": "Level"
         }
        }
       }
      },
      "text/html": [
       "<div>                            <div id=\"082ea34e-e7a4-446f-9f7b-b1592f363b90\" class=\"plotly-graph-div\" style=\"height:525px; width:100%;\"></div>            <script type=\"text/javascript\">                require([\"plotly\"], function(Plotly) {                    window.PLOTLYENV=window.PLOTLYENV || {};                                    if (document.getElementById(\"082ea34e-e7a4-446f-9f7b-b1592f363b90\")) {                    Plotly.newPlot(                        \"082ea34e-e7a4-446f-9f7b-b1592f363b90\",                        [{\"alignmentgroup\":\"True\",\"customdata\":[[32],[148],[585],[452],[1252],[7],[988],[751],[589],[423],[120],[50],[19]],\"hovertemplate\":\"price_per_area=%{x}\\u003cbr\\u003emax_level=%{y}\\u003cbr\\u003ecount=%{customdata[0]}\\u003cextra\\u003e\\u003c\\u002fextra\\u003e\",\"legendgroup\":\"\",\"marker\":{\"color\":\"darkcyan\",\"pattern\":{\"shape\":\"\"}},\"name\":\"\",\"offsetgroup\":\"\",\"orientation\":\"h\",\"showlegend\":false,\"textposition\":\"auto\",\"x\":[11.585679102684082,9.818492117760059,10.79206344734431,9.743709525374598,9.955457791860294,9.259950335716628,9.921711753364432,10.239537048763907,10.25638291732811,10.646262327509497,11.98327047800816,12.374751750560511,11.541353326470414],\"xaxis\":\"x\",\"y\":[-1.0,-0.5,0.0,0.5,1.0,1.5,2.0,3.0,4.0,5.0,6.0,7.0,8.0],\"yaxis\":\"y\",\"type\":\"bar\",\"text\":[11.585679102684082,9.818492117760059,10.79206344734431,9.743709525374598,9.955457791860294,9.259950335716628,9.921711753364432,10.239537048763907,10.25638291732811,10.646262327509497,11.98327047800816,12.374751750560511,11.541353326470414],\"texttemplate\":\"%{text:.4s}\"}],                        {\"template\":{\"data\":{\"histogram2dcontour\":[{\"type\":\"histogram2dcontour\",\"colorbar\":{\"outlinewidth\":0,\"ticks\":\"\"},\"colorscale\":[[0.0,\"#0d0887\"],[0.1111111111111111,\"#46039f\"],[0.2222222222222222,\"#7201a8\"],[0.3333333333333333,\"#9c179e\"],[0.4444444444444444,\"#bd3786\"],[0.5555555555555556,\"#d8576b\"],[0.6666666666666666,\"#ed7953\"],[0.7777777777777778,\"#fb9f3a\"],[0.8888888888888888,\"#fdca26\"],[1.0,\"#f0f921\"]]}],\"choropleth\":[{\"type\":\"choropleth\",\"colorbar\":{\"outlinewidth\":0,\"ticks\":\"\"}}],\"histogram2d\":[{\"type\":\"histogram2d\",\"colorbar\":{\"outlinewidth\":0,\"ticks\":\"\"},\"colorscale\":[[0.0,\"#0d0887\"],[0.1111111111111111,\"#46039f\"],[0.2222222222222222,\"#7201a8\"],[0.3333333333333333,\"#9c179e\"],[0.4444444444444444,\"#bd3786\"],[0.5555555555555556,\"#d8576b\"],[0.6666666666666666,\"#ed7953\"],[0.7777777777777778,\"#fb9f3a\"],[0.8888888888888888,\"#fdca26\"],[1.0,\"#f0f921\"]]}],\"heatmap\":[{\"type\":\"heatmap\",\"colorbar\":{\"outlinewidth\":0,\"ticks\":\"\"},\"colorscale\":[[0.0,\"#0d0887\"],[0.1111111111111111,\"#46039f\"],[0.2222222222222222,\"#7201a8\"],[0.3333333333333333,\"#9c179e\"],[0.4444444444444444,\"#bd3786\"],[0.5555555555555556,\"#d8576b\"],[0.6666666666666666,\"#ed7953\"],[0.7777777777777778,\"#fb9f3a\"],[0.8888888888888888,\"#fdca26\"],[1.0,\"#f0f921\"]]}],\"heatmapgl\":[{\"type\":\"heatmapgl\",\"colorbar\":{\"outlinewidth\":0,\"ticks\":\"\"},\"colorscale\":[[0.0,\"#0d0887\"],[0.1111111111111111,\"#46039f\"],[0.2222222222222222,\"#7201a8\"],[0.3333333333333333,\"#9c179e\"],[0.4444444444444444,\"#bd3786\"],[0.5555555555555556,\"#d8576b\"],[0.6666666666666666,\"#ed7953\"],[0.7777777777777778,\"#fb9f3a\"],[0.8888888888888888,\"#fdca26\"],[1.0,\"#f0f921\"]]}],\"contourcarpet\":[{\"type\":\"contourcarpet\",\"colorbar\":{\"outlinewidth\":0,\"ticks\":\"\"}}],\"contour\":[{\"type\":\"contour\",\"colorbar\":{\"outlinewidth\":0,\"ticks\":\"\"},\"colorscale\":[[0.0,\"#0d0887\"],[0.1111111111111111,\"#46039f\"],[0.2222222222222222,\"#7201a8\"],[0.3333333333333333,\"#9c179e\"],[0.4444444444444444,\"#bd3786\"],[0.5555555555555556,\"#d8576b\"],[0.6666666666666666,\"#ed7953\"],[0.7777777777777778,\"#fb9f3a\"],[0.8888888888888888,\"#fdca26\"],[1.0,\"#f0f921\"]]}],\"surface\":[{\"type\":\"surface\",\"colorbar\":{\"outlinewidth\":0,\"ticks\":\"\"},\"colorscale\":[[0.0,\"#0d0887\"],[0.1111111111111111,\"#46039f\"],[0.2222222222222222,\"#7201a8\"],[0.3333333333333333,\"#9c179e\"],[0.4444444444444444,\"#bd3786\"],[0.5555555555555556,\"#d8576b\"],[0.6666666666666666,\"#ed7953\"],[0.7777777777777778,\"#fb9f3a\"],[0.8888888888888888,\"#fdca26\"],[1.0,\"#f0f921\"]]}],\"mesh3d\":[{\"type\":\"mesh3d\",\"colorbar\":{\"outlinewidth\":0,\"ticks\":\"\"}}],\"scatter\":[{\"fillpattern\":{\"fillmode\":\"overlay\",\"size\":10,\"solidity\":0.2},\"type\":\"scatter\"}],\"parcoords\":[{\"type\":\"parcoords\",\"line\":{\"colorbar\":{\"outlinewidth\":0,\"ticks\":\"\"}}}],\"scatterpolargl\":[{\"type\":\"scatterpolargl\",\"marker\":{\"colorbar\":{\"outlinewidth\":0,\"ticks\":\"\"}}}],\"bar\":[{\"error_x\":{\"color\":\"#2a3f5f\"},\"error_y\":{\"color\":\"#2a3f5f\"},\"marker\":{\"line\":{\"color\":\"#E5ECF6\",\"width\":0.5},\"pattern\":{\"fillmode\":\"overlay\",\"size\":10,\"solidity\":0.2}},\"type\":\"bar\"}],\"scattergeo\":[{\"type\":\"scattergeo\",\"marker\":{\"colorbar\":{\"outlinewidth\":0,\"ticks\":\"\"}}}],\"scatterpolar\":[{\"type\":\"scatterpolar\",\"marker\":{\"colorbar\":{\"outlinewidth\":0,\"ticks\":\"\"}}}],\"histogram\":[{\"marker\":{\"pattern\":{\"fillmode\":\"overlay\",\"size\":10,\"solidity\":0.2}},\"type\":\"histogram\"}],\"scattergl\":[{\"type\":\"scattergl\",\"marker\":{\"colorbar\":{\"outlinewidth\":0,\"ticks\":\"\"}}}],\"scatter3d\":[{\"type\":\"scatter3d\",\"line\":{\"colorbar\":{\"outlinewidth\":0,\"ticks\":\"\"}},\"marker\":{\"colorbar\":{\"outlinewidth\":0,\"ticks\":\"\"}}}],\"scattermapbox\":[{\"type\":\"scattermapbox\",\"marker\":{\"colorbar\":{\"outlinewidth\":0,\"ticks\":\"\"}}}],\"scatterternary\":[{\"type\":\"scatterternary\",\"marker\":{\"colorbar\":{\"outlinewidth\":0,\"ticks\":\"\"}}}],\"scattercarpet\":[{\"type\":\"scattercarpet\",\"marker\":{\"colorbar\":{\"outlinewidth\":0,\"ticks\":\"\"}}}],\"carpet\":[{\"aaxis\":{\"endlinecolor\":\"#2a3f5f\",\"gridcolor\":\"white\",\"linecolor\":\"white\",\"minorgridcolor\":\"white\",\"startlinecolor\":\"#2a3f5f\"},\"baxis\":{\"endlinecolor\":\"#2a3f5f\",\"gridcolor\":\"white\",\"linecolor\":\"white\",\"minorgridcolor\":\"white\",\"startlinecolor\":\"#2a3f5f\"},\"type\":\"carpet\"}],\"table\":[{\"cells\":{\"fill\":{\"color\":\"#EBF0F8\"},\"line\":{\"color\":\"white\"}},\"header\":{\"fill\":{\"color\":\"#C8D4E3\"},\"line\":{\"color\":\"white\"}},\"type\":\"table\"}],\"barpolar\":[{\"marker\":{\"line\":{\"color\":\"#E5ECF6\",\"width\":0.5},\"pattern\":{\"fillmode\":\"overlay\",\"size\":10,\"solidity\":0.2}},\"type\":\"barpolar\"}],\"pie\":[{\"automargin\":true,\"type\":\"pie\"}]},\"layout\":{\"autotypenumbers\":\"strict\",\"colorway\":[\"#636efa\",\"#EF553B\",\"#00cc96\",\"#ab63fa\",\"#FFA15A\",\"#19d3f3\",\"#FF6692\",\"#B6E880\",\"#FF97FF\",\"#FECB52\"],\"font\":{\"color\":\"#2a3f5f\"},\"hovermode\":\"closest\",\"hoverlabel\":{\"align\":\"left\"},\"paper_bgcolor\":\"white\",\"plot_bgcolor\":\"#E5ECF6\",\"polar\":{\"bgcolor\":\"#E5ECF6\",\"angularaxis\":{\"gridcolor\":\"white\",\"linecolor\":\"white\",\"ticks\":\"\"},\"radialaxis\":{\"gridcolor\":\"white\",\"linecolor\":\"white\",\"ticks\":\"\"}},\"ternary\":{\"bgcolor\":\"#E5ECF6\",\"aaxis\":{\"gridcolor\":\"white\",\"linecolor\":\"white\",\"ticks\":\"\"},\"baxis\":{\"gridcolor\":\"white\",\"linecolor\":\"white\",\"ticks\":\"\"},\"caxis\":{\"gridcolor\":\"white\",\"linecolor\":\"white\",\"ticks\":\"\"}},\"coloraxis\":{\"colorbar\":{\"outlinewidth\":0,\"ticks\":\"\"}},\"colorscale\":{\"sequential\":[[0.0,\"#0d0887\"],[0.1111111111111111,\"#46039f\"],[0.2222222222222222,\"#7201a8\"],[0.3333333333333333,\"#9c179e\"],[0.4444444444444444,\"#bd3786\"],[0.5555555555555556,\"#d8576b\"],[0.6666666666666666,\"#ed7953\"],[0.7777777777777778,\"#fb9f3a\"],[0.8888888888888888,\"#fdca26\"],[1.0,\"#f0f921\"]],\"sequentialminus\":[[0.0,\"#0d0887\"],[0.1111111111111111,\"#46039f\"],[0.2222222222222222,\"#7201a8\"],[0.3333333333333333,\"#9c179e\"],[0.4444444444444444,\"#bd3786\"],[0.5555555555555556,\"#d8576b\"],[0.6666666666666666,\"#ed7953\"],[0.7777777777777778,\"#fb9f3a\"],[0.8888888888888888,\"#fdca26\"],[1.0,\"#f0f921\"]],\"diverging\":[[0,\"#8e0152\"],[0.1,\"#c51b7d\"],[0.2,\"#de77ae\"],[0.3,\"#f1b6da\"],[0.4,\"#fde0ef\"],[0.5,\"#f7f7f7\"],[0.6,\"#e6f5d0\"],[0.7,\"#b8e186\"],[0.8,\"#7fbc41\"],[0.9,\"#4d9221\"],[1,\"#276419\"]]},\"xaxis\":{\"gridcolor\":\"white\",\"linecolor\":\"white\",\"ticks\":\"\",\"title\":{\"standoff\":15},\"zerolinecolor\":\"white\",\"automargin\":true,\"zerolinewidth\":2},\"yaxis\":{\"gridcolor\":\"white\",\"linecolor\":\"white\",\"ticks\":\"\",\"title\":{\"standoff\":15},\"zerolinecolor\":\"white\",\"automargin\":true,\"zerolinewidth\":2},\"scene\":{\"xaxis\":{\"backgroundcolor\":\"#E5ECF6\",\"gridcolor\":\"white\",\"linecolor\":\"white\",\"showbackground\":true,\"ticks\":\"\",\"zerolinecolor\":\"white\",\"gridwidth\":2},\"yaxis\":{\"backgroundcolor\":\"#E5ECF6\",\"gridcolor\":\"white\",\"linecolor\":\"white\",\"showbackground\":true,\"ticks\":\"\",\"zerolinecolor\":\"white\",\"gridwidth\":2},\"zaxis\":{\"backgroundcolor\":\"#E5ECF6\",\"gridcolor\":\"white\",\"linecolor\":\"white\",\"showbackground\":true,\"ticks\":\"\",\"zerolinecolor\":\"white\",\"gridwidth\":2}},\"shapedefaults\":{\"line\":{\"color\":\"#2a3f5f\"}},\"annotationdefaults\":{\"arrowcolor\":\"#2a3f5f\",\"arrowhead\":0,\"arrowwidth\":1},\"geo\":{\"bgcolor\":\"white\",\"landcolor\":\"#E5ECF6\",\"subunitcolor\":\"white\",\"showland\":true,\"showlakes\":true,\"lakecolor\":\"white\"},\"title\":{\"x\":0.05},\"mapbox\":{\"style\":\"light\"}}},\"xaxis\":{\"anchor\":\"y\",\"domain\":[0.0,1.0],\"title\":{\"text\":\"Average price per area\"}},\"yaxis\":{\"anchor\":\"x\",\"domain\":[0.0,1.0],\"title\":{\"text\":\"Level\"}},\"legend\":{\"tracegroupgap\":0},\"margin\":{\"t\":60},\"barmode\":\"relative\",\"title\":{\"text\":\"Prices for different house levels\",\"x\":0.5}},                        {\"responsive\": true}                    ).then(function(){\n",
       "                            \n",
       "var gd = document.getElementById('082ea34e-e7a4-446f-9f7b-b1592f363b90');\n",
       "var x = new MutationObserver(function (mutations, observer) {{\n",
       "        var display = window.getComputedStyle(gd).display;\n",
       "        if (!display || display === 'none') {{\n",
       "            console.log([gd, 'removed!']);\n",
       "            Plotly.purge(gd);\n",
       "            observer.disconnect();\n",
       "        }}\n",
       "}});\n",
       "\n",
       "// Listen for the removal of the full notebook cells\n",
       "var notebookContainer = gd.closest('#notebook-container');\n",
       "if (notebookContainer) {{\n",
       "    x.observe(notebookContainer, {childList: true});\n",
       "}}\n",
       "\n",
       "// Listen for the clearing of the current output cell\n",
       "var outputEl = gd.closest('.output');\n",
       "if (outputEl) {{\n",
       "    x.observe(outputEl, {childList: true});\n",
       "}}\n",
       "\n",
       "                        })                };                });            </script>        </div>"
      ]
     },
     "metadata": {},
     "output_type": "display_data"
    }
   ],
   "source": [
    "df = df_full[(df_full['extraction_date'] == \"2023-06-05\") & (df_full['level_length'] > 0)].groupby('max_level').aggregate({'price_per_area': ['mean', 'count']}).reset_index()\n",
    "df.columns = ['max_level', 'price_per_area', 'count']\n",
    "\n",
    "fig_levels = px.bar(df, x='price_per_area', y='max_level', orientation='h', hover_data='count')\n",
    "\n",
    "fig_levels.update_traces(marker_color='darkcyan')\n",
    "fig_levels.update_traces(text=df['price_per_area'], textposition='auto', texttemplate='%{text:.4s}')\n",
    "fig_levels.update_layout(\n",
    "    xaxis_title='Average price per area',\n",
    "    yaxis_title='Level',\n",
    "    title='Prices for different house levels',\n",
    "    title_x=0.5\n",
    ")\n",
    "\n",
    "fig_levels.show()"
   ]
  },
  {
   "cell_type": "code",
   "execution_count": 24,
   "id": "e32e9944",
   "metadata": {
    "scrolled": true
   },
   "outputs": [
    {
     "data": {
      "application/vnd.plotly.v1+json": {
       "config": {
        "plotlyServerURL": "https://plot.ly"
       },
       "data": [
        {
         "alignmentgroup": "True",
         "customdata": [
          [
           5319
          ],
          [
           94
          ],
          [
           3
          ]
         ],
         "hovertemplate": "price_per_area=%{x}<br>level_length=%{y}<br>count=%{customdata[0]}<extra></extra>",
         "legendgroup": "",
         "marker": {
          "color": "darkcyan",
          "pattern": {
           "shape": ""
          }
         },
         "name": "",
         "offsetgroup": "",
         "orientation": "h",
         "showlegend": false,
         "text": [
          10.23008890859147,
          9.836394859603082,
          14.972989972989973
         ],
         "textposition": "auto",
         "texttemplate": "%{text:.4s}",
         "type": "bar",
         "x": [
          10.23008890859147,
          9.836394859603082,
          14.972989972989973
         ],
         "xaxis": "x",
         "y": [
          1,
          2,
          3
         ],
         "yaxis": "y"
        }
       ],
       "layout": {
        "barmode": "relative",
        "legend": {
         "tracegroupgap": 0
        },
        "margin": {
         "t": 60
        },
        "template": {
         "data": {
          "bar": [
           {
            "error_x": {
             "color": "#2a3f5f"
            },
            "error_y": {
             "color": "#2a3f5f"
            },
            "marker": {
             "line": {
              "color": "#E5ECF6",
              "width": 0.5
             },
             "pattern": {
              "fillmode": "overlay",
              "size": 10,
              "solidity": 0.2
             }
            },
            "type": "bar"
           }
          ],
          "barpolar": [
           {
            "marker": {
             "line": {
              "color": "#E5ECF6",
              "width": 0.5
             },
             "pattern": {
              "fillmode": "overlay",
              "size": 10,
              "solidity": 0.2
             }
            },
            "type": "barpolar"
           }
          ],
          "carpet": [
           {
            "aaxis": {
             "endlinecolor": "#2a3f5f",
             "gridcolor": "white",
             "linecolor": "white",
             "minorgridcolor": "white",
             "startlinecolor": "#2a3f5f"
            },
            "baxis": {
             "endlinecolor": "#2a3f5f",
             "gridcolor": "white",
             "linecolor": "white",
             "minorgridcolor": "white",
             "startlinecolor": "#2a3f5f"
            },
            "type": "carpet"
           }
          ],
          "choropleth": [
           {
            "colorbar": {
             "outlinewidth": 0,
             "ticks": ""
            },
            "type": "choropleth"
           }
          ],
          "contour": [
           {
            "colorbar": {
             "outlinewidth": 0,
             "ticks": ""
            },
            "colorscale": [
             [
              0,
              "#0d0887"
             ],
             [
              0.1111111111111111,
              "#46039f"
             ],
             [
              0.2222222222222222,
              "#7201a8"
             ],
             [
              0.3333333333333333,
              "#9c179e"
             ],
             [
              0.4444444444444444,
              "#bd3786"
             ],
             [
              0.5555555555555556,
              "#d8576b"
             ],
             [
              0.6666666666666666,
              "#ed7953"
             ],
             [
              0.7777777777777778,
              "#fb9f3a"
             ],
             [
              0.8888888888888888,
              "#fdca26"
             ],
             [
              1,
              "#f0f921"
             ]
            ],
            "type": "contour"
           }
          ],
          "contourcarpet": [
           {
            "colorbar": {
             "outlinewidth": 0,
             "ticks": ""
            },
            "type": "contourcarpet"
           }
          ],
          "heatmap": [
           {
            "colorbar": {
             "outlinewidth": 0,
             "ticks": ""
            },
            "colorscale": [
             [
              0,
              "#0d0887"
             ],
             [
              0.1111111111111111,
              "#46039f"
             ],
             [
              0.2222222222222222,
              "#7201a8"
             ],
             [
              0.3333333333333333,
              "#9c179e"
             ],
             [
              0.4444444444444444,
              "#bd3786"
             ],
             [
              0.5555555555555556,
              "#d8576b"
             ],
             [
              0.6666666666666666,
              "#ed7953"
             ],
             [
              0.7777777777777778,
              "#fb9f3a"
             ],
             [
              0.8888888888888888,
              "#fdca26"
             ],
             [
              1,
              "#f0f921"
             ]
            ],
            "type": "heatmap"
           }
          ],
          "heatmapgl": [
           {
            "colorbar": {
             "outlinewidth": 0,
             "ticks": ""
            },
            "colorscale": [
             [
              0,
              "#0d0887"
             ],
             [
              0.1111111111111111,
              "#46039f"
             ],
             [
              0.2222222222222222,
              "#7201a8"
             ],
             [
              0.3333333333333333,
              "#9c179e"
             ],
             [
              0.4444444444444444,
              "#bd3786"
             ],
             [
              0.5555555555555556,
              "#d8576b"
             ],
             [
              0.6666666666666666,
              "#ed7953"
             ],
             [
              0.7777777777777778,
              "#fb9f3a"
             ],
             [
              0.8888888888888888,
              "#fdca26"
             ],
             [
              1,
              "#f0f921"
             ]
            ],
            "type": "heatmapgl"
           }
          ],
          "histogram": [
           {
            "marker": {
             "pattern": {
              "fillmode": "overlay",
              "size": 10,
              "solidity": 0.2
             }
            },
            "type": "histogram"
           }
          ],
          "histogram2d": [
           {
            "colorbar": {
             "outlinewidth": 0,
             "ticks": ""
            },
            "colorscale": [
             [
              0,
              "#0d0887"
             ],
             [
              0.1111111111111111,
              "#46039f"
             ],
             [
              0.2222222222222222,
              "#7201a8"
             ],
             [
              0.3333333333333333,
              "#9c179e"
             ],
             [
              0.4444444444444444,
              "#bd3786"
             ],
             [
              0.5555555555555556,
              "#d8576b"
             ],
             [
              0.6666666666666666,
              "#ed7953"
             ],
             [
              0.7777777777777778,
              "#fb9f3a"
             ],
             [
              0.8888888888888888,
              "#fdca26"
             ],
             [
              1,
              "#f0f921"
             ]
            ],
            "type": "histogram2d"
           }
          ],
          "histogram2dcontour": [
           {
            "colorbar": {
             "outlinewidth": 0,
             "ticks": ""
            },
            "colorscale": [
             [
              0,
              "#0d0887"
             ],
             [
              0.1111111111111111,
              "#46039f"
             ],
             [
              0.2222222222222222,
              "#7201a8"
             ],
             [
              0.3333333333333333,
              "#9c179e"
             ],
             [
              0.4444444444444444,
              "#bd3786"
             ],
             [
              0.5555555555555556,
              "#d8576b"
             ],
             [
              0.6666666666666666,
              "#ed7953"
             ],
             [
              0.7777777777777778,
              "#fb9f3a"
             ],
             [
              0.8888888888888888,
              "#fdca26"
             ],
             [
              1,
              "#f0f921"
             ]
            ],
            "type": "histogram2dcontour"
           }
          ],
          "mesh3d": [
           {
            "colorbar": {
             "outlinewidth": 0,
             "ticks": ""
            },
            "type": "mesh3d"
           }
          ],
          "parcoords": [
           {
            "line": {
             "colorbar": {
              "outlinewidth": 0,
              "ticks": ""
             }
            },
            "type": "parcoords"
           }
          ],
          "pie": [
           {
            "automargin": true,
            "type": "pie"
           }
          ],
          "scatter": [
           {
            "fillpattern": {
             "fillmode": "overlay",
             "size": 10,
             "solidity": 0.2
            },
            "type": "scatter"
           }
          ],
          "scatter3d": [
           {
            "line": {
             "colorbar": {
              "outlinewidth": 0,
              "ticks": ""
             }
            },
            "marker": {
             "colorbar": {
              "outlinewidth": 0,
              "ticks": ""
             }
            },
            "type": "scatter3d"
           }
          ],
          "scattercarpet": [
           {
            "marker": {
             "colorbar": {
              "outlinewidth": 0,
              "ticks": ""
             }
            },
            "type": "scattercarpet"
           }
          ],
          "scattergeo": [
           {
            "marker": {
             "colorbar": {
              "outlinewidth": 0,
              "ticks": ""
             }
            },
            "type": "scattergeo"
           }
          ],
          "scattergl": [
           {
            "marker": {
             "colorbar": {
              "outlinewidth": 0,
              "ticks": ""
             }
            },
            "type": "scattergl"
           }
          ],
          "scattermapbox": [
           {
            "marker": {
             "colorbar": {
              "outlinewidth": 0,
              "ticks": ""
             }
            },
            "type": "scattermapbox"
           }
          ],
          "scatterpolar": [
           {
            "marker": {
             "colorbar": {
              "outlinewidth": 0,
              "ticks": ""
             }
            },
            "type": "scatterpolar"
           }
          ],
          "scatterpolargl": [
           {
            "marker": {
             "colorbar": {
              "outlinewidth": 0,
              "ticks": ""
             }
            },
            "type": "scatterpolargl"
           }
          ],
          "scatterternary": [
           {
            "marker": {
             "colorbar": {
              "outlinewidth": 0,
              "ticks": ""
             }
            },
            "type": "scatterternary"
           }
          ],
          "surface": [
           {
            "colorbar": {
             "outlinewidth": 0,
             "ticks": ""
            },
            "colorscale": [
             [
              0,
              "#0d0887"
             ],
             [
              0.1111111111111111,
              "#46039f"
             ],
             [
              0.2222222222222222,
              "#7201a8"
             ],
             [
              0.3333333333333333,
              "#9c179e"
             ],
             [
              0.4444444444444444,
              "#bd3786"
             ],
             [
              0.5555555555555556,
              "#d8576b"
             ],
             [
              0.6666666666666666,
              "#ed7953"
             ],
             [
              0.7777777777777778,
              "#fb9f3a"
             ],
             [
              0.8888888888888888,
              "#fdca26"
             ],
             [
              1,
              "#f0f921"
             ]
            ],
            "type": "surface"
           }
          ],
          "table": [
           {
            "cells": {
             "fill": {
              "color": "#EBF0F8"
             },
             "line": {
              "color": "white"
             }
            },
            "header": {
             "fill": {
              "color": "#C8D4E3"
             },
             "line": {
              "color": "white"
             }
            },
            "type": "table"
           }
          ]
         },
         "layout": {
          "annotationdefaults": {
           "arrowcolor": "#2a3f5f",
           "arrowhead": 0,
           "arrowwidth": 1
          },
          "autotypenumbers": "strict",
          "coloraxis": {
           "colorbar": {
            "outlinewidth": 0,
            "ticks": ""
           }
          },
          "colorscale": {
           "diverging": [
            [
             0,
             "#8e0152"
            ],
            [
             0.1,
             "#c51b7d"
            ],
            [
             0.2,
             "#de77ae"
            ],
            [
             0.3,
             "#f1b6da"
            ],
            [
             0.4,
             "#fde0ef"
            ],
            [
             0.5,
             "#f7f7f7"
            ],
            [
             0.6,
             "#e6f5d0"
            ],
            [
             0.7,
             "#b8e186"
            ],
            [
             0.8,
             "#7fbc41"
            ],
            [
             0.9,
             "#4d9221"
            ],
            [
             1,
             "#276419"
            ]
           ],
           "sequential": [
            [
             0,
             "#0d0887"
            ],
            [
             0.1111111111111111,
             "#46039f"
            ],
            [
             0.2222222222222222,
             "#7201a8"
            ],
            [
             0.3333333333333333,
             "#9c179e"
            ],
            [
             0.4444444444444444,
             "#bd3786"
            ],
            [
             0.5555555555555556,
             "#d8576b"
            ],
            [
             0.6666666666666666,
             "#ed7953"
            ],
            [
             0.7777777777777778,
             "#fb9f3a"
            ],
            [
             0.8888888888888888,
             "#fdca26"
            ],
            [
             1,
             "#f0f921"
            ]
           ],
           "sequentialminus": [
            [
             0,
             "#0d0887"
            ],
            [
             0.1111111111111111,
             "#46039f"
            ],
            [
             0.2222222222222222,
             "#7201a8"
            ],
            [
             0.3333333333333333,
             "#9c179e"
            ],
            [
             0.4444444444444444,
             "#bd3786"
            ],
            [
             0.5555555555555556,
             "#d8576b"
            ],
            [
             0.6666666666666666,
             "#ed7953"
            ],
            [
             0.7777777777777778,
             "#fb9f3a"
            ],
            [
             0.8888888888888888,
             "#fdca26"
            ],
            [
             1,
             "#f0f921"
            ]
           ]
          },
          "colorway": [
           "#636efa",
           "#EF553B",
           "#00cc96",
           "#ab63fa",
           "#FFA15A",
           "#19d3f3",
           "#FF6692",
           "#B6E880",
           "#FF97FF",
           "#FECB52"
          ],
          "font": {
           "color": "#2a3f5f"
          },
          "geo": {
           "bgcolor": "white",
           "lakecolor": "white",
           "landcolor": "#E5ECF6",
           "showlakes": true,
           "showland": true,
           "subunitcolor": "white"
          },
          "hoverlabel": {
           "align": "left"
          },
          "hovermode": "closest",
          "mapbox": {
           "style": "light"
          },
          "paper_bgcolor": "white",
          "plot_bgcolor": "#E5ECF6",
          "polar": {
           "angularaxis": {
            "gridcolor": "white",
            "linecolor": "white",
            "ticks": ""
           },
           "bgcolor": "#E5ECF6",
           "radialaxis": {
            "gridcolor": "white",
            "linecolor": "white",
            "ticks": ""
           }
          },
          "scene": {
           "xaxis": {
            "backgroundcolor": "#E5ECF6",
            "gridcolor": "white",
            "gridwidth": 2,
            "linecolor": "white",
            "showbackground": true,
            "ticks": "",
            "zerolinecolor": "white"
           },
           "yaxis": {
            "backgroundcolor": "#E5ECF6",
            "gridcolor": "white",
            "gridwidth": 2,
            "linecolor": "white",
            "showbackground": true,
            "ticks": "",
            "zerolinecolor": "white"
           },
           "zaxis": {
            "backgroundcolor": "#E5ECF6",
            "gridcolor": "white",
            "gridwidth": 2,
            "linecolor": "white",
            "showbackground": true,
            "ticks": "",
            "zerolinecolor": "white"
           }
          },
          "shapedefaults": {
           "line": {
            "color": "#2a3f5f"
           }
          },
          "ternary": {
           "aaxis": {
            "gridcolor": "white",
            "linecolor": "white",
            "ticks": ""
           },
           "baxis": {
            "gridcolor": "white",
            "linecolor": "white",
            "ticks": ""
           },
           "bgcolor": "#E5ECF6",
           "caxis": {
            "gridcolor": "white",
            "linecolor": "white",
            "ticks": ""
           }
          },
          "title": {
           "x": 0.05
          },
          "xaxis": {
           "automargin": true,
           "gridcolor": "white",
           "linecolor": "white",
           "ticks": "",
           "title": {
            "standoff": 15
           },
           "zerolinecolor": "white",
           "zerolinewidth": 2
          },
          "yaxis": {
           "automargin": true,
           "gridcolor": "white",
           "linecolor": "white",
           "ticks": "",
           "title": {
            "standoff": 15
           },
           "zerolinecolor": "white",
           "zerolinewidth": 2
          }
         }
        },
        "title": {
         "text": "Do house levels affect price per area?",
         "x": 0.5
        },
        "xaxis": {
         "anchor": "y",
         "domain": [
          0,
          1
         ],
         "title": {
          "text": "Average price per area"
         }
        },
        "yaxis": {
         "anchor": "x",
         "domain": [
          0,
          1
         ],
         "title": {
          "text": "Levels"
         }
        }
       }
      },
      "text/html": [
       "<div>                            <div id=\"b8154b57-bc40-4522-b007-74f3709063f3\" class=\"plotly-graph-div\" style=\"height:525px; width:100%;\"></div>            <script type=\"text/javascript\">                require([\"plotly\"], function(Plotly) {                    window.PLOTLYENV=window.PLOTLYENV || {};                                    if (document.getElementById(\"b8154b57-bc40-4522-b007-74f3709063f3\")) {                    Plotly.newPlot(                        \"b8154b57-bc40-4522-b007-74f3709063f3\",                        [{\"alignmentgroup\":\"True\",\"customdata\":[[5319],[94],[3]],\"hovertemplate\":\"price_per_area=%{x}\\u003cbr\\u003elevel_length=%{y}\\u003cbr\\u003ecount=%{customdata[0]}\\u003cextra\\u003e\\u003c\\u002fextra\\u003e\",\"legendgroup\":\"\",\"marker\":{\"color\":\"darkcyan\",\"pattern\":{\"shape\":\"\"}},\"name\":\"\",\"offsetgroup\":\"\",\"orientation\":\"h\",\"showlegend\":false,\"textposition\":\"auto\",\"x\":[10.23008890859147,9.836394859603082,14.972989972989973],\"xaxis\":\"x\",\"y\":[1,2,3],\"yaxis\":\"y\",\"type\":\"bar\",\"text\":[10.23008890859147,9.836394859603082,14.972989972989973],\"texttemplate\":\"%{text:.4s}\"}],                        {\"template\":{\"data\":{\"histogram2dcontour\":[{\"type\":\"histogram2dcontour\",\"colorbar\":{\"outlinewidth\":0,\"ticks\":\"\"},\"colorscale\":[[0.0,\"#0d0887\"],[0.1111111111111111,\"#46039f\"],[0.2222222222222222,\"#7201a8\"],[0.3333333333333333,\"#9c179e\"],[0.4444444444444444,\"#bd3786\"],[0.5555555555555556,\"#d8576b\"],[0.6666666666666666,\"#ed7953\"],[0.7777777777777778,\"#fb9f3a\"],[0.8888888888888888,\"#fdca26\"],[1.0,\"#f0f921\"]]}],\"choropleth\":[{\"type\":\"choropleth\",\"colorbar\":{\"outlinewidth\":0,\"ticks\":\"\"}}],\"histogram2d\":[{\"type\":\"histogram2d\",\"colorbar\":{\"outlinewidth\":0,\"ticks\":\"\"},\"colorscale\":[[0.0,\"#0d0887\"],[0.1111111111111111,\"#46039f\"],[0.2222222222222222,\"#7201a8\"],[0.3333333333333333,\"#9c179e\"],[0.4444444444444444,\"#bd3786\"],[0.5555555555555556,\"#d8576b\"],[0.6666666666666666,\"#ed7953\"],[0.7777777777777778,\"#fb9f3a\"],[0.8888888888888888,\"#fdca26\"],[1.0,\"#f0f921\"]]}],\"heatmap\":[{\"type\":\"heatmap\",\"colorbar\":{\"outlinewidth\":0,\"ticks\":\"\"},\"colorscale\":[[0.0,\"#0d0887\"],[0.1111111111111111,\"#46039f\"],[0.2222222222222222,\"#7201a8\"],[0.3333333333333333,\"#9c179e\"],[0.4444444444444444,\"#bd3786\"],[0.5555555555555556,\"#d8576b\"],[0.6666666666666666,\"#ed7953\"],[0.7777777777777778,\"#fb9f3a\"],[0.8888888888888888,\"#fdca26\"],[1.0,\"#f0f921\"]]}],\"heatmapgl\":[{\"type\":\"heatmapgl\",\"colorbar\":{\"outlinewidth\":0,\"ticks\":\"\"},\"colorscale\":[[0.0,\"#0d0887\"],[0.1111111111111111,\"#46039f\"],[0.2222222222222222,\"#7201a8\"],[0.3333333333333333,\"#9c179e\"],[0.4444444444444444,\"#bd3786\"],[0.5555555555555556,\"#d8576b\"],[0.6666666666666666,\"#ed7953\"],[0.7777777777777778,\"#fb9f3a\"],[0.8888888888888888,\"#fdca26\"],[1.0,\"#f0f921\"]]}],\"contourcarpet\":[{\"type\":\"contourcarpet\",\"colorbar\":{\"outlinewidth\":0,\"ticks\":\"\"}}],\"contour\":[{\"type\":\"contour\",\"colorbar\":{\"outlinewidth\":0,\"ticks\":\"\"},\"colorscale\":[[0.0,\"#0d0887\"],[0.1111111111111111,\"#46039f\"],[0.2222222222222222,\"#7201a8\"],[0.3333333333333333,\"#9c179e\"],[0.4444444444444444,\"#bd3786\"],[0.5555555555555556,\"#d8576b\"],[0.6666666666666666,\"#ed7953\"],[0.7777777777777778,\"#fb9f3a\"],[0.8888888888888888,\"#fdca26\"],[1.0,\"#f0f921\"]]}],\"surface\":[{\"type\":\"surface\",\"colorbar\":{\"outlinewidth\":0,\"ticks\":\"\"},\"colorscale\":[[0.0,\"#0d0887\"],[0.1111111111111111,\"#46039f\"],[0.2222222222222222,\"#7201a8\"],[0.3333333333333333,\"#9c179e\"],[0.4444444444444444,\"#bd3786\"],[0.5555555555555556,\"#d8576b\"],[0.6666666666666666,\"#ed7953\"],[0.7777777777777778,\"#fb9f3a\"],[0.8888888888888888,\"#fdca26\"],[1.0,\"#f0f921\"]]}],\"mesh3d\":[{\"type\":\"mesh3d\",\"colorbar\":{\"outlinewidth\":0,\"ticks\":\"\"}}],\"scatter\":[{\"fillpattern\":{\"fillmode\":\"overlay\",\"size\":10,\"solidity\":0.2},\"type\":\"scatter\"}],\"parcoords\":[{\"type\":\"parcoords\",\"line\":{\"colorbar\":{\"outlinewidth\":0,\"ticks\":\"\"}}}],\"scatterpolargl\":[{\"type\":\"scatterpolargl\",\"marker\":{\"colorbar\":{\"outlinewidth\":0,\"ticks\":\"\"}}}],\"bar\":[{\"error_x\":{\"color\":\"#2a3f5f\"},\"error_y\":{\"color\":\"#2a3f5f\"},\"marker\":{\"line\":{\"color\":\"#E5ECF6\",\"width\":0.5},\"pattern\":{\"fillmode\":\"overlay\",\"size\":10,\"solidity\":0.2}},\"type\":\"bar\"}],\"scattergeo\":[{\"type\":\"scattergeo\",\"marker\":{\"colorbar\":{\"outlinewidth\":0,\"ticks\":\"\"}}}],\"scatterpolar\":[{\"type\":\"scatterpolar\",\"marker\":{\"colorbar\":{\"outlinewidth\":0,\"ticks\":\"\"}}}],\"histogram\":[{\"marker\":{\"pattern\":{\"fillmode\":\"overlay\",\"size\":10,\"solidity\":0.2}},\"type\":\"histogram\"}],\"scattergl\":[{\"type\":\"scattergl\",\"marker\":{\"colorbar\":{\"outlinewidth\":0,\"ticks\":\"\"}}}],\"scatter3d\":[{\"type\":\"scatter3d\",\"line\":{\"colorbar\":{\"outlinewidth\":0,\"ticks\":\"\"}},\"marker\":{\"colorbar\":{\"outlinewidth\":0,\"ticks\":\"\"}}}],\"scattermapbox\":[{\"type\":\"scattermapbox\",\"marker\":{\"colorbar\":{\"outlinewidth\":0,\"ticks\":\"\"}}}],\"scatterternary\":[{\"type\":\"scatterternary\",\"marker\":{\"colorbar\":{\"outlinewidth\":0,\"ticks\":\"\"}}}],\"scattercarpet\":[{\"type\":\"scattercarpet\",\"marker\":{\"colorbar\":{\"outlinewidth\":0,\"ticks\":\"\"}}}],\"carpet\":[{\"aaxis\":{\"endlinecolor\":\"#2a3f5f\",\"gridcolor\":\"white\",\"linecolor\":\"white\",\"minorgridcolor\":\"white\",\"startlinecolor\":\"#2a3f5f\"},\"baxis\":{\"endlinecolor\":\"#2a3f5f\",\"gridcolor\":\"white\",\"linecolor\":\"white\",\"minorgridcolor\":\"white\",\"startlinecolor\":\"#2a3f5f\"},\"type\":\"carpet\"}],\"table\":[{\"cells\":{\"fill\":{\"color\":\"#EBF0F8\"},\"line\":{\"color\":\"white\"}},\"header\":{\"fill\":{\"color\":\"#C8D4E3\"},\"line\":{\"color\":\"white\"}},\"type\":\"table\"}],\"barpolar\":[{\"marker\":{\"line\":{\"color\":\"#E5ECF6\",\"width\":0.5},\"pattern\":{\"fillmode\":\"overlay\",\"size\":10,\"solidity\":0.2}},\"type\":\"barpolar\"}],\"pie\":[{\"automargin\":true,\"type\":\"pie\"}]},\"layout\":{\"autotypenumbers\":\"strict\",\"colorway\":[\"#636efa\",\"#EF553B\",\"#00cc96\",\"#ab63fa\",\"#FFA15A\",\"#19d3f3\",\"#FF6692\",\"#B6E880\",\"#FF97FF\",\"#FECB52\"],\"font\":{\"color\":\"#2a3f5f\"},\"hovermode\":\"closest\",\"hoverlabel\":{\"align\":\"left\"},\"paper_bgcolor\":\"white\",\"plot_bgcolor\":\"#E5ECF6\",\"polar\":{\"bgcolor\":\"#E5ECF6\",\"angularaxis\":{\"gridcolor\":\"white\",\"linecolor\":\"white\",\"ticks\":\"\"},\"radialaxis\":{\"gridcolor\":\"white\",\"linecolor\":\"white\",\"ticks\":\"\"}},\"ternary\":{\"bgcolor\":\"#E5ECF6\",\"aaxis\":{\"gridcolor\":\"white\",\"linecolor\":\"white\",\"ticks\":\"\"},\"baxis\":{\"gridcolor\":\"white\",\"linecolor\":\"white\",\"ticks\":\"\"},\"caxis\":{\"gridcolor\":\"white\",\"linecolor\":\"white\",\"ticks\":\"\"}},\"coloraxis\":{\"colorbar\":{\"outlinewidth\":0,\"ticks\":\"\"}},\"colorscale\":{\"sequential\":[[0.0,\"#0d0887\"],[0.1111111111111111,\"#46039f\"],[0.2222222222222222,\"#7201a8\"],[0.3333333333333333,\"#9c179e\"],[0.4444444444444444,\"#bd3786\"],[0.5555555555555556,\"#d8576b\"],[0.6666666666666666,\"#ed7953\"],[0.7777777777777778,\"#fb9f3a\"],[0.8888888888888888,\"#fdca26\"],[1.0,\"#f0f921\"]],\"sequentialminus\":[[0.0,\"#0d0887\"],[0.1111111111111111,\"#46039f\"],[0.2222222222222222,\"#7201a8\"],[0.3333333333333333,\"#9c179e\"],[0.4444444444444444,\"#bd3786\"],[0.5555555555555556,\"#d8576b\"],[0.6666666666666666,\"#ed7953\"],[0.7777777777777778,\"#fb9f3a\"],[0.8888888888888888,\"#fdca26\"],[1.0,\"#f0f921\"]],\"diverging\":[[0,\"#8e0152\"],[0.1,\"#c51b7d\"],[0.2,\"#de77ae\"],[0.3,\"#f1b6da\"],[0.4,\"#fde0ef\"],[0.5,\"#f7f7f7\"],[0.6,\"#e6f5d0\"],[0.7,\"#b8e186\"],[0.8,\"#7fbc41\"],[0.9,\"#4d9221\"],[1,\"#276419\"]]},\"xaxis\":{\"gridcolor\":\"white\",\"linecolor\":\"white\",\"ticks\":\"\",\"title\":{\"standoff\":15},\"zerolinecolor\":\"white\",\"automargin\":true,\"zerolinewidth\":2},\"yaxis\":{\"gridcolor\":\"white\",\"linecolor\":\"white\",\"ticks\":\"\",\"title\":{\"standoff\":15},\"zerolinecolor\":\"white\",\"automargin\":true,\"zerolinewidth\":2},\"scene\":{\"xaxis\":{\"backgroundcolor\":\"#E5ECF6\",\"gridcolor\":\"white\",\"linecolor\":\"white\",\"showbackground\":true,\"ticks\":\"\",\"zerolinecolor\":\"white\",\"gridwidth\":2},\"yaxis\":{\"backgroundcolor\":\"#E5ECF6\",\"gridcolor\":\"white\",\"linecolor\":\"white\",\"showbackground\":true,\"ticks\":\"\",\"zerolinecolor\":\"white\",\"gridwidth\":2},\"zaxis\":{\"backgroundcolor\":\"#E5ECF6\",\"gridcolor\":\"white\",\"linecolor\":\"white\",\"showbackground\":true,\"ticks\":\"\",\"zerolinecolor\":\"white\",\"gridwidth\":2}},\"shapedefaults\":{\"line\":{\"color\":\"#2a3f5f\"}},\"annotationdefaults\":{\"arrowcolor\":\"#2a3f5f\",\"arrowhead\":0,\"arrowwidth\":1},\"geo\":{\"bgcolor\":\"white\",\"landcolor\":\"#E5ECF6\",\"subunitcolor\":\"white\",\"showland\":true,\"showlakes\":true,\"lakecolor\":\"white\"},\"title\":{\"x\":0.05},\"mapbox\":{\"style\":\"light\"}}},\"xaxis\":{\"anchor\":\"y\",\"domain\":[0.0,1.0],\"title\":{\"text\":\"Average price per area\"}},\"yaxis\":{\"anchor\":\"x\",\"domain\":[0.0,1.0],\"title\":{\"text\":\"Levels\"}},\"legend\":{\"tracegroupgap\":0},\"margin\":{\"t\":60},\"barmode\":\"relative\",\"title\":{\"text\":\"Do house levels affect price per area?\",\"x\":0.5}},                        {\"responsive\": true}                    ).then(function(){\n",
       "                            \n",
       "var gd = document.getElementById('b8154b57-bc40-4522-b007-74f3709063f3');\n",
       "var x = new MutationObserver(function (mutations, observer) {{\n",
       "        var display = window.getComputedStyle(gd).display;\n",
       "        if (!display || display === 'none') {{\n",
       "            console.log([gd, 'removed!']);\n",
       "            Plotly.purge(gd);\n",
       "            observer.disconnect();\n",
       "        }}\n",
       "}});\n",
       "\n",
       "// Listen for the removal of the full notebook cells\n",
       "var notebookContainer = gd.closest('#notebook-container');\n",
       "if (notebookContainer) {{\n",
       "    x.observe(notebookContainer, {childList: true});\n",
       "}}\n",
       "\n",
       "// Listen for the clearing of the current output cell\n",
       "var outputEl = gd.closest('.output');\n",
       "if (outputEl) {{\n",
       "    x.observe(outputEl, {childList: true});\n",
       "}}\n",
       "\n",
       "                        })                };                });            </script>        </div>"
      ]
     },
     "metadata": {},
     "output_type": "display_data"
    }
   ],
   "source": [
    "df = df_full[(df_full['extraction_date'] == \"2023-06-05\") & (df_full['level_length'] > 0)].groupby('level_length').aggregate({'price_per_area': ['mean', 'count']}).reset_index()\n",
    "df.columns = ['level_length', 'price_per_area', 'count']\n",
    "fig_level_length = px.bar(df, x='price_per_area', y='level_length', orientation='h', hover_data='count')\n",
    "\n",
    "fig_level_length.update_traces(marker_color='darkcyan')\n",
    "fig_level_length.update_traces(text=df['price_per_area'], textposition='auto', texttemplate='%{text:.4s}')\n",
    "fig_level_length.update_layout(\n",
    "    xaxis_title='Average price per area',\n",
    "    yaxis_title='Levels',\n",
    "    title='Do house levels affect price per area?',\n",
    "    title_x=0.5\n",
    ")\n",
    "\n",
    "fig_level_length.show()"
   ]
  },
  {
   "cell_type": "code",
   "execution_count": 226,
   "id": "c8b23b6e",
   "metadata": {},
   "outputs": [],
   "source": [
    "x = df_full[df_full['extraction_date'] == \"2023-06-05\"].groupby(['bedrooms', 'bathrooms']).aggregate({'price_per_area': ['mean', 'count']}).reset_index()\n",
    "x.columns = ['bedrooms', 'bathrooms', 'price', 'count']\n",
    "x[x['count'] > 50] .sort_values('price', ascending=False)"
   ]
  },
  {
   "cell_type": "code",
   "execution_count": 40,
   "id": "dc6d47bb",
   "metadata": {},
   "outputs": [
    {
     "name": "stdout",
     "output_type": "stream",
     "text": [
      "Dash is running on http://127.0.0.1:8050/\n",
      "\n"
     ]
    },
    {
     "data": {
      "text/html": [
       "\n",
       "        <iframe\n",
       "            width=\"100%\"\n",
       "            height=\"650\"\n",
       "            src=\"http://127.0.0.1:8050/\"\n",
       "            frameborder=\"0\"\n",
       "            allowfullscreen\n",
       "            \n",
       "        ></iframe>\n",
       "        "
      ],
      "text/plain": [
       "<IPython.lib.display.IFrame at 0x27458a33400>"
      ]
     },
     "metadata": {},
     "output_type": "display_data"
    }
   ],
   "source": [
    "# app = JupyterDash(__name__, external_stylesheets=['styles_test.css'])\n",
    "# app = JupyterDash(__name__, external_stylesheets=['https://codepen.io/chriddyp/pen/bWLwgP.css'])\n",
    "app = JupyterDash(__name__)\n",
    "# df = df_full[['type', 'dimos', 'price', 'area', 'bedrooms', 'bathrooms', 'min_level', 'construction_year', 'extraction_date']]\n",
    "# df = df_full[['extraction_date', 'dimos', 'type',  'price', 'area', 'bedrooms', 'bathrooms', 'min_level', 'construction_year']]\n",
    "cols_to_keep = ['extraction_date', 'dimos', 'perioxi', 'type',  'price', 'area', 'bedrooms', 'bathrooms', 'min_level', 'construction_year']\n",
    "\n",
    "page1_layout = html.Div(\n",
    "    className=\"container\",\n",
    "    children=[\n",
    "        html.H1(\"Data exploration\"),\n",
    "        html.Div(\n",
    "            style={\n",
    "                \"display\": \"inline-block\",\n",
    "                \"verticalAlign\": \"top\",\n",
    "                \"width\": \"20%\",\n",
    "                \"padding\": \"10px\",\n",
    "            },\n",
    "            children=[\n",
    "                html.Label(\"Ημερομηνία:\"),\n",
    "                dcc.Dropdown(\n",
    "                    id='date-filter-1',\n",
    "                    options=[\n",
    "                        {'label': str(date), 'value': date}\n",
    "                        for date in df_full['extraction_date'].unique()\n",
    "                    ],\n",
    "                    value=None\n",
    "                ),\n",
    "                html.Br(),\n",
    "                \n",
    "                html.Label(\"Δήμος:\"),\n",
    "                dcc.Dropdown(\n",
    "                    id='dimos-filter-1',\n",
    "                    options=[\n",
    "                        {'label': dimos, 'value': dimos}\n",
    "                        for dimos in df_full['dimos'].unique()\n",
    "                    ],\n",
    "                    value=None\n",
    "                ),\n",
    "                html.Br(),\n",
    "                \n",
    "#                 html.Label(\"Περιοχή:\"),\n",
    "#                 dcc.Dropdown(\n",
    "#                     id='perioxi-filter-1',\n",
    "#                     options=[\n",
    "#                         {'label': perioxi, 'value': perioxi}\n",
    "#                         for perioxi in df_full['perioxi'].unique()\n",
    "#                     ],\n",
    "#                     value=None\n",
    "#                 ),\n",
    "#                 html.Br(),\n",
    "                \n",
    "                html.Label(\"Είδος Κατοικίας:\"),\n",
    "                dcc.Dropdown(\n",
    "                    id='type-filter-1',\n",
    "                    options=[\n",
    "                        {'label': dimos, 'value': dimos}\n",
    "                        for dimos in df_full['type'].unique()\n",
    "                    ],\n",
    "                    value=None\n",
    "                ),\n",
    "                html.Br(),\n",
    "                \n",
    "                html.Label(\"Τιμή:\"),\n",
    "                dcc.RangeSlider(\n",
    "                    id='price-range-slider-1',\n",
    "                    min=100,\n",
    "                    max=df_full['price'].max(),\n",
    "                    step=50,\n",
    "                    value=[300, 600],\n",
    "                    marks={100: '100', int(df_full['price'].max()): str(int(df_full['price'].max()))},\n",
    "                ),\n",
    "                html.Div(id='selected-range-price-1'),\n",
    "                html.Br(),\n",
    "                \n",
    "                html.Label(\"Εμβαδόν:\"),\n",
    "                dcc.RangeSlider(\n",
    "                    id='area-range-slider-1',\n",
    "                    min=0,\n",
    "                    max=df_full['area'].max(),\n",
    "                    step=50,\n",
    "                    value=[40, 80],\n",
    "                    marks={int(value): str(int(value)) for value in [0, df_full['area'].max()]},\n",
    "                ),\n",
    "                html.Div(id='selected-range-area-1'),\n",
    "                html.Br(),\n",
    "                \n",
    "                html.Label(\"Υπνοδωμάτια:\"),\n",
    "                dcc.RangeSlider(\n",
    "                    id='bedrooms-range-slider-1',\n",
    "                    min=0,\n",
    "                    max=df_full['bedrooms'].max(),\n",
    "                    step=1,\n",
    "                    value=[1, 2],\n",
    "                    marks={int(value): str(int(value)) for value in [0, df_full['bedrooms'].max()]},\n",
    "                ),\n",
    "                html.Div(id='selected-range-bedrooms-1'),\n",
    "                html.Br(),\n",
    "                \n",
    "                html.Label(\"Μπάνια:\"),\n",
    "                dcc.RangeSlider(\n",
    "                    id='bathrooms-range-slider-1',\n",
    "                    min=0,\n",
    "                    max=df_full['bathrooms'].max(),\n",
    "                    step=1,\n",
    "                    value=[1, 2],\n",
    "                    marks={int(value): str(int(value)) for value in [0, df_full['bathrooms'].max()]},\n",
    "                ),\n",
    "                html.Div(id='selected-range-bathrooms-1'),\n",
    "                html.Br(),\n",
    "                \n",
    "                html.Label(\"Όροφος:\"),\n",
    "                dcc.RangeSlider(\n",
    "                    id='levels-range-slider-1',\n",
    "                    min=0,\n",
    "                    max=df_full['min_level'].max(),\n",
    "                    step=0.5,\n",
    "                    value=[1, 2],\n",
    "                    marks={int(value): str(int(value)) for value in [0, df_full['min_level'].max()]},\n",
    "                ),\n",
    "                html.Div(id='selected-range-levels-1'),\n",
    "                html.Br(),\n",
    "            ],\n",
    "        ),\n",
    "        html.Div(\n",
    "            style={\n",
    "                \"display\": \"inline-block\",\n",
    "                \"width\": \"70%\",\n",
    "                \"padding\": \"10px\",\n",
    "            },\n",
    "            children=[\n",
    "                dash_table.DataTable(\n",
    "                    id='table',\n",
    "#                     columns=[{'name': col, 'id': col} for col in df.columns],\n",
    "                    columns=[{'name': greek_col, 'id': col} for greek_col, col in zip(['Ημερομηνία', 'Δήμος', 'Περιοχή', 'Είδος Κατοικίας', \"Τιμή\", 'Εμβαδόν', 'Υπνοδωμάτια', 'Μπάνια', 'Όροφος', 'Έτος Κατασκευής'], cols_to_keep)],\n",
    "                    style_table={'overflowX': 'auto'},\n",
    "                    style_cell={\n",
    "                        'minWidth': '0px', 'maxWidth': '180px',\n",
    "                        'whiteSpace': 'normal',\n",
    "                        'textAlign': 'left',\n",
    "                        'userSelect': 'text',\n",
    "                    },\n",
    "                ),\n",
    "                html.Br(),\n",
    "                dcc.Graph(id='fig-population', figure=fig_bar_population_new_left),\n",
    "                html.Br(),\n",
    "                dcc.Graph(id='fig-ad-age', figure=fig_ad_age),\n",
    "                html.Br(),\n",
    "                dcc.Link('Go to Page 2', href='/page2'),\n",
    "            ],\n",
    "        ),\n",
    "    ],\n",
    ")\n",
    "\n",
    "page2_layout = html.Div(\n",
    "    className=\"container\",\n",
    "    children=[\n",
    "        html.H1(\"Price driving factors\"),\n",
    "        html.Div(\n",
    "            style={\n",
    "                \"display\": \"inline-block\",\n",
    "                \"verticalAlign\": \"top\",\n",
    "                \"width\": \"20%\",\n",
    "                \"padding\": \"10px\",\n",
    "            },\n",
    "            children=[\n",
    "                html.Label(\"Μορφή χάρτη:\"),\n",
    "                dcc.Dropdown(\n",
    "                    id='map-type-filter-2',\n",
    "                    options=[\n",
    "                        {'label': map_type, 'value': map_type}\n",
    "                        for map_type in ['Τιμή', 'Προσφορά']\n",
    "                    ],\n",
    "                    value='Τιμή'\n",
    "                ),\n",
    "                html.Label(\"Ημερομηνία:\"),\n",
    "                dcc.Dropdown(\n",
    "                    id='date-filter-2',\n",
    "                    options=[\n",
    "                        {'label': str(date), 'value': date}\n",
    "                        for date in df_full['extraction_date'].unique()\n",
    "                    ],\n",
    "                    value='2023-06-05'\n",
    "                ),\n",
    "                html.Label(\"Δήμος:\"),\n",
    "                dcc.Dropdown(\n",
    "                    id='dimos-filter-2',\n",
    "                    options=[\n",
    "                        {'label': dimos, 'value': dimos}\n",
    "                        for dimos in df_full['dimos'].unique()\n",
    "                    ],\n",
    "                    value=None\n",
    "                ),\n",
    "            ],\n",
    "        ),\n",
    "        html.Div(\n",
    "            style={\n",
    "                \"display\": \"inline-block\",\n",
    "                \"width\": \"70%\",\n",
    "                \"padding\": \"10px\",\n",
    "            },\n",
    "            children=[\n",
    "                html.Div(id='map-title-label-2'),\n",
    "                html.Iframe(id='map-price', srcDoc = open('map.html', 'r').read(), width='100%', height='450'),\n",
    "                html.Br(),\n",
    "                dcc.Graph(id='fig-levels'),\n",
    "                html.Br(),\n",
    "                dcc.Graph(id='fig-level-length'),\n",
    "                html.Br(),\n",
    "                dcc.Link('Go to Page 1', href='/page1'),\n",
    "            ],\n",
    "        ),\n",
    "    ],\n",
    ")\n",
    "\n",
    "app.layout = html.Div([\n",
    "    dcc.Location(id='url', refresh=False),\n",
    "    html.Div(id='page-content')\n",
    "])\n",
    "\n",
    "@app.callback(\n",
    "    Output('selected-range-price-1', 'children'),\n",
    "    Input('price-range-slider-1', 'value')\n",
    ")\n",
    "def update_selected_range_price(value):\n",
    "    return f'Επιλεγμένο εύρος τιμής: {value[0]}€ - {value[1]}€'\n",
    "\n",
    "@app.callback(\n",
    "    Output('selected-range-area-1', 'children'),\n",
    "    Input('area-range-slider-1', 'value')\n",
    ")\n",
    "def update_selected_range_area(value):\n",
    "    return f'Επιλεγμένο εύρος εμβαδόν: {value[0]}m² - {value[1]}m²'\n",
    "\n",
    "@app.callback(\n",
    "    Output('selected-range-bedrooms-1', 'children'),\n",
    "    Input('bedrooms-range-slider-1', 'value')\n",
    ")\n",
    "def update_selected_range_bedrooms(value):\n",
    "    return f'Επιλεγμένο εύρος υπνοδωματίων: {value[0]} - {value[1]}'\n",
    "\n",
    "@app.callback(\n",
    "    Output('selected-range-bathrooms-1', 'children'),\n",
    "    Input('bathrooms-range-slider-1', 'value')\n",
    ")\n",
    "def update_selected_range_area_bathrooms(value):\n",
    "    return f'Επιλεγμένο εύρος μπάνιων: {value[0]} - {value[1]}'\n",
    "\n",
    "@app.callback(\n",
    "    Output('selected-range-levels-1', 'children'),\n",
    "    Input('levels-range-slider-1', 'value')\n",
    ")\n",
    "def update_selected_range_levels(value):\n",
    "    return f'Επιλεγμένο εύρος ορόφων: {value[0]} - {value[1]}'\n",
    "\n",
    "@app.callback(\n",
    "    Output('table', 'data'),\n",
    "    [Input('date-filter-1', 'value'), \n",
    "     Input('dimos-filter-1', 'value'),\n",
    "#      Input('perioxi-filter-1', 'value'),\n",
    "     Input('type-filter-1', 'value'), \n",
    "     Input('price-range-slider-1', 'value'), \n",
    "     Input('area-range-slider-1', 'value'), \n",
    "     Input('bedrooms-range-slider-1', 'value'), \n",
    "     Input('bathrooms-range-slider-1', 'value'), \n",
    "     Input('levels-range-slider-1', 'value'), \n",
    "    ]\n",
    ")\n",
    "def update_df_1(date_filter_value, dimos_filter_value, type_filter_value, price_filter_tuple, area_filter_tuple, bedrooms_filter_tuple, bathrooms_filter_tuple, level_filter_tuple):\n",
    "    \n",
    "    filtered_df = df_full[cols_to_keep]\n",
    "    filtered_df = filtered_df[(price_filter_tuple[0] <= filtered_df['price']) & (filtered_df['price'] <= price_filter_tuple[1])]\n",
    "    filtered_df = filtered_df[(area_filter_tuple[0] <= filtered_df['area']) & (filtered_df['area'] <= area_filter_tuple[1])]\n",
    "    filtered_df = filtered_df[(bedrooms_filter_tuple[0] <= filtered_df['bedrooms']) & (filtered_df['bedrooms'] <= bedrooms_filter_tuple[1])]\n",
    "    filtered_df = filtered_df[(bathrooms_filter_tuple[0] <= filtered_df['bathrooms']) & (filtered_df['bathrooms'] <= bathrooms_filter_tuple[1])]\n",
    "    filtered_df = filtered_df[(level_filter_tuple[0] <= filtered_df['min_level']) & (filtered_df['min_level'] <= level_filter_tuple[1])]\n",
    "    \n",
    "    if date_filter_value:\n",
    "        filtered_df = filtered_df[filtered_df['extraction_date'] == date_filter_value]\n",
    "        \n",
    "    if dimos_filter_value:\n",
    "        filtered_df = filtered_df[filtered_df['dimos'] == dimos_filter_value]\n",
    "        \n",
    "#     if perioxi_filter_value:\n",
    "#         filtered_df = filtered_df[filtered_df['perioxi'] == perioxi_filter_value]\n",
    "        \n",
    "    if type_filter_value:\n",
    "        filtered_df = filtered_df[filtered_df['type'] == type_filter_value]\n",
    "    \n",
    "    return filtered_df.head(10).to_dict('records')\n",
    "\n",
    "@app.callback(\n",
    "    [Output('map-price', 'srcDoc'), Output('map-title-label-2', 'value')],\n",
    "    [Input('date-filter-2', 'value'), Input('map-type-filter-2', 'value')]\n",
    ")\n",
    "def update_page_2_map(date_filter_value, map_type_value):\n",
    "    df_filtered = df_full[df_full['extraction_date'] == date_filter_value]\n",
    "    dimos_df = df_filtered.groupby('dimos').agg({'price_per_area': 'mean', 'kwd_ypes': 'first', 'id': 'count'}).reset_index()\n",
    "    dimos_df.columns = ['dimos', 'price_per_area', 'kwd_ypes', 'count']\n",
    "    dimos_df['kwd_ypes'] = dimos_df['kwd_ypes'].astype(str)\n",
    "    map_df = municipalities.merge(dimos_df, left_on=\"kwd_ypes\", right_on=\"kwd_ypes\", how=\"outer\")\n",
    "    \n",
    "    if map_type_value == \"Τιμή\":\n",
    "        important_cols = ['kwd_ypes', 'price_per_area']\n",
    "        label_title = 'Τιμή ανά τετραγωνικό μέτρο'\n",
    "    else:\n",
    "        important_cols = ['kwd_ypes', 'count']\n",
    "        label_title = 'Πλήθος αγγελιών'\n",
    "    \n",
    "    map_athens = folium.Map(location=[37.9838, 23.7275], zoom_start=11, tiles='openstreetmap')\n",
    "    folium.Choropleth(\n",
    "            geo_data='output.geojson',\n",
    "            data=map_df,\n",
    "            columns=important_cols,  #Here we tell folium to get the county fips and plot new_cases_7days metric for each county\n",
    "            key_on='feature.properties.kwd_ypes', #Here we grab the geometries/county boundaries from the geojson file using the key 'coty_code' which is the same as county fips\n",
    "            #threshold_scale=custom_scale, #use the custom scale we created for legend\n",
    "            fill_color='YlOrRd',\n",
    "            nan_fill_color=\"White\", #Use white color if there is no data available for the county\n",
    "            fill_opacity=0.8,\n",
    "            line_opacity=0.2,\n",
    "            legend_name='Price per unit area', #title of the legend\n",
    "            highlight=True,\n",
    "            line_color='black').add_to(map_athens)\n",
    "    \n",
    "    return map_athens.get_root().render(), label_title\n",
    "\n",
    "\n",
    "@app.callback(\n",
    "    [Output('fig-levels', 'figure'),\n",
    "    Output('fig-level-length', 'figure')],\n",
    "    [Input('date-filter-2', 'value'), \n",
    "    Input('dimos-filter-2', 'value')]\n",
    ")\n",
    "def update_page_2_graphs(date_filter_value, dimos_filter_value):\n",
    "    if date_filter_value is None:\n",
    "        raise PreventUpdate\n",
    "    \n",
    "    df_filtered = df_full[(df_full['extraction_date'] == date_filter_value) & (df_full['level_length'] > 0)]\n",
    "    if dimos_filter_value:\n",
    "        df_filtered = df_filtered[df_filtered['dimos'] == dimos_filter_value]\n",
    "    \n",
    "    df1 = df_filtered.groupby('level_group').aggregate({'price_per_area': ['mean', 'count']}).reset_index()\n",
    "    df1.columns = ['level', 'price_per_area', 'count']\n",
    "    \n",
    "    fig_levels = px.bar(df1, x='price_per_area', y='level', orientation='h', hover_data='count')\n",
    "    \n",
    "    fig_levels.update_traces(marker_color='darkcyan')\n",
    "    fig_levels.update_traces(text=df1['price_per_area'], textposition='auto', texttemplate='%{text:.4s}')\n",
    "    fig_levels.update_layout(\n",
    "        xaxis_title='Average price per area',\n",
    "        yaxis_title='Level',\n",
    "        title='Prices for different house levels',\n",
    "        title_x=0.5\n",
    "    )\n",
    "    \n",
    "    \n",
    "    \n",
    "    df2 = df_filtered.groupby('level_length').aggregate({'price_per_area': ['mean', 'count']}).reset_index()\n",
    "    df2.columns = ['level_length', 'price_per_area', 'count']\n",
    "    fig_level_length = px.bar(df2, x='price_per_area', y='level_length', orientation='h', hover_data='count')\n",
    "\n",
    "    fig_level_length.update_traces(marker_color='darkcyan')\n",
    "    fig_level_length.update_traces(text=df2['price_per_area'], textposition='auto', texttemplate='%{text:.4s}')\n",
    "    fig_level_length.update_layout(\n",
    "        xaxis_title='Average price per area',\n",
    "        yaxis_title='Levels',\n",
    "        title='Do house levels affect price per area?',\n",
    "        title_x=0.5\n",
    "    )\n",
    "    \n",
    "    return fig_levels, fig_level_length\n",
    "\n",
    "@app.callback(\n",
    "    dash.dependencies.Output('page-content', 'children'),\n",
    "    [dash.dependencies.Input('url', 'pathname')]\n",
    ")\n",
    "def display_page(pathname):\n",
    "    href_dict = {'/': page1_layout,\n",
    "                '/page1': page1_layout,\n",
    "                '/page2': page2_layout}\n",
    "    return href_dict[pathname]\n",
    "\n",
    "app.run_server(mode='inline')"
   ]
  },
  {
   "cell_type": "code",
   "execution_count": 69,
   "id": "c03be6b2",
   "metadata": {},
   "outputs": [
    {
     "data": {
      "text/html": [
       "<div>\n",
       "<style scoped>\n",
       "    .dataframe tbody tr th:only-of-type {\n",
       "        vertical-align: middle;\n",
       "    }\n",
       "\n",
       "    .dataframe tbody tr th {\n",
       "        vertical-align: top;\n",
       "    }\n",
       "\n",
       "    .dataframe thead th {\n",
       "        text-align: right;\n",
       "    }\n",
       "</style>\n",
       "<table border=\"1\" class=\"dataframe\">\n",
       "  <thead>\n",
       "    <tr style=\"text-align: right;\">\n",
       "      <th></th>\n",
       "      <th>price</th>\n",
       "    </tr>\n",
       "    <tr>\n",
       "      <th>construction_year</th>\n",
       "      <th></th>\n",
       "    </tr>\n",
       "  </thead>\n",
       "  <tbody>\n",
       "    <tr>\n",
       "      <th>1900.0</th>\n",
       "      <td>1796.296296</td>\n",
       "    </tr>\n",
       "    <tr>\n",
       "      <th>1901.0</th>\n",
       "      <td>2760.000000</td>\n",
       "    </tr>\n",
       "    <tr>\n",
       "      <th>1910.0</th>\n",
       "      <td>2200.000000</td>\n",
       "    </tr>\n",
       "    <tr>\n",
       "      <th>1920.0</th>\n",
       "      <td>1300.000000</td>\n",
       "    </tr>\n",
       "    <tr>\n",
       "      <th>1921.0</th>\n",
       "      <td>1448.000000</td>\n",
       "    </tr>\n",
       "    <tr>\n",
       "      <th>...</th>\n",
       "      <td>...</td>\n",
       "    </tr>\n",
       "    <tr>\n",
       "      <th>2019.0</th>\n",
       "      <td>555.750000</td>\n",
       "    </tr>\n",
       "    <tr>\n",
       "      <th>2020.0</th>\n",
       "      <td>692.258065</td>\n",
       "    </tr>\n",
       "    <tr>\n",
       "      <th>2021.0</th>\n",
       "      <td>1040.000000</td>\n",
       "    </tr>\n",
       "    <tr>\n",
       "      <th>2022.0</th>\n",
       "      <td>825.555556</td>\n",
       "    </tr>\n",
       "    <tr>\n",
       "      <th>2023.0</th>\n",
       "      <td>874.025157</td>\n",
       "    </tr>\n",
       "  </tbody>\n",
       "</table>\n",
       "<p>94 rows × 1 columns</p>\n",
       "</div>"
      ],
      "text/plain": [
       "                         price\n",
       "construction_year             \n",
       "1900.0             1796.296296\n",
       "1901.0             2760.000000\n",
       "1910.0             2200.000000\n",
       "1920.0             1300.000000\n",
       "1921.0             1448.000000\n",
       "...                        ...\n",
       "2019.0              555.750000\n",
       "2020.0              692.258065\n",
       "2021.0             1040.000000\n",
       "2022.0              825.555556\n",
       "2023.0              874.025157\n",
       "\n",
       "[94 rows x 1 columns]"
      ]
     },
     "execution_count": 69,
     "metadata": {},
     "output_type": "execute_result"
    }
   ],
   "source": [
    "df_full.groupby('construction_year')[['price']].mean()"
   ]
  },
  {
   "cell_type": "code",
   "execution_count": 74,
   "id": "b55c197c",
   "metadata": {},
   "outputs": [
    {
     "data": {
      "text/html": [
       "<div>\n",
       "<style scoped>\n",
       "    .dataframe tbody tr th:only-of-type {\n",
       "        vertical-align: middle;\n",
       "    }\n",
       "\n",
       "    .dataframe tbody tr th {\n",
       "        vertical-align: top;\n",
       "    }\n",
       "\n",
       "    .dataframe thead th {\n",
       "        text-align: right;\n",
       "    }\n",
       "</style>\n",
       "<table border=\"1\" class=\"dataframe\">\n",
       "  <thead>\n",
       "    <tr style=\"text-align: right;\">\n",
       "      <th></th>\n",
       "      <th>construction_era</th>\n",
       "      <th>price_per_area</th>\n",
       "      <th>count</th>\n",
       "    </tr>\n",
       "  </thead>\n",
       "  <tbody>\n",
       "    <tr>\n",
       "      <th>0</th>\n",
       "      <td>&lt; 1970</td>\n",
       "      <td>10.488437</td>\n",
       "      <td>8791</td>\n",
       "    </tr>\n",
       "    <tr>\n",
       "      <th>1</th>\n",
       "      <td>1970-1980</td>\n",
       "      <td>9.945812</td>\n",
       "      <td>8484</td>\n",
       "    </tr>\n",
       "    <tr>\n",
       "      <th>2</th>\n",
       "      <td>1980-1990</td>\n",
       "      <td>9.781677</td>\n",
       "      <td>1679</td>\n",
       "    </tr>\n",
       "    <tr>\n",
       "      <th>3</th>\n",
       "      <td>1990-2000</td>\n",
       "      <td>10.478575</td>\n",
       "      <td>951</td>\n",
       "    </tr>\n",
       "    <tr>\n",
       "      <th>4</th>\n",
       "      <td>2000-2010</td>\n",
       "      <td>11.091530</td>\n",
       "      <td>1334</td>\n",
       "    </tr>\n",
       "    <tr>\n",
       "      <th>5</th>\n",
       "      <td>2010-2020</td>\n",
       "      <td>11.545015</td>\n",
       "      <td>356</td>\n",
       "    </tr>\n",
       "    <tr>\n",
       "      <th>6</th>\n",
       "      <td>&gt; 2020</td>\n",
       "      <td>13.496472</td>\n",
       "      <td>318</td>\n",
       "    </tr>\n",
       "  </tbody>\n",
       "</table>\n",
       "</div>"
      ],
      "text/plain": [
       "  construction_era  price_per_area  count\n",
       "0           < 1970       10.488437   8791\n",
       "1        1970-1980        9.945812   8484\n",
       "2        1980-1990        9.781677   1679\n",
       "3        1990-2000       10.478575    951\n",
       "4        2000-2010       11.091530   1334\n",
       "5        2010-2020       11.545015    356\n",
       "6           > 2020       13.496472    318"
      ]
     },
     "execution_count": 74,
     "metadata": {},
     "output_type": "execute_result"
    }
   ],
   "source": [
    "df_price_by_year = df_full.groupby('construction_era').agg({'price_per_area': 'mean', 'id': 'count'}).reset_index()\n",
    "df_price_by_year.columns = ['construction_era', 'price_per_area', 'count']\n",
    "df_price_by_year"
   ]
  },
  {
   "cell_type": "code",
   "execution_count": 77,
   "id": "d4b5a94a",
   "metadata": {},
   "outputs": [
    {
     "data": {
      "application/vnd.plotly.v1+json": {
       "config": {
        "plotlyServerURL": "https://plot.ly"
       },
       "data": [
        {
         "alignmentgroup": "True",
         "customdata": [
          [
           8791
          ],
          [
           8484
          ],
          [
           1679
          ],
          [
           951
          ],
          [
           1334
          ],
          [
           356
          ],
          [
           318
          ]
         ],
         "hovertemplate": "construction_era=%{x}<br>price_per_area=%{y}<br>count=%{customdata[0]}<extra></extra>",
         "legendgroup": "",
         "marker": {
          "color": "darkcyan",
          "pattern": {
           "shape": ""
          }
         },
         "name": "",
         "offsetgroup": "",
         "orientation": "v",
         "showlegend": false,
         "text": [
          10.488436962444586,
          9.94581175357325,
          9.781676641690135,
          10.478575490095968,
          11.091530234786722,
          11.545014562380134,
          13.496471825485177
         ],
         "textposition": "auto",
         "texttemplate": "%{text:.4s}",
         "type": "bar",
         "x": [
          "< 1970",
          "1970-1980",
          "1980-1990",
          "1990-2000",
          "2000-2010",
          "2010-2020",
          "> 2020"
         ],
         "xaxis": "x",
         "y": [
          10.488436962444586,
          9.94581175357325,
          9.781676641690135,
          10.478575490095968,
          11.091530234786722,
          11.545014562380134,
          13.496471825485177
         ],
         "yaxis": "y"
        }
       ],
       "layout": {
        "barmode": "relative",
        "legend": {
         "tracegroupgap": 0
        },
        "margin": {
         "t": 60
        },
        "template": {
         "data": {
          "bar": [
           {
            "error_x": {
             "color": "#2a3f5f"
            },
            "error_y": {
             "color": "#2a3f5f"
            },
            "marker": {
             "line": {
              "color": "#E5ECF6",
              "width": 0.5
             },
             "pattern": {
              "fillmode": "overlay",
              "size": 10,
              "solidity": 0.2
             }
            },
            "type": "bar"
           }
          ],
          "barpolar": [
           {
            "marker": {
             "line": {
              "color": "#E5ECF6",
              "width": 0.5
             },
             "pattern": {
              "fillmode": "overlay",
              "size": 10,
              "solidity": 0.2
             }
            },
            "type": "barpolar"
           }
          ],
          "carpet": [
           {
            "aaxis": {
             "endlinecolor": "#2a3f5f",
             "gridcolor": "white",
             "linecolor": "white",
             "minorgridcolor": "white",
             "startlinecolor": "#2a3f5f"
            },
            "baxis": {
             "endlinecolor": "#2a3f5f",
             "gridcolor": "white",
             "linecolor": "white",
             "minorgridcolor": "white",
             "startlinecolor": "#2a3f5f"
            },
            "type": "carpet"
           }
          ],
          "choropleth": [
           {
            "colorbar": {
             "outlinewidth": 0,
             "ticks": ""
            },
            "type": "choropleth"
           }
          ],
          "contour": [
           {
            "colorbar": {
             "outlinewidth": 0,
             "ticks": ""
            },
            "colorscale": [
             [
              0,
              "#0d0887"
             ],
             [
              0.1111111111111111,
              "#46039f"
             ],
             [
              0.2222222222222222,
              "#7201a8"
             ],
             [
              0.3333333333333333,
              "#9c179e"
             ],
             [
              0.4444444444444444,
              "#bd3786"
             ],
             [
              0.5555555555555556,
              "#d8576b"
             ],
             [
              0.6666666666666666,
              "#ed7953"
             ],
             [
              0.7777777777777778,
              "#fb9f3a"
             ],
             [
              0.8888888888888888,
              "#fdca26"
             ],
             [
              1,
              "#f0f921"
             ]
            ],
            "type": "contour"
           }
          ],
          "contourcarpet": [
           {
            "colorbar": {
             "outlinewidth": 0,
             "ticks": ""
            },
            "type": "contourcarpet"
           }
          ],
          "heatmap": [
           {
            "colorbar": {
             "outlinewidth": 0,
             "ticks": ""
            },
            "colorscale": [
             [
              0,
              "#0d0887"
             ],
             [
              0.1111111111111111,
              "#46039f"
             ],
             [
              0.2222222222222222,
              "#7201a8"
             ],
             [
              0.3333333333333333,
              "#9c179e"
             ],
             [
              0.4444444444444444,
              "#bd3786"
             ],
             [
              0.5555555555555556,
              "#d8576b"
             ],
             [
              0.6666666666666666,
              "#ed7953"
             ],
             [
              0.7777777777777778,
              "#fb9f3a"
             ],
             [
              0.8888888888888888,
              "#fdca26"
             ],
             [
              1,
              "#f0f921"
             ]
            ],
            "type": "heatmap"
           }
          ],
          "heatmapgl": [
           {
            "colorbar": {
             "outlinewidth": 0,
             "ticks": ""
            },
            "colorscale": [
             [
              0,
              "#0d0887"
             ],
             [
              0.1111111111111111,
              "#46039f"
             ],
             [
              0.2222222222222222,
              "#7201a8"
             ],
             [
              0.3333333333333333,
              "#9c179e"
             ],
             [
              0.4444444444444444,
              "#bd3786"
             ],
             [
              0.5555555555555556,
              "#d8576b"
             ],
             [
              0.6666666666666666,
              "#ed7953"
             ],
             [
              0.7777777777777778,
              "#fb9f3a"
             ],
             [
              0.8888888888888888,
              "#fdca26"
             ],
             [
              1,
              "#f0f921"
             ]
            ],
            "type": "heatmapgl"
           }
          ],
          "histogram": [
           {
            "marker": {
             "pattern": {
              "fillmode": "overlay",
              "size": 10,
              "solidity": 0.2
             }
            },
            "type": "histogram"
           }
          ],
          "histogram2d": [
           {
            "colorbar": {
             "outlinewidth": 0,
             "ticks": ""
            },
            "colorscale": [
             [
              0,
              "#0d0887"
             ],
             [
              0.1111111111111111,
              "#46039f"
             ],
             [
              0.2222222222222222,
              "#7201a8"
             ],
             [
              0.3333333333333333,
              "#9c179e"
             ],
             [
              0.4444444444444444,
              "#bd3786"
             ],
             [
              0.5555555555555556,
              "#d8576b"
             ],
             [
              0.6666666666666666,
              "#ed7953"
             ],
             [
              0.7777777777777778,
              "#fb9f3a"
             ],
             [
              0.8888888888888888,
              "#fdca26"
             ],
             [
              1,
              "#f0f921"
             ]
            ],
            "type": "histogram2d"
           }
          ],
          "histogram2dcontour": [
           {
            "colorbar": {
             "outlinewidth": 0,
             "ticks": ""
            },
            "colorscale": [
             [
              0,
              "#0d0887"
             ],
             [
              0.1111111111111111,
              "#46039f"
             ],
             [
              0.2222222222222222,
              "#7201a8"
             ],
             [
              0.3333333333333333,
              "#9c179e"
             ],
             [
              0.4444444444444444,
              "#bd3786"
             ],
             [
              0.5555555555555556,
              "#d8576b"
             ],
             [
              0.6666666666666666,
              "#ed7953"
             ],
             [
              0.7777777777777778,
              "#fb9f3a"
             ],
             [
              0.8888888888888888,
              "#fdca26"
             ],
             [
              1,
              "#f0f921"
             ]
            ],
            "type": "histogram2dcontour"
           }
          ],
          "mesh3d": [
           {
            "colorbar": {
             "outlinewidth": 0,
             "ticks": ""
            },
            "type": "mesh3d"
           }
          ],
          "parcoords": [
           {
            "line": {
             "colorbar": {
              "outlinewidth": 0,
              "ticks": ""
             }
            },
            "type": "parcoords"
           }
          ],
          "pie": [
           {
            "automargin": true,
            "type": "pie"
           }
          ],
          "scatter": [
           {
            "fillpattern": {
             "fillmode": "overlay",
             "size": 10,
             "solidity": 0.2
            },
            "type": "scatter"
           }
          ],
          "scatter3d": [
           {
            "line": {
             "colorbar": {
              "outlinewidth": 0,
              "ticks": ""
             }
            },
            "marker": {
             "colorbar": {
              "outlinewidth": 0,
              "ticks": ""
             }
            },
            "type": "scatter3d"
           }
          ],
          "scattercarpet": [
           {
            "marker": {
             "colorbar": {
              "outlinewidth": 0,
              "ticks": ""
             }
            },
            "type": "scattercarpet"
           }
          ],
          "scattergeo": [
           {
            "marker": {
             "colorbar": {
              "outlinewidth": 0,
              "ticks": ""
             }
            },
            "type": "scattergeo"
           }
          ],
          "scattergl": [
           {
            "marker": {
             "colorbar": {
              "outlinewidth": 0,
              "ticks": ""
             }
            },
            "type": "scattergl"
           }
          ],
          "scattermapbox": [
           {
            "marker": {
             "colorbar": {
              "outlinewidth": 0,
              "ticks": ""
             }
            },
            "type": "scattermapbox"
           }
          ],
          "scatterpolar": [
           {
            "marker": {
             "colorbar": {
              "outlinewidth": 0,
              "ticks": ""
             }
            },
            "type": "scatterpolar"
           }
          ],
          "scatterpolargl": [
           {
            "marker": {
             "colorbar": {
              "outlinewidth": 0,
              "ticks": ""
             }
            },
            "type": "scatterpolargl"
           }
          ],
          "scatterternary": [
           {
            "marker": {
             "colorbar": {
              "outlinewidth": 0,
              "ticks": ""
             }
            },
            "type": "scatterternary"
           }
          ],
          "surface": [
           {
            "colorbar": {
             "outlinewidth": 0,
             "ticks": ""
            },
            "colorscale": [
             [
              0,
              "#0d0887"
             ],
             [
              0.1111111111111111,
              "#46039f"
             ],
             [
              0.2222222222222222,
              "#7201a8"
             ],
             [
              0.3333333333333333,
              "#9c179e"
             ],
             [
              0.4444444444444444,
              "#bd3786"
             ],
             [
              0.5555555555555556,
              "#d8576b"
             ],
             [
              0.6666666666666666,
              "#ed7953"
             ],
             [
              0.7777777777777778,
              "#fb9f3a"
             ],
             [
              0.8888888888888888,
              "#fdca26"
             ],
             [
              1,
              "#f0f921"
             ]
            ],
            "type": "surface"
           }
          ],
          "table": [
           {
            "cells": {
             "fill": {
              "color": "#EBF0F8"
             },
             "line": {
              "color": "white"
             }
            },
            "header": {
             "fill": {
              "color": "#C8D4E3"
             },
             "line": {
              "color": "white"
             }
            },
            "type": "table"
           }
          ]
         },
         "layout": {
          "annotationdefaults": {
           "arrowcolor": "#2a3f5f",
           "arrowhead": 0,
           "arrowwidth": 1
          },
          "autotypenumbers": "strict",
          "coloraxis": {
           "colorbar": {
            "outlinewidth": 0,
            "ticks": ""
           }
          },
          "colorscale": {
           "diverging": [
            [
             0,
             "#8e0152"
            ],
            [
             0.1,
             "#c51b7d"
            ],
            [
             0.2,
             "#de77ae"
            ],
            [
             0.3,
             "#f1b6da"
            ],
            [
             0.4,
             "#fde0ef"
            ],
            [
             0.5,
             "#f7f7f7"
            ],
            [
             0.6,
             "#e6f5d0"
            ],
            [
             0.7,
             "#b8e186"
            ],
            [
             0.8,
             "#7fbc41"
            ],
            [
             0.9,
             "#4d9221"
            ],
            [
             1,
             "#276419"
            ]
           ],
           "sequential": [
            [
             0,
             "#0d0887"
            ],
            [
             0.1111111111111111,
             "#46039f"
            ],
            [
             0.2222222222222222,
             "#7201a8"
            ],
            [
             0.3333333333333333,
             "#9c179e"
            ],
            [
             0.4444444444444444,
             "#bd3786"
            ],
            [
             0.5555555555555556,
             "#d8576b"
            ],
            [
             0.6666666666666666,
             "#ed7953"
            ],
            [
             0.7777777777777778,
             "#fb9f3a"
            ],
            [
             0.8888888888888888,
             "#fdca26"
            ],
            [
             1,
             "#f0f921"
            ]
           ],
           "sequentialminus": [
            [
             0,
             "#0d0887"
            ],
            [
             0.1111111111111111,
             "#46039f"
            ],
            [
             0.2222222222222222,
             "#7201a8"
            ],
            [
             0.3333333333333333,
             "#9c179e"
            ],
            [
             0.4444444444444444,
             "#bd3786"
            ],
            [
             0.5555555555555556,
             "#d8576b"
            ],
            [
             0.6666666666666666,
             "#ed7953"
            ],
            [
             0.7777777777777778,
             "#fb9f3a"
            ],
            [
             0.8888888888888888,
             "#fdca26"
            ],
            [
             1,
             "#f0f921"
            ]
           ]
          },
          "colorway": [
           "#636efa",
           "#EF553B",
           "#00cc96",
           "#ab63fa",
           "#FFA15A",
           "#19d3f3",
           "#FF6692",
           "#B6E880",
           "#FF97FF",
           "#FECB52"
          ],
          "font": {
           "color": "#2a3f5f"
          },
          "geo": {
           "bgcolor": "white",
           "lakecolor": "white",
           "landcolor": "#E5ECF6",
           "showlakes": true,
           "showland": true,
           "subunitcolor": "white"
          },
          "hoverlabel": {
           "align": "left"
          },
          "hovermode": "closest",
          "mapbox": {
           "style": "light"
          },
          "paper_bgcolor": "white",
          "plot_bgcolor": "#E5ECF6",
          "polar": {
           "angularaxis": {
            "gridcolor": "white",
            "linecolor": "white",
            "ticks": ""
           },
           "bgcolor": "#E5ECF6",
           "radialaxis": {
            "gridcolor": "white",
            "linecolor": "white",
            "ticks": ""
           }
          },
          "scene": {
           "xaxis": {
            "backgroundcolor": "#E5ECF6",
            "gridcolor": "white",
            "gridwidth": 2,
            "linecolor": "white",
            "showbackground": true,
            "ticks": "",
            "zerolinecolor": "white"
           },
           "yaxis": {
            "backgroundcolor": "#E5ECF6",
            "gridcolor": "white",
            "gridwidth": 2,
            "linecolor": "white",
            "showbackground": true,
            "ticks": "",
            "zerolinecolor": "white"
           },
           "zaxis": {
            "backgroundcolor": "#E5ECF6",
            "gridcolor": "white",
            "gridwidth": 2,
            "linecolor": "white",
            "showbackground": true,
            "ticks": "",
            "zerolinecolor": "white"
           }
          },
          "shapedefaults": {
           "line": {
            "color": "#2a3f5f"
           }
          },
          "ternary": {
           "aaxis": {
            "gridcolor": "white",
            "linecolor": "white",
            "ticks": ""
           },
           "baxis": {
            "gridcolor": "white",
            "linecolor": "white",
            "ticks": ""
           },
           "bgcolor": "#E5ECF6",
           "caxis": {
            "gridcolor": "white",
            "linecolor": "white",
            "ticks": ""
           }
          },
          "title": {
           "x": 0.05
          },
          "xaxis": {
           "automargin": true,
           "gridcolor": "white",
           "linecolor": "white",
           "ticks": "",
           "title": {
            "standoff": 15
           },
           "zerolinecolor": "white",
           "zerolinewidth": 2
          },
          "yaxis": {
           "automargin": true,
           "gridcolor": "white",
           "linecolor": "white",
           "ticks": "",
           "title": {
            "standoff": 15
           },
           "zerolinecolor": "white",
           "zerolinewidth": 2
          }
         }
        },
        "title": {
         "text": "Does construction period affect price?",
         "x": 0.5
        },
        "xaxis": {
         "anchor": "y",
         "domain": [
          0,
          1
         ],
         "title": {
          "text": "Construction Period"
         }
        },
        "yaxis": {
         "anchor": "x",
         "domain": [
          0,
          1
         ],
         "title": {
          "text": "Average price per area"
         }
        }
       }
      },
      "text/html": [
       "<div>                            <div id=\"498df776-6448-479e-9c76-fe531833395f\" class=\"plotly-graph-div\" style=\"height:525px; width:100%;\"></div>            <script type=\"text/javascript\">                require([\"plotly\"], function(Plotly) {                    window.PLOTLYENV=window.PLOTLYENV || {};                                    if (document.getElementById(\"498df776-6448-479e-9c76-fe531833395f\")) {                    Plotly.newPlot(                        \"498df776-6448-479e-9c76-fe531833395f\",                        [{\"alignmentgroup\":\"True\",\"customdata\":[[8791],[8484],[1679],[951],[1334],[356],[318]],\"hovertemplate\":\"construction_era=%{x}\\u003cbr\\u003eprice_per_area=%{y}\\u003cbr\\u003ecount=%{customdata[0]}\\u003cextra\\u003e\\u003c\\u002fextra\\u003e\",\"legendgroup\":\"\",\"marker\":{\"color\":\"darkcyan\",\"pattern\":{\"shape\":\"\"}},\"name\":\"\",\"offsetgroup\":\"\",\"orientation\":\"v\",\"showlegend\":false,\"textposition\":\"auto\",\"x\":[\"\\u003c 1970\",\"1970-1980\",\"1980-1990\",\"1990-2000\",\"2000-2010\",\"2010-2020\",\"\\u003e 2020\"],\"xaxis\":\"x\",\"y\":[10.488436962444586,9.94581175357325,9.781676641690135,10.478575490095968,11.091530234786722,11.545014562380134,13.496471825485177],\"yaxis\":\"y\",\"type\":\"bar\",\"text\":[10.488436962444586,9.94581175357325,9.781676641690135,10.478575490095968,11.091530234786722,11.545014562380134,13.496471825485177],\"texttemplate\":\"%{text:.4s}\"}],                        {\"template\":{\"data\":{\"histogram2dcontour\":[{\"type\":\"histogram2dcontour\",\"colorbar\":{\"outlinewidth\":0,\"ticks\":\"\"},\"colorscale\":[[0.0,\"#0d0887\"],[0.1111111111111111,\"#46039f\"],[0.2222222222222222,\"#7201a8\"],[0.3333333333333333,\"#9c179e\"],[0.4444444444444444,\"#bd3786\"],[0.5555555555555556,\"#d8576b\"],[0.6666666666666666,\"#ed7953\"],[0.7777777777777778,\"#fb9f3a\"],[0.8888888888888888,\"#fdca26\"],[1.0,\"#f0f921\"]]}],\"choropleth\":[{\"type\":\"choropleth\",\"colorbar\":{\"outlinewidth\":0,\"ticks\":\"\"}}],\"histogram2d\":[{\"type\":\"histogram2d\",\"colorbar\":{\"outlinewidth\":0,\"ticks\":\"\"},\"colorscale\":[[0.0,\"#0d0887\"],[0.1111111111111111,\"#46039f\"],[0.2222222222222222,\"#7201a8\"],[0.3333333333333333,\"#9c179e\"],[0.4444444444444444,\"#bd3786\"],[0.5555555555555556,\"#d8576b\"],[0.6666666666666666,\"#ed7953\"],[0.7777777777777778,\"#fb9f3a\"],[0.8888888888888888,\"#fdca26\"],[1.0,\"#f0f921\"]]}],\"heatmap\":[{\"type\":\"heatmap\",\"colorbar\":{\"outlinewidth\":0,\"ticks\":\"\"},\"colorscale\":[[0.0,\"#0d0887\"],[0.1111111111111111,\"#46039f\"],[0.2222222222222222,\"#7201a8\"],[0.3333333333333333,\"#9c179e\"],[0.4444444444444444,\"#bd3786\"],[0.5555555555555556,\"#d8576b\"],[0.6666666666666666,\"#ed7953\"],[0.7777777777777778,\"#fb9f3a\"],[0.8888888888888888,\"#fdca26\"],[1.0,\"#f0f921\"]]}],\"heatmapgl\":[{\"type\":\"heatmapgl\",\"colorbar\":{\"outlinewidth\":0,\"ticks\":\"\"},\"colorscale\":[[0.0,\"#0d0887\"],[0.1111111111111111,\"#46039f\"],[0.2222222222222222,\"#7201a8\"],[0.3333333333333333,\"#9c179e\"],[0.4444444444444444,\"#bd3786\"],[0.5555555555555556,\"#d8576b\"],[0.6666666666666666,\"#ed7953\"],[0.7777777777777778,\"#fb9f3a\"],[0.8888888888888888,\"#fdca26\"],[1.0,\"#f0f921\"]]}],\"contourcarpet\":[{\"type\":\"contourcarpet\",\"colorbar\":{\"outlinewidth\":0,\"ticks\":\"\"}}],\"contour\":[{\"type\":\"contour\",\"colorbar\":{\"outlinewidth\":0,\"ticks\":\"\"},\"colorscale\":[[0.0,\"#0d0887\"],[0.1111111111111111,\"#46039f\"],[0.2222222222222222,\"#7201a8\"],[0.3333333333333333,\"#9c179e\"],[0.4444444444444444,\"#bd3786\"],[0.5555555555555556,\"#d8576b\"],[0.6666666666666666,\"#ed7953\"],[0.7777777777777778,\"#fb9f3a\"],[0.8888888888888888,\"#fdca26\"],[1.0,\"#f0f921\"]]}],\"surface\":[{\"type\":\"surface\",\"colorbar\":{\"outlinewidth\":0,\"ticks\":\"\"},\"colorscale\":[[0.0,\"#0d0887\"],[0.1111111111111111,\"#46039f\"],[0.2222222222222222,\"#7201a8\"],[0.3333333333333333,\"#9c179e\"],[0.4444444444444444,\"#bd3786\"],[0.5555555555555556,\"#d8576b\"],[0.6666666666666666,\"#ed7953\"],[0.7777777777777778,\"#fb9f3a\"],[0.8888888888888888,\"#fdca26\"],[1.0,\"#f0f921\"]]}],\"mesh3d\":[{\"type\":\"mesh3d\",\"colorbar\":{\"outlinewidth\":0,\"ticks\":\"\"}}],\"scatter\":[{\"fillpattern\":{\"fillmode\":\"overlay\",\"size\":10,\"solidity\":0.2},\"type\":\"scatter\"}],\"parcoords\":[{\"type\":\"parcoords\",\"line\":{\"colorbar\":{\"outlinewidth\":0,\"ticks\":\"\"}}}],\"scatterpolargl\":[{\"type\":\"scatterpolargl\",\"marker\":{\"colorbar\":{\"outlinewidth\":0,\"ticks\":\"\"}}}],\"bar\":[{\"error_x\":{\"color\":\"#2a3f5f\"},\"error_y\":{\"color\":\"#2a3f5f\"},\"marker\":{\"line\":{\"color\":\"#E5ECF6\",\"width\":0.5},\"pattern\":{\"fillmode\":\"overlay\",\"size\":10,\"solidity\":0.2}},\"type\":\"bar\"}],\"scattergeo\":[{\"type\":\"scattergeo\",\"marker\":{\"colorbar\":{\"outlinewidth\":0,\"ticks\":\"\"}}}],\"scatterpolar\":[{\"type\":\"scatterpolar\",\"marker\":{\"colorbar\":{\"outlinewidth\":0,\"ticks\":\"\"}}}],\"histogram\":[{\"marker\":{\"pattern\":{\"fillmode\":\"overlay\",\"size\":10,\"solidity\":0.2}},\"type\":\"histogram\"}],\"scattergl\":[{\"type\":\"scattergl\",\"marker\":{\"colorbar\":{\"outlinewidth\":0,\"ticks\":\"\"}}}],\"scatter3d\":[{\"type\":\"scatter3d\",\"line\":{\"colorbar\":{\"outlinewidth\":0,\"ticks\":\"\"}},\"marker\":{\"colorbar\":{\"outlinewidth\":0,\"ticks\":\"\"}}}],\"scattermapbox\":[{\"type\":\"scattermapbox\",\"marker\":{\"colorbar\":{\"outlinewidth\":0,\"ticks\":\"\"}}}],\"scatterternary\":[{\"type\":\"scatterternary\",\"marker\":{\"colorbar\":{\"outlinewidth\":0,\"ticks\":\"\"}}}],\"scattercarpet\":[{\"type\":\"scattercarpet\",\"marker\":{\"colorbar\":{\"outlinewidth\":0,\"ticks\":\"\"}}}],\"carpet\":[{\"aaxis\":{\"endlinecolor\":\"#2a3f5f\",\"gridcolor\":\"white\",\"linecolor\":\"white\",\"minorgridcolor\":\"white\",\"startlinecolor\":\"#2a3f5f\"},\"baxis\":{\"endlinecolor\":\"#2a3f5f\",\"gridcolor\":\"white\",\"linecolor\":\"white\",\"minorgridcolor\":\"white\",\"startlinecolor\":\"#2a3f5f\"},\"type\":\"carpet\"}],\"table\":[{\"cells\":{\"fill\":{\"color\":\"#EBF0F8\"},\"line\":{\"color\":\"white\"}},\"header\":{\"fill\":{\"color\":\"#C8D4E3\"},\"line\":{\"color\":\"white\"}},\"type\":\"table\"}],\"barpolar\":[{\"marker\":{\"line\":{\"color\":\"#E5ECF6\",\"width\":0.5},\"pattern\":{\"fillmode\":\"overlay\",\"size\":10,\"solidity\":0.2}},\"type\":\"barpolar\"}],\"pie\":[{\"automargin\":true,\"type\":\"pie\"}]},\"layout\":{\"autotypenumbers\":\"strict\",\"colorway\":[\"#636efa\",\"#EF553B\",\"#00cc96\",\"#ab63fa\",\"#FFA15A\",\"#19d3f3\",\"#FF6692\",\"#B6E880\",\"#FF97FF\",\"#FECB52\"],\"font\":{\"color\":\"#2a3f5f\"},\"hovermode\":\"closest\",\"hoverlabel\":{\"align\":\"left\"},\"paper_bgcolor\":\"white\",\"plot_bgcolor\":\"#E5ECF6\",\"polar\":{\"bgcolor\":\"#E5ECF6\",\"angularaxis\":{\"gridcolor\":\"white\",\"linecolor\":\"white\",\"ticks\":\"\"},\"radialaxis\":{\"gridcolor\":\"white\",\"linecolor\":\"white\",\"ticks\":\"\"}},\"ternary\":{\"bgcolor\":\"#E5ECF6\",\"aaxis\":{\"gridcolor\":\"white\",\"linecolor\":\"white\",\"ticks\":\"\"},\"baxis\":{\"gridcolor\":\"white\",\"linecolor\":\"white\",\"ticks\":\"\"},\"caxis\":{\"gridcolor\":\"white\",\"linecolor\":\"white\",\"ticks\":\"\"}},\"coloraxis\":{\"colorbar\":{\"outlinewidth\":0,\"ticks\":\"\"}},\"colorscale\":{\"sequential\":[[0.0,\"#0d0887\"],[0.1111111111111111,\"#46039f\"],[0.2222222222222222,\"#7201a8\"],[0.3333333333333333,\"#9c179e\"],[0.4444444444444444,\"#bd3786\"],[0.5555555555555556,\"#d8576b\"],[0.6666666666666666,\"#ed7953\"],[0.7777777777777778,\"#fb9f3a\"],[0.8888888888888888,\"#fdca26\"],[1.0,\"#f0f921\"]],\"sequentialminus\":[[0.0,\"#0d0887\"],[0.1111111111111111,\"#46039f\"],[0.2222222222222222,\"#7201a8\"],[0.3333333333333333,\"#9c179e\"],[0.4444444444444444,\"#bd3786\"],[0.5555555555555556,\"#d8576b\"],[0.6666666666666666,\"#ed7953\"],[0.7777777777777778,\"#fb9f3a\"],[0.8888888888888888,\"#fdca26\"],[1.0,\"#f0f921\"]],\"diverging\":[[0,\"#8e0152\"],[0.1,\"#c51b7d\"],[0.2,\"#de77ae\"],[0.3,\"#f1b6da\"],[0.4,\"#fde0ef\"],[0.5,\"#f7f7f7\"],[0.6,\"#e6f5d0\"],[0.7,\"#b8e186\"],[0.8,\"#7fbc41\"],[0.9,\"#4d9221\"],[1,\"#276419\"]]},\"xaxis\":{\"gridcolor\":\"white\",\"linecolor\":\"white\",\"ticks\":\"\",\"title\":{\"standoff\":15},\"zerolinecolor\":\"white\",\"automargin\":true,\"zerolinewidth\":2},\"yaxis\":{\"gridcolor\":\"white\",\"linecolor\":\"white\",\"ticks\":\"\",\"title\":{\"standoff\":15},\"zerolinecolor\":\"white\",\"automargin\":true,\"zerolinewidth\":2},\"scene\":{\"xaxis\":{\"backgroundcolor\":\"#E5ECF6\",\"gridcolor\":\"white\",\"linecolor\":\"white\",\"showbackground\":true,\"ticks\":\"\",\"zerolinecolor\":\"white\",\"gridwidth\":2},\"yaxis\":{\"backgroundcolor\":\"#E5ECF6\",\"gridcolor\":\"white\",\"linecolor\":\"white\",\"showbackground\":true,\"ticks\":\"\",\"zerolinecolor\":\"white\",\"gridwidth\":2},\"zaxis\":{\"backgroundcolor\":\"#E5ECF6\",\"gridcolor\":\"white\",\"linecolor\":\"white\",\"showbackground\":true,\"ticks\":\"\",\"zerolinecolor\":\"white\",\"gridwidth\":2}},\"shapedefaults\":{\"line\":{\"color\":\"#2a3f5f\"}},\"annotationdefaults\":{\"arrowcolor\":\"#2a3f5f\",\"arrowhead\":0,\"arrowwidth\":1},\"geo\":{\"bgcolor\":\"white\",\"landcolor\":\"#E5ECF6\",\"subunitcolor\":\"white\",\"showland\":true,\"showlakes\":true,\"lakecolor\":\"white\"},\"title\":{\"x\":0.05},\"mapbox\":{\"style\":\"light\"}}},\"xaxis\":{\"anchor\":\"y\",\"domain\":[0.0,1.0],\"title\":{\"text\":\"Construction Period\"}},\"yaxis\":{\"anchor\":\"x\",\"domain\":[0.0,1.0],\"title\":{\"text\":\"Average price per area\"}},\"legend\":{\"tracegroupgap\":0},\"margin\":{\"t\":60},\"barmode\":\"relative\",\"title\":{\"text\":\"Does construction period affect price?\",\"x\":0.5}},                        {\"responsive\": true}                    ).then(function(){\n",
       "                            \n",
       "var gd = document.getElementById('498df776-6448-479e-9c76-fe531833395f');\n",
       "var x = new MutationObserver(function (mutations, observer) {{\n",
       "        var display = window.getComputedStyle(gd).display;\n",
       "        if (!display || display === 'none') {{\n",
       "            console.log([gd, 'removed!']);\n",
       "            Plotly.purge(gd);\n",
       "            observer.disconnect();\n",
       "        }}\n",
       "}});\n",
       "\n",
       "// Listen for the removal of the full notebook cells\n",
       "var notebookContainer = gd.closest('#notebook-container');\n",
       "if (notebookContainer) {{\n",
       "    x.observe(notebookContainer, {childList: true});\n",
       "}}\n",
       "\n",
       "// Listen for the clearing of the current output cell\n",
       "var outputEl = gd.closest('.output');\n",
       "if (outputEl) {{\n",
       "    x.observe(outputEl, {childList: true});\n",
       "}}\n",
       "\n",
       "                        })                };                });            </script>        </div>"
      ]
     },
     "metadata": {},
     "output_type": "display_data"
    }
   ],
   "source": [
    "fig_age = px.bar(df_price_by_year, x='construction_era', y='price_per_area', orientation='v', hover_data='count')\n",
    "\n",
    "fig_age.update_traces(marker_color='darkcyan')\n",
    "fig_age.update_traces(text=df_price_by_year['price_per_area'], textposition='auto', texttemplate='%{text:.4s}')\n",
    "fig_age.update_layout(\n",
    "    xaxis_title='Construction Period',\n",
    "    yaxis_title='Average price per area',\n",
    "    title='Does construction period affect price?',\n",
    "    title_x=0.5\n",
    ")\n",
    "\n",
    "fig_age.show()"
   ]
  },
  {
   "cell_type": "code",
   "execution_count": 30,
   "id": "93ee759b",
   "metadata": {},
   "outputs": [
    {
     "data": {
      "text/html": [
       "<div>\n",
       "<style scoped>\n",
       "    .dataframe tbody tr th:only-of-type {\n",
       "        vertical-align: middle;\n",
       "    }\n",
       "\n",
       "    .dataframe tbody tr th {\n",
       "        vertical-align: top;\n",
       "    }\n",
       "\n",
       "    .dataframe thead th {\n",
       "        text-align: right;\n",
       "    }\n",
       "</style>\n",
       "<table border=\"1\" class=\"dataframe\">\n",
       "  <thead>\n",
       "    <tr style=\"text-align: right;\">\n",
       "      <th></th>\n",
       "      <th>area_group</th>\n",
       "      <th>price_per_area</th>\n",
       "      <th>count</th>\n",
       "    </tr>\n",
       "  </thead>\n",
       "  <tbody>\n",
       "    <tr>\n",
       "      <th>0</th>\n",
       "      <td>&lt; 20</td>\n",
       "      <td>17.008350</td>\n",
       "      <td>23</td>\n",
       "    </tr>\n",
       "    <tr>\n",
       "      <th>1</th>\n",
       "      <td>21-40</td>\n",
       "      <td>12.553245</td>\n",
       "      <td>641</td>\n",
       "    </tr>\n",
       "    <tr>\n",
       "      <th>2</th>\n",
       "      <td>41-60</td>\n",
       "      <td>10.529414</td>\n",
       "      <td>1374</td>\n",
       "    </tr>\n",
       "    <tr>\n",
       "      <th>3</th>\n",
       "      <td>61+</td>\n",
       "      <td>9.573423</td>\n",
       "      <td>3376</td>\n",
       "    </tr>\n",
       "  </tbody>\n",
       "</table>\n",
       "</div>"
      ],
      "text/plain": [
       "  area_group  price_per_area  count\n",
       "0       < 20       17.008350     23\n",
       "1      21-40       12.553245    641\n",
       "2      41-60       10.529414   1374\n",
       "3        61+        9.573423   3376"
      ]
     },
     "execution_count": 30,
     "metadata": {},
     "output_type": "execute_result"
    }
   ],
   "source": [
    "df_area_group = df_full[df_full['extraction_date'] == '2023-06-01'].groupby('area_group').agg({'price_per_area': 'mean', 'id': 'count'}).reset_index()\n",
    "df_area_group.columns = ['area_group', 'price_per_area', 'count']\n",
    "df_area_group"
   ]
  },
  {
   "cell_type": "code",
   "execution_count": 31,
   "id": "72ba81a4",
   "metadata": {},
   "outputs": [
    {
     "data": {
      "application/vnd.plotly.v1+json": {
       "config": {
        "plotlyServerURL": "https://plot.ly"
       },
       "data": [
        {
         "alignmentgroup": "True",
         "customdata": [
          [
           17.00835027433493
          ],
          [
           12.553245387418505
          ],
          [
           10.5294137774038
          ],
          [
           9.573422707626532
          ]
         ],
         "hovertemplate": "area_group=%{x}<br>count=%{y}<br>price_per_area=%{customdata[0]}<extra></extra>",
         "legendgroup": "",
         "marker": {
          "color": "darkcyan",
          "pattern": {
           "shape": ""
          }
         },
         "name": "",
         "offsetgroup": "",
         "orientation": "v",
         "showlegend": false,
         "text": [
          23,
          641,
          1374,
          3376
         ],
         "textposition": "auto",
         "type": "bar",
         "x": [
          "< 20",
          "21-40",
          "41-60",
          "61+"
         ],
         "xaxis": "x",
         "y": [
          23,
          641,
          1374,
          3376
         ],
         "yaxis": "y"
        }
       ],
       "layout": {
        "barmode": "relative",
        "legend": {
         "tracegroupgap": 0
        },
        "margin": {
         "t": 60
        },
        "template": {
         "data": {
          "bar": [
           {
            "error_x": {
             "color": "#2a3f5f"
            },
            "error_y": {
             "color": "#2a3f5f"
            },
            "marker": {
             "line": {
              "color": "#E5ECF6",
              "width": 0.5
             },
             "pattern": {
              "fillmode": "overlay",
              "size": 10,
              "solidity": 0.2
             }
            },
            "type": "bar"
           }
          ],
          "barpolar": [
           {
            "marker": {
             "line": {
              "color": "#E5ECF6",
              "width": 0.5
             },
             "pattern": {
              "fillmode": "overlay",
              "size": 10,
              "solidity": 0.2
             }
            },
            "type": "barpolar"
           }
          ],
          "carpet": [
           {
            "aaxis": {
             "endlinecolor": "#2a3f5f",
             "gridcolor": "white",
             "linecolor": "white",
             "minorgridcolor": "white",
             "startlinecolor": "#2a3f5f"
            },
            "baxis": {
             "endlinecolor": "#2a3f5f",
             "gridcolor": "white",
             "linecolor": "white",
             "minorgridcolor": "white",
             "startlinecolor": "#2a3f5f"
            },
            "type": "carpet"
           }
          ],
          "choropleth": [
           {
            "colorbar": {
             "outlinewidth": 0,
             "ticks": ""
            },
            "type": "choropleth"
           }
          ],
          "contour": [
           {
            "colorbar": {
             "outlinewidth": 0,
             "ticks": ""
            },
            "colorscale": [
             [
              0,
              "#0d0887"
             ],
             [
              0.1111111111111111,
              "#46039f"
             ],
             [
              0.2222222222222222,
              "#7201a8"
             ],
             [
              0.3333333333333333,
              "#9c179e"
             ],
             [
              0.4444444444444444,
              "#bd3786"
             ],
             [
              0.5555555555555556,
              "#d8576b"
             ],
             [
              0.6666666666666666,
              "#ed7953"
             ],
             [
              0.7777777777777778,
              "#fb9f3a"
             ],
             [
              0.8888888888888888,
              "#fdca26"
             ],
             [
              1,
              "#f0f921"
             ]
            ],
            "type": "contour"
           }
          ],
          "contourcarpet": [
           {
            "colorbar": {
             "outlinewidth": 0,
             "ticks": ""
            },
            "type": "contourcarpet"
           }
          ],
          "heatmap": [
           {
            "colorbar": {
             "outlinewidth": 0,
             "ticks": ""
            },
            "colorscale": [
             [
              0,
              "#0d0887"
             ],
             [
              0.1111111111111111,
              "#46039f"
             ],
             [
              0.2222222222222222,
              "#7201a8"
             ],
             [
              0.3333333333333333,
              "#9c179e"
             ],
             [
              0.4444444444444444,
              "#bd3786"
             ],
             [
              0.5555555555555556,
              "#d8576b"
             ],
             [
              0.6666666666666666,
              "#ed7953"
             ],
             [
              0.7777777777777778,
              "#fb9f3a"
             ],
             [
              0.8888888888888888,
              "#fdca26"
             ],
             [
              1,
              "#f0f921"
             ]
            ],
            "type": "heatmap"
           }
          ],
          "heatmapgl": [
           {
            "colorbar": {
             "outlinewidth": 0,
             "ticks": ""
            },
            "colorscale": [
             [
              0,
              "#0d0887"
             ],
             [
              0.1111111111111111,
              "#46039f"
             ],
             [
              0.2222222222222222,
              "#7201a8"
             ],
             [
              0.3333333333333333,
              "#9c179e"
             ],
             [
              0.4444444444444444,
              "#bd3786"
             ],
             [
              0.5555555555555556,
              "#d8576b"
             ],
             [
              0.6666666666666666,
              "#ed7953"
             ],
             [
              0.7777777777777778,
              "#fb9f3a"
             ],
             [
              0.8888888888888888,
              "#fdca26"
             ],
             [
              1,
              "#f0f921"
             ]
            ],
            "type": "heatmapgl"
           }
          ],
          "histogram": [
           {
            "marker": {
             "pattern": {
              "fillmode": "overlay",
              "size": 10,
              "solidity": 0.2
             }
            },
            "type": "histogram"
           }
          ],
          "histogram2d": [
           {
            "colorbar": {
             "outlinewidth": 0,
             "ticks": ""
            },
            "colorscale": [
             [
              0,
              "#0d0887"
             ],
             [
              0.1111111111111111,
              "#46039f"
             ],
             [
              0.2222222222222222,
              "#7201a8"
             ],
             [
              0.3333333333333333,
              "#9c179e"
             ],
             [
              0.4444444444444444,
              "#bd3786"
             ],
             [
              0.5555555555555556,
              "#d8576b"
             ],
             [
              0.6666666666666666,
              "#ed7953"
             ],
             [
              0.7777777777777778,
              "#fb9f3a"
             ],
             [
              0.8888888888888888,
              "#fdca26"
             ],
             [
              1,
              "#f0f921"
             ]
            ],
            "type": "histogram2d"
           }
          ],
          "histogram2dcontour": [
           {
            "colorbar": {
             "outlinewidth": 0,
             "ticks": ""
            },
            "colorscale": [
             [
              0,
              "#0d0887"
             ],
             [
              0.1111111111111111,
              "#46039f"
             ],
             [
              0.2222222222222222,
              "#7201a8"
             ],
             [
              0.3333333333333333,
              "#9c179e"
             ],
             [
              0.4444444444444444,
              "#bd3786"
             ],
             [
              0.5555555555555556,
              "#d8576b"
             ],
             [
              0.6666666666666666,
              "#ed7953"
             ],
             [
              0.7777777777777778,
              "#fb9f3a"
             ],
             [
              0.8888888888888888,
              "#fdca26"
             ],
             [
              1,
              "#f0f921"
             ]
            ],
            "type": "histogram2dcontour"
           }
          ],
          "mesh3d": [
           {
            "colorbar": {
             "outlinewidth": 0,
             "ticks": ""
            },
            "type": "mesh3d"
           }
          ],
          "parcoords": [
           {
            "line": {
             "colorbar": {
              "outlinewidth": 0,
              "ticks": ""
             }
            },
            "type": "parcoords"
           }
          ],
          "pie": [
           {
            "automargin": true,
            "type": "pie"
           }
          ],
          "scatter": [
           {
            "fillpattern": {
             "fillmode": "overlay",
             "size": 10,
             "solidity": 0.2
            },
            "type": "scatter"
           }
          ],
          "scatter3d": [
           {
            "line": {
             "colorbar": {
              "outlinewidth": 0,
              "ticks": ""
             }
            },
            "marker": {
             "colorbar": {
              "outlinewidth": 0,
              "ticks": ""
             }
            },
            "type": "scatter3d"
           }
          ],
          "scattercarpet": [
           {
            "marker": {
             "colorbar": {
              "outlinewidth": 0,
              "ticks": ""
             }
            },
            "type": "scattercarpet"
           }
          ],
          "scattergeo": [
           {
            "marker": {
             "colorbar": {
              "outlinewidth": 0,
              "ticks": ""
             }
            },
            "type": "scattergeo"
           }
          ],
          "scattergl": [
           {
            "marker": {
             "colorbar": {
              "outlinewidth": 0,
              "ticks": ""
             }
            },
            "type": "scattergl"
           }
          ],
          "scattermapbox": [
           {
            "marker": {
             "colorbar": {
              "outlinewidth": 0,
              "ticks": ""
             }
            },
            "type": "scattermapbox"
           }
          ],
          "scatterpolar": [
           {
            "marker": {
             "colorbar": {
              "outlinewidth": 0,
              "ticks": ""
             }
            },
            "type": "scatterpolar"
           }
          ],
          "scatterpolargl": [
           {
            "marker": {
             "colorbar": {
              "outlinewidth": 0,
              "ticks": ""
             }
            },
            "type": "scatterpolargl"
           }
          ],
          "scatterternary": [
           {
            "marker": {
             "colorbar": {
              "outlinewidth": 0,
              "ticks": ""
             }
            },
            "type": "scatterternary"
           }
          ],
          "surface": [
           {
            "colorbar": {
             "outlinewidth": 0,
             "ticks": ""
            },
            "colorscale": [
             [
              0,
              "#0d0887"
             ],
             [
              0.1111111111111111,
              "#46039f"
             ],
             [
              0.2222222222222222,
              "#7201a8"
             ],
             [
              0.3333333333333333,
              "#9c179e"
             ],
             [
              0.4444444444444444,
              "#bd3786"
             ],
             [
              0.5555555555555556,
              "#d8576b"
             ],
             [
              0.6666666666666666,
              "#ed7953"
             ],
             [
              0.7777777777777778,
              "#fb9f3a"
             ],
             [
              0.8888888888888888,
              "#fdca26"
             ],
             [
              1,
              "#f0f921"
             ]
            ],
            "type": "surface"
           }
          ],
          "table": [
           {
            "cells": {
             "fill": {
              "color": "#EBF0F8"
             },
             "line": {
              "color": "white"
             }
            },
            "header": {
             "fill": {
              "color": "#C8D4E3"
             },
             "line": {
              "color": "white"
             }
            },
            "type": "table"
           }
          ]
         },
         "layout": {
          "annotationdefaults": {
           "arrowcolor": "#2a3f5f",
           "arrowhead": 0,
           "arrowwidth": 1
          },
          "autotypenumbers": "strict",
          "coloraxis": {
           "colorbar": {
            "outlinewidth": 0,
            "ticks": ""
           }
          },
          "colorscale": {
           "diverging": [
            [
             0,
             "#8e0152"
            ],
            [
             0.1,
             "#c51b7d"
            ],
            [
             0.2,
             "#de77ae"
            ],
            [
             0.3,
             "#f1b6da"
            ],
            [
             0.4,
             "#fde0ef"
            ],
            [
             0.5,
             "#f7f7f7"
            ],
            [
             0.6,
             "#e6f5d0"
            ],
            [
             0.7,
             "#b8e186"
            ],
            [
             0.8,
             "#7fbc41"
            ],
            [
             0.9,
             "#4d9221"
            ],
            [
             1,
             "#276419"
            ]
           ],
           "sequential": [
            [
             0,
             "#0d0887"
            ],
            [
             0.1111111111111111,
             "#46039f"
            ],
            [
             0.2222222222222222,
             "#7201a8"
            ],
            [
             0.3333333333333333,
             "#9c179e"
            ],
            [
             0.4444444444444444,
             "#bd3786"
            ],
            [
             0.5555555555555556,
             "#d8576b"
            ],
            [
             0.6666666666666666,
             "#ed7953"
            ],
            [
             0.7777777777777778,
             "#fb9f3a"
            ],
            [
             0.8888888888888888,
             "#fdca26"
            ],
            [
             1,
             "#f0f921"
            ]
           ],
           "sequentialminus": [
            [
             0,
             "#0d0887"
            ],
            [
             0.1111111111111111,
             "#46039f"
            ],
            [
             0.2222222222222222,
             "#7201a8"
            ],
            [
             0.3333333333333333,
             "#9c179e"
            ],
            [
             0.4444444444444444,
             "#bd3786"
            ],
            [
             0.5555555555555556,
             "#d8576b"
            ],
            [
             0.6666666666666666,
             "#ed7953"
            ],
            [
             0.7777777777777778,
             "#fb9f3a"
            ],
            [
             0.8888888888888888,
             "#fdca26"
            ],
            [
             1,
             "#f0f921"
            ]
           ]
          },
          "colorway": [
           "#636efa",
           "#EF553B",
           "#00cc96",
           "#ab63fa",
           "#FFA15A",
           "#19d3f3",
           "#FF6692",
           "#B6E880",
           "#FF97FF",
           "#FECB52"
          ],
          "font": {
           "color": "#2a3f5f"
          },
          "geo": {
           "bgcolor": "white",
           "lakecolor": "white",
           "landcolor": "#E5ECF6",
           "showlakes": true,
           "showland": true,
           "subunitcolor": "white"
          },
          "hoverlabel": {
           "align": "left"
          },
          "hovermode": "closest",
          "mapbox": {
           "style": "light"
          },
          "paper_bgcolor": "white",
          "plot_bgcolor": "#E5ECF6",
          "polar": {
           "angularaxis": {
            "gridcolor": "white",
            "linecolor": "white",
            "ticks": ""
           },
           "bgcolor": "#E5ECF6",
           "radialaxis": {
            "gridcolor": "white",
            "linecolor": "white",
            "ticks": ""
           }
          },
          "scene": {
           "xaxis": {
            "backgroundcolor": "#E5ECF6",
            "gridcolor": "white",
            "gridwidth": 2,
            "linecolor": "white",
            "showbackground": true,
            "ticks": "",
            "zerolinecolor": "white"
           },
           "yaxis": {
            "backgroundcolor": "#E5ECF6",
            "gridcolor": "white",
            "gridwidth": 2,
            "linecolor": "white",
            "showbackground": true,
            "ticks": "",
            "zerolinecolor": "white"
           },
           "zaxis": {
            "backgroundcolor": "#E5ECF6",
            "gridcolor": "white",
            "gridwidth": 2,
            "linecolor": "white",
            "showbackground": true,
            "ticks": "",
            "zerolinecolor": "white"
           }
          },
          "shapedefaults": {
           "line": {
            "color": "#2a3f5f"
           }
          },
          "ternary": {
           "aaxis": {
            "gridcolor": "white",
            "linecolor": "white",
            "ticks": ""
           },
           "baxis": {
            "gridcolor": "white",
            "linecolor": "white",
            "ticks": ""
           },
           "bgcolor": "#E5ECF6",
           "caxis": {
            "gridcolor": "white",
            "linecolor": "white",
            "ticks": ""
           }
          },
          "title": {
           "x": 0.05
          },
          "xaxis": {
           "automargin": true,
           "gridcolor": "white",
           "linecolor": "white",
           "ticks": "",
           "title": {
            "standoff": 15
           },
           "zerolinecolor": "white",
           "zerolinewidth": 2
          },
          "yaxis": {
           "automargin": true,
           "gridcolor": "white",
           "linecolor": "white",
           "ticks": "",
           "title": {
            "standoff": 15
           },
           "zerolinecolor": "white",
           "zerolinewidth": 2
          }
         }
        },
        "title": {
         "text": "How are ads distributed area-wise?",
         "x": 0.5
        },
        "xaxis": {
         "anchor": "y",
         "domain": [
          0,
          1
         ],
         "title": {
          "text": "Area Group"
         }
        },
        "yaxis": {
         "anchor": "x",
         "domain": [
          0,
          1
         ],
         "title": {
          "text": "Ad Count"
         }
        }
       }
      },
      "text/html": [
       "<div>                            <div id=\"98e9be8c-e346-4616-b6c8-c11c9fd8c48e\" class=\"plotly-graph-div\" style=\"height:525px; width:100%;\"></div>            <script type=\"text/javascript\">                require([\"plotly\"], function(Plotly) {                    window.PLOTLYENV=window.PLOTLYENV || {};                                    if (document.getElementById(\"98e9be8c-e346-4616-b6c8-c11c9fd8c48e\")) {                    Plotly.newPlot(                        \"98e9be8c-e346-4616-b6c8-c11c9fd8c48e\",                        [{\"alignmentgroup\":\"True\",\"customdata\":[[17.00835027433493],[12.553245387418505],[10.5294137774038],[9.573422707626532]],\"hovertemplate\":\"area_group=%{x}\\u003cbr\\u003ecount=%{y}\\u003cbr\\u003eprice_per_area=%{customdata[0]}\\u003cextra\\u003e\\u003c\\u002fextra\\u003e\",\"legendgroup\":\"\",\"marker\":{\"color\":\"darkcyan\",\"pattern\":{\"shape\":\"\"}},\"name\":\"\",\"offsetgroup\":\"\",\"orientation\":\"v\",\"showlegend\":false,\"textposition\":\"auto\",\"x\":[\"\\u003c 20\",\"21-40\",\"41-60\",\"61+\"],\"xaxis\":\"x\",\"y\":[23,641,1374,3376],\"yaxis\":\"y\",\"type\":\"bar\",\"text\":[23.0,641.0,1374.0,3376.0]}],                        {\"template\":{\"data\":{\"histogram2dcontour\":[{\"type\":\"histogram2dcontour\",\"colorbar\":{\"outlinewidth\":0,\"ticks\":\"\"},\"colorscale\":[[0.0,\"#0d0887\"],[0.1111111111111111,\"#46039f\"],[0.2222222222222222,\"#7201a8\"],[0.3333333333333333,\"#9c179e\"],[0.4444444444444444,\"#bd3786\"],[0.5555555555555556,\"#d8576b\"],[0.6666666666666666,\"#ed7953\"],[0.7777777777777778,\"#fb9f3a\"],[0.8888888888888888,\"#fdca26\"],[1.0,\"#f0f921\"]]}],\"choropleth\":[{\"type\":\"choropleth\",\"colorbar\":{\"outlinewidth\":0,\"ticks\":\"\"}}],\"histogram2d\":[{\"type\":\"histogram2d\",\"colorbar\":{\"outlinewidth\":0,\"ticks\":\"\"},\"colorscale\":[[0.0,\"#0d0887\"],[0.1111111111111111,\"#46039f\"],[0.2222222222222222,\"#7201a8\"],[0.3333333333333333,\"#9c179e\"],[0.4444444444444444,\"#bd3786\"],[0.5555555555555556,\"#d8576b\"],[0.6666666666666666,\"#ed7953\"],[0.7777777777777778,\"#fb9f3a\"],[0.8888888888888888,\"#fdca26\"],[1.0,\"#f0f921\"]]}],\"heatmap\":[{\"type\":\"heatmap\",\"colorbar\":{\"outlinewidth\":0,\"ticks\":\"\"},\"colorscale\":[[0.0,\"#0d0887\"],[0.1111111111111111,\"#46039f\"],[0.2222222222222222,\"#7201a8\"],[0.3333333333333333,\"#9c179e\"],[0.4444444444444444,\"#bd3786\"],[0.5555555555555556,\"#d8576b\"],[0.6666666666666666,\"#ed7953\"],[0.7777777777777778,\"#fb9f3a\"],[0.8888888888888888,\"#fdca26\"],[1.0,\"#f0f921\"]]}],\"heatmapgl\":[{\"type\":\"heatmapgl\",\"colorbar\":{\"outlinewidth\":0,\"ticks\":\"\"},\"colorscale\":[[0.0,\"#0d0887\"],[0.1111111111111111,\"#46039f\"],[0.2222222222222222,\"#7201a8\"],[0.3333333333333333,\"#9c179e\"],[0.4444444444444444,\"#bd3786\"],[0.5555555555555556,\"#d8576b\"],[0.6666666666666666,\"#ed7953\"],[0.7777777777777778,\"#fb9f3a\"],[0.8888888888888888,\"#fdca26\"],[1.0,\"#f0f921\"]]}],\"contourcarpet\":[{\"type\":\"contourcarpet\",\"colorbar\":{\"outlinewidth\":0,\"ticks\":\"\"}}],\"contour\":[{\"type\":\"contour\",\"colorbar\":{\"outlinewidth\":0,\"ticks\":\"\"},\"colorscale\":[[0.0,\"#0d0887\"],[0.1111111111111111,\"#46039f\"],[0.2222222222222222,\"#7201a8\"],[0.3333333333333333,\"#9c179e\"],[0.4444444444444444,\"#bd3786\"],[0.5555555555555556,\"#d8576b\"],[0.6666666666666666,\"#ed7953\"],[0.7777777777777778,\"#fb9f3a\"],[0.8888888888888888,\"#fdca26\"],[1.0,\"#f0f921\"]]}],\"surface\":[{\"type\":\"surface\",\"colorbar\":{\"outlinewidth\":0,\"ticks\":\"\"},\"colorscale\":[[0.0,\"#0d0887\"],[0.1111111111111111,\"#46039f\"],[0.2222222222222222,\"#7201a8\"],[0.3333333333333333,\"#9c179e\"],[0.4444444444444444,\"#bd3786\"],[0.5555555555555556,\"#d8576b\"],[0.6666666666666666,\"#ed7953\"],[0.7777777777777778,\"#fb9f3a\"],[0.8888888888888888,\"#fdca26\"],[1.0,\"#f0f921\"]]}],\"mesh3d\":[{\"type\":\"mesh3d\",\"colorbar\":{\"outlinewidth\":0,\"ticks\":\"\"}}],\"scatter\":[{\"fillpattern\":{\"fillmode\":\"overlay\",\"size\":10,\"solidity\":0.2},\"type\":\"scatter\"}],\"parcoords\":[{\"type\":\"parcoords\",\"line\":{\"colorbar\":{\"outlinewidth\":0,\"ticks\":\"\"}}}],\"scatterpolargl\":[{\"type\":\"scatterpolargl\",\"marker\":{\"colorbar\":{\"outlinewidth\":0,\"ticks\":\"\"}}}],\"bar\":[{\"error_x\":{\"color\":\"#2a3f5f\"},\"error_y\":{\"color\":\"#2a3f5f\"},\"marker\":{\"line\":{\"color\":\"#E5ECF6\",\"width\":0.5},\"pattern\":{\"fillmode\":\"overlay\",\"size\":10,\"solidity\":0.2}},\"type\":\"bar\"}],\"scattergeo\":[{\"type\":\"scattergeo\",\"marker\":{\"colorbar\":{\"outlinewidth\":0,\"ticks\":\"\"}}}],\"scatterpolar\":[{\"type\":\"scatterpolar\",\"marker\":{\"colorbar\":{\"outlinewidth\":0,\"ticks\":\"\"}}}],\"histogram\":[{\"marker\":{\"pattern\":{\"fillmode\":\"overlay\",\"size\":10,\"solidity\":0.2}},\"type\":\"histogram\"}],\"scattergl\":[{\"type\":\"scattergl\",\"marker\":{\"colorbar\":{\"outlinewidth\":0,\"ticks\":\"\"}}}],\"scatter3d\":[{\"type\":\"scatter3d\",\"line\":{\"colorbar\":{\"outlinewidth\":0,\"ticks\":\"\"}},\"marker\":{\"colorbar\":{\"outlinewidth\":0,\"ticks\":\"\"}}}],\"scattermapbox\":[{\"type\":\"scattermapbox\",\"marker\":{\"colorbar\":{\"outlinewidth\":0,\"ticks\":\"\"}}}],\"scatterternary\":[{\"type\":\"scatterternary\",\"marker\":{\"colorbar\":{\"outlinewidth\":0,\"ticks\":\"\"}}}],\"scattercarpet\":[{\"type\":\"scattercarpet\",\"marker\":{\"colorbar\":{\"outlinewidth\":0,\"ticks\":\"\"}}}],\"carpet\":[{\"aaxis\":{\"endlinecolor\":\"#2a3f5f\",\"gridcolor\":\"white\",\"linecolor\":\"white\",\"minorgridcolor\":\"white\",\"startlinecolor\":\"#2a3f5f\"},\"baxis\":{\"endlinecolor\":\"#2a3f5f\",\"gridcolor\":\"white\",\"linecolor\":\"white\",\"minorgridcolor\":\"white\",\"startlinecolor\":\"#2a3f5f\"},\"type\":\"carpet\"}],\"table\":[{\"cells\":{\"fill\":{\"color\":\"#EBF0F8\"},\"line\":{\"color\":\"white\"}},\"header\":{\"fill\":{\"color\":\"#C8D4E3\"},\"line\":{\"color\":\"white\"}},\"type\":\"table\"}],\"barpolar\":[{\"marker\":{\"line\":{\"color\":\"#E5ECF6\",\"width\":0.5},\"pattern\":{\"fillmode\":\"overlay\",\"size\":10,\"solidity\":0.2}},\"type\":\"barpolar\"}],\"pie\":[{\"automargin\":true,\"type\":\"pie\"}]},\"layout\":{\"autotypenumbers\":\"strict\",\"colorway\":[\"#636efa\",\"#EF553B\",\"#00cc96\",\"#ab63fa\",\"#FFA15A\",\"#19d3f3\",\"#FF6692\",\"#B6E880\",\"#FF97FF\",\"#FECB52\"],\"font\":{\"color\":\"#2a3f5f\"},\"hovermode\":\"closest\",\"hoverlabel\":{\"align\":\"left\"},\"paper_bgcolor\":\"white\",\"plot_bgcolor\":\"#E5ECF6\",\"polar\":{\"bgcolor\":\"#E5ECF6\",\"angularaxis\":{\"gridcolor\":\"white\",\"linecolor\":\"white\",\"ticks\":\"\"},\"radialaxis\":{\"gridcolor\":\"white\",\"linecolor\":\"white\",\"ticks\":\"\"}},\"ternary\":{\"bgcolor\":\"#E5ECF6\",\"aaxis\":{\"gridcolor\":\"white\",\"linecolor\":\"white\",\"ticks\":\"\"},\"baxis\":{\"gridcolor\":\"white\",\"linecolor\":\"white\",\"ticks\":\"\"},\"caxis\":{\"gridcolor\":\"white\",\"linecolor\":\"white\",\"ticks\":\"\"}},\"coloraxis\":{\"colorbar\":{\"outlinewidth\":0,\"ticks\":\"\"}},\"colorscale\":{\"sequential\":[[0.0,\"#0d0887\"],[0.1111111111111111,\"#46039f\"],[0.2222222222222222,\"#7201a8\"],[0.3333333333333333,\"#9c179e\"],[0.4444444444444444,\"#bd3786\"],[0.5555555555555556,\"#d8576b\"],[0.6666666666666666,\"#ed7953\"],[0.7777777777777778,\"#fb9f3a\"],[0.8888888888888888,\"#fdca26\"],[1.0,\"#f0f921\"]],\"sequentialminus\":[[0.0,\"#0d0887\"],[0.1111111111111111,\"#46039f\"],[0.2222222222222222,\"#7201a8\"],[0.3333333333333333,\"#9c179e\"],[0.4444444444444444,\"#bd3786\"],[0.5555555555555556,\"#d8576b\"],[0.6666666666666666,\"#ed7953\"],[0.7777777777777778,\"#fb9f3a\"],[0.8888888888888888,\"#fdca26\"],[1.0,\"#f0f921\"]],\"diverging\":[[0,\"#8e0152\"],[0.1,\"#c51b7d\"],[0.2,\"#de77ae\"],[0.3,\"#f1b6da\"],[0.4,\"#fde0ef\"],[0.5,\"#f7f7f7\"],[0.6,\"#e6f5d0\"],[0.7,\"#b8e186\"],[0.8,\"#7fbc41\"],[0.9,\"#4d9221\"],[1,\"#276419\"]]},\"xaxis\":{\"gridcolor\":\"white\",\"linecolor\":\"white\",\"ticks\":\"\",\"title\":{\"standoff\":15},\"zerolinecolor\":\"white\",\"automargin\":true,\"zerolinewidth\":2},\"yaxis\":{\"gridcolor\":\"white\",\"linecolor\":\"white\",\"ticks\":\"\",\"title\":{\"standoff\":15},\"zerolinecolor\":\"white\",\"automargin\":true,\"zerolinewidth\":2},\"scene\":{\"xaxis\":{\"backgroundcolor\":\"#E5ECF6\",\"gridcolor\":\"white\",\"linecolor\":\"white\",\"showbackground\":true,\"ticks\":\"\",\"zerolinecolor\":\"white\",\"gridwidth\":2},\"yaxis\":{\"backgroundcolor\":\"#E5ECF6\",\"gridcolor\":\"white\",\"linecolor\":\"white\",\"showbackground\":true,\"ticks\":\"\",\"zerolinecolor\":\"white\",\"gridwidth\":2},\"zaxis\":{\"backgroundcolor\":\"#E5ECF6\",\"gridcolor\":\"white\",\"linecolor\":\"white\",\"showbackground\":true,\"ticks\":\"\",\"zerolinecolor\":\"white\",\"gridwidth\":2}},\"shapedefaults\":{\"line\":{\"color\":\"#2a3f5f\"}},\"annotationdefaults\":{\"arrowcolor\":\"#2a3f5f\",\"arrowhead\":0,\"arrowwidth\":1},\"geo\":{\"bgcolor\":\"white\",\"landcolor\":\"#E5ECF6\",\"subunitcolor\":\"white\",\"showland\":true,\"showlakes\":true,\"lakecolor\":\"white\"},\"title\":{\"x\":0.05},\"mapbox\":{\"style\":\"light\"}}},\"xaxis\":{\"anchor\":\"y\",\"domain\":[0.0,1.0],\"title\":{\"text\":\"Area Group\"}},\"yaxis\":{\"anchor\":\"x\",\"domain\":[0.0,1.0],\"title\":{\"text\":\"Ad Count\"}},\"legend\":{\"tracegroupgap\":0},\"margin\":{\"t\":60},\"barmode\":\"relative\",\"title\":{\"text\":\"How are ads distributed area-wise?\",\"x\":0.5}},                        {\"responsive\": true}                    ).then(function(){\n",
       "                            \n",
       "var gd = document.getElementById('98e9be8c-e346-4616-b6c8-c11c9fd8c48e');\n",
       "var x = new MutationObserver(function (mutations, observer) {{\n",
       "        var display = window.getComputedStyle(gd).display;\n",
       "        if (!display || display === 'none') {{\n",
       "            console.log([gd, 'removed!']);\n",
       "            Plotly.purge(gd);\n",
       "            observer.disconnect();\n",
       "        }}\n",
       "}});\n",
       "\n",
       "// Listen for the removal of the full notebook cells\n",
       "var notebookContainer = gd.closest('#notebook-container');\n",
       "if (notebookContainer) {{\n",
       "    x.observe(notebookContainer, {childList: true});\n",
       "}}\n",
       "\n",
       "// Listen for the clearing of the current output cell\n",
       "var outputEl = gd.closest('.output');\n",
       "if (outputEl) {{\n",
       "    x.observe(outputEl, {childList: true});\n",
       "}}\n",
       "\n",
       "                        })                };                });            </script>        </div>"
      ]
     },
     "metadata": {},
     "output_type": "display_data"
    }
   ],
   "source": [
    "fig_area_group = px.bar(df_area_group, x='area_group', y='count', orientation='v', hover_data='price_per_area')\n",
    "# fig_area_group = px.bar(df_area_group, x='area_group', y='price_per_area', orientation='v', hover_data='count')\n",
    "\n",
    "fig_area_group.update_traces(marker_color='darkcyan')\n",
    "fig_area_group.update_traces(text=df_area_group['count'], textposition='auto')\n",
    "fig_area_group.update_layout(\n",
    "    xaxis_title='Area Group',\n",
    "    yaxis_title='Ad Count',\n",
    "    title='How are ads distributed area-wise?',\n",
    "    title_x=0.5\n",
    ")\n",
    "\n",
    "fig_area_group.show()"
   ]
  },
  {
   "cell_type": "code",
   "execution_count": 27,
   "id": "9f3b8618",
   "metadata": {},
   "outputs": [
    {
     "data": {
      "text/html": [
       "<div>\n",
       "<style scoped>\n",
       "    .dataframe tbody tr th:only-of-type {\n",
       "        vertical-align: middle;\n",
       "    }\n",
       "\n",
       "    .dataframe tbody tr th {\n",
       "        vertical-align: top;\n",
       "    }\n",
       "\n",
       "    .dataframe thead th {\n",
       "        text-align: right;\n",
       "    }\n",
       "</style>\n",
       "<table border=\"1\" class=\"dataframe\">\n",
       "  <thead>\n",
       "    <tr style=\"text-align: right;\">\n",
       "      <th></th>\n",
       "      <th>bedrooms</th>\n",
       "      <th>price_per_area</th>\n",
       "      <th>count</th>\n",
       "    </tr>\n",
       "  </thead>\n",
       "  <tbody>\n",
       "    <tr>\n",
       "      <th>0</th>\n",
       "      <td>1</td>\n",
       "      <td>10.874374</td>\n",
       "      <td>2238</td>\n",
       "    </tr>\n",
       "    <tr>\n",
       "      <th>1</th>\n",
       "      <td>2</td>\n",
       "      <td>9.484031</td>\n",
       "      <td>2154</td>\n",
       "    </tr>\n",
       "    <tr>\n",
       "      <th>2</th>\n",
       "      <td>3</td>\n",
       "      <td>9.554705</td>\n",
       "      <td>655</td>\n",
       "    </tr>\n",
       "    <tr>\n",
       "      <th>3</th>\n",
       "      <td>3+</td>\n",
       "      <td>12.035485</td>\n",
       "      <td>144</td>\n",
       "    </tr>\n",
       "  </tbody>\n",
       "</table>\n",
       "</div>"
      ],
      "text/plain": [
       "  bedrooms  price_per_area  count\n",
       "0        1       10.874374   2238\n",
       "1        2        9.484031   2154\n",
       "2        3        9.554705    655\n",
       "3       3+       12.035485    144"
      ]
     },
     "execution_count": 27,
     "metadata": {},
     "output_type": "execute_result"
    }
   ],
   "source": [
    "df_bedrooms = df_full[df_full['extraction_date'] == '2023-06-01'].groupby('bedrooms_group').agg({'price_per_area': 'mean', 'id': 'count'}).reset_index()\n",
    "\n",
    "df_bedrooms.columns = ['bedrooms', 'price_per_area', 'count']\n",
    "df_bedrooms"
   ]
  },
  {
   "cell_type": "code",
   "execution_count": 28,
   "id": "8f339716",
   "metadata": {},
   "outputs": [
    {
     "data": {
      "application/vnd.plotly.v1+json": {
       "config": {
        "plotlyServerURL": "https://plot.ly"
       },
       "data": [
        {
         "alignmentgroup": "True",
         "customdata": [
          [
           2238
          ],
          [
           2154
          ],
          [
           655
          ],
          [
           144
          ]
         ],
         "hovertemplate": "bedrooms=%{x}<br>price_per_area=%{y}<br>count=%{customdata[0]}<extra></extra>",
         "legendgroup": "",
         "marker": {
          "color": "darkcyan",
          "pattern": {
           "shape": ""
          }
         },
         "name": "",
         "offsetgroup": "",
         "orientation": "v",
         "showlegend": false,
         "text": [
          10.874373654664874,
          9.48403101134694,
          9.554705337697708,
          12.035484505173564
         ],
         "textposition": "auto",
         "texttemplate": "%{text:.4s}",
         "type": "bar",
         "x": [
          "1",
          "2",
          "3",
          "3+"
         ],
         "xaxis": "x",
         "y": [
          10.874373654664874,
          9.48403101134694,
          9.554705337697708,
          12.035484505173564
         ],
         "yaxis": "y"
        }
       ],
       "layout": {
        "barmode": "relative",
        "legend": {
         "tracegroupgap": 0
        },
        "margin": {
         "t": 60
        },
        "template": {
         "data": {
          "bar": [
           {
            "error_x": {
             "color": "#2a3f5f"
            },
            "error_y": {
             "color": "#2a3f5f"
            },
            "marker": {
             "line": {
              "color": "#E5ECF6",
              "width": 0.5
             },
             "pattern": {
              "fillmode": "overlay",
              "size": 10,
              "solidity": 0.2
             }
            },
            "type": "bar"
           }
          ],
          "barpolar": [
           {
            "marker": {
             "line": {
              "color": "#E5ECF6",
              "width": 0.5
             },
             "pattern": {
              "fillmode": "overlay",
              "size": 10,
              "solidity": 0.2
             }
            },
            "type": "barpolar"
           }
          ],
          "carpet": [
           {
            "aaxis": {
             "endlinecolor": "#2a3f5f",
             "gridcolor": "white",
             "linecolor": "white",
             "minorgridcolor": "white",
             "startlinecolor": "#2a3f5f"
            },
            "baxis": {
             "endlinecolor": "#2a3f5f",
             "gridcolor": "white",
             "linecolor": "white",
             "minorgridcolor": "white",
             "startlinecolor": "#2a3f5f"
            },
            "type": "carpet"
           }
          ],
          "choropleth": [
           {
            "colorbar": {
             "outlinewidth": 0,
             "ticks": ""
            },
            "type": "choropleth"
           }
          ],
          "contour": [
           {
            "colorbar": {
             "outlinewidth": 0,
             "ticks": ""
            },
            "colorscale": [
             [
              0,
              "#0d0887"
             ],
             [
              0.1111111111111111,
              "#46039f"
             ],
             [
              0.2222222222222222,
              "#7201a8"
             ],
             [
              0.3333333333333333,
              "#9c179e"
             ],
             [
              0.4444444444444444,
              "#bd3786"
             ],
             [
              0.5555555555555556,
              "#d8576b"
             ],
             [
              0.6666666666666666,
              "#ed7953"
             ],
             [
              0.7777777777777778,
              "#fb9f3a"
             ],
             [
              0.8888888888888888,
              "#fdca26"
             ],
             [
              1,
              "#f0f921"
             ]
            ],
            "type": "contour"
           }
          ],
          "contourcarpet": [
           {
            "colorbar": {
             "outlinewidth": 0,
             "ticks": ""
            },
            "type": "contourcarpet"
           }
          ],
          "heatmap": [
           {
            "colorbar": {
             "outlinewidth": 0,
             "ticks": ""
            },
            "colorscale": [
             [
              0,
              "#0d0887"
             ],
             [
              0.1111111111111111,
              "#46039f"
             ],
             [
              0.2222222222222222,
              "#7201a8"
             ],
             [
              0.3333333333333333,
              "#9c179e"
             ],
             [
              0.4444444444444444,
              "#bd3786"
             ],
             [
              0.5555555555555556,
              "#d8576b"
             ],
             [
              0.6666666666666666,
              "#ed7953"
             ],
             [
              0.7777777777777778,
              "#fb9f3a"
             ],
             [
              0.8888888888888888,
              "#fdca26"
             ],
             [
              1,
              "#f0f921"
             ]
            ],
            "type": "heatmap"
           }
          ],
          "heatmapgl": [
           {
            "colorbar": {
             "outlinewidth": 0,
             "ticks": ""
            },
            "colorscale": [
             [
              0,
              "#0d0887"
             ],
             [
              0.1111111111111111,
              "#46039f"
             ],
             [
              0.2222222222222222,
              "#7201a8"
             ],
             [
              0.3333333333333333,
              "#9c179e"
             ],
             [
              0.4444444444444444,
              "#bd3786"
             ],
             [
              0.5555555555555556,
              "#d8576b"
             ],
             [
              0.6666666666666666,
              "#ed7953"
             ],
             [
              0.7777777777777778,
              "#fb9f3a"
             ],
             [
              0.8888888888888888,
              "#fdca26"
             ],
             [
              1,
              "#f0f921"
             ]
            ],
            "type": "heatmapgl"
           }
          ],
          "histogram": [
           {
            "marker": {
             "pattern": {
              "fillmode": "overlay",
              "size": 10,
              "solidity": 0.2
             }
            },
            "type": "histogram"
           }
          ],
          "histogram2d": [
           {
            "colorbar": {
             "outlinewidth": 0,
             "ticks": ""
            },
            "colorscale": [
             [
              0,
              "#0d0887"
             ],
             [
              0.1111111111111111,
              "#46039f"
             ],
             [
              0.2222222222222222,
              "#7201a8"
             ],
             [
              0.3333333333333333,
              "#9c179e"
             ],
             [
              0.4444444444444444,
              "#bd3786"
             ],
             [
              0.5555555555555556,
              "#d8576b"
             ],
             [
              0.6666666666666666,
              "#ed7953"
             ],
             [
              0.7777777777777778,
              "#fb9f3a"
             ],
             [
              0.8888888888888888,
              "#fdca26"
             ],
             [
              1,
              "#f0f921"
             ]
            ],
            "type": "histogram2d"
           }
          ],
          "histogram2dcontour": [
           {
            "colorbar": {
             "outlinewidth": 0,
             "ticks": ""
            },
            "colorscale": [
             [
              0,
              "#0d0887"
             ],
             [
              0.1111111111111111,
              "#46039f"
             ],
             [
              0.2222222222222222,
              "#7201a8"
             ],
             [
              0.3333333333333333,
              "#9c179e"
             ],
             [
              0.4444444444444444,
              "#bd3786"
             ],
             [
              0.5555555555555556,
              "#d8576b"
             ],
             [
              0.6666666666666666,
              "#ed7953"
             ],
             [
              0.7777777777777778,
              "#fb9f3a"
             ],
             [
              0.8888888888888888,
              "#fdca26"
             ],
             [
              1,
              "#f0f921"
             ]
            ],
            "type": "histogram2dcontour"
           }
          ],
          "mesh3d": [
           {
            "colorbar": {
             "outlinewidth": 0,
             "ticks": ""
            },
            "type": "mesh3d"
           }
          ],
          "parcoords": [
           {
            "line": {
             "colorbar": {
              "outlinewidth": 0,
              "ticks": ""
             }
            },
            "type": "parcoords"
           }
          ],
          "pie": [
           {
            "automargin": true,
            "type": "pie"
           }
          ],
          "scatter": [
           {
            "fillpattern": {
             "fillmode": "overlay",
             "size": 10,
             "solidity": 0.2
            },
            "type": "scatter"
           }
          ],
          "scatter3d": [
           {
            "line": {
             "colorbar": {
              "outlinewidth": 0,
              "ticks": ""
             }
            },
            "marker": {
             "colorbar": {
              "outlinewidth": 0,
              "ticks": ""
             }
            },
            "type": "scatter3d"
           }
          ],
          "scattercarpet": [
           {
            "marker": {
             "colorbar": {
              "outlinewidth": 0,
              "ticks": ""
             }
            },
            "type": "scattercarpet"
           }
          ],
          "scattergeo": [
           {
            "marker": {
             "colorbar": {
              "outlinewidth": 0,
              "ticks": ""
             }
            },
            "type": "scattergeo"
           }
          ],
          "scattergl": [
           {
            "marker": {
             "colorbar": {
              "outlinewidth": 0,
              "ticks": ""
             }
            },
            "type": "scattergl"
           }
          ],
          "scattermapbox": [
           {
            "marker": {
             "colorbar": {
              "outlinewidth": 0,
              "ticks": ""
             }
            },
            "type": "scattermapbox"
           }
          ],
          "scatterpolar": [
           {
            "marker": {
             "colorbar": {
              "outlinewidth": 0,
              "ticks": ""
             }
            },
            "type": "scatterpolar"
           }
          ],
          "scatterpolargl": [
           {
            "marker": {
             "colorbar": {
              "outlinewidth": 0,
              "ticks": ""
             }
            },
            "type": "scatterpolargl"
           }
          ],
          "scatterternary": [
           {
            "marker": {
             "colorbar": {
              "outlinewidth": 0,
              "ticks": ""
             }
            },
            "type": "scatterternary"
           }
          ],
          "surface": [
           {
            "colorbar": {
             "outlinewidth": 0,
             "ticks": ""
            },
            "colorscale": [
             [
              0,
              "#0d0887"
             ],
             [
              0.1111111111111111,
              "#46039f"
             ],
             [
              0.2222222222222222,
              "#7201a8"
             ],
             [
              0.3333333333333333,
              "#9c179e"
             ],
             [
              0.4444444444444444,
              "#bd3786"
             ],
             [
              0.5555555555555556,
              "#d8576b"
             ],
             [
              0.6666666666666666,
              "#ed7953"
             ],
             [
              0.7777777777777778,
              "#fb9f3a"
             ],
             [
              0.8888888888888888,
              "#fdca26"
             ],
             [
              1,
              "#f0f921"
             ]
            ],
            "type": "surface"
           }
          ],
          "table": [
           {
            "cells": {
             "fill": {
              "color": "#EBF0F8"
             },
             "line": {
              "color": "white"
             }
            },
            "header": {
             "fill": {
              "color": "#C8D4E3"
             },
             "line": {
              "color": "white"
             }
            },
            "type": "table"
           }
          ]
         },
         "layout": {
          "annotationdefaults": {
           "arrowcolor": "#2a3f5f",
           "arrowhead": 0,
           "arrowwidth": 1
          },
          "autotypenumbers": "strict",
          "coloraxis": {
           "colorbar": {
            "outlinewidth": 0,
            "ticks": ""
           }
          },
          "colorscale": {
           "diverging": [
            [
             0,
             "#8e0152"
            ],
            [
             0.1,
             "#c51b7d"
            ],
            [
             0.2,
             "#de77ae"
            ],
            [
             0.3,
             "#f1b6da"
            ],
            [
             0.4,
             "#fde0ef"
            ],
            [
             0.5,
             "#f7f7f7"
            ],
            [
             0.6,
             "#e6f5d0"
            ],
            [
             0.7,
             "#b8e186"
            ],
            [
             0.8,
             "#7fbc41"
            ],
            [
             0.9,
             "#4d9221"
            ],
            [
             1,
             "#276419"
            ]
           ],
           "sequential": [
            [
             0,
             "#0d0887"
            ],
            [
             0.1111111111111111,
             "#46039f"
            ],
            [
             0.2222222222222222,
             "#7201a8"
            ],
            [
             0.3333333333333333,
             "#9c179e"
            ],
            [
             0.4444444444444444,
             "#bd3786"
            ],
            [
             0.5555555555555556,
             "#d8576b"
            ],
            [
             0.6666666666666666,
             "#ed7953"
            ],
            [
             0.7777777777777778,
             "#fb9f3a"
            ],
            [
             0.8888888888888888,
             "#fdca26"
            ],
            [
             1,
             "#f0f921"
            ]
           ],
           "sequentialminus": [
            [
             0,
             "#0d0887"
            ],
            [
             0.1111111111111111,
             "#46039f"
            ],
            [
             0.2222222222222222,
             "#7201a8"
            ],
            [
             0.3333333333333333,
             "#9c179e"
            ],
            [
             0.4444444444444444,
             "#bd3786"
            ],
            [
             0.5555555555555556,
             "#d8576b"
            ],
            [
             0.6666666666666666,
             "#ed7953"
            ],
            [
             0.7777777777777778,
             "#fb9f3a"
            ],
            [
             0.8888888888888888,
             "#fdca26"
            ],
            [
             1,
             "#f0f921"
            ]
           ]
          },
          "colorway": [
           "#636efa",
           "#EF553B",
           "#00cc96",
           "#ab63fa",
           "#FFA15A",
           "#19d3f3",
           "#FF6692",
           "#B6E880",
           "#FF97FF",
           "#FECB52"
          ],
          "font": {
           "color": "#2a3f5f"
          },
          "geo": {
           "bgcolor": "white",
           "lakecolor": "white",
           "landcolor": "#E5ECF6",
           "showlakes": true,
           "showland": true,
           "subunitcolor": "white"
          },
          "hoverlabel": {
           "align": "left"
          },
          "hovermode": "closest",
          "mapbox": {
           "style": "light"
          },
          "paper_bgcolor": "white",
          "plot_bgcolor": "#E5ECF6",
          "polar": {
           "angularaxis": {
            "gridcolor": "white",
            "linecolor": "white",
            "ticks": ""
           },
           "bgcolor": "#E5ECF6",
           "radialaxis": {
            "gridcolor": "white",
            "linecolor": "white",
            "ticks": ""
           }
          },
          "scene": {
           "xaxis": {
            "backgroundcolor": "#E5ECF6",
            "gridcolor": "white",
            "gridwidth": 2,
            "linecolor": "white",
            "showbackground": true,
            "ticks": "",
            "zerolinecolor": "white"
           },
           "yaxis": {
            "backgroundcolor": "#E5ECF6",
            "gridcolor": "white",
            "gridwidth": 2,
            "linecolor": "white",
            "showbackground": true,
            "ticks": "",
            "zerolinecolor": "white"
           },
           "zaxis": {
            "backgroundcolor": "#E5ECF6",
            "gridcolor": "white",
            "gridwidth": 2,
            "linecolor": "white",
            "showbackground": true,
            "ticks": "",
            "zerolinecolor": "white"
           }
          },
          "shapedefaults": {
           "line": {
            "color": "#2a3f5f"
           }
          },
          "ternary": {
           "aaxis": {
            "gridcolor": "white",
            "linecolor": "white",
            "ticks": ""
           },
           "baxis": {
            "gridcolor": "white",
            "linecolor": "white",
            "ticks": ""
           },
           "bgcolor": "#E5ECF6",
           "caxis": {
            "gridcolor": "white",
            "linecolor": "white",
            "ticks": ""
           }
          },
          "title": {
           "x": 0.05
          },
          "xaxis": {
           "automargin": true,
           "gridcolor": "white",
           "linecolor": "white",
           "ticks": "",
           "title": {
            "standoff": 15
           },
           "zerolinecolor": "white",
           "zerolinewidth": 2
          },
          "yaxis": {
           "automargin": true,
           "gridcolor": "white",
           "linecolor": "white",
           "ticks": "",
           "title": {
            "standoff": 15
           },
           "zerolinecolor": "white",
           "zerolinewidth": 2
          }
         }
        },
        "title": {
         "text": "How do bedrooms affect price?",
         "x": 0.5
        },
        "xaxis": {
         "anchor": "y",
         "domain": [
          0,
          1
         ],
         "title": {
          "text": "Number of Bedrooms"
         }
        },
        "yaxis": {
         "anchor": "x",
         "domain": [
          0,
          1
         ],
         "title": {
          "text": "Average price per area"
         }
        }
       }
      },
      "text/html": [
       "<div>                            <div id=\"e9509a7f-9f23-49a7-a08f-72baa8e54d00\" class=\"plotly-graph-div\" style=\"height:525px; width:100%;\"></div>            <script type=\"text/javascript\">                require([\"plotly\"], function(Plotly) {                    window.PLOTLYENV=window.PLOTLYENV || {};                                    if (document.getElementById(\"e9509a7f-9f23-49a7-a08f-72baa8e54d00\")) {                    Plotly.newPlot(                        \"e9509a7f-9f23-49a7-a08f-72baa8e54d00\",                        [{\"alignmentgroup\":\"True\",\"customdata\":[[2238],[2154],[655],[144]],\"hovertemplate\":\"bedrooms=%{x}\\u003cbr\\u003eprice_per_area=%{y}\\u003cbr\\u003ecount=%{customdata[0]}\\u003cextra\\u003e\\u003c\\u002fextra\\u003e\",\"legendgroup\":\"\",\"marker\":{\"color\":\"darkcyan\",\"pattern\":{\"shape\":\"\"}},\"name\":\"\",\"offsetgroup\":\"\",\"orientation\":\"v\",\"showlegend\":false,\"textposition\":\"auto\",\"x\":[\"1\",\"2\",\"3\",\"3+\"],\"xaxis\":\"x\",\"y\":[10.874373654664874,9.48403101134694,9.554705337697708,12.035484505173564],\"yaxis\":\"y\",\"type\":\"bar\",\"text\":[10.874373654664874,9.48403101134694,9.554705337697708,12.035484505173564],\"texttemplate\":\"%{text:.4s}\"}],                        {\"template\":{\"data\":{\"histogram2dcontour\":[{\"type\":\"histogram2dcontour\",\"colorbar\":{\"outlinewidth\":0,\"ticks\":\"\"},\"colorscale\":[[0.0,\"#0d0887\"],[0.1111111111111111,\"#46039f\"],[0.2222222222222222,\"#7201a8\"],[0.3333333333333333,\"#9c179e\"],[0.4444444444444444,\"#bd3786\"],[0.5555555555555556,\"#d8576b\"],[0.6666666666666666,\"#ed7953\"],[0.7777777777777778,\"#fb9f3a\"],[0.8888888888888888,\"#fdca26\"],[1.0,\"#f0f921\"]]}],\"choropleth\":[{\"type\":\"choropleth\",\"colorbar\":{\"outlinewidth\":0,\"ticks\":\"\"}}],\"histogram2d\":[{\"type\":\"histogram2d\",\"colorbar\":{\"outlinewidth\":0,\"ticks\":\"\"},\"colorscale\":[[0.0,\"#0d0887\"],[0.1111111111111111,\"#46039f\"],[0.2222222222222222,\"#7201a8\"],[0.3333333333333333,\"#9c179e\"],[0.4444444444444444,\"#bd3786\"],[0.5555555555555556,\"#d8576b\"],[0.6666666666666666,\"#ed7953\"],[0.7777777777777778,\"#fb9f3a\"],[0.8888888888888888,\"#fdca26\"],[1.0,\"#f0f921\"]]}],\"heatmap\":[{\"type\":\"heatmap\",\"colorbar\":{\"outlinewidth\":0,\"ticks\":\"\"},\"colorscale\":[[0.0,\"#0d0887\"],[0.1111111111111111,\"#46039f\"],[0.2222222222222222,\"#7201a8\"],[0.3333333333333333,\"#9c179e\"],[0.4444444444444444,\"#bd3786\"],[0.5555555555555556,\"#d8576b\"],[0.6666666666666666,\"#ed7953\"],[0.7777777777777778,\"#fb9f3a\"],[0.8888888888888888,\"#fdca26\"],[1.0,\"#f0f921\"]]}],\"heatmapgl\":[{\"type\":\"heatmapgl\",\"colorbar\":{\"outlinewidth\":0,\"ticks\":\"\"},\"colorscale\":[[0.0,\"#0d0887\"],[0.1111111111111111,\"#46039f\"],[0.2222222222222222,\"#7201a8\"],[0.3333333333333333,\"#9c179e\"],[0.4444444444444444,\"#bd3786\"],[0.5555555555555556,\"#d8576b\"],[0.6666666666666666,\"#ed7953\"],[0.7777777777777778,\"#fb9f3a\"],[0.8888888888888888,\"#fdca26\"],[1.0,\"#f0f921\"]]}],\"contourcarpet\":[{\"type\":\"contourcarpet\",\"colorbar\":{\"outlinewidth\":0,\"ticks\":\"\"}}],\"contour\":[{\"type\":\"contour\",\"colorbar\":{\"outlinewidth\":0,\"ticks\":\"\"},\"colorscale\":[[0.0,\"#0d0887\"],[0.1111111111111111,\"#46039f\"],[0.2222222222222222,\"#7201a8\"],[0.3333333333333333,\"#9c179e\"],[0.4444444444444444,\"#bd3786\"],[0.5555555555555556,\"#d8576b\"],[0.6666666666666666,\"#ed7953\"],[0.7777777777777778,\"#fb9f3a\"],[0.8888888888888888,\"#fdca26\"],[1.0,\"#f0f921\"]]}],\"surface\":[{\"type\":\"surface\",\"colorbar\":{\"outlinewidth\":0,\"ticks\":\"\"},\"colorscale\":[[0.0,\"#0d0887\"],[0.1111111111111111,\"#46039f\"],[0.2222222222222222,\"#7201a8\"],[0.3333333333333333,\"#9c179e\"],[0.4444444444444444,\"#bd3786\"],[0.5555555555555556,\"#d8576b\"],[0.6666666666666666,\"#ed7953\"],[0.7777777777777778,\"#fb9f3a\"],[0.8888888888888888,\"#fdca26\"],[1.0,\"#f0f921\"]]}],\"mesh3d\":[{\"type\":\"mesh3d\",\"colorbar\":{\"outlinewidth\":0,\"ticks\":\"\"}}],\"scatter\":[{\"fillpattern\":{\"fillmode\":\"overlay\",\"size\":10,\"solidity\":0.2},\"type\":\"scatter\"}],\"parcoords\":[{\"type\":\"parcoords\",\"line\":{\"colorbar\":{\"outlinewidth\":0,\"ticks\":\"\"}}}],\"scatterpolargl\":[{\"type\":\"scatterpolargl\",\"marker\":{\"colorbar\":{\"outlinewidth\":0,\"ticks\":\"\"}}}],\"bar\":[{\"error_x\":{\"color\":\"#2a3f5f\"},\"error_y\":{\"color\":\"#2a3f5f\"},\"marker\":{\"line\":{\"color\":\"#E5ECF6\",\"width\":0.5},\"pattern\":{\"fillmode\":\"overlay\",\"size\":10,\"solidity\":0.2}},\"type\":\"bar\"}],\"scattergeo\":[{\"type\":\"scattergeo\",\"marker\":{\"colorbar\":{\"outlinewidth\":0,\"ticks\":\"\"}}}],\"scatterpolar\":[{\"type\":\"scatterpolar\",\"marker\":{\"colorbar\":{\"outlinewidth\":0,\"ticks\":\"\"}}}],\"histogram\":[{\"marker\":{\"pattern\":{\"fillmode\":\"overlay\",\"size\":10,\"solidity\":0.2}},\"type\":\"histogram\"}],\"scattergl\":[{\"type\":\"scattergl\",\"marker\":{\"colorbar\":{\"outlinewidth\":0,\"ticks\":\"\"}}}],\"scatter3d\":[{\"type\":\"scatter3d\",\"line\":{\"colorbar\":{\"outlinewidth\":0,\"ticks\":\"\"}},\"marker\":{\"colorbar\":{\"outlinewidth\":0,\"ticks\":\"\"}}}],\"scattermapbox\":[{\"type\":\"scattermapbox\",\"marker\":{\"colorbar\":{\"outlinewidth\":0,\"ticks\":\"\"}}}],\"scatterternary\":[{\"type\":\"scatterternary\",\"marker\":{\"colorbar\":{\"outlinewidth\":0,\"ticks\":\"\"}}}],\"scattercarpet\":[{\"type\":\"scattercarpet\",\"marker\":{\"colorbar\":{\"outlinewidth\":0,\"ticks\":\"\"}}}],\"carpet\":[{\"aaxis\":{\"endlinecolor\":\"#2a3f5f\",\"gridcolor\":\"white\",\"linecolor\":\"white\",\"minorgridcolor\":\"white\",\"startlinecolor\":\"#2a3f5f\"},\"baxis\":{\"endlinecolor\":\"#2a3f5f\",\"gridcolor\":\"white\",\"linecolor\":\"white\",\"minorgridcolor\":\"white\",\"startlinecolor\":\"#2a3f5f\"},\"type\":\"carpet\"}],\"table\":[{\"cells\":{\"fill\":{\"color\":\"#EBF0F8\"},\"line\":{\"color\":\"white\"}},\"header\":{\"fill\":{\"color\":\"#C8D4E3\"},\"line\":{\"color\":\"white\"}},\"type\":\"table\"}],\"barpolar\":[{\"marker\":{\"line\":{\"color\":\"#E5ECF6\",\"width\":0.5},\"pattern\":{\"fillmode\":\"overlay\",\"size\":10,\"solidity\":0.2}},\"type\":\"barpolar\"}],\"pie\":[{\"automargin\":true,\"type\":\"pie\"}]},\"layout\":{\"autotypenumbers\":\"strict\",\"colorway\":[\"#636efa\",\"#EF553B\",\"#00cc96\",\"#ab63fa\",\"#FFA15A\",\"#19d3f3\",\"#FF6692\",\"#B6E880\",\"#FF97FF\",\"#FECB52\"],\"font\":{\"color\":\"#2a3f5f\"},\"hovermode\":\"closest\",\"hoverlabel\":{\"align\":\"left\"},\"paper_bgcolor\":\"white\",\"plot_bgcolor\":\"#E5ECF6\",\"polar\":{\"bgcolor\":\"#E5ECF6\",\"angularaxis\":{\"gridcolor\":\"white\",\"linecolor\":\"white\",\"ticks\":\"\"},\"radialaxis\":{\"gridcolor\":\"white\",\"linecolor\":\"white\",\"ticks\":\"\"}},\"ternary\":{\"bgcolor\":\"#E5ECF6\",\"aaxis\":{\"gridcolor\":\"white\",\"linecolor\":\"white\",\"ticks\":\"\"},\"baxis\":{\"gridcolor\":\"white\",\"linecolor\":\"white\",\"ticks\":\"\"},\"caxis\":{\"gridcolor\":\"white\",\"linecolor\":\"white\",\"ticks\":\"\"}},\"coloraxis\":{\"colorbar\":{\"outlinewidth\":0,\"ticks\":\"\"}},\"colorscale\":{\"sequential\":[[0.0,\"#0d0887\"],[0.1111111111111111,\"#46039f\"],[0.2222222222222222,\"#7201a8\"],[0.3333333333333333,\"#9c179e\"],[0.4444444444444444,\"#bd3786\"],[0.5555555555555556,\"#d8576b\"],[0.6666666666666666,\"#ed7953\"],[0.7777777777777778,\"#fb9f3a\"],[0.8888888888888888,\"#fdca26\"],[1.0,\"#f0f921\"]],\"sequentialminus\":[[0.0,\"#0d0887\"],[0.1111111111111111,\"#46039f\"],[0.2222222222222222,\"#7201a8\"],[0.3333333333333333,\"#9c179e\"],[0.4444444444444444,\"#bd3786\"],[0.5555555555555556,\"#d8576b\"],[0.6666666666666666,\"#ed7953\"],[0.7777777777777778,\"#fb9f3a\"],[0.8888888888888888,\"#fdca26\"],[1.0,\"#f0f921\"]],\"diverging\":[[0,\"#8e0152\"],[0.1,\"#c51b7d\"],[0.2,\"#de77ae\"],[0.3,\"#f1b6da\"],[0.4,\"#fde0ef\"],[0.5,\"#f7f7f7\"],[0.6,\"#e6f5d0\"],[0.7,\"#b8e186\"],[0.8,\"#7fbc41\"],[0.9,\"#4d9221\"],[1,\"#276419\"]]},\"xaxis\":{\"gridcolor\":\"white\",\"linecolor\":\"white\",\"ticks\":\"\",\"title\":{\"standoff\":15},\"zerolinecolor\":\"white\",\"automargin\":true,\"zerolinewidth\":2},\"yaxis\":{\"gridcolor\":\"white\",\"linecolor\":\"white\",\"ticks\":\"\",\"title\":{\"standoff\":15},\"zerolinecolor\":\"white\",\"automargin\":true,\"zerolinewidth\":2},\"scene\":{\"xaxis\":{\"backgroundcolor\":\"#E5ECF6\",\"gridcolor\":\"white\",\"linecolor\":\"white\",\"showbackground\":true,\"ticks\":\"\",\"zerolinecolor\":\"white\",\"gridwidth\":2},\"yaxis\":{\"backgroundcolor\":\"#E5ECF6\",\"gridcolor\":\"white\",\"linecolor\":\"white\",\"showbackground\":true,\"ticks\":\"\",\"zerolinecolor\":\"white\",\"gridwidth\":2},\"zaxis\":{\"backgroundcolor\":\"#E5ECF6\",\"gridcolor\":\"white\",\"linecolor\":\"white\",\"showbackground\":true,\"ticks\":\"\",\"zerolinecolor\":\"white\",\"gridwidth\":2}},\"shapedefaults\":{\"line\":{\"color\":\"#2a3f5f\"}},\"annotationdefaults\":{\"arrowcolor\":\"#2a3f5f\",\"arrowhead\":0,\"arrowwidth\":1},\"geo\":{\"bgcolor\":\"white\",\"landcolor\":\"#E5ECF6\",\"subunitcolor\":\"white\",\"showland\":true,\"showlakes\":true,\"lakecolor\":\"white\"},\"title\":{\"x\":0.05},\"mapbox\":{\"style\":\"light\"}}},\"xaxis\":{\"anchor\":\"y\",\"domain\":[0.0,1.0],\"title\":{\"text\":\"Number of Bedrooms\"}},\"yaxis\":{\"anchor\":\"x\",\"domain\":[0.0,1.0],\"title\":{\"text\":\"Average price per area\"}},\"legend\":{\"tracegroupgap\":0},\"margin\":{\"t\":60},\"barmode\":\"relative\",\"title\":{\"text\":\"How do bedrooms affect price?\",\"x\":0.5}},                        {\"responsive\": true}                    ).then(function(){\n",
       "                            \n",
       "var gd = document.getElementById('e9509a7f-9f23-49a7-a08f-72baa8e54d00');\n",
       "var x = new MutationObserver(function (mutations, observer) {{\n",
       "        var display = window.getComputedStyle(gd).display;\n",
       "        if (!display || display === 'none') {{\n",
       "            console.log([gd, 'removed!']);\n",
       "            Plotly.purge(gd);\n",
       "            observer.disconnect();\n",
       "        }}\n",
       "}});\n",
       "\n",
       "// Listen for the removal of the full notebook cells\n",
       "var notebookContainer = gd.closest('#notebook-container');\n",
       "if (notebookContainer) {{\n",
       "    x.observe(notebookContainer, {childList: true});\n",
       "}}\n",
       "\n",
       "// Listen for the clearing of the current output cell\n",
       "var outputEl = gd.closest('.output');\n",
       "if (outputEl) {{\n",
       "    x.observe(outputEl, {childList: true});\n",
       "}}\n",
       "\n",
       "                        })                };                });            </script>        </div>"
      ]
     },
     "metadata": {},
     "output_type": "display_data"
    }
   ],
   "source": [
    "fig_bedrooms = px.bar(df_bedrooms, x='bedrooms', y='price_per_area', orientation='v', hover_data='count')\n",
    "\n",
    "fig_bedrooms.update_traces(marker_color='darkcyan')\n",
    "fig_bedrooms.update_traces(text=df_bedrooms['price_per_area'], textposition='auto', texttemplate='%{text:.4s}')\n",
    "fig_bedrooms.update_layout(\n",
    "    xaxis_title='Number of Bedrooms',\n",
    "    yaxis_title='Average price per area',\n",
    "    title='How do bedrooms affect price?',\n",
    "    title_x=0.5\n",
    ")\n",
    "\n",
    "fig_bedrooms.show()"
   ]
  },
  {
   "cell_type": "code",
   "execution_count": 98,
   "id": "1da0265e",
   "metadata": {},
   "outputs": [
    {
     "data": {
      "text/plain": [
       "20000.0"
      ]
     },
     "execution_count": 98,
     "metadata": {},
     "output_type": "execute_result"
    }
   ],
   "source": [
    "df_full['price'].max()"
   ]
  },
  {
   "cell_type": "code",
   "execution_count": 99,
   "id": "2b4d4f67",
   "metadata": {},
   "outputs": [
    {
     "data": {
      "text/html": [
       "<div>\n",
       "<style scoped>\n",
       "    .dataframe tbody tr th:only-of-type {\n",
       "        vertical-align: middle;\n",
       "    }\n",
       "\n",
       "    .dataframe tbody tr th {\n",
       "        vertical-align: top;\n",
       "    }\n",
       "\n",
       "    .dataframe thead th {\n",
       "        text-align: right;\n",
       "    }\n",
       "</style>\n",
       "<table border=\"1\" class=\"dataframe\">\n",
       "  <thead>\n",
       "    <tr style=\"text-align: right;\">\n",
       "      <th></th>\n",
       "      <th>id</th>\n",
       "      <th>internal_id</th>\n",
       "      <th>title_abbreviation</th>\n",
       "      <th>address</th>\n",
       "      <th>price</th>\n",
       "      <th>price_per_unit_area</th>\n",
       "      <th>size_with_square_meter</th>\n",
       "      <th>construction_year</th>\n",
       "      <th>levels</th>\n",
       "      <th>bedrooms</th>\n",
       "      <th>bathrooms</th>\n",
       "      <th>date</th>\n",
       "      <th>extraction_date</th>\n",
       "      <th>geo_lat</th>\n",
       "      <th>geo_lng</th>\n",
       "      <th>company_title</th>\n",
       "      <th>account_id</th>\n",
       "      <th>ad_group_id</th>\n",
       "      <th>url</th>\n",
       "      <th>dimos</th>\n",
       "      <th>perioxi</th>\n",
       "      <th>type</th>\n",
       "      <th>area</th>\n",
       "      <th>price_per_area</th>\n",
       "      <th>level_list</th>\n",
       "      <th>min_level</th>\n",
       "      <th>level_length</th>\n",
       "      <th>max_level</th>\n",
       "      <th>a</th>\n",
       "      <th>temp_no</th>\n",
       "      <th>temp_date_unit</th>\n",
       "      <th>days_passed</th>\n",
       "      <th>kwd_ypes</th>\n",
       "      <th>enotites</th>\n",
       "      <th>construction_era</th>\n",
       "      <th>area_group</th>\n",
       "    </tr>\n",
       "  </thead>\n",
       "  <tbody>\n",
       "    <tr>\n",
       "      <th>5189</th>\n",
       "      <td>587671416</td>\n",
       "      <td>39968136</td>\n",
       "      <td>Μονοκατοικία 800 τ.μ.</td>\n",
       "      <td>Ψυχικό</td>\n",
       "      <td>20000.0</td>\n",
       "      <td>25</td>\n",
       "      <td>800 τ.μ.</td>\n",
       "      <td>1982.0</td>\n",
       "      <td>['0']</td>\n",
       "      <td>8.0</td>\n",
       "      <td>6.0</td>\n",
       "      <td>πριν από 2 μήνες</td>\n",
       "      <td>2023-06-01</td>\n",
       "      <td>38.017519</td>\n",
       "      <td>23.768951</td>\n",
       "      <td>Golden Home</td>\n",
       "      <td>616129.0</td>\n",
       "      <td>NaN</td>\n",
       "      <td>https://www.xe.gr/property/d/enoikiaseis-katoi...</td>\n",
       "      <td>Φιλοθέης - Ψυχικού</td>\n",
       "      <td>NaN</td>\n",
       "      <td>Μονοκατοικία</td>\n",
       "      <td>800.0</td>\n",
       "      <td>25.0</td>\n",
       "      <td>[0.0]</td>\n",
       "      <td>0.0</td>\n",
       "      <td>1</td>\n",
       "      <td>0.0</td>\n",
       "      <td>0.0</td>\n",
       "      <td>2</td>\n",
       "      <td>μή</td>\n",
       "      <td>60</td>\n",
       "      <td>9177</td>\n",
       "      <td>ΒΟΡΕΙΟΥ ΤΟΜΕΑ ΑΘΗΝΩΝ</td>\n",
       "      <td>1980-1990</td>\n",
       "      <td>&gt; 140</td>\n",
       "    </tr>\n",
       "    <tr>\n",
       "      <th>10600</th>\n",
       "      <td>587671416</td>\n",
       "      <td>39968136</td>\n",
       "      <td>Μονοκατοικία 800 τ.μ.</td>\n",
       "      <td>Ψυχικό</td>\n",
       "      <td>20000.0</td>\n",
       "      <td>25</td>\n",
       "      <td>800 τ.μ.</td>\n",
       "      <td>1982.0</td>\n",
       "      <td>['0']</td>\n",
       "      <td>8.0</td>\n",
       "      <td>6.0</td>\n",
       "      <td>πριν από 2 μήνες</td>\n",
       "      <td>2023-06-02</td>\n",
       "      <td>38.017519</td>\n",
       "      <td>23.768951</td>\n",
       "      <td>Golden Home</td>\n",
       "      <td>616129.0</td>\n",
       "      <td>NaN</td>\n",
       "      <td>https://www.xe.gr/property/d/enoikiaseis-katoi...</td>\n",
       "      <td>Φιλοθέης - Ψυχικού</td>\n",
       "      <td>NaN</td>\n",
       "      <td>Μονοκατοικία</td>\n",
       "      <td>800.0</td>\n",
       "      <td>25.0</td>\n",
       "      <td>[0.0]</td>\n",
       "      <td>0.0</td>\n",
       "      <td>1</td>\n",
       "      <td>0.0</td>\n",
       "      <td>0.0</td>\n",
       "      <td>2</td>\n",
       "      <td>μή</td>\n",
       "      <td>60</td>\n",
       "      <td>9177</td>\n",
       "      <td>ΒΟΡΕΙΟΥ ΤΟΜΕΑ ΑΘΗΝΩΝ</td>\n",
       "      <td>1980-1990</td>\n",
       "      <td>&gt; 140</td>\n",
       "    </tr>\n",
       "    <tr>\n",
       "      <th>16171</th>\n",
       "      <td>587671416</td>\n",
       "      <td>39968136</td>\n",
       "      <td>Μονοκατοικία 800 τ.μ.</td>\n",
       "      <td>Ψυχικό</td>\n",
       "      <td>20000.0</td>\n",
       "      <td>25</td>\n",
       "      <td>800 τ.μ.</td>\n",
       "      <td>1982.0</td>\n",
       "      <td>['0']</td>\n",
       "      <td>8.0</td>\n",
       "      <td>6.0</td>\n",
       "      <td>πριν από 2 μήνες</td>\n",
       "      <td>2023-06-03</td>\n",
       "      <td>38.017519</td>\n",
       "      <td>23.768951</td>\n",
       "      <td>Golden Home</td>\n",
       "      <td>616129.0</td>\n",
       "      <td>NaN</td>\n",
       "      <td>https://www.xe.gr/property/d/enoikiaseis-katoi...</td>\n",
       "      <td>Φιλοθέης - Ψυχικού</td>\n",
       "      <td>NaN</td>\n",
       "      <td>Μονοκατοικία</td>\n",
       "      <td>800.0</td>\n",
       "      <td>25.0</td>\n",
       "      <td>[0.0]</td>\n",
       "      <td>0.0</td>\n",
       "      <td>1</td>\n",
       "      <td>0.0</td>\n",
       "      <td>0.0</td>\n",
       "      <td>2</td>\n",
       "      <td>μή</td>\n",
       "      <td>60</td>\n",
       "      <td>9177</td>\n",
       "      <td>ΒΟΡΕΙΟΥ ΤΟΜΕΑ ΑΘΗΝΩΝ</td>\n",
       "      <td>1980-1990</td>\n",
       "      <td>&gt; 140</td>\n",
       "    </tr>\n",
       "    <tr>\n",
       "      <th>21541</th>\n",
       "      <td>587671416</td>\n",
       "      <td>39968136</td>\n",
       "      <td>Μονοκατοικία 800 τ.μ.</td>\n",
       "      <td>Ψυχικό</td>\n",
       "      <td>20000.0</td>\n",
       "      <td>25</td>\n",
       "      <td>800 τ.μ.</td>\n",
       "      <td>1982.0</td>\n",
       "      <td>['0']</td>\n",
       "      <td>8.0</td>\n",
       "      <td>6.0</td>\n",
       "      <td>πριν από 2 μήνες</td>\n",
       "      <td>2023-06-04</td>\n",
       "      <td>38.017519</td>\n",
       "      <td>23.768951</td>\n",
       "      <td>Golden Home</td>\n",
       "      <td>616129.0</td>\n",
       "      <td>NaN</td>\n",
       "      <td>https://www.xe.gr/property/d/enoikiaseis-katoi...</td>\n",
       "      <td>Φιλοθέης - Ψυχικού</td>\n",
       "      <td>NaN</td>\n",
       "      <td>Μονοκατοικία</td>\n",
       "      <td>800.0</td>\n",
       "      <td>25.0</td>\n",
       "      <td>[0.0]</td>\n",
       "      <td>0.0</td>\n",
       "      <td>1</td>\n",
       "      <td>0.0</td>\n",
       "      <td>0.0</td>\n",
       "      <td>2</td>\n",
       "      <td>μή</td>\n",
       "      <td>60</td>\n",
       "      <td>9177</td>\n",
       "      <td>ΒΟΡΕΙΟΥ ΤΟΜΕΑ ΑΘΗΝΩΝ</td>\n",
       "      <td>1980-1990</td>\n",
       "      <td>&gt; 140</td>\n",
       "    </tr>\n",
       "    <tr>\n",
       "      <th>26960</th>\n",
       "      <td>587671416</td>\n",
       "      <td>39968136</td>\n",
       "      <td>Μονοκατοικία 800 τ.μ.</td>\n",
       "      <td>Ψυχικό</td>\n",
       "      <td>20000.0</td>\n",
       "      <td>25</td>\n",
       "      <td>800 τ.μ.</td>\n",
       "      <td>1982.0</td>\n",
       "      <td>['0']</td>\n",
       "      <td>8.0</td>\n",
       "      <td>6.0</td>\n",
       "      <td>πριν από 2 μήνες</td>\n",
       "      <td>2023-06-05</td>\n",
       "      <td>38.017519</td>\n",
       "      <td>23.768951</td>\n",
       "      <td>Golden Home</td>\n",
       "      <td>616129.0</td>\n",
       "      <td>NaN</td>\n",
       "      <td>https://www.xe.gr/property/d/enoikiaseis-katoi...</td>\n",
       "      <td>Φιλοθέης - Ψυχικού</td>\n",
       "      <td>NaN</td>\n",
       "      <td>Μονοκατοικία</td>\n",
       "      <td>800.0</td>\n",
       "      <td>25.0</td>\n",
       "      <td>[0.0]</td>\n",
       "      <td>0.0</td>\n",
       "      <td>1</td>\n",
       "      <td>0.0</td>\n",
       "      <td>0.0</td>\n",
       "      <td>2</td>\n",
       "      <td>μή</td>\n",
       "      <td>60</td>\n",
       "      <td>9177</td>\n",
       "      <td>ΒΟΡΕΙΟΥ ΤΟΜΕΑ ΑΘΗΝΩΝ</td>\n",
       "      <td>1980-1990</td>\n",
       "      <td>&gt; 140</td>\n",
       "    </tr>\n",
       "  </tbody>\n",
       "</table>\n",
       "</div>"
      ],
      "text/plain": [
       "              id  internal_id     title_abbreviation address    price  \\\n",
       "5189   587671416     39968136  Μονοκατοικία 800 τ.μ.  Ψυχικό  20000.0   \n",
       "10600  587671416     39968136  Μονοκατοικία 800 τ.μ.  Ψυχικό  20000.0   \n",
       "16171  587671416     39968136  Μονοκατοικία 800 τ.μ.  Ψυχικό  20000.0   \n",
       "21541  587671416     39968136  Μονοκατοικία 800 τ.μ.  Ψυχικό  20000.0   \n",
       "26960  587671416     39968136  Μονοκατοικία 800 τ.μ.  Ψυχικό  20000.0   \n",
       "\n",
       "       price_per_unit_area size_with_square_meter  construction_year levels  \\\n",
       "5189                    25               800 τ.μ.             1982.0  ['0']   \n",
       "10600                   25               800 τ.μ.             1982.0  ['0']   \n",
       "16171                   25               800 τ.μ.             1982.0  ['0']   \n",
       "21541                   25               800 τ.μ.             1982.0  ['0']   \n",
       "26960                   25               800 τ.μ.             1982.0  ['0']   \n",
       "\n",
       "       bedrooms  bathrooms              date extraction_date    geo_lat  \\\n",
       "5189        8.0        6.0  πριν από 2 μήνες      2023-06-01  38.017519   \n",
       "10600       8.0        6.0  πριν από 2 μήνες      2023-06-02  38.017519   \n",
       "16171       8.0        6.0  πριν από 2 μήνες      2023-06-03  38.017519   \n",
       "21541       8.0        6.0  πριν από 2 μήνες      2023-06-04  38.017519   \n",
       "26960       8.0        6.0  πριν από 2 μήνες      2023-06-05  38.017519   \n",
       "\n",
       "         geo_lng company_title  account_id  ad_group_id  \\\n",
       "5189   23.768951   Golden Home    616129.0          NaN   \n",
       "10600  23.768951   Golden Home    616129.0          NaN   \n",
       "16171  23.768951   Golden Home    616129.0          NaN   \n",
       "21541  23.768951   Golden Home    616129.0          NaN   \n",
       "26960  23.768951   Golden Home    616129.0          NaN   \n",
       "\n",
       "                                                     url               dimos  \\\n",
       "5189   https://www.xe.gr/property/d/enoikiaseis-katoi...  Φιλοθέης - Ψυχικού   \n",
       "10600  https://www.xe.gr/property/d/enoikiaseis-katoi...  Φιλοθέης - Ψυχικού   \n",
       "16171  https://www.xe.gr/property/d/enoikiaseis-katoi...  Φιλοθέης - Ψυχικού   \n",
       "21541  https://www.xe.gr/property/d/enoikiaseis-katoi...  Φιλοθέης - Ψυχικού   \n",
       "26960  https://www.xe.gr/property/d/enoikiaseis-katoi...  Φιλοθέης - Ψυχικού   \n",
       "\n",
       "      perioxi          type   area  price_per_area level_list  min_level  \\\n",
       "5189      NaN  Μονοκατοικία  800.0            25.0      [0.0]        0.0   \n",
       "10600     NaN  Μονοκατοικία  800.0            25.0      [0.0]        0.0   \n",
       "16171     NaN  Μονοκατοικία  800.0            25.0      [0.0]        0.0   \n",
       "21541     NaN  Μονοκατοικία  800.0            25.0      [0.0]        0.0   \n",
       "26960     NaN  Μονοκατοικία  800.0            25.0      [0.0]        0.0   \n",
       "\n",
       "       level_length  max_level    a  temp_no temp_date_unit  days_passed  \\\n",
       "5189              1        0.0  0.0        2             μή           60   \n",
       "10600             1        0.0  0.0        2             μή           60   \n",
       "16171             1        0.0  0.0        2             μή           60   \n",
       "21541             1        0.0  0.0        2             μή           60   \n",
       "26960             1        0.0  0.0        2             μή           60   \n",
       "\n",
       "       kwd_ypes              enotites construction_era area_group  \n",
       "5189       9177  ΒΟΡΕΙΟΥ ΤΟΜΕΑ ΑΘΗΝΩΝ        1980-1990      > 140  \n",
       "10600      9177  ΒΟΡΕΙΟΥ ΤΟΜΕΑ ΑΘΗΝΩΝ        1980-1990      > 140  \n",
       "16171      9177  ΒΟΡΕΙΟΥ ΤΟΜΕΑ ΑΘΗΝΩΝ        1980-1990      > 140  \n",
       "21541      9177  ΒΟΡΕΙΟΥ ΤΟΜΕΑ ΑΘΗΝΩΝ        1980-1990      > 140  \n",
       "26960      9177  ΒΟΡΕΙΟΥ ΤΟΜΕΑ ΑΘΗΝΩΝ        1980-1990      > 140  "
      ]
     },
     "execution_count": 99,
     "metadata": {},
     "output_type": "execute_result"
    }
   ],
   "source": [
    "df_full[df_full['price'] == 20000]"
   ]
  },
  {
   "cell_type": "code",
   "execution_count": 103,
   "id": "46608aa1",
   "metadata": {},
   "outputs": [
    {
     "data": {
      "text/html": [
       "<div>\n",
       "<style scoped>\n",
       "    .dataframe tbody tr th:only-of-type {\n",
       "        vertical-align: middle;\n",
       "    }\n",
       "\n",
       "    .dataframe tbody tr th {\n",
       "        vertical-align: top;\n",
       "    }\n",
       "\n",
       "    .dataframe thead th {\n",
       "        text-align: right;\n",
       "    }\n",
       "</style>\n",
       "<table border=\"1\" class=\"dataframe\">\n",
       "  <thead>\n",
       "    <tr style=\"text-align: right;\">\n",
       "      <th></th>\n",
       "      <th>id</th>\n",
       "      <th>internal_id</th>\n",
       "      <th>title_abbreviation</th>\n",
       "      <th>address</th>\n",
       "      <th>price</th>\n",
       "      <th>price_per_unit_area</th>\n",
       "      <th>size_with_square_meter</th>\n",
       "      <th>construction_year</th>\n",
       "      <th>levels</th>\n",
       "      <th>bedrooms</th>\n",
       "      <th>bathrooms</th>\n",
       "      <th>date</th>\n",
       "      <th>extraction_date</th>\n",
       "      <th>geo_lat</th>\n",
       "      <th>geo_lng</th>\n",
       "      <th>company_title</th>\n",
       "      <th>account_id</th>\n",
       "      <th>ad_group_id</th>\n",
       "      <th>url</th>\n",
       "      <th>dimos</th>\n",
       "      <th>perioxi</th>\n",
       "      <th>type</th>\n",
       "      <th>area</th>\n",
       "      <th>price_per_area</th>\n",
       "      <th>level_list</th>\n",
       "      <th>min_level</th>\n",
       "      <th>level_length</th>\n",
       "      <th>max_level</th>\n",
       "      <th>a</th>\n",
       "      <th>temp_no</th>\n",
       "      <th>temp_date_unit</th>\n",
       "      <th>days_passed</th>\n",
       "      <th>kwd_ypes</th>\n",
       "      <th>enotites</th>\n",
       "      <th>construction_era</th>\n",
       "      <th>area_group</th>\n",
       "    </tr>\n",
       "  </thead>\n",
       "  <tbody>\n",
       "    <tr>\n",
       "      <th>5189</th>\n",
       "      <td>587671416</td>\n",
       "      <td>39968136</td>\n",
       "      <td>Μονοκατοικία 800 τ.μ.</td>\n",
       "      <td>Ψυχικό</td>\n",
       "      <td>20000.0</td>\n",
       "      <td>25</td>\n",
       "      <td>800 τ.μ.</td>\n",
       "      <td>1982.0</td>\n",
       "      <td>['0']</td>\n",
       "      <td>8.0</td>\n",
       "      <td>6.0</td>\n",
       "      <td>πριν από 2 μήνες</td>\n",
       "      <td>2023-06-01</td>\n",
       "      <td>38.017519</td>\n",
       "      <td>23.768951</td>\n",
       "      <td>Golden Home</td>\n",
       "      <td>616129.0</td>\n",
       "      <td>NaN</td>\n",
       "      <td>https://www.xe.gr/property/d/enoikiaseis-katoi...</td>\n",
       "      <td>Φιλοθέης - Ψυχικού</td>\n",
       "      <td>NaN</td>\n",
       "      <td>Μονοκατοικία</td>\n",
       "      <td>800.0</td>\n",
       "      <td>25.0</td>\n",
       "      <td>[0.0]</td>\n",
       "      <td>0.0</td>\n",
       "      <td>1</td>\n",
       "      <td>0.0</td>\n",
       "      <td>0.0</td>\n",
       "      <td>2</td>\n",
       "      <td>μή</td>\n",
       "      <td>60</td>\n",
       "      <td>9177</td>\n",
       "      <td>ΒΟΡΕΙΟΥ ΤΟΜΕΑ ΑΘΗΝΩΝ</td>\n",
       "      <td>1980-1990</td>\n",
       "      <td>&gt; 140</td>\n",
       "    </tr>\n",
       "    <tr>\n",
       "      <th>10600</th>\n",
       "      <td>587671416</td>\n",
       "      <td>39968136</td>\n",
       "      <td>Μονοκατοικία 800 τ.μ.</td>\n",
       "      <td>Ψυχικό</td>\n",
       "      <td>20000.0</td>\n",
       "      <td>25</td>\n",
       "      <td>800 τ.μ.</td>\n",
       "      <td>1982.0</td>\n",
       "      <td>['0']</td>\n",
       "      <td>8.0</td>\n",
       "      <td>6.0</td>\n",
       "      <td>πριν από 2 μήνες</td>\n",
       "      <td>2023-06-02</td>\n",
       "      <td>38.017519</td>\n",
       "      <td>23.768951</td>\n",
       "      <td>Golden Home</td>\n",
       "      <td>616129.0</td>\n",
       "      <td>NaN</td>\n",
       "      <td>https://www.xe.gr/property/d/enoikiaseis-katoi...</td>\n",
       "      <td>Φιλοθέης - Ψυχικού</td>\n",
       "      <td>NaN</td>\n",
       "      <td>Μονοκατοικία</td>\n",
       "      <td>800.0</td>\n",
       "      <td>25.0</td>\n",
       "      <td>[0.0]</td>\n",
       "      <td>0.0</td>\n",
       "      <td>1</td>\n",
       "      <td>0.0</td>\n",
       "      <td>0.0</td>\n",
       "      <td>2</td>\n",
       "      <td>μή</td>\n",
       "      <td>60</td>\n",
       "      <td>9177</td>\n",
       "      <td>ΒΟΡΕΙΟΥ ΤΟΜΕΑ ΑΘΗΝΩΝ</td>\n",
       "      <td>1980-1990</td>\n",
       "      <td>&gt; 140</td>\n",
       "    </tr>\n",
       "    <tr>\n",
       "      <th>16171</th>\n",
       "      <td>587671416</td>\n",
       "      <td>39968136</td>\n",
       "      <td>Μονοκατοικία 800 τ.μ.</td>\n",
       "      <td>Ψυχικό</td>\n",
       "      <td>20000.0</td>\n",
       "      <td>25</td>\n",
       "      <td>800 τ.μ.</td>\n",
       "      <td>1982.0</td>\n",
       "      <td>['0']</td>\n",
       "      <td>8.0</td>\n",
       "      <td>6.0</td>\n",
       "      <td>πριν από 2 μήνες</td>\n",
       "      <td>2023-06-03</td>\n",
       "      <td>38.017519</td>\n",
       "      <td>23.768951</td>\n",
       "      <td>Golden Home</td>\n",
       "      <td>616129.0</td>\n",
       "      <td>NaN</td>\n",
       "      <td>https://www.xe.gr/property/d/enoikiaseis-katoi...</td>\n",
       "      <td>Φιλοθέης - Ψυχικού</td>\n",
       "      <td>NaN</td>\n",
       "      <td>Μονοκατοικία</td>\n",
       "      <td>800.0</td>\n",
       "      <td>25.0</td>\n",
       "      <td>[0.0]</td>\n",
       "      <td>0.0</td>\n",
       "      <td>1</td>\n",
       "      <td>0.0</td>\n",
       "      <td>0.0</td>\n",
       "      <td>2</td>\n",
       "      <td>μή</td>\n",
       "      <td>60</td>\n",
       "      <td>9177</td>\n",
       "      <td>ΒΟΡΕΙΟΥ ΤΟΜΕΑ ΑΘΗΝΩΝ</td>\n",
       "      <td>1980-1990</td>\n",
       "      <td>&gt; 140</td>\n",
       "    </tr>\n",
       "    <tr>\n",
       "      <th>21541</th>\n",
       "      <td>587671416</td>\n",
       "      <td>39968136</td>\n",
       "      <td>Μονοκατοικία 800 τ.μ.</td>\n",
       "      <td>Ψυχικό</td>\n",
       "      <td>20000.0</td>\n",
       "      <td>25</td>\n",
       "      <td>800 τ.μ.</td>\n",
       "      <td>1982.0</td>\n",
       "      <td>['0']</td>\n",
       "      <td>8.0</td>\n",
       "      <td>6.0</td>\n",
       "      <td>πριν από 2 μήνες</td>\n",
       "      <td>2023-06-04</td>\n",
       "      <td>38.017519</td>\n",
       "      <td>23.768951</td>\n",
       "      <td>Golden Home</td>\n",
       "      <td>616129.0</td>\n",
       "      <td>NaN</td>\n",
       "      <td>https://www.xe.gr/property/d/enoikiaseis-katoi...</td>\n",
       "      <td>Φιλοθέης - Ψυχικού</td>\n",
       "      <td>NaN</td>\n",
       "      <td>Μονοκατοικία</td>\n",
       "      <td>800.0</td>\n",
       "      <td>25.0</td>\n",
       "      <td>[0.0]</td>\n",
       "      <td>0.0</td>\n",
       "      <td>1</td>\n",
       "      <td>0.0</td>\n",
       "      <td>0.0</td>\n",
       "      <td>2</td>\n",
       "      <td>μή</td>\n",
       "      <td>60</td>\n",
       "      <td>9177</td>\n",
       "      <td>ΒΟΡΕΙΟΥ ΤΟΜΕΑ ΑΘΗΝΩΝ</td>\n",
       "      <td>1980-1990</td>\n",
       "      <td>&gt; 140</td>\n",
       "    </tr>\n",
       "    <tr>\n",
       "      <th>26960</th>\n",
       "      <td>587671416</td>\n",
       "      <td>39968136</td>\n",
       "      <td>Μονοκατοικία 800 τ.μ.</td>\n",
       "      <td>Ψυχικό</td>\n",
       "      <td>20000.0</td>\n",
       "      <td>25</td>\n",
       "      <td>800 τ.μ.</td>\n",
       "      <td>1982.0</td>\n",
       "      <td>['0']</td>\n",
       "      <td>8.0</td>\n",
       "      <td>6.0</td>\n",
       "      <td>πριν από 2 μήνες</td>\n",
       "      <td>2023-06-05</td>\n",
       "      <td>38.017519</td>\n",
       "      <td>23.768951</td>\n",
       "      <td>Golden Home</td>\n",
       "      <td>616129.0</td>\n",
       "      <td>NaN</td>\n",
       "      <td>https://www.xe.gr/property/d/enoikiaseis-katoi...</td>\n",
       "      <td>Φιλοθέης - Ψυχικού</td>\n",
       "      <td>NaN</td>\n",
       "      <td>Μονοκατοικία</td>\n",
       "      <td>800.0</td>\n",
       "      <td>25.0</td>\n",
       "      <td>[0.0]</td>\n",
       "      <td>0.0</td>\n",
       "      <td>1</td>\n",
       "      <td>0.0</td>\n",
       "      <td>0.0</td>\n",
       "      <td>2</td>\n",
       "      <td>μή</td>\n",
       "      <td>60</td>\n",
       "      <td>9177</td>\n",
       "      <td>ΒΟΡΕΙΟΥ ΤΟΜΕΑ ΑΘΗΝΩΝ</td>\n",
       "      <td>1980-1990</td>\n",
       "      <td>&gt; 140</td>\n",
       "    </tr>\n",
       "  </tbody>\n",
       "</table>\n",
       "</div>"
      ],
      "text/plain": [
       "              id  internal_id     title_abbreviation address    price  \\\n",
       "5189   587671416     39968136  Μονοκατοικία 800 τ.μ.  Ψυχικό  20000.0   \n",
       "10600  587671416     39968136  Μονοκατοικία 800 τ.μ.  Ψυχικό  20000.0   \n",
       "16171  587671416     39968136  Μονοκατοικία 800 τ.μ.  Ψυχικό  20000.0   \n",
       "21541  587671416     39968136  Μονοκατοικία 800 τ.μ.  Ψυχικό  20000.0   \n",
       "26960  587671416     39968136  Μονοκατοικία 800 τ.μ.  Ψυχικό  20000.0   \n",
       "\n",
       "       price_per_unit_area size_with_square_meter  construction_year levels  \\\n",
       "5189                    25               800 τ.μ.             1982.0  ['0']   \n",
       "10600                   25               800 τ.μ.             1982.0  ['0']   \n",
       "16171                   25               800 τ.μ.             1982.0  ['0']   \n",
       "21541                   25               800 τ.μ.             1982.0  ['0']   \n",
       "26960                   25               800 τ.μ.             1982.0  ['0']   \n",
       "\n",
       "       bedrooms  bathrooms              date extraction_date    geo_lat  \\\n",
       "5189        8.0        6.0  πριν από 2 μήνες      2023-06-01  38.017519   \n",
       "10600       8.0        6.0  πριν από 2 μήνες      2023-06-02  38.017519   \n",
       "16171       8.0        6.0  πριν από 2 μήνες      2023-06-03  38.017519   \n",
       "21541       8.0        6.0  πριν από 2 μήνες      2023-06-04  38.017519   \n",
       "26960       8.0        6.0  πριν από 2 μήνες      2023-06-05  38.017519   \n",
       "\n",
       "         geo_lng company_title  account_id  ad_group_id  \\\n",
       "5189   23.768951   Golden Home    616129.0          NaN   \n",
       "10600  23.768951   Golden Home    616129.0          NaN   \n",
       "16171  23.768951   Golden Home    616129.0          NaN   \n",
       "21541  23.768951   Golden Home    616129.0          NaN   \n",
       "26960  23.768951   Golden Home    616129.0          NaN   \n",
       "\n",
       "                                                     url               dimos  \\\n",
       "5189   https://www.xe.gr/property/d/enoikiaseis-katoi...  Φιλοθέης - Ψυχικού   \n",
       "10600  https://www.xe.gr/property/d/enoikiaseis-katoi...  Φιλοθέης - Ψυχικού   \n",
       "16171  https://www.xe.gr/property/d/enoikiaseis-katoi...  Φιλοθέης - Ψυχικού   \n",
       "21541  https://www.xe.gr/property/d/enoikiaseis-katoi...  Φιλοθέης - Ψυχικού   \n",
       "26960  https://www.xe.gr/property/d/enoikiaseis-katoi...  Φιλοθέης - Ψυχικού   \n",
       "\n",
       "      perioxi          type   area  price_per_area level_list  min_level  \\\n",
       "5189      NaN  Μονοκατοικία  800.0            25.0      [0.0]        0.0   \n",
       "10600     NaN  Μονοκατοικία  800.0            25.0      [0.0]        0.0   \n",
       "16171     NaN  Μονοκατοικία  800.0            25.0      [0.0]        0.0   \n",
       "21541     NaN  Μονοκατοικία  800.0            25.0      [0.0]        0.0   \n",
       "26960     NaN  Μονοκατοικία  800.0            25.0      [0.0]        0.0   \n",
       "\n",
       "       level_length  max_level    a  temp_no temp_date_unit  days_passed  \\\n",
       "5189              1        0.0  0.0        2             μή           60   \n",
       "10600             1        0.0  0.0        2             μή           60   \n",
       "16171             1        0.0  0.0        2             μή           60   \n",
       "21541             1        0.0  0.0        2             μή           60   \n",
       "26960             1        0.0  0.0        2             μή           60   \n",
       "\n",
       "       kwd_ypes              enotites construction_era area_group  \n",
       "5189       9177  ΒΟΡΕΙΟΥ ΤΟΜΕΑ ΑΘΗΝΩΝ        1980-1990      > 140  \n",
       "10600      9177  ΒΟΡΕΙΟΥ ΤΟΜΕΑ ΑΘΗΝΩΝ        1980-1990      > 140  \n",
       "16171      9177  ΒΟΡΕΙΟΥ ΤΟΜΕΑ ΑΘΗΝΩΝ        1980-1990      > 140  \n",
       "21541      9177  ΒΟΡΕΙΟΥ ΤΟΜΕΑ ΑΘΗΝΩΝ        1980-1990      > 140  \n",
       "26960      9177  ΒΟΡΕΙΟΥ ΤΟΜΕΑ ΑΘΗΝΩΝ        1980-1990      > 140  "
      ]
     },
     "execution_count": 103,
     "metadata": {},
     "output_type": "execute_result"
    }
   ],
   "source": [
    "price_filter_tuple = (18000, 20000)\n",
    "date_filter_value = None\n",
    "dimos_filter_value = None\n",
    "\n",
    "a = df_full[(price_filter_tuple[0] <= df_full['price']) & (df_full['price'] <= price_filter_tuple[1])]\n",
    "    \n",
    "if date_filter_value:\n",
    "    a = a[a['extraction_date'] == date_filter_value]\n",
    "\n",
    "if dimos_filter_value:\n",
    "    a = a[a['dimos'] == dimos_filter_value]\n",
    "a"
   ]
  },
  {
   "cell_type": "code",
   "execution_count": 115,
   "id": "c3a2fd13",
   "metadata": {},
   "outputs": [
    {
     "name": "stdout",
     "output_type": "stream",
     "text": [
      "27113\n",
      "22111\n",
      "17566\n",
      "16362\n",
      "12525\n"
     ]
    }
   ],
   "source": [
    "price_filter_tuple = (100, 20000)\n",
    "area_filter_tuple = (50, 700)\n",
    "bedrooms_filter_tuple = (1, 2)\n",
    "bathrooms_filter_tuple = (1, 2)\n",
    "level_filter_tuple = (1, 5)\n",
    "date_filter_value = None\n",
    "dimos_filter_value = None\n",
    "type_filter_value = None\n",
    "\n",
    "\n",
    "filtered_df = df_full[(price_filter_tuple[0] <= df_full['price']) & (df_full['price'] <= price_filter_tuple[1])]\n",
    "print(len(filtered_df))\n",
    "filtered_df = filtered_df[(area_filter_tuple[0] <= filtered_df['area']) & (filtered_df['area'] <= area_filter_tuple[1])]\n",
    "print(len(filtered_df))\n",
    "filtered_df = filtered_df[(bedrooms_filter_tuple[0] <= filtered_df['bedrooms']) & (filtered_df['bedrooms'] <= bedrooms_filter_tuple[1])]\n",
    "print(len(filtered_df))\n",
    "filtered_df = filtered_df[(bathrooms_filter_tuple[0] <= filtered_df['bathrooms']) & (filtered_df['bathrooms'] <= bathrooms_filter_tuple[1])]\n",
    "print(len(filtered_df))\n",
    "filtered_df = filtered_df[(level_filter_tuple[0] <= filtered_df['min_level']) & (filtered_df['min_level'] <= level_filter_tuple[1])]\n",
    "print(len(filtered_df))\n",
    "\n",
    "if date_filter_value:\n",
    "    filtered_df = filtered_df[filtered_df['extraction_date'] == date_filter_value]\n",
    "    print(len(filtered_df))\n",
    "\n",
    "if dimos_filter_value:\n",
    "    filtered_df = filtered_df[filtered_df['dimos'] == dimos_filter_value]\n",
    "    \n",
    "    print(len(filtered_df))\n",
    "\n",
    "if type_filter_value:\n",
    "    filtered_df = filtered_df[filtered_df['type'] == dimos_filter_value]\n",
    "    print(len(filtered_df))"
   ]
  },
  {
   "cell_type": "code",
   "execution_count": 18,
   "id": "fd69ae1e",
   "metadata": {},
   "outputs": [
    {
     "data": {
      "text/plain": [
       "array(['Λυκαβηττός', 'Άνω Πατήσια', 'Κουντουριώτικα', 'Πολύγωνο',\n",
       "       'Πανόρμου', 'Λόφος Σκουζέ', 'Κάτω Πατήσια', 'Μετς', 'Ιπποκράτειο',\n",
       "       'Γκύζη', 'Ιπποκράτους', 'Ελαιώνας', 'Άγιος Σώστης', 'Εξάρχεια',\n",
       "       'Πεδίον Άρεως', 'Πλατεία Αττικής', 'Άνω Κυψέλη', 'Κεραμεικός',\n",
       "       'Άγιος Λουκάς', 'Κέντρο', 'Ηπείρου', 'Ακαδημία Πλάτωνος',\n",
       "       'Κουκάκι', 'Κυψέλη', 'Προφήτης Ηλίας', 'Κάτω Πετράλωνα',\n",
       "       'Κολωνάκι', 'Παγκράτι', 'Άγιος Θωμάς', 'Πλατεία Αμερικής',\n",
       "       'Παναθηναϊκό Στάδιο', 'Ιλίσια', 'Χίλτον', 'Κολιάτσου',\n",
       "       'Άγιος Ιωάννης', 'Λόφος Λαμπράκη', 'Άγιος Ελευθέριος', 'Βαρνάβα',\n",
       "       'Τρεις Γέφυρες', 'Αλεπότρυπα', 'Νεάπολη', 'Σταθμός Λαρίσης',\n",
       "       'Νιρβάνα', 'Κολωνός', 'Νέα Κυψέλη', 'Ελληνορώσων', 'Μοναστηράκι',\n",
       "       'Πλατεία Κάνιγγος', 'Άγιος Αρτέμιος', 'Άγιος Παντελεήμονας',\n",
       "       'Λόφος Στρέφη', 'Μεταξουργείο', 'Αμπελόκηποι', 'Άγιος Νικόλαος',\n",
       "       'Σεπόλια', 'Κυνοσάργους', 'Άνω Πετράλωνα', 'Φιλοπάππου',\n",
       "       'Προμπονά', 'Μπακνανά', 'Ρηγίλλης', 'Θησείο', 'Νέα Φιλοθέη',\n",
       "       'Βοτανικός', 'Πλατεία Μαβίλη', 'Πλατεία Βάθης',\n",
       "       'Πλατεία Παπαδιαμάντη', nan, 'Μουσείο', 'Αγία Παρασκευή',\n",
       "       'Πλατεία Βικτωρίας', 'Δουργούτι', 'Νέος Κόσμος', 'Γκάζι', 'Γούβα',\n",
       "       'Πλάκα', 'Ερυθρός', 'Άγιος Αντώνιος', 'Ζάππειο', 'Κολοκυνθού',\n",
       "       'Μενιδιάτικα', 'Νοσοκομείο Παίδων', 'Γηροκομείο', 'Κουμουνδούρου',\n",
       "       'Σύνταγμα', 'Ομόνοια', 'Αττικό Άλσος', 'Λόφος Ακρόπολης',\n",
       "       'Καλλιρρόης', 'Άνω Καισαριανή', 'Ριζούπολη', 'Ρουφ',\n",
       "       'Νέο Παγκράτι', 'Ψυρρή', 'Ακαδημία', 'Λαμπρινή', 'Γκράβα', 'Γουδή',\n",
       "       'Καραγιαννέικα', 'Ευαγγελίστρια', 'Πλατεία Κλαυθμώνος',\n",
       "       'Άνω Ιλίσια', 'Νήαρ Ηστ', 'Σκοπευτήριο', 'Ανάληψη', 'Αγία Ελεούσα',\n",
       "       'Σταθμός ΗΣΑΠ Ταύρου', 'ΟΤΕ', 'Λόφος Σικελίας', 'Χαροκόπου',\n",
       "       'Χρυσάκη', 'Λόφος Φιλαρέτου', 'Σιβιτανίδειος', 'Τζιτζιφιές',\n",
       "       'Νέα Ελβετία', 'Αγορά', 'Ζωοδόχος Πηγή', 'Μεταμόρφωση', 'Κρητικά',\n",
       "       'Περιβόλια', 'Ακτήμονες', 'Νέα Σεπόλια', 'Ανθούπολη',\n",
       "       'Νέα Κολοκυνθού', 'Μπουρνάζι', 'Τσαλαβούτα', 'Λόφος Αξιωματικών',\n",
       "       'Βιαμάξ', 'Άγιος Ιωάννης Θεολόγος', 'Πυρκάλ Καλυκοποιείο',\n",
       "       'Άνω Δάφνη', 'Άγιος Διονύσιος', 'Πλατεία Ηρώων', 'Όρια Υμηττού',\n",
       "       'Καλογήρων', 'Πλατεία Ελευθερίας', 'Πεντάγωνο', 'Άλσος Βεΐκου',\n",
       "       'Άλσος', 'Περισσός', 'Αλσούπολη', 'Μυκονιάτικα', 'Τσούμπα',\n",
       "       'Πολυτέκνων', 'Παλατιανή', 'Φλέβα', 'Άγιος Φανούριος', 'Ριμινιτών',\n",
       "       'Αγία Άννα', 'Αγία Βαρβάρα', 'Κάτω Χαλάνδρι', 'Σωτηράκη',\n",
       "       'Προύσης', 'Εσταυρωμένος', 'Πλατεία Δημοκρατίας', 'Άνω Παπάγου',\n",
       "       'Χρυσαλλίδα', 'Λόφος Γερμανού'], dtype=object)"
      ]
     },
     "execution_count": 18,
     "metadata": {},
     "output_type": "execute_result"
    }
   ],
   "source": [
    "df_full['perioxi'].unique()"
   ]
  }
 ],
 "metadata": {
  "kernelspec": {
   "display_name": "Python 3 (ipykernel)",
   "language": "python",
   "name": "python3"
  },
  "language_info": {
   "codemirror_mode": {
    "name": "ipython",
    "version": 3
   },
   "file_extension": ".py",
   "mimetype": "text/x-python",
   "name": "python",
   "nbconvert_exporter": "python",
   "pygments_lexer": "ipython3",
   "version": "3.9.16"
  }
 },
 "nbformat": 4,
 "nbformat_minor": 5
}
