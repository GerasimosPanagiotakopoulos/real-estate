{
 "cells": [
  {
   "cell_type": "code",
   "execution_count": 4,
   "id": "c1695424",
   "metadata": {},
   "outputs": [],
   "source": [
    "import requests\n",
    "import re\n",
    "import json\n",
    "import pandas as pd\n",
    "import datetime\n",
    "import numpy as np\n",
    "\n",
    "import geopandas\n",
    "\n",
    "import plotly\n",
    "import plotly.express as px\n",
    "import dash\n",
    "from dash import dcc\n",
    "from dash import html\n",
    "from dash.dependencies import Input, Output\n",
    "from dash import dash_table\n",
    "from jupyter_dash import JupyterDash\n",
    "\n",
    "pd.set_option('display.max_columns', None) \n",
    "pd.options.mode.chained_assignment = None"
   ]
  },
  {
   "cell_type": "code",
   "execution_count": 3,
   "id": "2883c424",
   "metadata": {},
   "outputs": [],
   "source": [
    "df_full = pd.read_csv('full_dataset.csv')"
   ]
  },
  {
   "cell_type": "code",
   "execution_count": 13,
   "id": "f931326d",
   "metadata": {
    "scrolled": true
   },
   "outputs": [
    {
     "data": {
      "text/html": [
       "<div>\n",
       "<style scoped>\n",
       "    .dataframe tbody tr th:only-of-type {\n",
       "        vertical-align: middle;\n",
       "    }\n",
       "\n",
       "    .dataframe tbody tr th {\n",
       "        vertical-align: top;\n",
       "    }\n",
       "\n",
       "    .dataframe thead th {\n",
       "        text-align: right;\n",
       "    }\n",
       "</style>\n",
       "<table border=\"1\" class=\"dataframe\">\n",
       "  <thead>\n",
       "    <tr style=\"text-align: right;\">\n",
       "      <th></th>\n",
       "      <th>id</th>\n",
       "      <th>internal_id</th>\n",
       "      <th>title_abbreviation</th>\n",
       "      <th>address</th>\n",
       "      <th>price</th>\n",
       "      <th>price_per_unit_area</th>\n",
       "      <th>size_with_square_meter</th>\n",
       "      <th>construction_year</th>\n",
       "      <th>levels</th>\n",
       "      <th>bedrooms</th>\n",
       "      <th>bathrooms</th>\n",
       "      <th>date</th>\n",
       "      <th>extraction_date</th>\n",
       "      <th>geo_lat</th>\n",
       "      <th>geo_lng</th>\n",
       "      <th>company_title</th>\n",
       "      <th>account_id</th>\n",
       "      <th>ad_group_id</th>\n",
       "      <th>url</th>\n",
       "      <th>dimos</th>\n",
       "      <th>perioxi</th>\n",
       "      <th>type</th>\n",
       "      <th>area</th>\n",
       "      <th>price_per_area</th>\n",
       "      <th>level_list</th>\n",
       "      <th>min_level</th>\n",
       "      <th>level_length</th>\n",
       "      <th>temp_no</th>\n",
       "      <th>temp_date_unit</th>\n",
       "      <th>days_passed</th>\n",
       "    </tr>\n",
       "  </thead>\n",
       "  <tbody>\n",
       "    <tr>\n",
       "      <th>0</th>\n",
       "      <td>815053331</td>\n",
       "      <td>47143151</td>\n",
       "      <td>Διαμέρισμα 54 τ.μ.</td>\n",
       "      <td>Αθήνα (Λυκαβηττός)</td>\n",
       "      <td>560.0</td>\n",
       "      <td>10</td>\n",
       "      <td>54 τ.μ.</td>\n",
       "      <td>1970.0</td>\n",
       "      <td>['-1', '0']</td>\n",
       "      <td>1.0</td>\n",
       "      <td>1.0</td>\n",
       "      <td>πριν από 2 ημέρες</td>\n",
       "      <td>2023-06-01</td>\n",
       "      <td>37.979777</td>\n",
       "      <td>23.742884</td>\n",
       "      <td>NaN</td>\n",
       "      <td>2267566.0</td>\n",
       "      <td>NaN</td>\n",
       "      <td>https://www.xe.gr/property/d/enoikiaseis-katoi...</td>\n",
       "      <td>Αθήνα</td>\n",
       "      <td>Λυκαβηττός</td>\n",
       "      <td>Διαμέρισμα</td>\n",
       "      <td>54.0</td>\n",
       "      <td>10.370370</td>\n",
       "      <td>[-1.0, 0.0]</td>\n",
       "      <td>0.0</td>\n",
       "      <td>2</td>\n",
       "      <td>2</td>\n",
       "      <td>ημ</td>\n",
       "      <td>2</td>\n",
       "    </tr>\n",
       "    <tr>\n",
       "      <th>1</th>\n",
       "      <td>815047933</td>\n",
       "      <td>47142491</td>\n",
       "      <td>Διαμέρισμα 45 τ.μ.</td>\n",
       "      <td>Αθήνα (Άνω Πατήσια)</td>\n",
       "      <td>420.0</td>\n",
       "      <td>9</td>\n",
       "      <td>45 τ.μ.</td>\n",
       "      <td>1969.0</td>\n",
       "      <td>['1']</td>\n",
       "      <td>1.0</td>\n",
       "      <td>1.0</td>\n",
       "      <td>πριν από 2 ημέρες</td>\n",
       "      <td>2023-06-01</td>\n",
       "      <td>38.017481</td>\n",
       "      <td>23.735684</td>\n",
       "      <td>NaN</td>\n",
       "      <td>1407351.0</td>\n",
       "      <td>459093.0</td>\n",
       "      <td>https://www.xe.gr/property/d/enoikiaseis-katoi...</td>\n",
       "      <td>Αθήνα</td>\n",
       "      <td>Άνω Πατήσια</td>\n",
       "      <td>Διαμέρισμα</td>\n",
       "      <td>45.0</td>\n",
       "      <td>9.333333</td>\n",
       "      <td>[1.0]</td>\n",
       "      <td>1.0</td>\n",
       "      <td>1</td>\n",
       "      <td>2</td>\n",
       "      <td>ημ</td>\n",
       "      <td>2</td>\n",
       "    </tr>\n",
       "    <tr>\n",
       "      <th>2</th>\n",
       "      <td>815017929</td>\n",
       "      <td>47140206</td>\n",
       "      <td>Διαμέρισμα 60 τ.μ.</td>\n",
       "      <td>Αθήνα (Κουντουριώτικα)</td>\n",
       "      <td>780.0</td>\n",
       "      <td>13</td>\n",
       "      <td>60 τ.μ.</td>\n",
       "      <td>1975.0</td>\n",
       "      <td>['2']</td>\n",
       "      <td>1.0</td>\n",
       "      <td>1.0</td>\n",
       "      <td>πριν από 2 ημέρες</td>\n",
       "      <td>2023-06-01</td>\n",
       "      <td>37.992291</td>\n",
       "      <td>23.755579</td>\n",
       "      <td>NaN</td>\n",
       "      <td>110841.0</td>\n",
       "      <td>NaN</td>\n",
       "      <td>https://www.xe.gr/property/d/enoikiaseis-katoi...</td>\n",
       "      <td>Αθήνα</td>\n",
       "      <td>Κουντουριώτικα</td>\n",
       "      <td>Διαμέρισμα</td>\n",
       "      <td>60.0</td>\n",
       "      <td>13.000000</td>\n",
       "      <td>[2.0]</td>\n",
       "      <td>2.0</td>\n",
       "      <td>1</td>\n",
       "      <td>2</td>\n",
       "      <td>ημ</td>\n",
       "      <td>2</td>\n",
       "    </tr>\n",
       "    <tr>\n",
       "      <th>3</th>\n",
       "      <td>814952950</td>\n",
       "      <td>47138240</td>\n",
       "      <td>Διαμέρισμα 55 τ.μ.</td>\n",
       "      <td>Αθήνα (Πολύγωνο)</td>\n",
       "      <td>600.0</td>\n",
       "      <td>11</td>\n",
       "      <td>55 τ.μ.</td>\n",
       "      <td>1981.0</td>\n",
       "      <td>['1']</td>\n",
       "      <td>1.0</td>\n",
       "      <td>1.0</td>\n",
       "      <td>πριν από 3 ημέρες</td>\n",
       "      <td>2023-06-01</td>\n",
       "      <td>37.999083</td>\n",
       "      <td>23.755417</td>\n",
       "      <td>NaN</td>\n",
       "      <td>1344554.0</td>\n",
       "      <td>NaN</td>\n",
       "      <td>https://www.xe.gr/property/d/enoikiaseis-katoi...</td>\n",
       "      <td>Αθήνα</td>\n",
       "      <td>Πολύγωνο</td>\n",
       "      <td>Διαμέρισμα</td>\n",
       "      <td>55.0</td>\n",
       "      <td>10.909091</td>\n",
       "      <td>[1.0]</td>\n",
       "      <td>1.0</td>\n",
       "      <td>1</td>\n",
       "      <td>3</td>\n",
       "      <td>ημ</td>\n",
       "      <td>3</td>\n",
       "    </tr>\n",
       "    <tr>\n",
       "      <th>4</th>\n",
       "      <td>814956607</td>\n",
       "      <td>47138448</td>\n",
       "      <td>Διαμέρισμα 50 τ.μ.</td>\n",
       "      <td>Αθήνα (Πανόρμου)</td>\n",
       "      <td>790.0</td>\n",
       "      <td>16</td>\n",
       "      <td>50 τ.μ.</td>\n",
       "      <td>1970.0</td>\n",
       "      <td>['1']</td>\n",
       "      <td>1.0</td>\n",
       "      <td>1.0</td>\n",
       "      <td>πριν από 3 ημέρες</td>\n",
       "      <td>2023-06-01</td>\n",
       "      <td>37.990937</td>\n",
       "      <td>23.765072</td>\n",
       "      <td>BLUEGROUND REAL ESTATE</td>\n",
       "      <td>1220409.0</td>\n",
       "      <td>NaN</td>\n",
       "      <td>https://www.xe.gr/property/d/enoikiaseis-katoi...</td>\n",
       "      <td>Αθήνα</td>\n",
       "      <td>Πανόρμου</td>\n",
       "      <td>Διαμέρισμα</td>\n",
       "      <td>50.0</td>\n",
       "      <td>15.800000</td>\n",
       "      <td>[1.0]</td>\n",
       "      <td>1.0</td>\n",
       "      <td>1</td>\n",
       "      <td>3</td>\n",
       "      <td>ημ</td>\n",
       "      <td>3</td>\n",
       "    </tr>\n",
       "    <tr>\n",
       "      <th>...</th>\n",
       "      <td>...</td>\n",
       "      <td>...</td>\n",
       "      <td>...</td>\n",
       "      <td>...</td>\n",
       "      <td>...</td>\n",
       "      <td>...</td>\n",
       "      <td>...</td>\n",
       "      <td>...</td>\n",
       "      <td>...</td>\n",
       "      <td>...</td>\n",
       "      <td>...</td>\n",
       "      <td>...</td>\n",
       "      <td>...</td>\n",
       "      <td>...</td>\n",
       "      <td>...</td>\n",
       "      <td>...</td>\n",
       "      <td>...</td>\n",
       "      <td>...</td>\n",
       "      <td>...</td>\n",
       "      <td>...</td>\n",
       "      <td>...</td>\n",
       "      <td>...</td>\n",
       "      <td>...</td>\n",
       "      <td>...</td>\n",
       "      <td>...</td>\n",
       "      <td>...</td>\n",
       "      <td>...</td>\n",
       "      <td>...</td>\n",
       "      <td>...</td>\n",
       "      <td>...</td>\n",
       "    </tr>\n",
       "    <tr>\n",
       "      <th>5451</th>\n",
       "      <td>798078305</td>\n",
       "      <td>46276831</td>\n",
       "      <td>Διαμέρισμα 150 τ.μ.</td>\n",
       "      <td>Βύρωνας</td>\n",
       "      <td>1050.0</td>\n",
       "      <td>7</td>\n",
       "      <td>150 τ.μ.</td>\n",
       "      <td>1974.0</td>\n",
       "      <td>['3']</td>\n",
       "      <td>3.0</td>\n",
       "      <td>1.0</td>\n",
       "      <td>πριν από 2 μήνες</td>\n",
       "      <td>2023-06-01</td>\n",
       "      <td>37.955561</td>\n",
       "      <td>23.750699</td>\n",
       "      <td>Homenet Real Estate &amp; Development</td>\n",
       "      <td>1161699.0</td>\n",
       "      <td>NaN</td>\n",
       "      <td>https://www.xe.gr/property/d/enoikiaseis-katoi...</td>\n",
       "      <td>Βύρωνας</td>\n",
       "      <td>NaN</td>\n",
       "      <td>Διαμέρισμα</td>\n",
       "      <td>150.0</td>\n",
       "      <td>7.000000</td>\n",
       "      <td>[3.0]</td>\n",
       "      <td>3.0</td>\n",
       "      <td>1</td>\n",
       "      <td>2</td>\n",
       "      <td>μή</td>\n",
       "      <td>60</td>\n",
       "    </tr>\n",
       "    <tr>\n",
       "      <th>5452</th>\n",
       "      <td>799256815</td>\n",
       "      <td>46334139</td>\n",
       "      <td>Διαμέρισμα 150 τ.μ.</td>\n",
       "      <td>Ζωγράφου (Κέντρο)</td>\n",
       "      <td>1000.0</td>\n",
       "      <td>7</td>\n",
       "      <td>150 τ.μ.</td>\n",
       "      <td>NaN</td>\n",
       "      <td>['3']</td>\n",
       "      <td>3.0</td>\n",
       "      <td>1.0</td>\n",
       "      <td>πριν από 2 μήνες</td>\n",
       "      <td>2023-06-01</td>\n",
       "      <td>37.976858</td>\n",
       "      <td>23.770422</td>\n",
       "      <td>Dimit Estate</td>\n",
       "      <td>1144164.0</td>\n",
       "      <td>NaN</td>\n",
       "      <td>https://www.xe.gr/property/d/enoikiaseis-katoi...</td>\n",
       "      <td>Ζωγράφου</td>\n",
       "      <td>Κέντρο</td>\n",
       "      <td>Διαμέρισμα</td>\n",
       "      <td>150.0</td>\n",
       "      <td>6.666667</td>\n",
       "      <td>[3.0]</td>\n",
       "      <td>3.0</td>\n",
       "      <td>1</td>\n",
       "      <td>2</td>\n",
       "      <td>μή</td>\n",
       "      <td>60</td>\n",
       "    </tr>\n",
       "    <tr>\n",
       "      <th>5453</th>\n",
       "      <td>804971100</td>\n",
       "      <td>46592632</td>\n",
       "      <td>Μονοκατοικία 600 τ.μ.</td>\n",
       "      <td>Φιλοθέη</td>\n",
       "      <td>8000.0</td>\n",
       "      <td>13</td>\n",
       "      <td>600 τ.μ.</td>\n",
       "      <td>NaN</td>\n",
       "      <td>['0']</td>\n",
       "      <td>4.0</td>\n",
       "      <td>3.0</td>\n",
       "      <td>πριν από 2 μήνες</td>\n",
       "      <td>2023-06-01</td>\n",
       "      <td>38.023565</td>\n",
       "      <td>23.777302</td>\n",
       "      <td>Moisiadis Real Estate</td>\n",
       "      <td>451111.0</td>\n",
       "      <td>NaN</td>\n",
       "      <td>https://www.xe.gr/property/d/enoikiaseis-katoi...</td>\n",
       "      <td>Φιλοθέη</td>\n",
       "      <td>NaN</td>\n",
       "      <td>Μονοκατοικία</td>\n",
       "      <td>600.0</td>\n",
       "      <td>13.333333</td>\n",
       "      <td>[0.0]</td>\n",
       "      <td>0.0</td>\n",
       "      <td>1</td>\n",
       "      <td>2</td>\n",
       "      <td>μή</td>\n",
       "      <td>60</td>\n",
       "    </tr>\n",
       "    <tr>\n",
       "      <th>5454</th>\n",
       "      <td>2550572</td>\n",
       "      <td>21407274</td>\n",
       "      <td>Διαμέρισμα 50 τ.μ.</td>\n",
       "      <td>Βύρωνας (Αγορά)</td>\n",
       "      <td>590.0</td>\n",
       "      <td>12</td>\n",
       "      <td>50 τ.μ.</td>\n",
       "      <td>1970.0</td>\n",
       "      <td>['1']</td>\n",
       "      <td>2.0</td>\n",
       "      <td>NaN</td>\n",
       "      <td>πριν από 2 μήνες</td>\n",
       "      <td>2023-06-01</td>\n",
       "      <td>37.959260</td>\n",
       "      <td>23.756369</td>\n",
       "      <td>NaN</td>\n",
       "      <td>88626.0</td>\n",
       "      <td>NaN</td>\n",
       "      <td>https://www.xe.gr/property/d/enoikiaseis-katoi...</td>\n",
       "      <td>Βύρωνας</td>\n",
       "      <td>Αγορά</td>\n",
       "      <td>Διαμέρισμα</td>\n",
       "      <td>50.0</td>\n",
       "      <td>11.800000</td>\n",
       "      <td>[1.0]</td>\n",
       "      <td>1.0</td>\n",
       "      <td>1</td>\n",
       "      <td>2</td>\n",
       "      <td>μή</td>\n",
       "      <td>60</td>\n",
       "    </tr>\n",
       "    <tr>\n",
       "      <th>5455</th>\n",
       "      <td>795430585</td>\n",
       "      <td>46139676</td>\n",
       "      <td>Διαμέρισμα 60 τ.μ.</td>\n",
       "      <td>Ζωγράφου</td>\n",
       "      <td>600.0</td>\n",
       "      <td>10</td>\n",
       "      <td>60 τ.μ.</td>\n",
       "      <td>NaN</td>\n",
       "      <td>['1']</td>\n",
       "      <td>1.0</td>\n",
       "      <td>NaN</td>\n",
       "      <td>πριν από 2 μήνες</td>\n",
       "      <td>2023-06-01</td>\n",
       "      <td>37.974187</td>\n",
       "      <td>23.780668</td>\n",
       "      <td>Dk Athens Real Estate</td>\n",
       "      <td>1082296.0</td>\n",
       "      <td>NaN</td>\n",
       "      <td>https://www.xe.gr/property/d/enoikiaseis-katoi...</td>\n",
       "      <td>Ζωγράφου</td>\n",
       "      <td>NaN</td>\n",
       "      <td>Διαμέρισμα</td>\n",
       "      <td>60.0</td>\n",
       "      <td>10.000000</td>\n",
       "      <td>[1.0]</td>\n",
       "      <td>1.0</td>\n",
       "      <td>1</td>\n",
       "      <td>2</td>\n",
       "      <td>μή</td>\n",
       "      <td>60</td>\n",
       "    </tr>\n",
       "  </tbody>\n",
       "</table>\n",
       "<p>5456 rows × 30 columns</p>\n",
       "</div>"
      ],
      "text/plain": [
       "             id  internal_id     title_abbreviation                 address  \\\n",
       "0     815053331     47143151     Διαμέρισμα 54 τ.μ.      Αθήνα (Λυκαβηττός)   \n",
       "1     815047933     47142491     Διαμέρισμα 45 τ.μ.     Αθήνα (Άνω Πατήσια)   \n",
       "2     815017929     47140206     Διαμέρισμα 60 τ.μ.  Αθήνα (Κουντουριώτικα)   \n",
       "3     814952950     47138240     Διαμέρισμα 55 τ.μ.        Αθήνα (Πολύγωνο)   \n",
       "4     814956607     47138448     Διαμέρισμα 50 τ.μ.        Αθήνα (Πανόρμου)   \n",
       "...         ...          ...                    ...                     ...   \n",
       "5451  798078305     46276831    Διαμέρισμα 150 τ.μ.                 Βύρωνας   \n",
       "5452  799256815     46334139    Διαμέρισμα 150 τ.μ.       Ζωγράφου (Κέντρο)   \n",
       "5453  804971100     46592632  Μονοκατοικία 600 τ.μ.                 Φιλοθέη   \n",
       "5454    2550572     21407274     Διαμέρισμα 50 τ.μ.         Βύρωνας (Αγορά)   \n",
       "5455  795430585     46139676     Διαμέρισμα 60 τ.μ.                Ζωγράφου   \n",
       "\n",
       "       price  price_per_unit_area size_with_square_meter  construction_year  \\\n",
       "0      560.0                   10                54 τ.μ.             1970.0   \n",
       "1      420.0                    9                45 τ.μ.             1969.0   \n",
       "2      780.0                   13                60 τ.μ.             1975.0   \n",
       "3      600.0                   11                55 τ.μ.             1981.0   \n",
       "4      790.0                   16                50 τ.μ.             1970.0   \n",
       "...      ...                  ...                    ...                ...   \n",
       "5451  1050.0                    7               150 τ.μ.             1974.0   \n",
       "5452  1000.0                    7               150 τ.μ.                NaN   \n",
       "5453  8000.0                   13               600 τ.μ.                NaN   \n",
       "5454   590.0                   12                50 τ.μ.             1970.0   \n",
       "5455   600.0                   10                60 τ.μ.                NaN   \n",
       "\n",
       "           levels  bedrooms  bathrooms               date extraction_date  \\\n",
       "0     ['-1', '0']       1.0        1.0  πριν από 2 ημέρες      2023-06-01   \n",
       "1           ['1']       1.0        1.0  πριν από 2 ημέρες      2023-06-01   \n",
       "2           ['2']       1.0        1.0  πριν από 2 ημέρες      2023-06-01   \n",
       "3           ['1']       1.0        1.0  πριν από 3 ημέρες      2023-06-01   \n",
       "4           ['1']       1.0        1.0  πριν από 3 ημέρες      2023-06-01   \n",
       "...           ...       ...        ...                ...             ...   \n",
       "5451        ['3']       3.0        1.0   πριν από 2 μήνες      2023-06-01   \n",
       "5452        ['3']       3.0        1.0   πριν από 2 μήνες      2023-06-01   \n",
       "5453        ['0']       4.0        3.0   πριν από 2 μήνες      2023-06-01   \n",
       "5454        ['1']       2.0        NaN   πριν από 2 μήνες      2023-06-01   \n",
       "5455        ['1']       1.0        NaN   πριν από 2 μήνες      2023-06-01   \n",
       "\n",
       "        geo_lat    geo_lng                      company_title  account_id  \\\n",
       "0     37.979777  23.742884                                NaN   2267566.0   \n",
       "1     38.017481  23.735684                                NaN   1407351.0   \n",
       "2     37.992291  23.755579                                NaN    110841.0   \n",
       "3     37.999083  23.755417                                NaN   1344554.0   \n",
       "4     37.990937  23.765072             BLUEGROUND REAL ESTATE   1220409.0   \n",
       "...         ...        ...                                ...         ...   \n",
       "5451  37.955561  23.750699  Homenet Real Estate & Development   1161699.0   \n",
       "5452  37.976858  23.770422                       Dimit Estate   1144164.0   \n",
       "5453  38.023565  23.777302              Moisiadis Real Estate    451111.0   \n",
       "5454  37.959260  23.756369                                NaN     88626.0   \n",
       "5455  37.974187  23.780668              Dk Athens Real Estate   1082296.0   \n",
       "\n",
       "      ad_group_id                                                url  \\\n",
       "0             NaN  https://www.xe.gr/property/d/enoikiaseis-katoi...   \n",
       "1        459093.0  https://www.xe.gr/property/d/enoikiaseis-katoi...   \n",
       "2             NaN  https://www.xe.gr/property/d/enoikiaseis-katoi...   \n",
       "3             NaN  https://www.xe.gr/property/d/enoikiaseis-katoi...   \n",
       "4             NaN  https://www.xe.gr/property/d/enoikiaseis-katoi...   \n",
       "...           ...                                                ...   \n",
       "5451          NaN  https://www.xe.gr/property/d/enoikiaseis-katoi...   \n",
       "5452          NaN  https://www.xe.gr/property/d/enoikiaseis-katoi...   \n",
       "5453          NaN  https://www.xe.gr/property/d/enoikiaseis-katoi...   \n",
       "5454          NaN  https://www.xe.gr/property/d/enoikiaseis-katoi...   \n",
       "5455          NaN  https://www.xe.gr/property/d/enoikiaseis-katoi...   \n",
       "\n",
       "         dimos         perioxi          type   area  price_per_area  \\\n",
       "0        Αθήνα      Λυκαβηττός    Διαμέρισμα   54.0       10.370370   \n",
       "1        Αθήνα     Άνω Πατήσια    Διαμέρισμα   45.0        9.333333   \n",
       "2        Αθήνα  Κουντουριώτικα    Διαμέρισμα   60.0       13.000000   \n",
       "3        Αθήνα        Πολύγωνο    Διαμέρισμα   55.0       10.909091   \n",
       "4        Αθήνα        Πανόρμου    Διαμέρισμα   50.0       15.800000   \n",
       "...        ...             ...           ...    ...             ...   \n",
       "5451   Βύρωνας             NaN    Διαμέρισμα  150.0        7.000000   \n",
       "5452  Ζωγράφου          Κέντρο    Διαμέρισμα  150.0        6.666667   \n",
       "5453   Φιλοθέη             NaN  Μονοκατοικία  600.0       13.333333   \n",
       "5454   Βύρωνας           Αγορά    Διαμέρισμα   50.0       11.800000   \n",
       "5455  Ζωγράφου             NaN    Διαμέρισμα   60.0       10.000000   \n",
       "\n",
       "       level_list  min_level  level_length  temp_no temp_date_unit  \\\n",
       "0     [-1.0, 0.0]        0.0             2        2             ημ   \n",
       "1           [1.0]        1.0             1        2             ημ   \n",
       "2           [2.0]        2.0             1        2             ημ   \n",
       "3           [1.0]        1.0             1        3             ημ   \n",
       "4           [1.0]        1.0             1        3             ημ   \n",
       "...           ...        ...           ...      ...            ...   \n",
       "5451        [3.0]        3.0             1        2             μή   \n",
       "5452        [3.0]        3.0             1        2             μή   \n",
       "5453        [0.0]        0.0             1        2             μή   \n",
       "5454        [1.0]        1.0             1        2             μή   \n",
       "5455        [1.0]        1.0             1        2             μή   \n",
       "\n",
       "      days_passed  \n",
       "0               2  \n",
       "1               2  \n",
       "2               2  \n",
       "3               3  \n",
       "4               3  \n",
       "...           ...  \n",
       "5451           60  \n",
       "5452           60  \n",
       "5453           60  \n",
       "5454           60  \n",
       "5455           60  \n",
       "\n",
       "[5456 rows x 30 columns]"
      ]
     },
     "execution_count": 13,
     "metadata": {},
     "output_type": "execute_result"
    }
   ],
   "source": [
    "one_day = '2023-06-01'\n",
    "df_one_day = df_full[df_full['extraction_date'] == one_day]\n",
    "df_one_day"
   ]
  },
  {
   "cell_type": "code",
   "execution_count": 14,
   "id": "bee45ac8",
   "metadata": {},
   "outputs": [
    {
     "data": {
      "text/html": [
       "<div>\n",
       "<style scoped>\n",
       "    .dataframe tbody tr th:only-of-type {\n",
       "        vertical-align: middle;\n",
       "    }\n",
       "\n",
       "    .dataframe tbody tr th {\n",
       "        vertical-align: top;\n",
       "    }\n",
       "\n",
       "    .dataframe thead th {\n",
       "        text-align: right;\n",
       "    }\n",
       "</style>\n",
       "<table border=\"1\" class=\"dataframe\">\n",
       "  <thead>\n",
       "    <tr style=\"text-align: right;\">\n",
       "      <th></th>\n",
       "      <th>price_per_unit_area</th>\n",
       "    </tr>\n",
       "    <tr>\n",
       "      <th>dimos</th>\n",
       "      <th></th>\n",
       "    </tr>\n",
       "  </thead>\n",
       "  <tbody>\n",
       "    <tr>\n",
       "      <th>Γλυφάδα</th>\n",
       "      <td>18.000000</td>\n",
       "    </tr>\n",
       "    <tr>\n",
       "      <th>Ψυχικό</th>\n",
       "      <td>14.676056</td>\n",
       "    </tr>\n",
       "    <tr>\n",
       "      <th>Μαρούσι</th>\n",
       "      <td>14.111111</td>\n",
       "    </tr>\n",
       "    <tr>\n",
       "      <th>Φιλοθέη</th>\n",
       "      <td>13.208333</td>\n",
       "    </tr>\n",
       "    <tr>\n",
       "      <th>Νέο Ψυχικό</th>\n",
       "      <td>11.687500</td>\n",
       "    </tr>\n",
       "    <tr>\n",
       "      <th>Καισαριανή</th>\n",
       "      <td>11.012048</td>\n",
       "    </tr>\n",
       "    <tr>\n",
       "      <th>Χαλάνδρι</th>\n",
       "      <td>10.739130</td>\n",
       "    </tr>\n",
       "    <tr>\n",
       "      <th>Άγιος Δημήτριος</th>\n",
       "      <td>10.500000</td>\n",
       "    </tr>\n",
       "    <tr>\n",
       "      <th>Δάφνη</th>\n",
       "      <td>10.487805</td>\n",
       "    </tr>\n",
       "    <tr>\n",
       "      <th>Αθήνα</th>\n",
       "      <td>10.344023</td>\n",
       "    </tr>\n",
       "    <tr>\n",
       "      <th>Μοσχάτο</th>\n",
       "      <td>10.222222</td>\n",
       "    </tr>\n",
       "    <tr>\n",
       "      <th>Υμηττός</th>\n",
       "      <td>9.954545</td>\n",
       "    </tr>\n",
       "    <tr>\n",
       "      <th>Ζωγράφου</th>\n",
       "      <td>9.869565</td>\n",
       "    </tr>\n",
       "    <tr>\n",
       "      <th>Βύρωνας</th>\n",
       "      <td>9.551724</td>\n",
       "    </tr>\n",
       "    <tr>\n",
       "      <th>Καλλιθέα</th>\n",
       "      <td>9.542857</td>\n",
       "    </tr>\n",
       "    <tr>\n",
       "      <th>Ταύρος</th>\n",
       "      <td>9.411765</td>\n",
       "    </tr>\n",
       "    <tr>\n",
       "      <th>Παπάγου</th>\n",
       "      <td>9.333333</td>\n",
       "    </tr>\n",
       "    <tr>\n",
       "      <th>Νέα Σμύρνη</th>\n",
       "      <td>9.250000</td>\n",
       "    </tr>\n",
       "    <tr>\n",
       "      <th>Νέα Ιωνία</th>\n",
       "      <td>8.714286</td>\n",
       "    </tr>\n",
       "    <tr>\n",
       "      <th>Γαλάτσι</th>\n",
       "      <td>8.500000</td>\n",
       "    </tr>\n",
       "    <tr>\n",
       "      <th>Περιστέρι</th>\n",
       "      <td>8.070175</td>\n",
       "    </tr>\n",
       "    <tr>\n",
       "      <th>Χολαργός</th>\n",
       "      <td>8.000000</td>\n",
       "    </tr>\n",
       "    <tr>\n",
       "      <th>Άγιος Νικόλαος</th>\n",
       "      <td>8.000000</td>\n",
       "    </tr>\n",
       "    <tr>\n",
       "      <th>Αιγάλεω</th>\n",
       "      <td>7.555556</td>\n",
       "    </tr>\n",
       "    <tr>\n",
       "      <th>Ίλιον</th>\n",
       "      <td>7.536585</td>\n",
       "    </tr>\n",
       "    <tr>\n",
       "      <th>Ηλιούπολη</th>\n",
       "      <td>7.500000</td>\n",
       "    </tr>\n",
       "    <tr>\n",
       "      <th>Νέα Χαλκηδόνα</th>\n",
       "      <td>7.266667</td>\n",
       "    </tr>\n",
       "    <tr>\n",
       "      <th>Άγιοι Ανάργυροι</th>\n",
       "      <td>7.227273</td>\n",
       "    </tr>\n",
       "  </tbody>\n",
       "</table>\n",
       "</div>"
      ],
      "text/plain": [
       "                 price_per_unit_area\n",
       "dimos                               \n",
       "Γλυφάδα                    18.000000\n",
       "Ψυχικό                     14.676056\n",
       "Μαρούσι                    14.111111\n",
       "Φιλοθέη                    13.208333\n",
       "Νέο Ψυχικό                 11.687500\n",
       "Καισαριανή                 11.012048\n",
       "Χαλάνδρι                   10.739130\n",
       "Άγιος Δημήτριος            10.500000\n",
       "Δάφνη                      10.487805\n",
       "Αθήνα                      10.344023\n",
       "Μοσχάτο                    10.222222\n",
       "Υμηττός                     9.954545\n",
       "Ζωγράφου                    9.869565\n",
       "Βύρωνας                     9.551724\n",
       "Καλλιθέα                    9.542857\n",
       "Ταύρος                      9.411765\n",
       "Παπάγου                     9.333333\n",
       "Νέα Σμύρνη                  9.250000\n",
       "Νέα Ιωνία                   8.714286\n",
       "Γαλάτσι                     8.500000\n",
       "Περιστέρι                   8.070175\n",
       "Χολαργός                    8.000000\n",
       "Άγιος Νικόλαος              8.000000\n",
       "Αιγάλεω                     7.555556\n",
       "Ίλιον                       7.536585\n",
       "Ηλιούπολη                   7.500000\n",
       "Νέα Χαλκηδόνα               7.266667\n",
       "Άγιοι Ανάργυροι             7.227273"
      ]
     },
     "execution_count": 14,
     "metadata": {},
     "output_type": "execute_result"
    }
   ],
   "source": [
    "df_one_day.groupby('dimos')[['price_per_unit_area']].mean().sort_values('price_per_unit_area', ascending=False)"
   ]
  },
  {
   "cell_type": "code",
   "execution_count": 15,
   "id": "d362ac86",
   "metadata": {},
   "outputs": [
    {
     "data": {
      "text/html": [
       "<div>\n",
       "<style scoped>\n",
       "    .dataframe tbody tr th:only-of-type {\n",
       "        vertical-align: middle;\n",
       "    }\n",
       "\n",
       "    .dataframe tbody tr th {\n",
       "        vertical-align: top;\n",
       "    }\n",
       "\n",
       "    .dataframe thead tr th {\n",
       "        text-align: left;\n",
       "    }\n",
       "</style>\n",
       "<table border=\"1\" class=\"dataframe\">\n",
       "  <thead>\n",
       "    <tr>\n",
       "      <th></th>\n",
       "      <th>dimos</th>\n",
       "      <th colspan=\"4\" halign=\"left\">price_per_unit_area</th>\n",
       "      <th colspan=\"3\" halign=\"left\">construction_year</th>\n",
       "    </tr>\n",
       "    <tr>\n",
       "      <th></th>\n",
       "      <th></th>\n",
       "      <th>mean</th>\n",
       "      <th>count</th>\n",
       "      <th>min</th>\n",
       "      <th>max</th>\n",
       "      <th>mean</th>\n",
       "      <th>min</th>\n",
       "      <th>max</th>\n",
       "    </tr>\n",
       "  </thead>\n",
       "  <tbody>\n",
       "    <tr>\n",
       "      <th>8</th>\n",
       "      <td>Γλυφάδα</td>\n",
       "      <td>18.000000</td>\n",
       "      <td>1</td>\n",
       "      <td>18</td>\n",
       "      <td>18</td>\n",
       "      <td>2011.000000</td>\n",
       "      <td>2011.0</td>\n",
       "      <td>2011.0</td>\n",
       "    </tr>\n",
       "    <tr>\n",
       "      <th>27</th>\n",
       "      <td>Ψυχικό</td>\n",
       "      <td>14.676056</td>\n",
       "      <td>71</td>\n",
       "      <td>7</td>\n",
       "      <td>25</td>\n",
       "      <td>1980.786885</td>\n",
       "      <td>1948.0</td>\n",
       "      <td>2020.0</td>\n",
       "    </tr>\n",
       "    <tr>\n",
       "      <th>14</th>\n",
       "      <td>Μαρούσι</td>\n",
       "      <td>14.111111</td>\n",
       "      <td>18</td>\n",
       "      <td>8</td>\n",
       "      <td>20</td>\n",
       "      <td>1981.166667</td>\n",
       "      <td>1960.0</td>\n",
       "      <td>2001.0</td>\n",
       "    </tr>\n",
       "    <tr>\n",
       "      <th>24</th>\n",
       "      <td>Φιλοθέη</td>\n",
       "      <td>13.208333</td>\n",
       "      <td>48</td>\n",
       "      <td>6</td>\n",
       "      <td>22</td>\n",
       "      <td>1984.184211</td>\n",
       "      <td>1952.0</td>\n",
       "      <td>2023.0</td>\n",
       "    </tr>\n",
       "    <tr>\n",
       "      <th>19</th>\n",
       "      <td>Νέο Ψυχικό</td>\n",
       "      <td>11.687500</td>\n",
       "      <td>48</td>\n",
       "      <td>5</td>\n",
       "      <td>22</td>\n",
       "      <td>1987.902439</td>\n",
       "      <td>1960.0</td>\n",
       "      <td>2023.0</td>\n",
       "    </tr>\n",
       "    <tr>\n",
       "      <th>12</th>\n",
       "      <td>Καισαριανή</td>\n",
       "      <td>11.012048</td>\n",
       "      <td>83</td>\n",
       "      <td>6</td>\n",
       "      <td>22</td>\n",
       "      <td>1980.656716</td>\n",
       "      <td>1958.0</td>\n",
       "      <td>2017.0</td>\n",
       "    </tr>\n",
       "    <tr>\n",
       "      <th>25</th>\n",
       "      <td>Χαλάνδρι</td>\n",
       "      <td>10.739130</td>\n",
       "      <td>23</td>\n",
       "      <td>8</td>\n",
       "      <td>16</td>\n",
       "      <td>1983.500000</td>\n",
       "      <td>1968.0</td>\n",
       "      <td>2005.0</td>\n",
       "    </tr>\n",
       "    <tr>\n",
       "      <th>1</th>\n",
       "      <td>Άγιος Δημήτριος</td>\n",
       "      <td>10.500000</td>\n",
       "      <td>2</td>\n",
       "      <td>10</td>\n",
       "      <td>11</td>\n",
       "      <td>1980.000000</td>\n",
       "      <td>1980.0</td>\n",
       "      <td>1980.0</td>\n",
       "    </tr>\n",
       "    <tr>\n",
       "      <th>9</th>\n",
       "      <td>Δάφνη</td>\n",
       "      <td>10.487805</td>\n",
       "      <td>41</td>\n",
       "      <td>5</td>\n",
       "      <td>25</td>\n",
       "      <td>1988.861111</td>\n",
       "      <td>1964.0</td>\n",
       "      <td>2022.0</td>\n",
       "    </tr>\n",
       "    <tr>\n",
       "      <th>4</th>\n",
       "      <td>Αθήνα</td>\n",
       "      <td>10.344023</td>\n",
       "      <td>3898</td>\n",
       "      <td>4</td>\n",
       "      <td>25</td>\n",
       "      <td>1973.860428</td>\n",
       "      <td>1900.0</td>\n",
       "      <td>2023.0</td>\n",
       "    </tr>\n",
       "    <tr>\n",
       "      <th>15</th>\n",
       "      <td>Μοσχάτο</td>\n",
       "      <td>10.222222</td>\n",
       "      <td>9</td>\n",
       "      <td>6</td>\n",
       "      <td>18</td>\n",
       "      <td>1973.375000</td>\n",
       "      <td>1956.0</td>\n",
       "      <td>1990.0</td>\n",
       "    </tr>\n",
       "    <tr>\n",
       "      <th>23</th>\n",
       "      <td>Υμηττός</td>\n",
       "      <td>9.954545</td>\n",
       "      <td>22</td>\n",
       "      <td>6</td>\n",
       "      <td>16</td>\n",
       "      <td>1983.222222</td>\n",
       "      <td>1954.0</td>\n",
       "      <td>2012.0</td>\n",
       "    </tr>\n",
       "    <tr>\n",
       "      <th>10</th>\n",
       "      <td>Ζωγράφου</td>\n",
       "      <td>9.869565</td>\n",
       "      <td>391</td>\n",
       "      <td>4</td>\n",
       "      <td>24</td>\n",
       "      <td>1978.624595</td>\n",
       "      <td>1958.0</td>\n",
       "      <td>2023.0</td>\n",
       "    </tr>\n",
       "    <tr>\n",
       "      <th>6</th>\n",
       "      <td>Βύρωνας</td>\n",
       "      <td>9.551724</td>\n",
       "      <td>116</td>\n",
       "      <td>5</td>\n",
       "      <td>19</td>\n",
       "      <td>1983.846939</td>\n",
       "      <td>1950.0</td>\n",
       "      <td>2023.0</td>\n",
       "    </tr>\n",
       "    <tr>\n",
       "      <th>13</th>\n",
       "      <td>Καλλιθέα</td>\n",
       "      <td>9.542857</td>\n",
       "      <td>280</td>\n",
       "      <td>5</td>\n",
       "      <td>22</td>\n",
       "      <td>1979.128440</td>\n",
       "      <td>1952.0</td>\n",
       "      <td>2023.0</td>\n",
       "    </tr>\n",
       "    <tr>\n",
       "      <th>22</th>\n",
       "      <td>Ταύρος</td>\n",
       "      <td>9.411765</td>\n",
       "      <td>17</td>\n",
       "      <td>6</td>\n",
       "      <td>13</td>\n",
       "      <td>1989.375000</td>\n",
       "      <td>1964.0</td>\n",
       "      <td>2022.0</td>\n",
       "    </tr>\n",
       "    <tr>\n",
       "      <th>20</th>\n",
       "      <td>Παπάγου</td>\n",
       "      <td>9.333333</td>\n",
       "      <td>3</td>\n",
       "      <td>9</td>\n",
       "      <td>10</td>\n",
       "      <td>1975.000000</td>\n",
       "      <td>1970.0</td>\n",
       "      <td>1985.0</td>\n",
       "    </tr>\n",
       "    <tr>\n",
       "      <th>17</th>\n",
       "      <td>Νέα Σμύρνη</td>\n",
       "      <td>9.250000</td>\n",
       "      <td>72</td>\n",
       "      <td>6</td>\n",
       "      <td>21</td>\n",
       "      <td>1977.258621</td>\n",
       "      <td>1945.0</td>\n",
       "      <td>2019.0</td>\n",
       "    </tr>\n",
       "    <tr>\n",
       "      <th>16</th>\n",
       "      <td>Νέα Ιωνία</td>\n",
       "      <td>8.714286</td>\n",
       "      <td>14</td>\n",
       "      <td>6</td>\n",
       "      <td>12</td>\n",
       "      <td>1984.555556</td>\n",
       "      <td>1970.0</td>\n",
       "      <td>2008.0</td>\n",
       "    </tr>\n",
       "    <tr>\n",
       "      <th>7</th>\n",
       "      <td>Γαλάτσι</td>\n",
       "      <td>8.500000</td>\n",
       "      <td>94</td>\n",
       "      <td>6</td>\n",
       "      <td>17</td>\n",
       "      <td>1985.909091</td>\n",
       "      <td>1970.0</td>\n",
       "      <td>2023.0</td>\n",
       "    </tr>\n",
       "    <tr>\n",
       "      <th>21</th>\n",
       "      <td>Περιστέρι</td>\n",
       "      <td>8.070175</td>\n",
       "      <td>114</td>\n",
       "      <td>4</td>\n",
       "      <td>15</td>\n",
       "      <td>1987.921053</td>\n",
       "      <td>1950.0</td>\n",
       "      <td>2023.0</td>\n",
       "    </tr>\n",
       "    <tr>\n",
       "      <th>26</th>\n",
       "      <td>Χολαργός</td>\n",
       "      <td>8.000000</td>\n",
       "      <td>1</td>\n",
       "      <td>8</td>\n",
       "      <td>8</td>\n",
       "      <td>NaN</td>\n",
       "      <td>NaN</td>\n",
       "      <td>NaN</td>\n",
       "    </tr>\n",
       "    <tr>\n",
       "      <th>2</th>\n",
       "      <td>Άγιος Νικόλαος</td>\n",
       "      <td>8.000000</td>\n",
       "      <td>1</td>\n",
       "      <td>8</td>\n",
       "      <td>8</td>\n",
       "      <td>NaN</td>\n",
       "      <td>NaN</td>\n",
       "      <td>NaN</td>\n",
       "    </tr>\n",
       "    <tr>\n",
       "      <th>5</th>\n",
       "      <td>Αιγάλεω</td>\n",
       "      <td>7.555556</td>\n",
       "      <td>9</td>\n",
       "      <td>5</td>\n",
       "      <td>12</td>\n",
       "      <td>1980.666667</td>\n",
       "      <td>1970.0</td>\n",
       "      <td>1990.0</td>\n",
       "    </tr>\n",
       "    <tr>\n",
       "      <th>3</th>\n",
       "      <td>Ίλιον</td>\n",
       "      <td>7.536585</td>\n",
       "      <td>41</td>\n",
       "      <td>4</td>\n",
       "      <td>14</td>\n",
       "      <td>1991.181818</td>\n",
       "      <td>1950.0</td>\n",
       "      <td>2023.0</td>\n",
       "    </tr>\n",
       "    <tr>\n",
       "      <th>11</th>\n",
       "      <td>Ηλιούπολη</td>\n",
       "      <td>7.500000</td>\n",
       "      <td>2</td>\n",
       "      <td>7</td>\n",
       "      <td>8</td>\n",
       "      <td>1988.000000</td>\n",
       "      <td>1978.0</td>\n",
       "      <td>1998.0</td>\n",
       "    </tr>\n",
       "    <tr>\n",
       "      <th>18</th>\n",
       "      <td>Νέα Χαλκηδόνα</td>\n",
       "      <td>7.266667</td>\n",
       "      <td>15</td>\n",
       "      <td>5</td>\n",
       "      <td>12</td>\n",
       "      <td>1977.076923</td>\n",
       "      <td>1957.0</td>\n",
       "      <td>2018.0</td>\n",
       "    </tr>\n",
       "    <tr>\n",
       "      <th>0</th>\n",
       "      <td>Άγιοι Ανάργυροι</td>\n",
       "      <td>7.227273</td>\n",
       "      <td>22</td>\n",
       "      <td>5</td>\n",
       "      <td>12</td>\n",
       "      <td>1985.769231</td>\n",
       "      <td>1960.0</td>\n",
       "      <td>2017.0</td>\n",
       "    </tr>\n",
       "  </tbody>\n",
       "</table>\n",
       "</div>"
      ],
      "text/plain": [
       "              dimos price_per_unit_area               construction_year  \\\n",
       "                                   mean count min max              mean   \n",
       "8           Γλυφάδα           18.000000     1  18  18       2011.000000   \n",
       "27           Ψυχικό           14.676056    71   7  25       1980.786885   \n",
       "14          Μαρούσι           14.111111    18   8  20       1981.166667   \n",
       "24          Φιλοθέη           13.208333    48   6  22       1984.184211   \n",
       "19       Νέο Ψυχικό           11.687500    48   5  22       1987.902439   \n",
       "12       Καισαριανή           11.012048    83   6  22       1980.656716   \n",
       "25         Χαλάνδρι           10.739130    23   8  16       1983.500000   \n",
       "1   Άγιος Δημήτριος           10.500000     2  10  11       1980.000000   \n",
       "9             Δάφνη           10.487805    41   5  25       1988.861111   \n",
       "4             Αθήνα           10.344023  3898   4  25       1973.860428   \n",
       "15          Μοσχάτο           10.222222     9   6  18       1973.375000   \n",
       "23          Υμηττός            9.954545    22   6  16       1983.222222   \n",
       "10         Ζωγράφου            9.869565   391   4  24       1978.624595   \n",
       "6           Βύρωνας            9.551724   116   5  19       1983.846939   \n",
       "13         Καλλιθέα            9.542857   280   5  22       1979.128440   \n",
       "22           Ταύρος            9.411765    17   6  13       1989.375000   \n",
       "20          Παπάγου            9.333333     3   9  10       1975.000000   \n",
       "17       Νέα Σμύρνη            9.250000    72   6  21       1977.258621   \n",
       "16        Νέα Ιωνία            8.714286    14   6  12       1984.555556   \n",
       "7           Γαλάτσι            8.500000    94   6  17       1985.909091   \n",
       "21        Περιστέρι            8.070175   114   4  15       1987.921053   \n",
       "26         Χολαργός            8.000000     1   8   8               NaN   \n",
       "2    Άγιος Νικόλαος            8.000000     1   8   8               NaN   \n",
       "5           Αιγάλεω            7.555556     9   5  12       1980.666667   \n",
       "3             Ίλιον            7.536585    41   4  14       1991.181818   \n",
       "11        Ηλιούπολη            7.500000     2   7   8       1988.000000   \n",
       "18    Νέα Χαλκηδόνα            7.266667    15   5  12       1977.076923   \n",
       "0   Άγιοι Ανάργυροι            7.227273    22   5  12       1985.769231   \n",
       "\n",
       "                    \n",
       "       min     max  \n",
       "8   2011.0  2011.0  \n",
       "27  1948.0  2020.0  \n",
       "14  1960.0  2001.0  \n",
       "24  1952.0  2023.0  \n",
       "19  1960.0  2023.0  \n",
       "12  1958.0  2017.0  \n",
       "25  1968.0  2005.0  \n",
       "1   1980.0  1980.0  \n",
       "9   1964.0  2022.0  \n",
       "4   1900.0  2023.0  \n",
       "15  1956.0  1990.0  \n",
       "23  1954.0  2012.0  \n",
       "10  1958.0  2023.0  \n",
       "6   1950.0  2023.0  \n",
       "13  1952.0  2023.0  \n",
       "22  1964.0  2022.0  \n",
       "20  1970.0  1985.0  \n",
       "17  1945.0  2019.0  \n",
       "16  1970.0  2008.0  \n",
       "7   1970.0  2023.0  \n",
       "21  1950.0  2023.0  \n",
       "26     NaN     NaN  \n",
       "2      NaN     NaN  \n",
       "5   1970.0  1990.0  \n",
       "3   1950.0  2023.0  \n",
       "11  1978.0  1998.0  \n",
       "18  1957.0  2018.0  \n",
       "0   1960.0  2017.0  "
      ]
     },
     "execution_count": 15,
     "metadata": {},
     "output_type": "execute_result"
    }
   ],
   "source": [
    "df_one_day.groupby('dimos').aggregate({'price_per_unit_area': ['mean', 'count', 'min', 'max'], 'construction_year': ['mean', 'min', 'max']}).reset_index().sort_values(by=('price_per_unit_area', 'mean'), ascending=False)"
   ]
  },
  {
   "cell_type": "code",
   "execution_count": 16,
   "id": "066d2d9a",
   "metadata": {},
   "outputs": [
    {
     "data": {
      "text/html": [
       "<div>\n",
       "<style scoped>\n",
       "    .dataframe tbody tr th:only-of-type {\n",
       "        vertical-align: middle;\n",
       "    }\n",
       "\n",
       "    .dataframe tbody tr th {\n",
       "        vertical-align: top;\n",
       "    }\n",
       "\n",
       "    .dataframe thead tr th {\n",
       "        text-align: left;\n",
       "    }\n",
       "</style>\n",
       "<table border=\"1\" class=\"dataframe\">\n",
       "  <thead>\n",
       "    <tr>\n",
       "      <th></th>\n",
       "      <th>perioxi</th>\n",
       "      <th colspan=\"4\" halign=\"left\">price_per_unit_area</th>\n",
       "      <th colspan=\"3\" halign=\"left\">construction_year</th>\n",
       "    </tr>\n",
       "    <tr>\n",
       "      <th></th>\n",
       "      <th></th>\n",
       "      <th>mean</th>\n",
       "      <th>count</th>\n",
       "      <th>min</th>\n",
       "      <th>max</th>\n",
       "      <th>mean</th>\n",
       "      <th>min</th>\n",
       "      <th>max</th>\n",
       "    </tr>\n",
       "  </thead>\n",
       "  <tbody>\n",
       "    <tr>\n",
       "      <th>136</th>\n",
       "      <td>Ρηγίλλης</td>\n",
       "      <td>20.444444</td>\n",
       "      <td>9</td>\n",
       "      <td>13</td>\n",
       "      <td>24</td>\n",
       "      <td>1965.333333</td>\n",
       "      <td>1947.0</td>\n",
       "      <td>2023.0</td>\n",
       "    </tr>\n",
       "    <tr>\n",
       "      <th>118</th>\n",
       "      <td>Πλάκα</td>\n",
       "      <td>16.166667</td>\n",
       "      <td>12</td>\n",
       "      <td>12</td>\n",
       "      <td>22</td>\n",
       "      <td>1952.750000</td>\n",
       "      <td>1900.0</td>\n",
       "      <td>1970.0</td>\n",
       "    </tr>\n",
       "    <tr>\n",
       "      <th>69</th>\n",
       "      <td>Κολωνάκι</td>\n",
       "      <td>16.110048</td>\n",
       "      <td>209</td>\n",
       "      <td>5</td>\n",
       "      <td>25</td>\n",
       "      <td>1967.011299</td>\n",
       "      <td>1930.0</td>\n",
       "      <td>2010.0</td>\n",
       "    </tr>\n",
       "    <tr>\n",
       "      <th>92</th>\n",
       "      <td>Μοναστηράκι</td>\n",
       "      <td>15.666667</td>\n",
       "      <td>9</td>\n",
       "      <td>8</td>\n",
       "      <td>20</td>\n",
       "      <td>1957.666667</td>\n",
       "      <td>1901.0</td>\n",
       "      <td>2018.0</td>\n",
       "    </tr>\n",
       "    <tr>\n",
       "      <th>52</th>\n",
       "      <td>Ζάππειο</td>\n",
       "      <td>15.650000</td>\n",
       "      <td>20</td>\n",
       "      <td>9</td>\n",
       "      <td>23</td>\n",
       "      <td>1970.941176</td>\n",
       "      <td>1933.0</td>\n",
       "      <td>2001.0</td>\n",
       "    </tr>\n",
       "    <tr>\n",
       "      <th>...</th>\n",
       "      <td>...</td>\n",
       "      <td>...</td>\n",
       "      <td>...</td>\n",
       "      <td>...</td>\n",
       "      <td>...</td>\n",
       "      <td>...</td>\n",
       "      <td>...</td>\n",
       "      <td>...</td>\n",
       "    </tr>\n",
       "    <tr>\n",
       "      <th>37</th>\n",
       "      <td>Βιαμάξ</td>\n",
       "      <td>6.428571</td>\n",
       "      <td>7</td>\n",
       "      <td>6</td>\n",
       "      <td>7</td>\n",
       "      <td>1999.000000</td>\n",
       "      <td>1978.0</td>\n",
       "      <td>2005.0</td>\n",
       "    </tr>\n",
       "    <tr>\n",
       "      <th>152</th>\n",
       "      <td>Φλέβα</td>\n",
       "      <td>6.000000</td>\n",
       "      <td>1</td>\n",
       "      <td>6</td>\n",
       "      <td>6</td>\n",
       "      <td>NaN</td>\n",
       "      <td>NaN</td>\n",
       "      <td>NaN</td>\n",
       "    </tr>\n",
       "    <tr>\n",
       "      <th>6</th>\n",
       "      <td>Άγιος Ιωάννης Θεολόγος</td>\n",
       "      <td>6.000000</td>\n",
       "      <td>7</td>\n",
       "      <td>4</td>\n",
       "      <td>8</td>\n",
       "      <td>1980.000000</td>\n",
       "      <td>1977.0</td>\n",
       "      <td>1985.0</td>\n",
       "    </tr>\n",
       "    <tr>\n",
       "      <th>150</th>\n",
       "      <td>Τσούμπα</td>\n",
       "      <td>5.500000</td>\n",
       "      <td>2</td>\n",
       "      <td>5</td>\n",
       "      <td>6</td>\n",
       "      <td>1965.000000</td>\n",
       "      <td>1960.0</td>\n",
       "      <td>1970.0</td>\n",
       "    </tr>\n",
       "    <tr>\n",
       "      <th>81</th>\n",
       "      <td>Λόφος Αξιωματικών</td>\n",
       "      <td>5.500000</td>\n",
       "      <td>2</td>\n",
       "      <td>5</td>\n",
       "      <td>6</td>\n",
       "      <td>1998.000000</td>\n",
       "      <td>1998.0</td>\n",
       "      <td>1998.0</td>\n",
       "    </tr>\n",
       "  </tbody>\n",
       "</table>\n",
       "<p>158 rows × 8 columns</p>\n",
       "</div>"
      ],
      "text/plain": [
       "                    perioxi price_per_unit_area                \\\n",
       "                                           mean count min max   \n",
       "136                Ρηγίλλης           20.444444     9  13  24   \n",
       "118                   Πλάκα           16.166667    12  12  22   \n",
       "69                 Κολωνάκι           16.110048   209   5  25   \n",
       "92              Μοναστηράκι           15.666667     9   8  20   \n",
       "52                  Ζάππειο           15.650000    20   9  23   \n",
       "..                      ...                 ...   ...  ..  ..   \n",
       "37                   Βιαμάξ            6.428571     7   6   7   \n",
       "152                   Φλέβα            6.000000     1   6   6   \n",
       "6    Άγιος Ιωάννης Θεολόγος            6.000000     7   4   8   \n",
       "150                 Τσούμπα            5.500000     2   5   6   \n",
       "81        Λόφος Αξιωματικών            5.500000     2   5   6   \n",
       "\n",
       "    construction_year                  \n",
       "                 mean     min     max  \n",
       "136       1965.333333  1947.0  2023.0  \n",
       "118       1952.750000  1900.0  1970.0  \n",
       "69        1967.011299  1930.0  2010.0  \n",
       "92        1957.666667  1901.0  2018.0  \n",
       "52        1970.941176  1933.0  2001.0  \n",
       "..                ...     ...     ...  \n",
       "37        1999.000000  1978.0  2005.0  \n",
       "152               NaN     NaN     NaN  \n",
       "6         1980.000000  1977.0  1985.0  \n",
       "150       1965.000000  1960.0  1970.0  \n",
       "81        1998.000000  1998.0  1998.0  \n",
       "\n",
       "[158 rows x 8 columns]"
      ]
     },
     "execution_count": 16,
     "metadata": {},
     "output_type": "execute_result"
    }
   ],
   "source": [
    "df_one_day.groupby('perioxi').aggregate({'price_per_unit_area': ['mean', 'count', 'min', 'max'], 'construction_year': ['mean', 'min', 'max']}).reset_index().sort_values(by=('price_per_unit_area', 'mean'), ascending=False)"
   ]
  },
  {
   "cell_type": "code",
   "execution_count": 17,
   "id": "c5624942",
   "metadata": {},
   "outputs": [
    {
     "data": {
      "text/plain": [
       "{'Παγκράτι': 218,\n",
       " 'Κολωνάκι': 209,\n",
       " 'Κυψέλη': 205,\n",
       " 'Άνω Κυψέλη': 129,\n",
       " 'Αμπελόκηποι': 123,\n",
       " 'Πλατεία Αμερικής': 104,\n",
       " 'Πλατεία Αττικής': 94,\n",
       " 'Άγιος Παντελεήμονας': 94,\n",
       " 'Άνω Πατήσια': 87,\n",
       " 'Πανόρμου': 86,\n",
       " 'Ιπποκράτους': 86,\n",
       " 'Κουντουριώτικα': 83,\n",
       " 'Γκύζη': 82,\n",
       " 'Κολιάτσου': 80,\n",
       " 'Νέα Κυψέλη': 74,\n",
       " 'Λυκαβηττός': 72,\n",
       " 'Χίλτον': 67,\n",
       " 'Μουσείο': 67,\n",
       " 'Εξάρχεια': 65,\n",
       " 'Άγιος Νικόλαος': 63,\n",
       " 'Πεδίον Άρεως': 61,\n",
       " 'Προφήτης Ηλίας': 61,\n",
       " 'Ακαδημία Πλάτωνος': 61,\n",
       " 'Κουκάκι': 60,\n",
       " 'Ιπποκράτειο': 59,\n",
       " 'Πλατεία Βικτωρίας': 58,\n",
       " 'Μεταξουργείο': 52,\n",
       " 'Πολύγωνο': 51,\n",
       " 'Κολωνός': 49,\n",
       " 'Ελληνορώσων': 48,\n",
       " 'Ηπείρου': 48,\n",
       " 'Νεάπολη': 46,\n",
       " 'Ιλίσια': 43,\n",
       " 'Κάτω Πετράλωνα': 42,\n",
       " 'Άγιος Ελευθέριος': 41,\n",
       " 'Βαρνάβα': 40,\n",
       " 'Άγιος Λουκάς': 38,\n",
       " 'Νέος Κόσμος': 38,\n",
       " 'Άγιος Θωμάς': 35,\n",
       " 'Ερυθρός': 30,\n",
       " 'Άγιος Αρτέμιος': 30,\n",
       " 'Κάτω Πατήσια': 30,\n",
       " 'Άνω Πετράλωνα': 29,\n",
       " 'Λόφος Στρέφη': 29,\n",
       " 'Σταθμός Λαρίσης': 27,\n",
       " 'Αγία Παρασκευή': 27,\n",
       " 'Νιρβάνα': 25,\n",
       " 'Καλλιρρόης': 24,\n",
       " 'Νοσοκομείο Παίδων': 24,\n",
       " 'Πλατεία Βάθης': 23,\n",
       " 'Θησείο': 22,\n",
       " 'Φιλοπάππου': 22,\n",
       " 'Ομόνοια': 21,\n",
       " 'Μπακνανά': 21,\n",
       " 'Ζάππειο': 20,\n",
       " 'Ακαδημία': 19,\n",
       " 'Πλατεία Κάνιγγος': 19,\n",
       " 'Τρεις Γέφυρες': 19,\n",
       " 'Κυνοσάργους': 19,\n",
       " 'Γούβα': 18,\n",
       " 'Κεραμεικός': 18,\n",
       " 'Σεπόλια': 18,\n",
       " 'Βοτανικός': 17,\n",
       " 'Άγιος Ιωάννης': 17,\n",
       " 'Λόφος Λαμπράκη': 17,\n",
       " 'Μετς': 17,\n",
       " 'Νέα Φιλοθέη': 16,\n",
       " 'Άγιος Σώστης': 16,\n",
       " 'Γκάζι': 15,\n",
       " 'Παναθηναϊκό Στάδιο': 13,\n",
       " 'Πλατεία Μαβίλη': 13,\n",
       " 'Λόφος Σκουζέ': 13,\n",
       " 'Αλεπότρυπα': 13,\n",
       " 'Γηροκομείο': 13,\n",
       " 'Πλάκα': 12,\n",
       " 'Κέντρο': 10,\n",
       " 'Πλατεία Παπαδιαμάντη': 10,\n",
       " 'Άγιος Αντώνιος': 10,\n",
       " 'Μοναστηράκι': 9,\n",
       " 'Προμπονά': 9,\n",
       " 'Ρηγίλλης': 9,\n",
       " 'Δουργούτι': 8,\n",
       " 'Ψυρρή': 8,\n",
       " 'Κολοκυνθού': 7,\n",
       " 'Κουμουνδούρου': 6,\n",
       " 'Λαμπρινή': 5,\n",
       " 'Ελαιώνας': 5,\n",
       " 'Λόφος Ακρόπολης': 3,\n",
       " 'Αττικό Άλσος': 3,\n",
       " 'Σύνταγμα': 3,\n",
       " 'Γκράβα': 3,\n",
       " 'Καραγιαννέικα': 3,\n",
       " 'Πλατεία Κλαυθμώνος': 3,\n",
       " 'Νέο Παγκράτι': 2,\n",
       " 'Γουδή': 2,\n",
       " 'Άνω Καισαριανή': 1,\n",
       " 'Ριζούπολη': 1,\n",
       " 'Ρουφ': 1,\n",
       " 'Μενιδιάτικα': 1,\n",
       " 'Ευαγγελίστρια': 1}"
      ]
     },
     "execution_count": 17,
     "metadata": {},
     "output_type": "execute_result"
    }
   ],
   "source": [
    "df_one_day[df_one_day['dimos'] == \"Αθήνα\"]['perioxi'].value_counts().to_dict()"
   ]
  },
  {
   "cell_type": "code",
   "execution_count": 53,
   "id": "4f5f79e5",
   "metadata": {},
   "outputs": [
    {
     "data": {
      "text/html": [
       "<div>\n",
       "<style scoped>\n",
       "    .dataframe tbody tr th:only-of-type {\n",
       "        vertical-align: middle;\n",
       "    }\n",
       "\n",
       "    .dataframe tbody tr th {\n",
       "        vertical-align: top;\n",
       "    }\n",
       "\n",
       "    .dataframe thead th {\n",
       "        text-align: right;\n",
       "    }\n",
       "</style>\n",
       "<table border=\"1\" class=\"dataframe\">\n",
       "  <thead>\n",
       "    <tr style=\"text-align: right;\">\n",
       "      <th></th>\n",
       "      <th>url</th>\n",
       "    </tr>\n",
       "    <tr>\n",
       "      <th>id</th>\n",
       "      <th></th>\n",
       "    </tr>\n",
       "  </thead>\n",
       "  <tbody>\n",
       "    <tr>\n",
       "      <th>576566</th>\n",
       "      <td>2</td>\n",
       "    </tr>\n",
       "    <tr>\n",
       "      <th>2465980</th>\n",
       "      <td>2</td>\n",
       "    </tr>\n",
       "    <tr>\n",
       "      <th>62783106</th>\n",
       "      <td>2</td>\n",
       "    </tr>\n",
       "    <tr>\n",
       "      <th>482987552</th>\n",
       "      <td>2</td>\n",
       "    </tr>\n",
       "    <tr>\n",
       "      <th>631954687</th>\n",
       "      <td>2</td>\n",
       "    </tr>\n",
       "    <tr>\n",
       "      <th>...</th>\n",
       "      <td>...</td>\n",
       "    </tr>\n",
       "    <tr>\n",
       "      <th>815340607</th>\n",
       "      <td>2</td>\n",
       "    </tr>\n",
       "    <tr>\n",
       "      <th>815358102</th>\n",
       "      <td>2</td>\n",
       "    </tr>\n",
       "    <tr>\n",
       "      <th>815360756</th>\n",
       "      <td>2</td>\n",
       "    </tr>\n",
       "    <tr>\n",
       "      <th>815376008</th>\n",
       "      <td>2</td>\n",
       "    </tr>\n",
       "    <tr>\n",
       "      <th>815377532</th>\n",
       "      <td>2</td>\n",
       "    </tr>\n",
       "  </tbody>\n",
       "</table>\n",
       "<p>144 rows × 1 columns</p>\n",
       "</div>"
      ],
      "text/plain": [
       "           url\n",
       "id            \n",
       "576566       2\n",
       "2465980      2\n",
       "62783106     2\n",
       "482987552    2\n",
       "631954687    2\n",
       "...        ...\n",
       "815340607    2\n",
       "815358102    2\n",
       "815360756    2\n",
       "815376008    2\n",
       "815377532    2\n",
       "\n",
       "[144 rows x 1 columns]"
      ]
     },
     "execution_count": 53,
     "metadata": {},
     "output_type": "execute_result"
    }
   ],
   "source": [
    "url_count = df_full.groupby('id')[['url']].nunique()\n",
    "url_count[url_count['url'] > 1]"
   ]
  },
  {
   "cell_type": "code",
   "execution_count": 54,
   "id": "837a3184",
   "metadata": {},
   "outputs": [
    {
     "data": {
      "text/html": [
       "<div>\n",
       "<style scoped>\n",
       "    .dataframe tbody tr th:only-of-type {\n",
       "        vertical-align: middle;\n",
       "    }\n",
       "\n",
       "    .dataframe tbody tr th {\n",
       "        vertical-align: top;\n",
       "    }\n",
       "\n",
       "    .dataframe thead th {\n",
       "        text-align: right;\n",
       "    }\n",
       "</style>\n",
       "<table border=\"1\" class=\"dataframe\">\n",
       "  <thead>\n",
       "    <tr style=\"text-align: right;\">\n",
       "      <th></th>\n",
       "      <th>id</th>\n",
       "      <th>dimos</th>\n",
       "      <th>perioxi</th>\n",
       "      <th>price</th>\n",
       "      <th>area</th>\n",
       "      <th>url</th>\n",
       "    </tr>\n",
       "  </thead>\n",
       "  <tbody>\n",
       "    <tr>\n",
       "      <th>5446</th>\n",
       "      <td>576566</td>\n",
       "      <td>Βύρωνας</td>\n",
       "      <td>NaN</td>\n",
       "      <td>579.0</td>\n",
       "      <td>50.0</td>\n",
       "      <td>https://www.xe.gr/property/d/enoikiaseis-katoi...</td>\n",
       "    </tr>\n",
       "    <tr>\n",
       "      <th>10881</th>\n",
       "      <td>576566</td>\n",
       "      <td>Βύρωνας</td>\n",
       "      <td>NaN</td>\n",
       "      <td>579.0</td>\n",
       "      <td>50.0</td>\n",
       "      <td>https://www.xe.gr/property/d/enoikiaseis-katoi...</td>\n",
       "    </tr>\n",
       "    <tr>\n",
       "      <th>16319</th>\n",
       "      <td>576566</td>\n",
       "      <td>Βύρωνας</td>\n",
       "      <td>NaN</td>\n",
       "      <td>579.0</td>\n",
       "      <td>50.0</td>\n",
       "      <td>https://www.xe.gr/property/d/enoikiaseis-katoi...</td>\n",
       "    </tr>\n",
       "    <tr>\n",
       "      <th>21006</th>\n",
       "      <td>576566</td>\n",
       "      <td>Βύρωνας</td>\n",
       "      <td>NaN</td>\n",
       "      <td>579.0</td>\n",
       "      <td>50.0</td>\n",
       "      <td>https://www.xe.gr/property/d/enoikiaseis-katoi...</td>\n",
       "    </tr>\n",
       "    <tr>\n",
       "      <th>26812</th>\n",
       "      <td>576566</td>\n",
       "      <td>Βύρωνας</td>\n",
       "      <td>Αγορά</td>\n",
       "      <td>579.0</td>\n",
       "      <td>50.0</td>\n",
       "      <td>https://www.xe.gr/property/d/enoikiaseis-katoi...</td>\n",
       "    </tr>\n",
       "  </tbody>\n",
       "</table>\n",
       "</div>"
      ],
      "text/plain": [
       "           id    dimos perioxi  price  area  \\\n",
       "5446   576566  Βύρωνας     NaN  579.0  50.0   \n",
       "10881  576566  Βύρωνας     NaN  579.0  50.0   \n",
       "16319  576566  Βύρωνας     NaN  579.0  50.0   \n",
       "21006  576566  Βύρωνας     NaN  579.0  50.0   \n",
       "26812  576566  Βύρωνας   Αγορά  579.0  50.0   \n",
       "\n",
       "                                                     url  \n",
       "5446   https://www.xe.gr/property/d/enoikiaseis-katoi...  \n",
       "10881  https://www.xe.gr/property/d/enoikiaseis-katoi...  \n",
       "16319  https://www.xe.gr/property/d/enoikiaseis-katoi...  \n",
       "21006  https://www.xe.gr/property/d/enoikiaseis-katoi...  \n",
       "26812  https://www.xe.gr/property/d/enoikiaseis-katoi...  "
      ]
     },
     "execution_count": 54,
     "metadata": {},
     "output_type": "execute_result"
    }
   ],
   "source": [
    "df_full.loc[df_full['id'] == 576566, ['id', 'dimos', 'perioxi', 'price', 'area', 'url']]"
   ]
  },
  {
   "cell_type": "code",
   "execution_count": 55,
   "id": "4f782a83",
   "metadata": {
    "scrolled": true
   },
   "outputs": [
    {
     "name": "stdout",
     "output_type": "stream",
     "text": [
      "https://www.xe.gr/property/d/enoikiaseis-katoikion/576566/vyrwnas-579-50\n",
      "https://www.xe.gr/property/d/enoikiaseis-katoikion/576566/vyrwnas-579-50\n",
      "https://www.xe.gr/property/d/enoikiaseis-katoikion/576566/vyrwnas-579-50\n",
      "https://www.xe.gr/property/d/enoikiaseis-katoikion/576566/vyrwnas-579-50\n",
      "https://www.xe.gr/property/d/enoikiaseis-katoikion/576566/vyrwnas-agora-579-50\n"
     ]
    }
   ],
   "source": [
    "a = df_full.loc[df_full['id'] == 576566, 'url']\n",
    "for b in a:\n",
    "    print(b)"
   ]
  },
  {
   "cell_type": "code",
   "execution_count": 3,
   "id": "0bbc9ca6",
   "metadata": {},
   "outputs": [],
   "source": [
    "df_full['MaxDateSeen'] = df_full.groupby('id')['extraction_date'].transform('max')"
   ]
  },
  {
   "cell_type": "code",
   "execution_count": 4,
   "id": "881a5334",
   "metadata": {},
   "outputs": [
    {
     "data": {
      "text/html": [
       "<div>\n",
       "<style scoped>\n",
       "    .dataframe tbody tr th:only-of-type {\n",
       "        vertical-align: middle;\n",
       "    }\n",
       "\n",
       "    .dataframe tbody tr th {\n",
       "        vertical-align: top;\n",
       "    }\n",
       "\n",
       "    .dataframe thead th {\n",
       "        text-align: right;\n",
       "    }\n",
       "</style>\n",
       "<table border=\"1\" class=\"dataframe\">\n",
       "  <thead>\n",
       "    <tr style=\"text-align: right;\">\n",
       "      <th></th>\n",
       "      <th>id</th>\n",
       "      <th>internal_id</th>\n",
       "      <th>title_abbreviation</th>\n",
       "      <th>address</th>\n",
       "      <th>price</th>\n",
       "      <th>price_per_unit_area</th>\n",
       "      <th>size_with_square_meter</th>\n",
       "      <th>construction_year</th>\n",
       "      <th>levels</th>\n",
       "      <th>bedrooms</th>\n",
       "      <th>bathrooms</th>\n",
       "      <th>date</th>\n",
       "      <th>extraction_date</th>\n",
       "      <th>geo_lat</th>\n",
       "      <th>geo_lng</th>\n",
       "      <th>company_title</th>\n",
       "      <th>account_id</th>\n",
       "      <th>ad_group_id</th>\n",
       "      <th>url</th>\n",
       "      <th>dimos</th>\n",
       "      <th>perioxi</th>\n",
       "      <th>type</th>\n",
       "      <th>area</th>\n",
       "      <th>price_per_area</th>\n",
       "      <th>level_list</th>\n",
       "      <th>min_level</th>\n",
       "      <th>level_length</th>\n",
       "      <th>temp_no</th>\n",
       "      <th>temp_date_unit</th>\n",
       "      <th>days_passed</th>\n",
       "      <th>MaxDateSeen</th>\n",
       "    </tr>\n",
       "  </thead>\n",
       "  <tbody>\n",
       "    <tr>\n",
       "      <th>8</th>\n",
       "      <td>814547213</td>\n",
       "      <td>47119901</td>\n",
       "      <td>Διαμέρισμα 34 τ.μ.</td>\n",
       "      <td>Αθήνα (Ιπποκράτειο)</td>\n",
       "      <td>450.0</td>\n",
       "      <td>13</td>\n",
       "      <td>34 τ.μ.</td>\n",
       "      <td>NaN</td>\n",
       "      <td>['5']</td>\n",
       "      <td>1.0</td>\n",
       "      <td>1.0</td>\n",
       "      <td>πριν από 1 εβδομάδα</td>\n",
       "      <td>2023-06-01</td>\n",
       "      <td>37.983694</td>\n",
       "      <td>23.760134</td>\n",
       "      <td>NaN</td>\n",
       "      <td>1416328.0</td>\n",
       "      <td>458953.0</td>\n",
       "      <td>https://www.xe.gr/property/d/enoikiaseis-katoi...</td>\n",
       "      <td>Αθήνα</td>\n",
       "      <td>Ιπποκράτειο</td>\n",
       "      <td>Διαμέρισμα</td>\n",
       "      <td>34.0</td>\n",
       "      <td>13.235294</td>\n",
       "      <td>[5.0]</td>\n",
       "      <td>5.0</td>\n",
       "      <td>1</td>\n",
       "      <td>1</td>\n",
       "      <td>εβ</td>\n",
       "      <td>7</td>\n",
       "      <td>2023-06-01</td>\n",
       "    </tr>\n",
       "    <tr>\n",
       "      <th>12</th>\n",
       "      <td>814509653</td>\n",
       "      <td>47118980</td>\n",
       "      <td>Μονοκατοικία 45 τ.μ.</td>\n",
       "      <td>Αθήνα (Ελαιώνας)</td>\n",
       "      <td>320.0</td>\n",
       "      <td>7</td>\n",
       "      <td>45 τ.μ.</td>\n",
       "      <td>1970.0</td>\n",
       "      <td>['0']</td>\n",
       "      <td>1.0</td>\n",
       "      <td>2.0</td>\n",
       "      <td>πριν από 1 εβδομάδα</td>\n",
       "      <td>2023-06-01</td>\n",
       "      <td>37.990350</td>\n",
       "      <td>23.696610</td>\n",
       "      <td>One Real Estate</td>\n",
       "      <td>1168303.0</td>\n",
       "      <td>NaN</td>\n",
       "      <td>https://www.xe.gr/property/d/enoikiaseis-katoi...</td>\n",
       "      <td>Αθήνα</td>\n",
       "      <td>Ελαιώνας</td>\n",
       "      <td>Μονοκατοικία</td>\n",
       "      <td>45.0</td>\n",
       "      <td>7.111111</td>\n",
       "      <td>[0.0]</td>\n",
       "      <td>0.0</td>\n",
       "      <td>1</td>\n",
       "      <td>1</td>\n",
       "      <td>εβ</td>\n",
       "      <td>7</td>\n",
       "      <td>2023-06-01</td>\n",
       "    </tr>\n",
       "    <tr>\n",
       "      <th>13</th>\n",
       "      <td>814981443</td>\n",
       "      <td>47138678</td>\n",
       "      <td>Διαμέρισμα 23 τ.μ.</td>\n",
       "      <td>Αθήνα (Άνω Πατήσια)</td>\n",
       "      <td>270.0</td>\n",
       "      <td>12</td>\n",
       "      <td>23 τ.μ.</td>\n",
       "      <td>NaN</td>\n",
       "      <td>['4']</td>\n",
       "      <td>1.0</td>\n",
       "      <td>1.0</td>\n",
       "      <td>πριν από 2 ημέρες</td>\n",
       "      <td>2023-06-01</td>\n",
       "      <td>38.016450</td>\n",
       "      <td>23.732062</td>\n",
       "      <td>NaN</td>\n",
       "      <td>795832.0</td>\n",
       "      <td>NaN</td>\n",
       "      <td>https://www.xe.gr/property/d/enoikiaseis-katoi...</td>\n",
       "      <td>Αθήνα</td>\n",
       "      <td>Άνω Πατήσια</td>\n",
       "      <td>Διαμέρισμα</td>\n",
       "      <td>23.0</td>\n",
       "      <td>11.739130</td>\n",
       "      <td>[4.0]</td>\n",
       "      <td>4.0</td>\n",
       "      <td>1</td>\n",
       "      <td>2</td>\n",
       "      <td>ημ</td>\n",
       "      <td>2</td>\n",
       "      <td>2023-06-03</td>\n",
       "    </tr>\n",
       "    <tr>\n",
       "      <th>22</th>\n",
       "      <td>814396726</td>\n",
       "      <td>47113917</td>\n",
       "      <td>Διαμέρισμα 38 τ.μ.</td>\n",
       "      <td>Αθήνα (Ηπείρου)</td>\n",
       "      <td>350.0</td>\n",
       "      <td>9</td>\n",
       "      <td>38 τ.μ.</td>\n",
       "      <td>1970.0</td>\n",
       "      <td>['3']</td>\n",
       "      <td>1.0</td>\n",
       "      <td>1.0</td>\n",
       "      <td>πριν από 1 εβδομάδα</td>\n",
       "      <td>2023-06-01</td>\n",
       "      <td>37.991510</td>\n",
       "      <td>23.724500</td>\n",
       "      <td>One Real Estate</td>\n",
       "      <td>1168303.0</td>\n",
       "      <td>NaN</td>\n",
       "      <td>https://www.xe.gr/property/d/enoikiaseis-katoi...</td>\n",
       "      <td>Αθήνα</td>\n",
       "      <td>Ηπείρου</td>\n",
       "      <td>Διαμέρισμα</td>\n",
       "      <td>38.0</td>\n",
       "      <td>9.210526</td>\n",
       "      <td>[3.0]</td>\n",
       "      <td>3.0</td>\n",
       "      <td>1</td>\n",
       "      <td>1</td>\n",
       "      <td>εβ</td>\n",
       "      <td>7</td>\n",
       "      <td>2023-06-04</td>\n",
       "    </tr>\n",
       "    <tr>\n",
       "      <th>23</th>\n",
       "      <td>814822124</td>\n",
       "      <td>47132891</td>\n",
       "      <td>Διαμέρισμα 65 τ.μ.</td>\n",
       "      <td>Αθήνα (Ακαδημία Πλάτωνος)</td>\n",
       "      <td>450.0</td>\n",
       "      <td>7</td>\n",
       "      <td>65 τ.μ.</td>\n",
       "      <td>1970.0</td>\n",
       "      <td>['1']</td>\n",
       "      <td>1.0</td>\n",
       "      <td>NaN</td>\n",
       "      <td>πριν από 4 ημέρες</td>\n",
       "      <td>2023-06-01</td>\n",
       "      <td>37.994711</td>\n",
       "      <td>23.706262</td>\n",
       "      <td>Energy Real Estate</td>\n",
       "      <td>2203409.0</td>\n",
       "      <td>NaN</td>\n",
       "      <td>https://www.xe.gr/property/d/enoikiaseis-katoi...</td>\n",
       "      <td>Αθήνα</td>\n",
       "      <td>Ακαδημία Πλάτωνος</td>\n",
       "      <td>Διαμέρισμα</td>\n",
       "      <td>65.0</td>\n",
       "      <td>6.923077</td>\n",
       "      <td>[1.0]</td>\n",
       "      <td>1.0</td>\n",
       "      <td>1</td>\n",
       "      <td>4</td>\n",
       "      <td>ημ</td>\n",
       "      <td>4</td>\n",
       "      <td>2023-06-03</td>\n",
       "    </tr>\n",
       "    <tr>\n",
       "      <th>...</th>\n",
       "      <td>...</td>\n",
       "      <td>...</td>\n",
       "      <td>...</td>\n",
       "      <td>...</td>\n",
       "      <td>...</td>\n",
       "      <td>...</td>\n",
       "      <td>...</td>\n",
       "      <td>...</td>\n",
       "      <td>...</td>\n",
       "      <td>...</td>\n",
       "      <td>...</td>\n",
       "      <td>...</td>\n",
       "      <td>...</td>\n",
       "      <td>...</td>\n",
       "      <td>...</td>\n",
       "      <td>...</td>\n",
       "      <td>...</td>\n",
       "      <td>...</td>\n",
       "      <td>...</td>\n",
       "      <td>...</td>\n",
       "      <td>...</td>\n",
       "      <td>...</td>\n",
       "      <td>...</td>\n",
       "      <td>...</td>\n",
       "      <td>...</td>\n",
       "      <td>...</td>\n",
       "      <td>...</td>\n",
       "      <td>...</td>\n",
       "      <td>...</td>\n",
       "      <td>...</td>\n",
       "      <td>...</td>\n",
       "    </tr>\n",
       "    <tr>\n",
       "      <th>21661</th>\n",
       "      <td>804938667</td>\n",
       "      <td>46591752</td>\n",
       "      <td>Διαμέρισμα 100 τ.μ.</td>\n",
       "      <td>Καισαριανή (Νήαρ Ηστ)</td>\n",
       "      <td>800.0</td>\n",
       "      <td>8</td>\n",
       "      <td>100 τ.μ.</td>\n",
       "      <td>1980.0</td>\n",
       "      <td>['1']</td>\n",
       "      <td>2.0</td>\n",
       "      <td>1.0</td>\n",
       "      <td>πριν από 2 μήνες</td>\n",
       "      <td>2023-06-04</td>\n",
       "      <td>37.969422</td>\n",
       "      <td>23.758668</td>\n",
       "      <td>Equal Estate</td>\n",
       "      <td>2042950.0</td>\n",
       "      <td>NaN</td>\n",
       "      <td>https://www.xe.gr/property/d/enoikiaseis-katoi...</td>\n",
       "      <td>Καισαριανή</td>\n",
       "      <td>Νήαρ Ηστ</td>\n",
       "      <td>Διαμέρισμα</td>\n",
       "      <td>100.0</td>\n",
       "      <td>8.000000</td>\n",
       "      <td>[1.0]</td>\n",
       "      <td>1.0</td>\n",
       "      <td>1</td>\n",
       "      <td>2</td>\n",
       "      <td>μή</td>\n",
       "      <td>60</td>\n",
       "      <td>2023-06-04</td>\n",
       "    </tr>\n",
       "    <tr>\n",
       "      <th>21706</th>\n",
       "      <td>806632212</td>\n",
       "      <td>46692695</td>\n",
       "      <td>Διαμέρισμα 97 τ.μ.</td>\n",
       "      <td>Ηλιούπολη (Λόφος Γερμανού)</td>\n",
       "      <td>750.0</td>\n",
       "      <td>8</td>\n",
       "      <td>97 τ.μ.</td>\n",
       "      <td>1978.0</td>\n",
       "      <td>['1']</td>\n",
       "      <td>2.0</td>\n",
       "      <td>1.0</td>\n",
       "      <td>πριν από 2 μήνες</td>\n",
       "      <td>2023-06-04</td>\n",
       "      <td>37.948925</td>\n",
       "      <td>23.753605</td>\n",
       "      <td>Τσαούσης - Σταυρόπουλος</td>\n",
       "      <td>215073.0</td>\n",
       "      <td>403713.0</td>\n",
       "      <td>https://www.xe.gr/property/d/enoikiaseis-katoi...</td>\n",
       "      <td>Ηλιούπολη</td>\n",
       "      <td>Λόφος Γερμανού</td>\n",
       "      <td>Διαμέρισμα</td>\n",
       "      <td>97.0</td>\n",
       "      <td>7.731959</td>\n",
       "      <td>[1.0]</td>\n",
       "      <td>1.0</td>\n",
       "      <td>1</td>\n",
       "      <td>2</td>\n",
       "      <td>μή</td>\n",
       "      <td>60</td>\n",
       "      <td>2023-06-04</td>\n",
       "    </tr>\n",
       "    <tr>\n",
       "      <th>21710</th>\n",
       "      <td>808982851</td>\n",
       "      <td>46823195</td>\n",
       "      <td>Διαμέρισμα 80 τ.μ.</td>\n",
       "      <td>Καλλιθέα (Λόφος Σικελίας)</td>\n",
       "      <td>750.0</td>\n",
       "      <td>9</td>\n",
       "      <td>80 τ.μ.</td>\n",
       "      <td>1981.0</td>\n",
       "      <td>['5']</td>\n",
       "      <td>1.0</td>\n",
       "      <td>1.0</td>\n",
       "      <td>πριν από 2 μήνες</td>\n",
       "      <td>2023-06-04</td>\n",
       "      <td>37.961959</td>\n",
       "      <td>23.714428</td>\n",
       "      <td>Helen's Real Estate</td>\n",
       "      <td>408387.0</td>\n",
       "      <td>NaN</td>\n",
       "      <td>https://www.xe.gr/property/d/enoikiaseis-katoi...</td>\n",
       "      <td>Καλλιθέα</td>\n",
       "      <td>Λόφος Σικελίας</td>\n",
       "      <td>Διαμέρισμα</td>\n",
       "      <td>80.0</td>\n",
       "      <td>9.375000</td>\n",
       "      <td>[5.0]</td>\n",
       "      <td>5.0</td>\n",
       "      <td>1</td>\n",
       "      <td>2</td>\n",
       "      <td>μή</td>\n",
       "      <td>60</td>\n",
       "      <td>2023-06-04</td>\n",
       "    </tr>\n",
       "    <tr>\n",
       "      <th>21795</th>\n",
       "      <td>803694238</td>\n",
       "      <td>46530753</td>\n",
       "      <td>Διαμέρισμα 90 τ.μ.</td>\n",
       "      <td>Μενεμένη (Αμπελόκηποι)</td>\n",
       "      <td>800.0</td>\n",
       "      <td>9</td>\n",
       "      <td>90 τ.μ.</td>\n",
       "      <td>1974.0</td>\n",
       "      <td>['4']</td>\n",
       "      <td>1.0</td>\n",
       "      <td>1.0</td>\n",
       "      <td>πριν από 2 μήνες</td>\n",
       "      <td>2023-06-04</td>\n",
       "      <td>37.989917</td>\n",
       "      <td>23.760045</td>\n",
       "      <td>Equal Estate</td>\n",
       "      <td>2042950.0</td>\n",
       "      <td>NaN</td>\n",
       "      <td>https://www.xe.gr/property/d/enoikiaseis-katoi...</td>\n",
       "      <td>Αθήνα</td>\n",
       "      <td>Αμπελόκηποι</td>\n",
       "      <td>Διαμέρισμα</td>\n",
       "      <td>90.0</td>\n",
       "      <td>8.888889</td>\n",
       "      <td>[4.0]</td>\n",
       "      <td>4.0</td>\n",
       "      <td>1</td>\n",
       "      <td>2</td>\n",
       "      <td>μή</td>\n",
       "      <td>60</td>\n",
       "      <td>2023-06-04</td>\n",
       "    </tr>\n",
       "    <tr>\n",
       "      <th>21803</th>\n",
       "      <td>647928789</td>\n",
       "      <td>41776701</td>\n",
       "      <td>Διαμέρισμα 60 τ.μ.</td>\n",
       "      <td>Βύρωνας</td>\n",
       "      <td>600.0</td>\n",
       "      <td>10</td>\n",
       "      <td>60 τ.μ.</td>\n",
       "      <td>NaN</td>\n",
       "      <td>['1']</td>\n",
       "      <td>2.0</td>\n",
       "      <td>NaN</td>\n",
       "      <td>πριν από 2 μήνες</td>\n",
       "      <td>2023-06-04</td>\n",
       "      <td>37.959404</td>\n",
       "      <td>23.750014</td>\n",
       "      <td>NaN</td>\n",
       "      <td>98224.0</td>\n",
       "      <td>NaN</td>\n",
       "      <td>https://www.xe.gr/property/d/enoikiaseis-katoi...</td>\n",
       "      <td>Βύρωνας</td>\n",
       "      <td>NaN</td>\n",
       "      <td>Διαμέρισμα</td>\n",
       "      <td>60.0</td>\n",
       "      <td>10.000000</td>\n",
       "      <td>[1.0]</td>\n",
       "      <td>1.0</td>\n",
       "      <td>1</td>\n",
       "      <td>2</td>\n",
       "      <td>μή</td>\n",
       "      <td>60</td>\n",
       "      <td>2023-06-04</td>\n",
       "    </tr>\n",
       "  </tbody>\n",
       "</table>\n",
       "<p>1633 rows × 31 columns</p>\n",
       "</div>"
      ],
      "text/plain": [
       "              id  internal_id    title_abbreviation  \\\n",
       "8      814547213     47119901    Διαμέρισμα 34 τ.μ.   \n",
       "12     814509653     47118980  Μονοκατοικία 45 τ.μ.   \n",
       "13     814981443     47138678    Διαμέρισμα 23 τ.μ.   \n",
       "22     814396726     47113917    Διαμέρισμα 38 τ.μ.   \n",
       "23     814822124     47132891    Διαμέρισμα 65 τ.μ.   \n",
       "...          ...          ...                   ...   \n",
       "21661  804938667     46591752   Διαμέρισμα 100 τ.μ.   \n",
       "21706  806632212     46692695    Διαμέρισμα 97 τ.μ.   \n",
       "21710  808982851     46823195    Διαμέρισμα 80 τ.μ.   \n",
       "21795  803694238     46530753    Διαμέρισμα 90 τ.μ.   \n",
       "21803  647928789     41776701    Διαμέρισμα 60 τ.μ.   \n",
       "\n",
       "                          address  price  price_per_unit_area  \\\n",
       "8             Αθήνα (Ιπποκράτειο)  450.0                   13   \n",
       "12               Αθήνα (Ελαιώνας)  320.0                    7   \n",
       "13            Αθήνα (Άνω Πατήσια)  270.0                   12   \n",
       "22                Αθήνα (Ηπείρου)  350.0                    9   \n",
       "23      Αθήνα (Ακαδημία Πλάτωνος)  450.0                    7   \n",
       "...                           ...    ...                  ...   \n",
       "21661       Καισαριανή (Νήαρ Ηστ)  800.0                    8   \n",
       "21706  Ηλιούπολη (Λόφος Γερμανού)  750.0                    8   \n",
       "21710   Καλλιθέα (Λόφος Σικελίας)  750.0                    9   \n",
       "21795      Μενεμένη (Αμπελόκηποι)  800.0                    9   \n",
       "21803                     Βύρωνας  600.0                   10   \n",
       "\n",
       "      size_with_square_meter  construction_year levels  bedrooms  bathrooms  \\\n",
       "8                    34 τ.μ.                NaN  ['5']       1.0        1.0   \n",
       "12                   45 τ.μ.             1970.0  ['0']       1.0        2.0   \n",
       "13                   23 τ.μ.                NaN  ['4']       1.0        1.0   \n",
       "22                   38 τ.μ.             1970.0  ['3']       1.0        1.0   \n",
       "23                   65 τ.μ.             1970.0  ['1']       1.0        NaN   \n",
       "...                      ...                ...    ...       ...        ...   \n",
       "21661               100 τ.μ.             1980.0  ['1']       2.0        1.0   \n",
       "21706                97 τ.μ.             1978.0  ['1']       2.0        1.0   \n",
       "21710                80 τ.μ.             1981.0  ['5']       1.0        1.0   \n",
       "21795                90 τ.μ.             1974.0  ['4']       1.0        1.0   \n",
       "21803                60 τ.μ.                NaN  ['1']       2.0        NaN   \n",
       "\n",
       "                      date extraction_date    geo_lat    geo_lng  \\\n",
       "8      πριν από 1 εβδομάδα      2023-06-01  37.983694  23.760134   \n",
       "12     πριν από 1 εβδομάδα      2023-06-01  37.990350  23.696610   \n",
       "13       πριν από 2 ημέρες      2023-06-01  38.016450  23.732062   \n",
       "22     πριν από 1 εβδομάδα      2023-06-01  37.991510  23.724500   \n",
       "23       πριν από 4 ημέρες      2023-06-01  37.994711  23.706262   \n",
       "...                    ...             ...        ...        ...   \n",
       "21661     πριν από 2 μήνες      2023-06-04  37.969422  23.758668   \n",
       "21706     πριν από 2 μήνες      2023-06-04  37.948925  23.753605   \n",
       "21710     πριν από 2 μήνες      2023-06-04  37.961959  23.714428   \n",
       "21795     πριν από 2 μήνες      2023-06-04  37.989917  23.760045   \n",
       "21803     πριν από 2 μήνες      2023-06-04  37.959404  23.750014   \n",
       "\n",
       "                 company_title  account_id  ad_group_id  \\\n",
       "8                          NaN   1416328.0     458953.0   \n",
       "12             One Real Estate   1168303.0          NaN   \n",
       "13                         NaN    795832.0          NaN   \n",
       "22             One Real Estate   1168303.0          NaN   \n",
       "23          Energy Real Estate   2203409.0          NaN   \n",
       "...                        ...         ...          ...   \n",
       "21661             Equal Estate   2042950.0          NaN   \n",
       "21706  Τσαούσης - Σταυρόπουλος    215073.0     403713.0   \n",
       "21710      Helen's Real Estate    408387.0          NaN   \n",
       "21795             Equal Estate   2042950.0          NaN   \n",
       "21803                      NaN     98224.0          NaN   \n",
       "\n",
       "                                                     url       dimos  \\\n",
       "8      https://www.xe.gr/property/d/enoikiaseis-katoi...       Αθήνα   \n",
       "12     https://www.xe.gr/property/d/enoikiaseis-katoi...       Αθήνα   \n",
       "13     https://www.xe.gr/property/d/enoikiaseis-katoi...       Αθήνα   \n",
       "22     https://www.xe.gr/property/d/enoikiaseis-katoi...       Αθήνα   \n",
       "23     https://www.xe.gr/property/d/enoikiaseis-katoi...       Αθήνα   \n",
       "...                                                  ...         ...   \n",
       "21661  https://www.xe.gr/property/d/enoikiaseis-katoi...  Καισαριανή   \n",
       "21706  https://www.xe.gr/property/d/enoikiaseis-katoi...   Ηλιούπολη   \n",
       "21710  https://www.xe.gr/property/d/enoikiaseis-katoi...    Καλλιθέα   \n",
       "21795  https://www.xe.gr/property/d/enoikiaseis-katoi...       Αθήνα   \n",
       "21803  https://www.xe.gr/property/d/enoikiaseis-katoi...     Βύρωνας   \n",
       "\n",
       "                 perioxi          type   area  price_per_area level_list  \\\n",
       "8            Ιπποκράτειο    Διαμέρισμα   34.0       13.235294      [5.0]   \n",
       "12              Ελαιώνας  Μονοκατοικία   45.0        7.111111      [0.0]   \n",
       "13           Άνω Πατήσια    Διαμέρισμα   23.0       11.739130      [4.0]   \n",
       "22               Ηπείρου    Διαμέρισμα   38.0        9.210526      [3.0]   \n",
       "23     Ακαδημία Πλάτωνος    Διαμέρισμα   65.0        6.923077      [1.0]   \n",
       "...                  ...           ...    ...             ...        ...   \n",
       "21661           Νήαρ Ηστ    Διαμέρισμα  100.0        8.000000      [1.0]   \n",
       "21706     Λόφος Γερμανού    Διαμέρισμα   97.0        7.731959      [1.0]   \n",
       "21710     Λόφος Σικελίας    Διαμέρισμα   80.0        9.375000      [5.0]   \n",
       "21795        Αμπελόκηποι    Διαμέρισμα   90.0        8.888889      [4.0]   \n",
       "21803                NaN    Διαμέρισμα   60.0       10.000000      [1.0]   \n",
       "\n",
       "       min_level  level_length  temp_no temp_date_unit  days_passed  \\\n",
       "8            5.0             1        1             εβ            7   \n",
       "12           0.0             1        1             εβ            7   \n",
       "13           4.0             1        2             ημ            2   \n",
       "22           3.0             1        1             εβ            7   \n",
       "23           1.0             1        4             ημ            4   \n",
       "...          ...           ...      ...            ...          ...   \n",
       "21661        1.0             1        2             μή           60   \n",
       "21706        1.0             1        2             μή           60   \n",
       "21710        5.0             1        2             μή           60   \n",
       "21795        4.0             1        2             μή           60   \n",
       "21803        1.0             1        2             μή           60   \n",
       "\n",
       "      MaxDateSeen  \n",
       "8      2023-06-01  \n",
       "12     2023-06-01  \n",
       "13     2023-06-03  \n",
       "22     2023-06-04  \n",
       "23     2023-06-03  \n",
       "...           ...  \n",
       "21661  2023-06-04  \n",
       "21706  2023-06-04  \n",
       "21710  2023-06-04  \n",
       "21795  2023-06-04  \n",
       "21803  2023-06-04  \n",
       "\n",
       "[1633 rows x 31 columns]"
      ]
     },
     "execution_count": 4,
     "metadata": {},
     "output_type": "execute_result"
    }
   ],
   "source": [
    "df_full[df_full['MaxDateSeen'] < \"2023-06-05\"]"
   ]
  },
  {
   "cell_type": "code",
   "execution_count": 72,
   "id": "235dc523",
   "metadata": {},
   "outputs": [
    {
     "data": {
      "text/plain": [
       "MaxDateSeen\n",
       "2023-06-01      272\n",
       "2023-06-02      342\n",
       "2023-06-03      302\n",
       "2023-06-04      717\n",
       "2023-06-05    25630\n",
       "dtype: int64"
      ]
     },
     "execution_count": 72,
     "metadata": {},
     "output_type": "execute_result"
    }
   ],
   "source": [
    "df_full.groupby('MaxDateSeen').size()"
   ]
  },
  {
   "cell_type": "code",
   "execution_count": 27,
   "id": "a0d4a4a8",
   "metadata": {},
   "outputs": [],
   "source": []
  },
  {
   "cell_type": "code",
   "execution_count": 33,
   "id": "09f9f2ba",
   "metadata": {},
   "outputs": [],
   "source": [
    "app = JupyterDash(__name__)"
   ]
  },
  {
   "cell_type": "code",
   "execution_count": 34,
   "id": "c87200ec",
   "metadata": {},
   "outputs": [],
   "source": [
    "df = df_full\n",
    "app.layout = html.Div([\n",
    "    html.H1(\"Interactive Dashboard\"),\n",
    "    html.Label(\"Filter 1:\"),\n",
    "    dcc.Dropdown(\n",
    "        id='filter1',\n",
    "        options=[\n",
    "            {'label': column, 'value': column}\n",
    "            for column in df.columns\n",
    "        ],\n",
    "        value=None\n",
    "    ),\n",
    "    html.Label(\"Filter 2:\"),\n",
    "    dcc.Dropdown(\n",
    "        id='filter2',\n",
    "        options=[\n",
    "            {'label': column, 'value': column}\n",
    "            for column in df.columns\n",
    "        ],\n",
    "        value=None\n",
    "    ),\n",
    "    html.Br(),\n",
    "    dash_table.DataTable(\n",
    "        id='table',\n",
    "        columns=[{'name': col, 'id': col} for col in df.columns],\n",
    "        style_table={'overflowX': 'auto'},\n",
    "        style_cell={\n",
    "            'minWidth': '0px', 'maxWidth': '180px',\n",
    "            'whiteSpace': 'normal',\n",
    "            'textAlign': 'left',\n",
    "        },\n",
    "    ),\n",
    "])"
   ]
  },
  {
   "cell_type": "code",
   "execution_count": 38,
   "id": "6a2173d3",
   "metadata": {},
   "outputs": [],
   "source": [
    "@app.callback(\n",
    "    Output('table', 'data'),\n",
    "    [Input('filter1', 'value'),\n",
    "     Input('filter2', 'value')]\n",
    ")\n",
    "def update_table(filter1_value, filter2_value):\n",
    "    filtered_df = df\n",
    "    cols_to_keep = [x  for x in [filter1_value, filter2_value] if x]\n",
    "    \n",
    "    return dash_table.DataTable(df_full[cols_to_keep].to_dict('records'))"
   ]
  },
  {
   "cell_type": "code",
   "execution_count": 39,
   "id": "cf71ba22",
   "metadata": {},
   "outputs": [
    {
     "name": "stdout",
     "output_type": "stream",
     "text": [
      "Dash is running on http://127.0.0.1:8050/\n",
      "\n"
     ]
    },
    {
     "data": {
      "text/html": [
       "\n",
       "        <iframe\n",
       "            width=\"100%\"\n",
       "            height=\"650\"\n",
       "            src=\"http://127.0.0.1:8050/\"\n",
       "            frameborder=\"0\"\n",
       "            allowfullscreen\n",
       "            \n",
       "        ></iframe>\n",
       "        "
      ],
      "text/plain": [
       "<IPython.lib.display.IFrame at 0x1804ceee040>"
      ]
     },
     "metadata": {},
     "output_type": "display_data"
    }
   ],
   "source": [
    "app.run_server(mode='inline')"
   ]
  },
  {
   "cell_type": "code",
   "execution_count": 46,
   "id": "a0474482",
   "metadata": {
    "scrolled": true
   },
   "outputs": [
    {
     "name": "stdout",
     "output_type": "stream",
     "text": [
      "Dash is running on http://127.0.0.1:8050/\n",
      "\n"
     ]
    },
    {
     "data": {
      "text/html": [
       "\n",
       "        <iframe\n",
       "            width=\"100%\"\n",
       "            height=\"650\"\n",
       "            src=\"http://127.0.0.1:8050/\"\n",
       "            frameborder=\"0\"\n",
       "            allowfullscreen\n",
       "            \n",
       "        ></iframe>\n",
       "        "
      ],
      "text/plain": [
       "<IPython.lib.display.IFrame at 0x1804998df70>"
      ]
     },
     "metadata": {},
     "output_type": "display_data"
    }
   ],
   "source": [
    "app = JupyterDash(__name__)\n",
    "df = df_full[['type', 'dimos', 'price', 'area', 'bedrooms', 'bathrooms', 'min_level', 'extraction_date']]\n",
    "\n",
    "app.layout = html.Div([\n",
    "    html.H1(\"Interactive Dashboard\"),\n",
    "    html.Label(\"Filter 1:\"),\n",
    "    dcc.Dropdown(\n",
    "        id='filter1',\n",
    "        options=[\n",
    "            {'label': str(date), 'value': date}\n",
    "            for date in df['extraction_date'].unique()\n",
    "        ],\n",
    "        value=None\n",
    "    ),\n",
    "    html.Br(),\n",
    "    html.Label(\"Dimos Filter:\"),\n",
    "    dcc.Dropdown(\n",
    "        id='dimos-filter',\n",
    "        options=[\n",
    "            {'label': str(dimos), 'value': dimos}\n",
    "            for dimos in df['dimos'].unique()\n",
    "        ],\n",
    "        value=None\n",
    "    ),\n",
    "    html.Br(),\n",
    "    dash_table.DataTable(\n",
    "        id='table',\n",
    "        columns=[{'name': col, 'id': col} for col in df.columns],\n",
    "        style_table={'overflowX': 'auto'},\n",
    "        style_cell={\n",
    "            'minWidth': '0px', 'maxWidth': '180px',\n",
    "            'whiteSpace': 'normal',\n",
    "            'textAlign': 'left',\n",
    "        },\n",
    "    ),\n",
    "])\n",
    "\n",
    "@app.callback(\n",
    "    Output('table', 'data'),\n",
    "    [Input('filter1', 'value'), \n",
    "     Input('dimos-filter', 'value')]\n",
    ")\n",
    "def update_table(filter1_value, dimos_filtered):\n",
    "    if filter1_value is None:\n",
    "        filtered_df = df\n",
    "    else:\n",
    "        filtered_df = df[df['extraction_date'] == filter1_value]\n",
    "        \n",
    "    if dimos_filtered:\n",
    "        filtered_df = filtered_df[filtered_df['dimos'] == dimos_filtered]\n",
    "    \n",
    "    return filtered_df.head(50).to_dict('records')\n",
    "\n",
    "app.run_server(mode='inline')"
   ]
  },
  {
   "cell_type": "code",
   "execution_count": 57,
   "id": "03cfb75c",
   "metadata": {},
   "outputs": [
    {
     "name": "stdout",
     "output_type": "stream",
     "text": [
      "Dash is running on http://127.0.0.1:8050/\n",
      "\n"
     ]
    },
    {
     "data": {
      "text/html": [
       "\n",
       "        <iframe\n",
       "            width=\"100%\"\n",
       "            height=\"650\"\n",
       "            src=\"http://127.0.0.1:8050/\"\n",
       "            frameborder=\"0\"\n",
       "            allowfullscreen\n",
       "            \n",
       "        ></iframe>\n",
       "        "
      ],
      "text/plain": [
       "<IPython.lib.display.IFrame at 0x1804d0cd4f0>"
      ]
     },
     "metadata": {},
     "output_type": "display_data"
    }
   ],
   "source": [
    "# app = JupyterDash(__name__, external_stylesheets=['styles_test.css'])\n",
    "# app = JupyterDash(__name__, external_stylesheets=['https://codepen.io/chriddyp/pen/bWLwgP.css'])\n",
    "app = JupyterDash(__name__)\n",
    "df = df_full[['type', 'dimos', 'price', 'area', 'bedrooms', 'bathrooms', 'min_level', 'extraction_date']]\n",
    "\n",
    "\n",
    "app.layout = html.Div(\n",
    "    className=\"container\",\n",
    "    children=[\n",
    "        html.H1(\"Interactive Dashboard\"),\n",
    "        html.Div(\n",
    "            className=\"sidebar\",\n",
    "            children=[\n",
    "                html.Label(\"Filter 1:\"),\n",
    "                dcc.Dropdown(\n",
    "                    id='filter1',\n",
    "                    options=[\n",
    "                        {'label': str(date), 'value': date}\n",
    "                        for date in df['extraction_date'].unique()\n",
    "                    ],\n",
    "                    value=None\n",
    "                ),\n",
    "                html.Label(\"Δήμος!\"),\n",
    "                dcc.Dropdown(\n",
    "                    id='dimos-filter',\n",
    "                    options=[\n",
    "                        {'label': dimos, 'value': dimos}\n",
    "                        for dimos in df['dimos'].unique()\n",
    "                    ],\n",
    "                    value=None\n",
    "                ),\n",
    "            ],\n",
    "        ),\n",
    "        html.Div(\n",
    "            className=\"content\",\n",
    "            children=[\n",
    "                dash_table.DataTable(\n",
    "                    id='table',\n",
    "                    columns=[{'name': col, 'id': col} for col in df.columns],\n",
    "                    style_table={'overflowX': 'auto'},\n",
    "                    style_cell={\n",
    "                        'minWidth': '0px', 'maxWidth': '180px',\n",
    "                        'whiteSpace': 'normal',\n",
    "                        'textAlign': 'left',\n",
    "                    },\n",
    "                ),\n",
    "            ],\n",
    "        ),\n",
    "    ],\n",
    ")\n",
    "\n",
    "\n",
    "@app.callback(\n",
    "    Output('table', 'data'),\n",
    "    [Input('filter1', 'value'), \n",
    "     Input('dimos-filter', 'value')]\n",
    ")\n",
    "def update_table(filter1_value, dimos_filtered):\n",
    "    if filter1_value is None:\n",
    "        filtered_df = df\n",
    "    else:\n",
    "        filtered_df = df[df['extraction_date'] == filter1_value]\n",
    "        \n",
    "    if dimos_filtered:\n",
    "        filtered_df = filtered_df[filtered_df['dimos'] == dimos_filtered]\n",
    "    \n",
    "    return filtered_df.head(50).to_dict('records')\n",
    "\n",
    "app.run_server(mode='inline')"
   ]
  },
  {
   "cell_type": "code",
   "execution_count": 60,
   "id": "dc6d47bb",
   "metadata": {},
   "outputs": [
    {
     "name": "stdout",
     "output_type": "stream",
     "text": [
      "Dash is running on http://127.0.0.1:8050/\n",
      "\n"
     ]
    },
    {
     "data": {
      "text/html": [
       "\n",
       "        <iframe\n",
       "            width=\"100%\"\n",
       "            height=\"650\"\n",
       "            src=\"http://127.0.0.1:8050/\"\n",
       "            frameborder=\"0\"\n",
       "            allowfullscreen\n",
       "            \n",
       "        ></iframe>\n",
       "        "
      ],
      "text/plain": [
       "<IPython.lib.display.IFrame at 0x1804998f040>"
      ]
     },
     "metadata": {},
     "output_type": "display_data"
    }
   ],
   "source": [
    "# app = JupyterDash(__name__, external_stylesheets=['styles_test.css'])\n",
    "# app = JupyterDash(__name__, external_stylesheets=['https://codepen.io/chriddyp/pen/bWLwgP.css'])\n",
    "app = JupyterDash(__name__)\n",
    "df = df_full[['type', 'dimos', 'price', 'area', 'bedrooms', 'bathrooms', 'min_level', 'extraction_date']]\n",
    "\n",
    "\n",
    "app.layout = html.Div(\n",
    "    className=\"container\",\n",
    "    children=[\n",
    "        html.H1(\"Interactive Dashboard\"),\n",
    "        html.Div(\n",
    "            style={\n",
    "                \"display\": \"inline-block\",\n",
    "                \"verticalAlign\": \"top\",\n",
    "                \"width\": \"20%\",\n",
    "                \"padding\": \"10px\",\n",
    "            },\n",
    "            children=[\n",
    "                html.Label(\"Filter 1:\"),\n",
    "                dcc.Dropdown(\n",
    "                    id='filter1',\n",
    "                    options=[\n",
    "                        {'label': str(date), 'value': date}\n",
    "                        for date in df['extraction_date'].unique()\n",
    "                    ],\n",
    "                    value=None\n",
    "                ),\n",
    "                html.Label(\"Δήμος!\"),\n",
    "                dcc.Dropdown(\n",
    "                    id='dimos-filter',\n",
    "                    options=[\n",
    "                        {'label': dimos, 'value': dimos}\n",
    "                        for dimos in df['dimos'].unique()\n",
    "                    ],\n",
    "                    value=None\n",
    "                ),\n",
    "            ],\n",
    "        ),\n",
    "        html.Div(\n",
    "            style={\n",
    "                \"display\": \"inline-block\",\n",
    "                \"width\": \"70%\",\n",
    "                \"padding\": \"10px\",\n",
    "            },\n",
    "            children=[\n",
    "                dash_table.DataTable(\n",
    "                    id='table',\n",
    "                    columns=[{'name': col, 'id': col} for col in df.columns],\n",
    "                    style_table={'overflowX': 'auto'},\n",
    "                    style_cell={\n",
    "                        'minWidth': '0px', 'maxWidth': '180px',\n",
    "                        'whiteSpace': 'normal',\n",
    "                        'textAlign': 'left',\n",
    "                        'userSelect': 'text',\n",
    "                    },\n",
    "                ),\n",
    "            ],\n",
    "        ),\n",
    "    ],\n",
    ")\n",
    "\n",
    "\n",
    "@app.callback(\n",
    "    Output('table', 'data'),\n",
    "    [Input('filter1', 'value'), \n",
    "     Input('dimos-filter', 'value')]\n",
    ")\n",
    "def update_table(filter1_value, dimos_filtered):\n",
    "    if filter1_value is None:\n",
    "        filtered_df = df\n",
    "    else:\n",
    "        filtered_df = df[df['extraction_date'] == filter1_value]\n",
    "        \n",
    "    if dimos_filtered:\n",
    "        filtered_df = filtered_df[filtered_df['dimos'] == dimos_filtered]\n",
    "    \n",
    "    return filtered_df.head(50).to_dict('records')\n",
    "\n",
    "app.run_server(mode='inline')"
   ]
  },
  {
   "cell_type": "code",
   "execution_count": 61,
   "id": "fed8f53f",
   "metadata": {},
   "outputs": [
    {
     "data": {
      "text/html": [
       "<div>\n",
       "<style scoped>\n",
       "    .dataframe tbody tr th:only-of-type {\n",
       "        vertical-align: middle;\n",
       "    }\n",
       "\n",
       "    .dataframe tbody tr th {\n",
       "        vertical-align: top;\n",
       "    }\n",
       "\n",
       "    .dataframe thead th {\n",
       "        text-align: right;\n",
       "    }\n",
       "</style>\n",
       "<table border=\"1\" class=\"dataframe\">\n",
       "  <thead>\n",
       "    <tr style=\"text-align: right;\">\n",
       "      <th></th>\n",
       "      <th>id</th>\n",
       "      <th>internal_id</th>\n",
       "      <th>title_abbreviation</th>\n",
       "      <th>address</th>\n",
       "      <th>price</th>\n",
       "      <th>price_per_unit_area</th>\n",
       "      <th>size_with_square_meter</th>\n",
       "      <th>construction_year</th>\n",
       "      <th>levels</th>\n",
       "      <th>bedrooms</th>\n",
       "      <th>bathrooms</th>\n",
       "      <th>date</th>\n",
       "      <th>extraction_date</th>\n",
       "      <th>geo_lat</th>\n",
       "      <th>geo_lng</th>\n",
       "      <th>company_title</th>\n",
       "      <th>account_id</th>\n",
       "      <th>ad_group_id</th>\n",
       "      <th>url</th>\n",
       "      <th>dimos</th>\n",
       "      <th>perioxi</th>\n",
       "      <th>type</th>\n",
       "      <th>area</th>\n",
       "      <th>price_per_area</th>\n",
       "      <th>level_list</th>\n",
       "      <th>min_level</th>\n",
       "      <th>level_length</th>\n",
       "      <th>temp_no</th>\n",
       "      <th>temp_date_unit</th>\n",
       "      <th>days_passed</th>\n",
       "      <th>MaxDateSeen</th>\n",
       "    </tr>\n",
       "  </thead>\n",
       "  <tbody>\n",
       "    <tr>\n",
       "      <th>0</th>\n",
       "      <td>815053331</td>\n",
       "      <td>47143151</td>\n",
       "      <td>Διαμέρισμα 54 τ.μ.</td>\n",
       "      <td>Αθήνα (Λυκαβηττός)</td>\n",
       "      <td>560.0</td>\n",
       "      <td>10</td>\n",
       "      <td>54 τ.μ.</td>\n",
       "      <td>1970.0</td>\n",
       "      <td>['-1', '0']</td>\n",
       "      <td>1.0</td>\n",
       "      <td>1.0</td>\n",
       "      <td>πριν από 2 ημέρες</td>\n",
       "      <td>2023-06-01</td>\n",
       "      <td>37.979777</td>\n",
       "      <td>23.742884</td>\n",
       "      <td>NaN</td>\n",
       "      <td>2267566.0</td>\n",
       "      <td>NaN</td>\n",
       "      <td>https://www.xe.gr/property/d/enoikiaseis-katoi...</td>\n",
       "      <td>Αθήνα</td>\n",
       "      <td>Λυκαβηττός</td>\n",
       "      <td>Διαμέρισμα</td>\n",
       "      <td>54.0</td>\n",
       "      <td>10.370370</td>\n",
       "      <td>[-1.0, 0.0]</td>\n",
       "      <td>0.0</td>\n",
       "      <td>2</td>\n",
       "      <td>2</td>\n",
       "      <td>ημ</td>\n",
       "      <td>2</td>\n",
       "      <td>2023-06-05</td>\n",
       "    </tr>\n",
       "    <tr>\n",
       "      <th>1</th>\n",
       "      <td>815047933</td>\n",
       "      <td>47142491</td>\n",
       "      <td>Διαμέρισμα 45 τ.μ.</td>\n",
       "      <td>Αθήνα (Άνω Πατήσια)</td>\n",
       "      <td>420.0</td>\n",
       "      <td>9</td>\n",
       "      <td>45 τ.μ.</td>\n",
       "      <td>1969.0</td>\n",
       "      <td>['1']</td>\n",
       "      <td>1.0</td>\n",
       "      <td>1.0</td>\n",
       "      <td>πριν από 2 ημέρες</td>\n",
       "      <td>2023-06-01</td>\n",
       "      <td>38.017481</td>\n",
       "      <td>23.735684</td>\n",
       "      <td>NaN</td>\n",
       "      <td>1407351.0</td>\n",
       "      <td>459093.0</td>\n",
       "      <td>https://www.xe.gr/property/d/enoikiaseis-katoi...</td>\n",
       "      <td>Αθήνα</td>\n",
       "      <td>Άνω Πατήσια</td>\n",
       "      <td>Διαμέρισμα</td>\n",
       "      <td>45.0</td>\n",
       "      <td>9.333333</td>\n",
       "      <td>[1.0]</td>\n",
       "      <td>1.0</td>\n",
       "      <td>1</td>\n",
       "      <td>2</td>\n",
       "      <td>ημ</td>\n",
       "      <td>2</td>\n",
       "      <td>2023-06-05</td>\n",
       "    </tr>\n",
       "    <tr>\n",
       "      <th>2</th>\n",
       "      <td>815017929</td>\n",
       "      <td>47140206</td>\n",
       "      <td>Διαμέρισμα 60 τ.μ.</td>\n",
       "      <td>Αθήνα (Κουντουριώτικα)</td>\n",
       "      <td>780.0</td>\n",
       "      <td>13</td>\n",
       "      <td>60 τ.μ.</td>\n",
       "      <td>1975.0</td>\n",
       "      <td>['2']</td>\n",
       "      <td>1.0</td>\n",
       "      <td>1.0</td>\n",
       "      <td>πριν από 2 ημέρες</td>\n",
       "      <td>2023-06-01</td>\n",
       "      <td>37.992291</td>\n",
       "      <td>23.755579</td>\n",
       "      <td>NaN</td>\n",
       "      <td>110841.0</td>\n",
       "      <td>NaN</td>\n",
       "      <td>https://www.xe.gr/property/d/enoikiaseis-katoi...</td>\n",
       "      <td>Αθήνα</td>\n",
       "      <td>Κουντουριώτικα</td>\n",
       "      <td>Διαμέρισμα</td>\n",
       "      <td>60.0</td>\n",
       "      <td>13.000000</td>\n",
       "      <td>[2.0]</td>\n",
       "      <td>2.0</td>\n",
       "      <td>1</td>\n",
       "      <td>2</td>\n",
       "      <td>ημ</td>\n",
       "      <td>2</td>\n",
       "      <td>2023-06-05</td>\n",
       "    </tr>\n",
       "    <tr>\n",
       "      <th>3</th>\n",
       "      <td>814952950</td>\n",
       "      <td>47138240</td>\n",
       "      <td>Διαμέρισμα 55 τ.μ.</td>\n",
       "      <td>Αθήνα (Πολύγωνο)</td>\n",
       "      <td>600.0</td>\n",
       "      <td>11</td>\n",
       "      <td>55 τ.μ.</td>\n",
       "      <td>1981.0</td>\n",
       "      <td>['1']</td>\n",
       "      <td>1.0</td>\n",
       "      <td>1.0</td>\n",
       "      <td>πριν από 3 ημέρες</td>\n",
       "      <td>2023-06-01</td>\n",
       "      <td>37.999083</td>\n",
       "      <td>23.755417</td>\n",
       "      <td>NaN</td>\n",
       "      <td>1344554.0</td>\n",
       "      <td>NaN</td>\n",
       "      <td>https://www.xe.gr/property/d/enoikiaseis-katoi...</td>\n",
       "      <td>Αθήνα</td>\n",
       "      <td>Πολύγωνο</td>\n",
       "      <td>Διαμέρισμα</td>\n",
       "      <td>55.0</td>\n",
       "      <td>10.909091</td>\n",
       "      <td>[1.0]</td>\n",
       "      <td>1.0</td>\n",
       "      <td>1</td>\n",
       "      <td>3</td>\n",
       "      <td>ημ</td>\n",
       "      <td>3</td>\n",
       "      <td>2023-06-05</td>\n",
       "    </tr>\n",
       "    <tr>\n",
       "      <th>4</th>\n",
       "      <td>814956607</td>\n",
       "      <td>47138448</td>\n",
       "      <td>Διαμέρισμα 50 τ.μ.</td>\n",
       "      <td>Αθήνα (Πανόρμου)</td>\n",
       "      <td>790.0</td>\n",
       "      <td>16</td>\n",
       "      <td>50 τ.μ.</td>\n",
       "      <td>1970.0</td>\n",
       "      <td>['1']</td>\n",
       "      <td>1.0</td>\n",
       "      <td>1.0</td>\n",
       "      <td>πριν από 3 ημέρες</td>\n",
       "      <td>2023-06-01</td>\n",
       "      <td>37.990937</td>\n",
       "      <td>23.765072</td>\n",
       "      <td>BLUEGROUND REAL ESTATE</td>\n",
       "      <td>1220409.0</td>\n",
       "      <td>NaN</td>\n",
       "      <td>https://www.xe.gr/property/d/enoikiaseis-katoi...</td>\n",
       "      <td>Αθήνα</td>\n",
       "      <td>Πανόρμου</td>\n",
       "      <td>Διαμέρισμα</td>\n",
       "      <td>50.0</td>\n",
       "      <td>15.800000</td>\n",
       "      <td>[1.0]</td>\n",
       "      <td>1.0</td>\n",
       "      <td>1</td>\n",
       "      <td>3</td>\n",
       "      <td>ημ</td>\n",
       "      <td>3</td>\n",
       "      <td>2023-06-05</td>\n",
       "    </tr>\n",
       "    <tr>\n",
       "      <th>...</th>\n",
       "      <td>...</td>\n",
       "      <td>...</td>\n",
       "      <td>...</td>\n",
       "      <td>...</td>\n",
       "      <td>...</td>\n",
       "      <td>...</td>\n",
       "      <td>...</td>\n",
       "      <td>...</td>\n",
       "      <td>...</td>\n",
       "      <td>...</td>\n",
       "      <td>...</td>\n",
       "      <td>...</td>\n",
       "      <td>...</td>\n",
       "      <td>...</td>\n",
       "      <td>...</td>\n",
       "      <td>...</td>\n",
       "      <td>...</td>\n",
       "      <td>...</td>\n",
       "      <td>...</td>\n",
       "      <td>...</td>\n",
       "      <td>...</td>\n",
       "      <td>...</td>\n",
       "      <td>...</td>\n",
       "      <td>...</td>\n",
       "      <td>...</td>\n",
       "      <td>...</td>\n",
       "      <td>...</td>\n",
       "      <td>...</td>\n",
       "      <td>...</td>\n",
       "      <td>...</td>\n",
       "      <td>...</td>\n",
       "    </tr>\n",
       "    <tr>\n",
       "      <th>27258</th>\n",
       "      <td>632024644</td>\n",
       "      <td>41302418</td>\n",
       "      <td>Διαμέρισμα 64 τ.μ.</td>\n",
       "      <td>Βύρωνας</td>\n",
       "      <td>640.0</td>\n",
       "      <td>10</td>\n",
       "      <td>64 τ.μ.</td>\n",
       "      <td>NaN</td>\n",
       "      <td>['2']</td>\n",
       "      <td>2.0</td>\n",
       "      <td>NaN</td>\n",
       "      <td>πριν από 2 μήνες</td>\n",
       "      <td>2023-06-05</td>\n",
       "      <td>37.959404</td>\n",
       "      <td>23.750014</td>\n",
       "      <td>NaN</td>\n",
       "      <td>98213.0</td>\n",
       "      <td>NaN</td>\n",
       "      <td>https://www.xe.gr/property/d/enoikiaseis-katoi...</td>\n",
       "      <td>Βύρωνας</td>\n",
       "      <td>NaN</td>\n",
       "      <td>Διαμέρισμα</td>\n",
       "      <td>64.0</td>\n",
       "      <td>10.000000</td>\n",
       "      <td>[2.0]</td>\n",
       "      <td>2.0</td>\n",
       "      <td>1</td>\n",
       "      <td>2</td>\n",
       "      <td>μή</td>\n",
       "      <td>60</td>\n",
       "      <td>2023-06-05</td>\n",
       "    </tr>\n",
       "    <tr>\n",
       "      <th>27259</th>\n",
       "      <td>798078305</td>\n",
       "      <td>46276831</td>\n",
       "      <td>Διαμέρισμα 150 τ.μ.</td>\n",
       "      <td>Βύρωνας</td>\n",
       "      <td>1050.0</td>\n",
       "      <td>7</td>\n",
       "      <td>150 τ.μ.</td>\n",
       "      <td>1974.0</td>\n",
       "      <td>['3']</td>\n",
       "      <td>3.0</td>\n",
       "      <td>1.0</td>\n",
       "      <td>πριν από 2 μήνες</td>\n",
       "      <td>2023-06-05</td>\n",
       "      <td>37.955561</td>\n",
       "      <td>23.750699</td>\n",
       "      <td>Homenet Real Estate &amp; Development</td>\n",
       "      <td>1161699.0</td>\n",
       "      <td>NaN</td>\n",
       "      <td>https://www.xe.gr/property/d/enoikiaseis-katoi...</td>\n",
       "      <td>Βύρωνας</td>\n",
       "      <td>NaN</td>\n",
       "      <td>Διαμέρισμα</td>\n",
       "      <td>150.0</td>\n",
       "      <td>7.000000</td>\n",
       "      <td>[3.0]</td>\n",
       "      <td>3.0</td>\n",
       "      <td>1</td>\n",
       "      <td>2</td>\n",
       "      <td>μή</td>\n",
       "      <td>60</td>\n",
       "      <td>2023-06-05</td>\n",
       "    </tr>\n",
       "    <tr>\n",
       "      <th>27260</th>\n",
       "      <td>799256815</td>\n",
       "      <td>46334139</td>\n",
       "      <td>Διαμέρισμα 150 τ.μ.</td>\n",
       "      <td>Ζωγράφου (Κέντρο)</td>\n",
       "      <td>1000.0</td>\n",
       "      <td>7</td>\n",
       "      <td>150 τ.μ.</td>\n",
       "      <td>NaN</td>\n",
       "      <td>['3']</td>\n",
       "      <td>3.0</td>\n",
       "      <td>1.0</td>\n",
       "      <td>πριν από 2 μήνες</td>\n",
       "      <td>2023-06-05</td>\n",
       "      <td>37.976858</td>\n",
       "      <td>23.770422</td>\n",
       "      <td>Dimit Estate</td>\n",
       "      <td>1144164.0</td>\n",
       "      <td>NaN</td>\n",
       "      <td>https://www.xe.gr/property/d/enoikiaseis-katoi...</td>\n",
       "      <td>Ζωγράφου</td>\n",
       "      <td>Κέντρο</td>\n",
       "      <td>Διαμέρισμα</td>\n",
       "      <td>150.0</td>\n",
       "      <td>6.666667</td>\n",
       "      <td>[3.0]</td>\n",
       "      <td>3.0</td>\n",
       "      <td>1</td>\n",
       "      <td>2</td>\n",
       "      <td>μή</td>\n",
       "      <td>60</td>\n",
       "      <td>2023-06-05</td>\n",
       "    </tr>\n",
       "    <tr>\n",
       "      <th>27261</th>\n",
       "      <td>2465980</td>\n",
       "      <td>21365332</td>\n",
       "      <td>Διαμέρισμα 50 τ.μ.</td>\n",
       "      <td>Βύρωνας (Αγορά)</td>\n",
       "      <td>590.0</td>\n",
       "      <td>12</td>\n",
       "      <td>50 τ.μ.</td>\n",
       "      <td>1954.0</td>\n",
       "      <td>['1']</td>\n",
       "      <td>1.0</td>\n",
       "      <td>NaN</td>\n",
       "      <td>πριν από 2 μήνες</td>\n",
       "      <td>2023-06-05</td>\n",
       "      <td>37.959260</td>\n",
       "      <td>23.756369</td>\n",
       "      <td>NaN</td>\n",
       "      <td>98222.0</td>\n",
       "      <td>NaN</td>\n",
       "      <td>https://www.xe.gr/property/d/enoikiaseis-katoi...</td>\n",
       "      <td>Βύρωνας</td>\n",
       "      <td>Αγορά</td>\n",
       "      <td>Διαμέρισμα</td>\n",
       "      <td>50.0</td>\n",
       "      <td>11.800000</td>\n",
       "      <td>[1.0]</td>\n",
       "      <td>1.0</td>\n",
       "      <td>1</td>\n",
       "      <td>2</td>\n",
       "      <td>μή</td>\n",
       "      <td>60</td>\n",
       "      <td>2023-06-05</td>\n",
       "    </tr>\n",
       "    <tr>\n",
       "      <th>27262</th>\n",
       "      <td>2550572</td>\n",
       "      <td>21407274</td>\n",
       "      <td>Διαμέρισμα 50 τ.μ.</td>\n",
       "      <td>Βύρωνας (Αγορά)</td>\n",
       "      <td>590.0</td>\n",
       "      <td>12</td>\n",
       "      <td>50 τ.μ.</td>\n",
       "      <td>1970.0</td>\n",
       "      <td>['1']</td>\n",
       "      <td>2.0</td>\n",
       "      <td>NaN</td>\n",
       "      <td>πριν από 2 μήνες</td>\n",
       "      <td>2023-06-05</td>\n",
       "      <td>37.959260</td>\n",
       "      <td>23.756369</td>\n",
       "      <td>NaN</td>\n",
       "      <td>88626.0</td>\n",
       "      <td>NaN</td>\n",
       "      <td>https://www.xe.gr/property/d/enoikiaseis-katoi...</td>\n",
       "      <td>Βύρωνας</td>\n",
       "      <td>Αγορά</td>\n",
       "      <td>Διαμέρισμα</td>\n",
       "      <td>50.0</td>\n",
       "      <td>11.800000</td>\n",
       "      <td>[1.0]</td>\n",
       "      <td>1.0</td>\n",
       "      <td>1</td>\n",
       "      <td>2</td>\n",
       "      <td>μή</td>\n",
       "      <td>60</td>\n",
       "      <td>2023-06-05</td>\n",
       "    </tr>\n",
       "  </tbody>\n",
       "</table>\n",
       "<p>27263 rows × 31 columns</p>\n",
       "</div>"
      ],
      "text/plain": [
       "              id  internal_id   title_abbreviation                 address  \\\n",
       "0      815053331     47143151   Διαμέρισμα 54 τ.μ.      Αθήνα (Λυκαβηττός)   \n",
       "1      815047933     47142491   Διαμέρισμα 45 τ.μ.     Αθήνα (Άνω Πατήσια)   \n",
       "2      815017929     47140206   Διαμέρισμα 60 τ.μ.  Αθήνα (Κουντουριώτικα)   \n",
       "3      814952950     47138240   Διαμέρισμα 55 τ.μ.        Αθήνα (Πολύγωνο)   \n",
       "4      814956607     47138448   Διαμέρισμα 50 τ.μ.        Αθήνα (Πανόρμου)   \n",
       "...          ...          ...                  ...                     ...   \n",
       "27258  632024644     41302418   Διαμέρισμα 64 τ.μ.                 Βύρωνας   \n",
       "27259  798078305     46276831  Διαμέρισμα 150 τ.μ.                 Βύρωνας   \n",
       "27260  799256815     46334139  Διαμέρισμα 150 τ.μ.       Ζωγράφου (Κέντρο)   \n",
       "27261    2465980     21365332   Διαμέρισμα 50 τ.μ.         Βύρωνας (Αγορά)   \n",
       "27262    2550572     21407274   Διαμέρισμα 50 τ.μ.         Βύρωνας (Αγορά)   \n",
       "\n",
       "        price  price_per_unit_area size_with_square_meter  construction_year  \\\n",
       "0       560.0                   10                54 τ.μ.             1970.0   \n",
       "1       420.0                    9                45 τ.μ.             1969.0   \n",
       "2       780.0                   13                60 τ.μ.             1975.0   \n",
       "3       600.0                   11                55 τ.μ.             1981.0   \n",
       "4       790.0                   16                50 τ.μ.             1970.0   \n",
       "...       ...                  ...                    ...                ...   \n",
       "27258   640.0                   10                64 τ.μ.                NaN   \n",
       "27259  1050.0                    7               150 τ.μ.             1974.0   \n",
       "27260  1000.0                    7               150 τ.μ.                NaN   \n",
       "27261   590.0                   12                50 τ.μ.             1954.0   \n",
       "27262   590.0                   12                50 τ.μ.             1970.0   \n",
       "\n",
       "            levels  bedrooms  bathrooms               date extraction_date  \\\n",
       "0      ['-1', '0']       1.0        1.0  πριν από 2 ημέρες      2023-06-01   \n",
       "1            ['1']       1.0        1.0  πριν από 2 ημέρες      2023-06-01   \n",
       "2            ['2']       1.0        1.0  πριν από 2 ημέρες      2023-06-01   \n",
       "3            ['1']       1.0        1.0  πριν από 3 ημέρες      2023-06-01   \n",
       "4            ['1']       1.0        1.0  πριν από 3 ημέρες      2023-06-01   \n",
       "...            ...       ...        ...                ...             ...   \n",
       "27258        ['2']       2.0        NaN   πριν από 2 μήνες      2023-06-05   \n",
       "27259        ['3']       3.0        1.0   πριν από 2 μήνες      2023-06-05   \n",
       "27260        ['3']       3.0        1.0   πριν από 2 μήνες      2023-06-05   \n",
       "27261        ['1']       1.0        NaN   πριν από 2 μήνες      2023-06-05   \n",
       "27262        ['1']       2.0        NaN   πριν από 2 μήνες      2023-06-05   \n",
       "\n",
       "         geo_lat    geo_lng                      company_title  account_id  \\\n",
       "0      37.979777  23.742884                                NaN   2267566.0   \n",
       "1      38.017481  23.735684                                NaN   1407351.0   \n",
       "2      37.992291  23.755579                                NaN    110841.0   \n",
       "3      37.999083  23.755417                                NaN   1344554.0   \n",
       "4      37.990937  23.765072             BLUEGROUND REAL ESTATE   1220409.0   \n",
       "...          ...        ...                                ...         ...   \n",
       "27258  37.959404  23.750014                                NaN     98213.0   \n",
       "27259  37.955561  23.750699  Homenet Real Estate & Development   1161699.0   \n",
       "27260  37.976858  23.770422                       Dimit Estate   1144164.0   \n",
       "27261  37.959260  23.756369                                NaN     98222.0   \n",
       "27262  37.959260  23.756369                                NaN     88626.0   \n",
       "\n",
       "       ad_group_id                                                url  \\\n",
       "0              NaN  https://www.xe.gr/property/d/enoikiaseis-katoi...   \n",
       "1         459093.0  https://www.xe.gr/property/d/enoikiaseis-katoi...   \n",
       "2              NaN  https://www.xe.gr/property/d/enoikiaseis-katoi...   \n",
       "3              NaN  https://www.xe.gr/property/d/enoikiaseis-katoi...   \n",
       "4              NaN  https://www.xe.gr/property/d/enoikiaseis-katoi...   \n",
       "...            ...                                                ...   \n",
       "27258          NaN  https://www.xe.gr/property/d/enoikiaseis-katoi...   \n",
       "27259          NaN  https://www.xe.gr/property/d/enoikiaseis-katoi...   \n",
       "27260          NaN  https://www.xe.gr/property/d/enoikiaseis-katoi...   \n",
       "27261          NaN  https://www.xe.gr/property/d/enoikiaseis-katoi...   \n",
       "27262          NaN  https://www.xe.gr/property/d/enoikiaseis-katoi...   \n",
       "\n",
       "          dimos         perioxi        type   area  price_per_area  \\\n",
       "0         Αθήνα      Λυκαβηττός  Διαμέρισμα   54.0       10.370370   \n",
       "1         Αθήνα     Άνω Πατήσια  Διαμέρισμα   45.0        9.333333   \n",
       "2         Αθήνα  Κουντουριώτικα  Διαμέρισμα   60.0       13.000000   \n",
       "3         Αθήνα        Πολύγωνο  Διαμέρισμα   55.0       10.909091   \n",
       "4         Αθήνα        Πανόρμου  Διαμέρισμα   50.0       15.800000   \n",
       "...         ...             ...         ...    ...             ...   \n",
       "27258   Βύρωνας             NaN  Διαμέρισμα   64.0       10.000000   \n",
       "27259   Βύρωνας             NaN  Διαμέρισμα  150.0        7.000000   \n",
       "27260  Ζωγράφου          Κέντρο  Διαμέρισμα  150.0        6.666667   \n",
       "27261   Βύρωνας           Αγορά  Διαμέρισμα   50.0       11.800000   \n",
       "27262   Βύρωνας           Αγορά  Διαμέρισμα   50.0       11.800000   \n",
       "\n",
       "        level_list  min_level  level_length  temp_no temp_date_unit  \\\n",
       "0      [-1.0, 0.0]        0.0             2        2             ημ   \n",
       "1            [1.0]        1.0             1        2             ημ   \n",
       "2            [2.0]        2.0             1        2             ημ   \n",
       "3            [1.0]        1.0             1        3             ημ   \n",
       "4            [1.0]        1.0             1        3             ημ   \n",
       "...            ...        ...           ...      ...            ...   \n",
       "27258        [2.0]        2.0             1        2             μή   \n",
       "27259        [3.0]        3.0             1        2             μή   \n",
       "27260        [3.0]        3.0             1        2             μή   \n",
       "27261        [1.0]        1.0             1        2             μή   \n",
       "27262        [1.0]        1.0             1        2             μή   \n",
       "\n",
       "       days_passed MaxDateSeen  \n",
       "0                2  2023-06-05  \n",
       "1                2  2023-06-05  \n",
       "2                2  2023-06-05  \n",
       "3                3  2023-06-05  \n",
       "4                3  2023-06-05  \n",
       "...            ...         ...  \n",
       "27258           60  2023-06-05  \n",
       "27259           60  2023-06-05  \n",
       "27260           60  2023-06-05  \n",
       "27261           60  2023-06-05  \n",
       "27262           60  2023-06-05  \n",
       "\n",
       "[27263 rows x 31 columns]"
      ]
     },
     "execution_count": 61,
     "metadata": {},
     "output_type": "execute_result"
    }
   ],
   "source": [
    "df_full[]"
   ]
  },
  {
   "cell_type": "code",
   "execution_count": 13,
   "id": "53b94085",
   "metadata": {},
   "outputs": [
    {
     "data": {
      "application/vnd.plotly.v1+json": {
       "config": {
        "plotlyServerURL": "https://plot.ly"
       },
       "data": [
        {
         "alignmentgroup": "True",
         "hovertemplate": "dimos=%{x}<br>price_per_area=%{y}<extra></extra>",
         "legendgroup": "",
         "marker": {
          "color": "#636efa",
          "pattern": {
           "shape": ""
          }
         },
         "name": "",
         "offsetgroup": "",
         "orientation": "v",
         "showlegend": false,
         "textposition": "auto",
         "type": "bar",
         "x": [
          "Άγιοι Ανάργυροι",
          "Άγιος Δημήτριος",
          "Ίλιον",
          "Αθήνα",
          "Αιγάλεω",
          "Βύρωνας",
          "Γαλάτσι",
          "Γλυφάδα",
          "Δάφνη",
          "Ζωγράφου",
          "Ηλιούπολη",
          "Καισαριανή",
          "Καλλιθέα",
          "Μαρούσι",
          "Μοσχάτο",
          "Νέα Ιωνία",
          "Νέα Σμύρνη",
          "Νέα Χαλκηδόνα",
          "Νέο Ψυχικό",
          "Παπάγου",
          "Περιστέρι",
          "Ταύρος",
          "Υμηττός",
          "Φιλοθέη",
          "Χαλάνδρι",
          "Χολαργός",
          "Ψυχικό"
         ],
         "xaxis": "x",
         "y": [
          7.26190602675661,
          10.541666666666668,
          7.443700242160761,
          10.334230506747843,
          8.12173202614379,
          9.82222686812633,
          8.463076580221863,
          17.692307692307693,
          10.914269634088265,
          9.896258586926256,
          7.051282051282051,
          10.826710444427551,
          9.482816104893198,
          14.581456040516565,
          11.688674900368447,
          8.750371248544228,
          9.186523981763575,
          7.349352283532646,
          11.82159014101378,
          9.392684610075914,
          8.012218330911955,
          9.230223563620987,
          9.773564215976702,
          13.112464285692988,
          10.905230370732703,
          8,
          14.783201874611201
         ],
         "yaxis": "y"
        }
       ],
       "layout": {
        "barmode": "relative",
        "legend": {
         "tracegroupgap": 0
        },
        "margin": {
         "t": 60
        },
        "template": {
         "data": {
          "bar": [
           {
            "error_x": {
             "color": "#2a3f5f"
            },
            "error_y": {
             "color": "#2a3f5f"
            },
            "marker": {
             "line": {
              "color": "#E5ECF6",
              "width": 0.5
             },
             "pattern": {
              "fillmode": "overlay",
              "size": 10,
              "solidity": 0.2
             }
            },
            "type": "bar"
           }
          ],
          "barpolar": [
           {
            "marker": {
             "line": {
              "color": "#E5ECF6",
              "width": 0.5
             },
             "pattern": {
              "fillmode": "overlay",
              "size": 10,
              "solidity": 0.2
             }
            },
            "type": "barpolar"
           }
          ],
          "carpet": [
           {
            "aaxis": {
             "endlinecolor": "#2a3f5f",
             "gridcolor": "white",
             "linecolor": "white",
             "minorgridcolor": "white",
             "startlinecolor": "#2a3f5f"
            },
            "baxis": {
             "endlinecolor": "#2a3f5f",
             "gridcolor": "white",
             "linecolor": "white",
             "minorgridcolor": "white",
             "startlinecolor": "#2a3f5f"
            },
            "type": "carpet"
           }
          ],
          "choropleth": [
           {
            "colorbar": {
             "outlinewidth": 0,
             "ticks": ""
            },
            "type": "choropleth"
           }
          ],
          "contour": [
           {
            "colorbar": {
             "outlinewidth": 0,
             "ticks": ""
            },
            "colorscale": [
             [
              0,
              "#0d0887"
             ],
             [
              0.1111111111111111,
              "#46039f"
             ],
             [
              0.2222222222222222,
              "#7201a8"
             ],
             [
              0.3333333333333333,
              "#9c179e"
             ],
             [
              0.4444444444444444,
              "#bd3786"
             ],
             [
              0.5555555555555556,
              "#d8576b"
             ],
             [
              0.6666666666666666,
              "#ed7953"
             ],
             [
              0.7777777777777778,
              "#fb9f3a"
             ],
             [
              0.8888888888888888,
              "#fdca26"
             ],
             [
              1,
              "#f0f921"
             ]
            ],
            "type": "contour"
           }
          ],
          "contourcarpet": [
           {
            "colorbar": {
             "outlinewidth": 0,
             "ticks": ""
            },
            "type": "contourcarpet"
           }
          ],
          "heatmap": [
           {
            "colorbar": {
             "outlinewidth": 0,
             "ticks": ""
            },
            "colorscale": [
             [
              0,
              "#0d0887"
             ],
             [
              0.1111111111111111,
              "#46039f"
             ],
             [
              0.2222222222222222,
              "#7201a8"
             ],
             [
              0.3333333333333333,
              "#9c179e"
             ],
             [
              0.4444444444444444,
              "#bd3786"
             ],
             [
              0.5555555555555556,
              "#d8576b"
             ],
             [
              0.6666666666666666,
              "#ed7953"
             ],
             [
              0.7777777777777778,
              "#fb9f3a"
             ],
             [
              0.8888888888888888,
              "#fdca26"
             ],
             [
              1,
              "#f0f921"
             ]
            ],
            "type": "heatmap"
           }
          ],
          "heatmapgl": [
           {
            "colorbar": {
             "outlinewidth": 0,
             "ticks": ""
            },
            "colorscale": [
             [
              0,
              "#0d0887"
             ],
             [
              0.1111111111111111,
              "#46039f"
             ],
             [
              0.2222222222222222,
              "#7201a8"
             ],
             [
              0.3333333333333333,
              "#9c179e"
             ],
             [
              0.4444444444444444,
              "#bd3786"
             ],
             [
              0.5555555555555556,
              "#d8576b"
             ],
             [
              0.6666666666666666,
              "#ed7953"
             ],
             [
              0.7777777777777778,
              "#fb9f3a"
             ],
             [
              0.8888888888888888,
              "#fdca26"
             ],
             [
              1,
              "#f0f921"
             ]
            ],
            "type": "heatmapgl"
           }
          ],
          "histogram": [
           {
            "marker": {
             "pattern": {
              "fillmode": "overlay",
              "size": 10,
              "solidity": 0.2
             }
            },
            "type": "histogram"
           }
          ],
          "histogram2d": [
           {
            "colorbar": {
             "outlinewidth": 0,
             "ticks": ""
            },
            "colorscale": [
             [
              0,
              "#0d0887"
             ],
             [
              0.1111111111111111,
              "#46039f"
             ],
             [
              0.2222222222222222,
              "#7201a8"
             ],
             [
              0.3333333333333333,
              "#9c179e"
             ],
             [
              0.4444444444444444,
              "#bd3786"
             ],
             [
              0.5555555555555556,
              "#d8576b"
             ],
             [
              0.6666666666666666,
              "#ed7953"
             ],
             [
              0.7777777777777778,
              "#fb9f3a"
             ],
             [
              0.8888888888888888,
              "#fdca26"
             ],
             [
              1,
              "#f0f921"
             ]
            ],
            "type": "histogram2d"
           }
          ],
          "histogram2dcontour": [
           {
            "colorbar": {
             "outlinewidth": 0,
             "ticks": ""
            },
            "colorscale": [
             [
              0,
              "#0d0887"
             ],
             [
              0.1111111111111111,
              "#46039f"
             ],
             [
              0.2222222222222222,
              "#7201a8"
             ],
             [
              0.3333333333333333,
              "#9c179e"
             ],
             [
              0.4444444444444444,
              "#bd3786"
             ],
             [
              0.5555555555555556,
              "#d8576b"
             ],
             [
              0.6666666666666666,
              "#ed7953"
             ],
             [
              0.7777777777777778,
              "#fb9f3a"
             ],
             [
              0.8888888888888888,
              "#fdca26"
             ],
             [
              1,
              "#f0f921"
             ]
            ],
            "type": "histogram2dcontour"
           }
          ],
          "mesh3d": [
           {
            "colorbar": {
             "outlinewidth": 0,
             "ticks": ""
            },
            "type": "mesh3d"
           }
          ],
          "parcoords": [
           {
            "line": {
             "colorbar": {
              "outlinewidth": 0,
              "ticks": ""
             }
            },
            "type": "parcoords"
           }
          ],
          "pie": [
           {
            "automargin": true,
            "type": "pie"
           }
          ],
          "scatter": [
           {
            "fillpattern": {
             "fillmode": "overlay",
             "size": 10,
             "solidity": 0.2
            },
            "type": "scatter"
           }
          ],
          "scatter3d": [
           {
            "line": {
             "colorbar": {
              "outlinewidth": 0,
              "ticks": ""
             }
            },
            "marker": {
             "colorbar": {
              "outlinewidth": 0,
              "ticks": ""
             }
            },
            "type": "scatter3d"
           }
          ],
          "scattercarpet": [
           {
            "marker": {
             "colorbar": {
              "outlinewidth": 0,
              "ticks": ""
             }
            },
            "type": "scattercarpet"
           }
          ],
          "scattergeo": [
           {
            "marker": {
             "colorbar": {
              "outlinewidth": 0,
              "ticks": ""
             }
            },
            "type": "scattergeo"
           }
          ],
          "scattergl": [
           {
            "marker": {
             "colorbar": {
              "outlinewidth": 0,
              "ticks": ""
             }
            },
            "type": "scattergl"
           }
          ],
          "scattermapbox": [
           {
            "marker": {
             "colorbar": {
              "outlinewidth": 0,
              "ticks": ""
             }
            },
            "type": "scattermapbox"
           }
          ],
          "scatterpolar": [
           {
            "marker": {
             "colorbar": {
              "outlinewidth": 0,
              "ticks": ""
             }
            },
            "type": "scatterpolar"
           }
          ],
          "scatterpolargl": [
           {
            "marker": {
             "colorbar": {
              "outlinewidth": 0,
              "ticks": ""
             }
            },
            "type": "scatterpolargl"
           }
          ],
          "scatterternary": [
           {
            "marker": {
             "colorbar": {
              "outlinewidth": 0,
              "ticks": ""
             }
            },
            "type": "scatterternary"
           }
          ],
          "surface": [
           {
            "colorbar": {
             "outlinewidth": 0,
             "ticks": ""
            },
            "colorscale": [
             [
              0,
              "#0d0887"
             ],
             [
              0.1111111111111111,
              "#46039f"
             ],
             [
              0.2222222222222222,
              "#7201a8"
             ],
             [
              0.3333333333333333,
              "#9c179e"
             ],
             [
              0.4444444444444444,
              "#bd3786"
             ],
             [
              0.5555555555555556,
              "#d8576b"
             ],
             [
              0.6666666666666666,
              "#ed7953"
             ],
             [
              0.7777777777777778,
              "#fb9f3a"
             ],
             [
              0.8888888888888888,
              "#fdca26"
             ],
             [
              1,
              "#f0f921"
             ]
            ],
            "type": "surface"
           }
          ],
          "table": [
           {
            "cells": {
             "fill": {
              "color": "#EBF0F8"
             },
             "line": {
              "color": "white"
             }
            },
            "header": {
             "fill": {
              "color": "#C8D4E3"
             },
             "line": {
              "color": "white"
             }
            },
            "type": "table"
           }
          ]
         },
         "layout": {
          "annotationdefaults": {
           "arrowcolor": "#2a3f5f",
           "arrowhead": 0,
           "arrowwidth": 1
          },
          "autotypenumbers": "strict",
          "coloraxis": {
           "colorbar": {
            "outlinewidth": 0,
            "ticks": ""
           }
          },
          "colorscale": {
           "diverging": [
            [
             0,
             "#8e0152"
            ],
            [
             0.1,
             "#c51b7d"
            ],
            [
             0.2,
             "#de77ae"
            ],
            [
             0.3,
             "#f1b6da"
            ],
            [
             0.4,
             "#fde0ef"
            ],
            [
             0.5,
             "#f7f7f7"
            ],
            [
             0.6,
             "#e6f5d0"
            ],
            [
             0.7,
             "#b8e186"
            ],
            [
             0.8,
             "#7fbc41"
            ],
            [
             0.9,
             "#4d9221"
            ],
            [
             1,
             "#276419"
            ]
           ],
           "sequential": [
            [
             0,
             "#0d0887"
            ],
            [
             0.1111111111111111,
             "#46039f"
            ],
            [
             0.2222222222222222,
             "#7201a8"
            ],
            [
             0.3333333333333333,
             "#9c179e"
            ],
            [
             0.4444444444444444,
             "#bd3786"
            ],
            [
             0.5555555555555556,
             "#d8576b"
            ],
            [
             0.6666666666666666,
             "#ed7953"
            ],
            [
             0.7777777777777778,
             "#fb9f3a"
            ],
            [
             0.8888888888888888,
             "#fdca26"
            ],
            [
             1,
             "#f0f921"
            ]
           ],
           "sequentialminus": [
            [
             0,
             "#0d0887"
            ],
            [
             0.1111111111111111,
             "#46039f"
            ],
            [
             0.2222222222222222,
             "#7201a8"
            ],
            [
             0.3333333333333333,
             "#9c179e"
            ],
            [
             0.4444444444444444,
             "#bd3786"
            ],
            [
             0.5555555555555556,
             "#d8576b"
            ],
            [
             0.6666666666666666,
             "#ed7953"
            ],
            [
             0.7777777777777778,
             "#fb9f3a"
            ],
            [
             0.8888888888888888,
             "#fdca26"
            ],
            [
             1,
             "#f0f921"
            ]
           ]
          },
          "colorway": [
           "#636efa",
           "#EF553B",
           "#00cc96",
           "#ab63fa",
           "#FFA15A",
           "#19d3f3",
           "#FF6692",
           "#B6E880",
           "#FF97FF",
           "#FECB52"
          ],
          "font": {
           "color": "#2a3f5f"
          },
          "geo": {
           "bgcolor": "white",
           "lakecolor": "white",
           "landcolor": "#E5ECF6",
           "showlakes": true,
           "showland": true,
           "subunitcolor": "white"
          },
          "hoverlabel": {
           "align": "left"
          },
          "hovermode": "closest",
          "mapbox": {
           "style": "light"
          },
          "paper_bgcolor": "white",
          "plot_bgcolor": "#E5ECF6",
          "polar": {
           "angularaxis": {
            "gridcolor": "white",
            "linecolor": "white",
            "ticks": ""
           },
           "bgcolor": "#E5ECF6",
           "radialaxis": {
            "gridcolor": "white",
            "linecolor": "white",
            "ticks": ""
           }
          },
          "scene": {
           "xaxis": {
            "backgroundcolor": "#E5ECF6",
            "gridcolor": "white",
            "gridwidth": 2,
            "linecolor": "white",
            "showbackground": true,
            "ticks": "",
            "zerolinecolor": "white"
           },
           "yaxis": {
            "backgroundcolor": "#E5ECF6",
            "gridcolor": "white",
            "gridwidth": 2,
            "linecolor": "white",
            "showbackground": true,
            "ticks": "",
            "zerolinecolor": "white"
           },
           "zaxis": {
            "backgroundcolor": "#E5ECF6",
            "gridcolor": "white",
            "gridwidth": 2,
            "linecolor": "white",
            "showbackground": true,
            "ticks": "",
            "zerolinecolor": "white"
           }
          },
          "shapedefaults": {
           "line": {
            "color": "#2a3f5f"
           }
          },
          "ternary": {
           "aaxis": {
            "gridcolor": "white",
            "linecolor": "white",
            "ticks": ""
           },
           "baxis": {
            "gridcolor": "white",
            "linecolor": "white",
            "ticks": ""
           },
           "bgcolor": "#E5ECF6",
           "caxis": {
            "gridcolor": "white",
            "linecolor": "white",
            "ticks": ""
           }
          },
          "title": {
           "x": 0.05
          },
          "xaxis": {
           "automargin": true,
           "gridcolor": "white",
           "linecolor": "white",
           "ticks": "",
           "title": {
            "standoff": 15
           },
           "zerolinecolor": "white",
           "zerolinewidth": 2
          },
          "yaxis": {
           "automargin": true,
           "gridcolor": "white",
           "linecolor": "white",
           "ticks": "",
           "title": {
            "standoff": 15
           },
           "zerolinecolor": "white",
           "zerolinewidth": 2
          }
         }
        },
        "xaxis": {
         "anchor": "y",
         "domain": [
          0,
          1
         ],
         "title": {
          "text": "dimos"
         }
        },
        "yaxis": {
         "anchor": "x",
         "domain": [
          0,
          1
         ],
         "title": {
          "text": "price_per_area"
         }
        }
       }
      },
      "text/html": [
       "<div>                            <div id=\"97d886fb-81ff-493b-aaf6-c60db2a0bb13\" class=\"plotly-graph-div\" style=\"height:525px; width:100%;\"></div>            <script type=\"text/javascript\">                require([\"plotly\"], function(Plotly) {                    window.PLOTLYENV=window.PLOTLYENV || {};                                    if (document.getElementById(\"97d886fb-81ff-493b-aaf6-c60db2a0bb13\")) {                    Plotly.newPlot(                        \"97d886fb-81ff-493b-aaf6-c60db2a0bb13\",                        [{\"alignmentgroup\":\"True\",\"hovertemplate\":\"dimos=%{x}\\u003cbr\\u003eprice_per_area=%{y}\\u003cextra\\u003e\\u003c\\u002fextra\\u003e\",\"legendgroup\":\"\",\"marker\":{\"color\":\"#636efa\",\"pattern\":{\"shape\":\"\"}},\"name\":\"\",\"offsetgroup\":\"\",\"orientation\":\"v\",\"showlegend\":false,\"textposition\":\"auto\",\"x\":[\"\\u0386\\u03b3\\u03b9\\u03bf\\u03b9 \\u0391\\u03bd\\u03ac\\u03c1\\u03b3\\u03c5\\u03c1\\u03bf\\u03b9\",\"\\u0386\\u03b3\\u03b9\\u03bf\\u03c2 \\u0394\\u03b7\\u03bc\\u03ae\\u03c4\\u03c1\\u03b9\\u03bf\\u03c2\",\"\\u038a\\u03bb\\u03b9\\u03bf\\u03bd\",\"\\u0391\\u03b8\\u03ae\\u03bd\\u03b1\",\"\\u0391\\u03b9\\u03b3\\u03ac\\u03bb\\u03b5\\u03c9\",\"\\u0392\\u03cd\\u03c1\\u03c9\\u03bd\\u03b1\\u03c2\",\"\\u0393\\u03b1\\u03bb\\u03ac\\u03c4\\u03c3\\u03b9\",\"\\u0393\\u03bb\\u03c5\\u03c6\\u03ac\\u03b4\\u03b1\",\"\\u0394\\u03ac\\u03c6\\u03bd\\u03b7\",\"\\u0396\\u03c9\\u03b3\\u03c1\\u03ac\\u03c6\\u03bf\\u03c5\",\"\\u0397\\u03bb\\u03b9\\u03bf\\u03cd\\u03c0\\u03bf\\u03bb\\u03b7\",\"\\u039a\\u03b1\\u03b9\\u03c3\\u03b1\\u03c1\\u03b9\\u03b1\\u03bd\\u03ae\",\"\\u039a\\u03b1\\u03bb\\u03bb\\u03b9\\u03b8\\u03ad\\u03b1\",\"\\u039c\\u03b1\\u03c1\\u03bf\\u03cd\\u03c3\\u03b9\",\"\\u039c\\u03bf\\u03c3\\u03c7\\u03ac\\u03c4\\u03bf\",\"\\u039d\\u03ad\\u03b1 \\u0399\\u03c9\\u03bd\\u03af\\u03b1\",\"\\u039d\\u03ad\\u03b1 \\u03a3\\u03bc\\u03cd\\u03c1\\u03bd\\u03b7\",\"\\u039d\\u03ad\\u03b1 \\u03a7\\u03b1\\u03bb\\u03ba\\u03b7\\u03b4\\u03cc\\u03bd\\u03b1\",\"\\u039d\\u03ad\\u03bf \\u03a8\\u03c5\\u03c7\\u03b9\\u03ba\\u03cc\",\"\\u03a0\\u03b1\\u03c0\\u03ac\\u03b3\\u03bf\\u03c5\",\"\\u03a0\\u03b5\\u03c1\\u03b9\\u03c3\\u03c4\\u03ad\\u03c1\\u03b9\",\"\\u03a4\\u03b1\\u03cd\\u03c1\\u03bf\\u03c2\",\"\\u03a5\\u03bc\\u03b7\\u03c4\\u03c4\\u03cc\\u03c2\",\"\\u03a6\\u03b9\\u03bb\\u03bf\\u03b8\\u03ad\\u03b7\",\"\\u03a7\\u03b1\\u03bb\\u03ac\\u03bd\\u03b4\\u03c1\\u03b9\",\"\\u03a7\\u03bf\\u03bb\\u03b1\\u03c1\\u03b3\\u03cc\\u03c2\",\"\\u03a8\\u03c5\\u03c7\\u03b9\\u03ba\\u03cc\"],\"xaxis\":\"x\",\"y\":[7.26190602675661,10.541666666666668,7.443700242160761,10.334230506747843,8.12173202614379,9.82222686812633,8.463076580221863,17.692307692307693,10.914269634088265,9.896258586926256,7.051282051282051,10.826710444427551,9.482816104893198,14.581456040516565,11.688674900368447,8.750371248544228,9.186523981763575,7.349352283532646,11.82159014101378,9.392684610075914,8.012218330911955,9.230223563620987,9.773564215976702,13.112464285692988,10.905230370732703,8.0,14.783201874611201],\"yaxis\":\"y\",\"type\":\"bar\"}],                        {\"template\":{\"data\":{\"histogram2dcontour\":[{\"type\":\"histogram2dcontour\",\"colorbar\":{\"outlinewidth\":0,\"ticks\":\"\"},\"colorscale\":[[0.0,\"#0d0887\"],[0.1111111111111111,\"#46039f\"],[0.2222222222222222,\"#7201a8\"],[0.3333333333333333,\"#9c179e\"],[0.4444444444444444,\"#bd3786\"],[0.5555555555555556,\"#d8576b\"],[0.6666666666666666,\"#ed7953\"],[0.7777777777777778,\"#fb9f3a\"],[0.8888888888888888,\"#fdca26\"],[1.0,\"#f0f921\"]]}],\"choropleth\":[{\"type\":\"choropleth\",\"colorbar\":{\"outlinewidth\":0,\"ticks\":\"\"}}],\"histogram2d\":[{\"type\":\"histogram2d\",\"colorbar\":{\"outlinewidth\":0,\"ticks\":\"\"},\"colorscale\":[[0.0,\"#0d0887\"],[0.1111111111111111,\"#46039f\"],[0.2222222222222222,\"#7201a8\"],[0.3333333333333333,\"#9c179e\"],[0.4444444444444444,\"#bd3786\"],[0.5555555555555556,\"#d8576b\"],[0.6666666666666666,\"#ed7953\"],[0.7777777777777778,\"#fb9f3a\"],[0.8888888888888888,\"#fdca26\"],[1.0,\"#f0f921\"]]}],\"heatmap\":[{\"type\":\"heatmap\",\"colorbar\":{\"outlinewidth\":0,\"ticks\":\"\"},\"colorscale\":[[0.0,\"#0d0887\"],[0.1111111111111111,\"#46039f\"],[0.2222222222222222,\"#7201a8\"],[0.3333333333333333,\"#9c179e\"],[0.4444444444444444,\"#bd3786\"],[0.5555555555555556,\"#d8576b\"],[0.6666666666666666,\"#ed7953\"],[0.7777777777777778,\"#fb9f3a\"],[0.8888888888888888,\"#fdca26\"],[1.0,\"#f0f921\"]]}],\"heatmapgl\":[{\"type\":\"heatmapgl\",\"colorbar\":{\"outlinewidth\":0,\"ticks\":\"\"},\"colorscale\":[[0.0,\"#0d0887\"],[0.1111111111111111,\"#46039f\"],[0.2222222222222222,\"#7201a8\"],[0.3333333333333333,\"#9c179e\"],[0.4444444444444444,\"#bd3786\"],[0.5555555555555556,\"#d8576b\"],[0.6666666666666666,\"#ed7953\"],[0.7777777777777778,\"#fb9f3a\"],[0.8888888888888888,\"#fdca26\"],[1.0,\"#f0f921\"]]}],\"contourcarpet\":[{\"type\":\"contourcarpet\",\"colorbar\":{\"outlinewidth\":0,\"ticks\":\"\"}}],\"contour\":[{\"type\":\"contour\",\"colorbar\":{\"outlinewidth\":0,\"ticks\":\"\"},\"colorscale\":[[0.0,\"#0d0887\"],[0.1111111111111111,\"#46039f\"],[0.2222222222222222,\"#7201a8\"],[0.3333333333333333,\"#9c179e\"],[0.4444444444444444,\"#bd3786\"],[0.5555555555555556,\"#d8576b\"],[0.6666666666666666,\"#ed7953\"],[0.7777777777777778,\"#fb9f3a\"],[0.8888888888888888,\"#fdca26\"],[1.0,\"#f0f921\"]]}],\"surface\":[{\"type\":\"surface\",\"colorbar\":{\"outlinewidth\":0,\"ticks\":\"\"},\"colorscale\":[[0.0,\"#0d0887\"],[0.1111111111111111,\"#46039f\"],[0.2222222222222222,\"#7201a8\"],[0.3333333333333333,\"#9c179e\"],[0.4444444444444444,\"#bd3786\"],[0.5555555555555556,\"#d8576b\"],[0.6666666666666666,\"#ed7953\"],[0.7777777777777778,\"#fb9f3a\"],[0.8888888888888888,\"#fdca26\"],[1.0,\"#f0f921\"]]}],\"mesh3d\":[{\"type\":\"mesh3d\",\"colorbar\":{\"outlinewidth\":0,\"ticks\":\"\"}}],\"scatter\":[{\"fillpattern\":{\"fillmode\":\"overlay\",\"size\":10,\"solidity\":0.2},\"type\":\"scatter\"}],\"parcoords\":[{\"type\":\"parcoords\",\"line\":{\"colorbar\":{\"outlinewidth\":0,\"ticks\":\"\"}}}],\"scatterpolargl\":[{\"type\":\"scatterpolargl\",\"marker\":{\"colorbar\":{\"outlinewidth\":0,\"ticks\":\"\"}}}],\"bar\":[{\"error_x\":{\"color\":\"#2a3f5f\"},\"error_y\":{\"color\":\"#2a3f5f\"},\"marker\":{\"line\":{\"color\":\"#E5ECF6\",\"width\":0.5},\"pattern\":{\"fillmode\":\"overlay\",\"size\":10,\"solidity\":0.2}},\"type\":\"bar\"}],\"scattergeo\":[{\"type\":\"scattergeo\",\"marker\":{\"colorbar\":{\"outlinewidth\":0,\"ticks\":\"\"}}}],\"scatterpolar\":[{\"type\":\"scatterpolar\",\"marker\":{\"colorbar\":{\"outlinewidth\":0,\"ticks\":\"\"}}}],\"histogram\":[{\"marker\":{\"pattern\":{\"fillmode\":\"overlay\",\"size\":10,\"solidity\":0.2}},\"type\":\"histogram\"}],\"scattergl\":[{\"type\":\"scattergl\",\"marker\":{\"colorbar\":{\"outlinewidth\":0,\"ticks\":\"\"}}}],\"scatter3d\":[{\"type\":\"scatter3d\",\"line\":{\"colorbar\":{\"outlinewidth\":0,\"ticks\":\"\"}},\"marker\":{\"colorbar\":{\"outlinewidth\":0,\"ticks\":\"\"}}}],\"scattermapbox\":[{\"type\":\"scattermapbox\",\"marker\":{\"colorbar\":{\"outlinewidth\":0,\"ticks\":\"\"}}}],\"scatterternary\":[{\"type\":\"scatterternary\",\"marker\":{\"colorbar\":{\"outlinewidth\":0,\"ticks\":\"\"}}}],\"scattercarpet\":[{\"type\":\"scattercarpet\",\"marker\":{\"colorbar\":{\"outlinewidth\":0,\"ticks\":\"\"}}}],\"carpet\":[{\"aaxis\":{\"endlinecolor\":\"#2a3f5f\",\"gridcolor\":\"white\",\"linecolor\":\"white\",\"minorgridcolor\":\"white\",\"startlinecolor\":\"#2a3f5f\"},\"baxis\":{\"endlinecolor\":\"#2a3f5f\",\"gridcolor\":\"white\",\"linecolor\":\"white\",\"minorgridcolor\":\"white\",\"startlinecolor\":\"#2a3f5f\"},\"type\":\"carpet\"}],\"table\":[{\"cells\":{\"fill\":{\"color\":\"#EBF0F8\"},\"line\":{\"color\":\"white\"}},\"header\":{\"fill\":{\"color\":\"#C8D4E3\"},\"line\":{\"color\":\"white\"}},\"type\":\"table\"}],\"barpolar\":[{\"marker\":{\"line\":{\"color\":\"#E5ECF6\",\"width\":0.5},\"pattern\":{\"fillmode\":\"overlay\",\"size\":10,\"solidity\":0.2}},\"type\":\"barpolar\"}],\"pie\":[{\"automargin\":true,\"type\":\"pie\"}]},\"layout\":{\"autotypenumbers\":\"strict\",\"colorway\":[\"#636efa\",\"#EF553B\",\"#00cc96\",\"#ab63fa\",\"#FFA15A\",\"#19d3f3\",\"#FF6692\",\"#B6E880\",\"#FF97FF\",\"#FECB52\"],\"font\":{\"color\":\"#2a3f5f\"},\"hovermode\":\"closest\",\"hoverlabel\":{\"align\":\"left\"},\"paper_bgcolor\":\"white\",\"plot_bgcolor\":\"#E5ECF6\",\"polar\":{\"bgcolor\":\"#E5ECF6\",\"angularaxis\":{\"gridcolor\":\"white\",\"linecolor\":\"white\",\"ticks\":\"\"},\"radialaxis\":{\"gridcolor\":\"white\",\"linecolor\":\"white\",\"ticks\":\"\"}},\"ternary\":{\"bgcolor\":\"#E5ECF6\",\"aaxis\":{\"gridcolor\":\"white\",\"linecolor\":\"white\",\"ticks\":\"\"},\"baxis\":{\"gridcolor\":\"white\",\"linecolor\":\"white\",\"ticks\":\"\"},\"caxis\":{\"gridcolor\":\"white\",\"linecolor\":\"white\",\"ticks\":\"\"}},\"coloraxis\":{\"colorbar\":{\"outlinewidth\":0,\"ticks\":\"\"}},\"colorscale\":{\"sequential\":[[0.0,\"#0d0887\"],[0.1111111111111111,\"#46039f\"],[0.2222222222222222,\"#7201a8\"],[0.3333333333333333,\"#9c179e\"],[0.4444444444444444,\"#bd3786\"],[0.5555555555555556,\"#d8576b\"],[0.6666666666666666,\"#ed7953\"],[0.7777777777777778,\"#fb9f3a\"],[0.8888888888888888,\"#fdca26\"],[1.0,\"#f0f921\"]],\"sequentialminus\":[[0.0,\"#0d0887\"],[0.1111111111111111,\"#46039f\"],[0.2222222222222222,\"#7201a8\"],[0.3333333333333333,\"#9c179e\"],[0.4444444444444444,\"#bd3786\"],[0.5555555555555556,\"#d8576b\"],[0.6666666666666666,\"#ed7953\"],[0.7777777777777778,\"#fb9f3a\"],[0.8888888888888888,\"#fdca26\"],[1.0,\"#f0f921\"]],\"diverging\":[[0,\"#8e0152\"],[0.1,\"#c51b7d\"],[0.2,\"#de77ae\"],[0.3,\"#f1b6da\"],[0.4,\"#fde0ef\"],[0.5,\"#f7f7f7\"],[0.6,\"#e6f5d0\"],[0.7,\"#b8e186\"],[0.8,\"#7fbc41\"],[0.9,\"#4d9221\"],[1,\"#276419\"]]},\"xaxis\":{\"gridcolor\":\"white\",\"linecolor\":\"white\",\"ticks\":\"\",\"title\":{\"standoff\":15},\"zerolinecolor\":\"white\",\"automargin\":true,\"zerolinewidth\":2},\"yaxis\":{\"gridcolor\":\"white\",\"linecolor\":\"white\",\"ticks\":\"\",\"title\":{\"standoff\":15},\"zerolinecolor\":\"white\",\"automargin\":true,\"zerolinewidth\":2},\"scene\":{\"xaxis\":{\"backgroundcolor\":\"#E5ECF6\",\"gridcolor\":\"white\",\"linecolor\":\"white\",\"showbackground\":true,\"ticks\":\"\",\"zerolinecolor\":\"white\",\"gridwidth\":2},\"yaxis\":{\"backgroundcolor\":\"#E5ECF6\",\"gridcolor\":\"white\",\"linecolor\":\"white\",\"showbackground\":true,\"ticks\":\"\",\"zerolinecolor\":\"white\",\"gridwidth\":2},\"zaxis\":{\"backgroundcolor\":\"#E5ECF6\",\"gridcolor\":\"white\",\"linecolor\":\"white\",\"showbackground\":true,\"ticks\":\"\",\"zerolinecolor\":\"white\",\"gridwidth\":2}},\"shapedefaults\":{\"line\":{\"color\":\"#2a3f5f\"}},\"annotationdefaults\":{\"arrowcolor\":\"#2a3f5f\",\"arrowhead\":0,\"arrowwidth\":1},\"geo\":{\"bgcolor\":\"white\",\"landcolor\":\"#E5ECF6\",\"subunitcolor\":\"white\",\"showland\":true,\"showlakes\":true,\"lakecolor\":\"white\"},\"title\":{\"x\":0.05},\"mapbox\":{\"style\":\"light\"}}},\"xaxis\":{\"anchor\":\"y\",\"domain\":[0.0,1.0],\"title\":{\"text\":\"dimos\"}},\"yaxis\":{\"anchor\":\"x\",\"domain\":[0.0,1.0],\"title\":{\"text\":\"price_per_area\"}},\"legend\":{\"tracegroupgap\":0},\"margin\":{\"t\":60},\"barmode\":\"relative\"},                        {\"responsive\": true}                    ).then(function(){\n",
       "                            \n",
       "var gd = document.getElementById('97d886fb-81ff-493b-aaf6-c60db2a0bb13');\n",
       "var x = new MutationObserver(function (mutations, observer) {{\n",
       "        var display = window.getComputedStyle(gd).display;\n",
       "        if (!display || display === 'none') {{\n",
       "            console.log([gd, 'removed!']);\n",
       "            Plotly.purge(gd);\n",
       "            observer.disconnect();\n",
       "        }}\n",
       "}});\n",
       "\n",
       "// Listen for the removal of the full notebook cells\n",
       "var notebookContainer = gd.closest('#notebook-container');\n",
       "if (notebookContainer) {{\n",
       "    x.observe(notebookContainer, {childList: true});\n",
       "}}\n",
       "\n",
       "// Listen for the clearing of the current output cell\n",
       "var outputEl = gd.closest('.output');\n",
       "if (outputEl) {{\n",
       "    x.observe(outputEl, {childList: true});\n",
       "}}\n",
       "\n",
       "                        })                };                });            </script>        </div>"
      ]
     },
     "metadata": {},
     "output_type": "display_data"
    }
   ],
   "source": [
    "fig = px.bar(df_full[df_full['extraction_date'] == \"2023-06-05\"].groupby('dimos')['price_per_area'].mean().reset_index(), x='dimos', y='price_per_area')\n",
    "fig.show()"
   ]
  },
  {
   "cell_type": "code",
   "execution_count": 12,
   "id": "9dfee658",
   "metadata": {},
   "outputs": [
    {
     "data": {
      "application/vnd.plotly.v1+json": {
       "config": {
        "plotlyServerURL": "https://plot.ly"
       },
       "data": [
        {
         "alignmentgroup": "True",
         "hovertemplate": "min_level=%{x}<br>price_per_area=%{y}<extra></extra>",
         "legendgroup": "",
         "marker": {
          "color": "#636efa",
          "pattern": {
           "shape": ""
          }
         },
         "name": "",
         "offsetgroup": "",
         "orientation": "v",
         "showlegend": false,
         "textposition": "auto",
         "type": "bar",
         "x": [
          -1,
          -0.5,
          0,
          0.5,
          1,
          2,
          3,
          4,
          5,
          6,
          7,
          8
         ],
         "xaxis": "x",
         "y": [
          11.585679102684082,
          9.817645242421452,
          10.64510380167487,
          9.729883639521335,
          9.989996413559691,
          9.90533708615261,
          10.24375126761368,
          10.277462824029417,
          10.63195993885168,
          12.118709862090297,
          12.013707602900293,
          12.099590234517448
         ],
         "yaxis": "y"
        }
       ],
       "layout": {
        "barmode": "relative",
        "legend": {
         "tracegroupgap": 0
        },
        "margin": {
         "t": 60
        },
        "template": {
         "data": {
          "bar": [
           {
            "error_x": {
             "color": "#2a3f5f"
            },
            "error_y": {
             "color": "#2a3f5f"
            },
            "marker": {
             "line": {
              "color": "#E5ECF6",
              "width": 0.5
             },
             "pattern": {
              "fillmode": "overlay",
              "size": 10,
              "solidity": 0.2
             }
            },
            "type": "bar"
           }
          ],
          "barpolar": [
           {
            "marker": {
             "line": {
              "color": "#E5ECF6",
              "width": 0.5
             },
             "pattern": {
              "fillmode": "overlay",
              "size": 10,
              "solidity": 0.2
             }
            },
            "type": "barpolar"
           }
          ],
          "carpet": [
           {
            "aaxis": {
             "endlinecolor": "#2a3f5f",
             "gridcolor": "white",
             "linecolor": "white",
             "minorgridcolor": "white",
             "startlinecolor": "#2a3f5f"
            },
            "baxis": {
             "endlinecolor": "#2a3f5f",
             "gridcolor": "white",
             "linecolor": "white",
             "minorgridcolor": "white",
             "startlinecolor": "#2a3f5f"
            },
            "type": "carpet"
           }
          ],
          "choropleth": [
           {
            "colorbar": {
             "outlinewidth": 0,
             "ticks": ""
            },
            "type": "choropleth"
           }
          ],
          "contour": [
           {
            "colorbar": {
             "outlinewidth": 0,
             "ticks": ""
            },
            "colorscale": [
             [
              0,
              "#0d0887"
             ],
             [
              0.1111111111111111,
              "#46039f"
             ],
             [
              0.2222222222222222,
              "#7201a8"
             ],
             [
              0.3333333333333333,
              "#9c179e"
             ],
             [
              0.4444444444444444,
              "#bd3786"
             ],
             [
              0.5555555555555556,
              "#d8576b"
             ],
             [
              0.6666666666666666,
              "#ed7953"
             ],
             [
              0.7777777777777778,
              "#fb9f3a"
             ],
             [
              0.8888888888888888,
              "#fdca26"
             ],
             [
              1,
              "#f0f921"
             ]
            ],
            "type": "contour"
           }
          ],
          "contourcarpet": [
           {
            "colorbar": {
             "outlinewidth": 0,
             "ticks": ""
            },
            "type": "contourcarpet"
           }
          ],
          "heatmap": [
           {
            "colorbar": {
             "outlinewidth": 0,
             "ticks": ""
            },
            "colorscale": [
             [
              0,
              "#0d0887"
             ],
             [
              0.1111111111111111,
              "#46039f"
             ],
             [
              0.2222222222222222,
              "#7201a8"
             ],
             [
              0.3333333333333333,
              "#9c179e"
             ],
             [
              0.4444444444444444,
              "#bd3786"
             ],
             [
              0.5555555555555556,
              "#d8576b"
             ],
             [
              0.6666666666666666,
              "#ed7953"
             ],
             [
              0.7777777777777778,
              "#fb9f3a"
             ],
             [
              0.8888888888888888,
              "#fdca26"
             ],
             [
              1,
              "#f0f921"
             ]
            ],
            "type": "heatmap"
           }
          ],
          "heatmapgl": [
           {
            "colorbar": {
             "outlinewidth": 0,
             "ticks": ""
            },
            "colorscale": [
             [
              0,
              "#0d0887"
             ],
             [
              0.1111111111111111,
              "#46039f"
             ],
             [
              0.2222222222222222,
              "#7201a8"
             ],
             [
              0.3333333333333333,
              "#9c179e"
             ],
             [
              0.4444444444444444,
              "#bd3786"
             ],
             [
              0.5555555555555556,
              "#d8576b"
             ],
             [
              0.6666666666666666,
              "#ed7953"
             ],
             [
              0.7777777777777778,
              "#fb9f3a"
             ],
             [
              0.8888888888888888,
              "#fdca26"
             ],
             [
              1,
              "#f0f921"
             ]
            ],
            "type": "heatmapgl"
           }
          ],
          "histogram": [
           {
            "marker": {
             "pattern": {
              "fillmode": "overlay",
              "size": 10,
              "solidity": 0.2
             }
            },
            "type": "histogram"
           }
          ],
          "histogram2d": [
           {
            "colorbar": {
             "outlinewidth": 0,
             "ticks": ""
            },
            "colorscale": [
             [
              0,
              "#0d0887"
             ],
             [
              0.1111111111111111,
              "#46039f"
             ],
             [
              0.2222222222222222,
              "#7201a8"
             ],
             [
              0.3333333333333333,
              "#9c179e"
             ],
             [
              0.4444444444444444,
              "#bd3786"
             ],
             [
              0.5555555555555556,
              "#d8576b"
             ],
             [
              0.6666666666666666,
              "#ed7953"
             ],
             [
              0.7777777777777778,
              "#fb9f3a"
             ],
             [
              0.8888888888888888,
              "#fdca26"
             ],
             [
              1,
              "#f0f921"
             ]
            ],
            "type": "histogram2d"
           }
          ],
          "histogram2dcontour": [
           {
            "colorbar": {
             "outlinewidth": 0,
             "ticks": ""
            },
            "colorscale": [
             [
              0,
              "#0d0887"
             ],
             [
              0.1111111111111111,
              "#46039f"
             ],
             [
              0.2222222222222222,
              "#7201a8"
             ],
             [
              0.3333333333333333,
              "#9c179e"
             ],
             [
              0.4444444444444444,
              "#bd3786"
             ],
             [
              0.5555555555555556,
              "#d8576b"
             ],
             [
              0.6666666666666666,
              "#ed7953"
             ],
             [
              0.7777777777777778,
              "#fb9f3a"
             ],
             [
              0.8888888888888888,
              "#fdca26"
             ],
             [
              1,
              "#f0f921"
             ]
            ],
            "type": "histogram2dcontour"
           }
          ],
          "mesh3d": [
           {
            "colorbar": {
             "outlinewidth": 0,
             "ticks": ""
            },
            "type": "mesh3d"
           }
          ],
          "parcoords": [
           {
            "line": {
             "colorbar": {
              "outlinewidth": 0,
              "ticks": ""
             }
            },
            "type": "parcoords"
           }
          ],
          "pie": [
           {
            "automargin": true,
            "type": "pie"
           }
          ],
          "scatter": [
           {
            "fillpattern": {
             "fillmode": "overlay",
             "size": 10,
             "solidity": 0.2
            },
            "type": "scatter"
           }
          ],
          "scatter3d": [
           {
            "line": {
             "colorbar": {
              "outlinewidth": 0,
              "ticks": ""
             }
            },
            "marker": {
             "colorbar": {
              "outlinewidth": 0,
              "ticks": ""
             }
            },
            "type": "scatter3d"
           }
          ],
          "scattercarpet": [
           {
            "marker": {
             "colorbar": {
              "outlinewidth": 0,
              "ticks": ""
             }
            },
            "type": "scattercarpet"
           }
          ],
          "scattergeo": [
           {
            "marker": {
             "colorbar": {
              "outlinewidth": 0,
              "ticks": ""
             }
            },
            "type": "scattergeo"
           }
          ],
          "scattergl": [
           {
            "marker": {
             "colorbar": {
              "outlinewidth": 0,
              "ticks": ""
             }
            },
            "type": "scattergl"
           }
          ],
          "scattermapbox": [
           {
            "marker": {
             "colorbar": {
              "outlinewidth": 0,
              "ticks": ""
             }
            },
            "type": "scattermapbox"
           }
          ],
          "scatterpolar": [
           {
            "marker": {
             "colorbar": {
              "outlinewidth": 0,
              "ticks": ""
             }
            },
            "type": "scatterpolar"
           }
          ],
          "scatterpolargl": [
           {
            "marker": {
             "colorbar": {
              "outlinewidth": 0,
              "ticks": ""
             }
            },
            "type": "scatterpolargl"
           }
          ],
          "scatterternary": [
           {
            "marker": {
             "colorbar": {
              "outlinewidth": 0,
              "ticks": ""
             }
            },
            "type": "scatterternary"
           }
          ],
          "surface": [
           {
            "colorbar": {
             "outlinewidth": 0,
             "ticks": ""
            },
            "colorscale": [
             [
              0,
              "#0d0887"
             ],
             [
              0.1111111111111111,
              "#46039f"
             ],
             [
              0.2222222222222222,
              "#7201a8"
             ],
             [
              0.3333333333333333,
              "#9c179e"
             ],
             [
              0.4444444444444444,
              "#bd3786"
             ],
             [
              0.5555555555555556,
              "#d8576b"
             ],
             [
              0.6666666666666666,
              "#ed7953"
             ],
             [
              0.7777777777777778,
              "#fb9f3a"
             ],
             [
              0.8888888888888888,
              "#fdca26"
             ],
             [
              1,
              "#f0f921"
             ]
            ],
            "type": "surface"
           }
          ],
          "table": [
           {
            "cells": {
             "fill": {
              "color": "#EBF0F8"
             },
             "line": {
              "color": "white"
             }
            },
            "header": {
             "fill": {
              "color": "#C8D4E3"
             },
             "line": {
              "color": "white"
             }
            },
            "type": "table"
           }
          ]
         },
         "layout": {
          "annotationdefaults": {
           "arrowcolor": "#2a3f5f",
           "arrowhead": 0,
           "arrowwidth": 1
          },
          "autotypenumbers": "strict",
          "coloraxis": {
           "colorbar": {
            "outlinewidth": 0,
            "ticks": ""
           }
          },
          "colorscale": {
           "diverging": [
            [
             0,
             "#8e0152"
            ],
            [
             0.1,
             "#c51b7d"
            ],
            [
             0.2,
             "#de77ae"
            ],
            [
             0.3,
             "#f1b6da"
            ],
            [
             0.4,
             "#fde0ef"
            ],
            [
             0.5,
             "#f7f7f7"
            ],
            [
             0.6,
             "#e6f5d0"
            ],
            [
             0.7,
             "#b8e186"
            ],
            [
             0.8,
             "#7fbc41"
            ],
            [
             0.9,
             "#4d9221"
            ],
            [
             1,
             "#276419"
            ]
           ],
           "sequential": [
            [
             0,
             "#0d0887"
            ],
            [
             0.1111111111111111,
             "#46039f"
            ],
            [
             0.2222222222222222,
             "#7201a8"
            ],
            [
             0.3333333333333333,
             "#9c179e"
            ],
            [
             0.4444444444444444,
             "#bd3786"
            ],
            [
             0.5555555555555556,
             "#d8576b"
            ],
            [
             0.6666666666666666,
             "#ed7953"
            ],
            [
             0.7777777777777778,
             "#fb9f3a"
            ],
            [
             0.8888888888888888,
             "#fdca26"
            ],
            [
             1,
             "#f0f921"
            ]
           ],
           "sequentialminus": [
            [
             0,
             "#0d0887"
            ],
            [
             0.1111111111111111,
             "#46039f"
            ],
            [
             0.2222222222222222,
             "#7201a8"
            ],
            [
             0.3333333333333333,
             "#9c179e"
            ],
            [
             0.4444444444444444,
             "#bd3786"
            ],
            [
             0.5555555555555556,
             "#d8576b"
            ],
            [
             0.6666666666666666,
             "#ed7953"
            ],
            [
             0.7777777777777778,
             "#fb9f3a"
            ],
            [
             0.8888888888888888,
             "#fdca26"
            ],
            [
             1,
             "#f0f921"
            ]
           ]
          },
          "colorway": [
           "#636efa",
           "#EF553B",
           "#00cc96",
           "#ab63fa",
           "#FFA15A",
           "#19d3f3",
           "#FF6692",
           "#B6E880",
           "#FF97FF",
           "#FECB52"
          ],
          "font": {
           "color": "#2a3f5f"
          },
          "geo": {
           "bgcolor": "white",
           "lakecolor": "white",
           "landcolor": "#E5ECF6",
           "showlakes": true,
           "showland": true,
           "subunitcolor": "white"
          },
          "hoverlabel": {
           "align": "left"
          },
          "hovermode": "closest",
          "mapbox": {
           "style": "light"
          },
          "paper_bgcolor": "white",
          "plot_bgcolor": "#E5ECF6",
          "polar": {
           "angularaxis": {
            "gridcolor": "white",
            "linecolor": "white",
            "ticks": ""
           },
           "bgcolor": "#E5ECF6",
           "radialaxis": {
            "gridcolor": "white",
            "linecolor": "white",
            "ticks": ""
           }
          },
          "scene": {
           "xaxis": {
            "backgroundcolor": "#E5ECF6",
            "gridcolor": "white",
            "gridwidth": 2,
            "linecolor": "white",
            "showbackground": true,
            "ticks": "",
            "zerolinecolor": "white"
           },
           "yaxis": {
            "backgroundcolor": "#E5ECF6",
            "gridcolor": "white",
            "gridwidth": 2,
            "linecolor": "white",
            "showbackground": true,
            "ticks": "",
            "zerolinecolor": "white"
           },
           "zaxis": {
            "backgroundcolor": "#E5ECF6",
            "gridcolor": "white",
            "gridwidth": 2,
            "linecolor": "white",
            "showbackground": true,
            "ticks": "",
            "zerolinecolor": "white"
           }
          },
          "shapedefaults": {
           "line": {
            "color": "#2a3f5f"
           }
          },
          "ternary": {
           "aaxis": {
            "gridcolor": "white",
            "linecolor": "white",
            "ticks": ""
           },
           "baxis": {
            "gridcolor": "white",
            "linecolor": "white",
            "ticks": ""
           },
           "bgcolor": "#E5ECF6",
           "caxis": {
            "gridcolor": "white",
            "linecolor": "white",
            "ticks": ""
           }
          },
          "title": {
           "x": 0.05
          },
          "xaxis": {
           "automargin": true,
           "gridcolor": "white",
           "linecolor": "white",
           "ticks": "",
           "title": {
            "standoff": 15
           },
           "zerolinecolor": "white",
           "zerolinewidth": 2
          },
          "yaxis": {
           "automargin": true,
           "gridcolor": "white",
           "linecolor": "white",
           "ticks": "",
           "title": {
            "standoff": 15
           },
           "zerolinecolor": "white",
           "zerolinewidth": 2
          }
         }
        },
        "xaxis": {
         "anchor": "y",
         "domain": [
          0,
          1
         ],
         "title": {
          "text": "min_level"
         }
        },
        "yaxis": {
         "anchor": "x",
         "domain": [
          0,
          1
         ],
         "title": {
          "text": "price_per_area"
         }
        }
       }
      },
      "text/html": [
       "<div>                            <div id=\"040644ca-212a-473f-a86c-9cfc2bcebd8c\" class=\"plotly-graph-div\" style=\"height:525px; width:100%;\"></div>            <script type=\"text/javascript\">                require([\"plotly\"], function(Plotly) {                    window.PLOTLYENV=window.PLOTLYENV || {};                                    if (document.getElementById(\"040644ca-212a-473f-a86c-9cfc2bcebd8c\")) {                    Plotly.newPlot(                        \"040644ca-212a-473f-a86c-9cfc2bcebd8c\",                        [{\"alignmentgroup\":\"True\",\"hovertemplate\":\"min_level=%{x}\\u003cbr\\u003eprice_per_area=%{y}\\u003cextra\\u003e\\u003c\\u002fextra\\u003e\",\"legendgroup\":\"\",\"marker\":{\"color\":\"#636efa\",\"pattern\":{\"shape\":\"\"}},\"name\":\"\",\"offsetgroup\":\"\",\"orientation\":\"v\",\"showlegend\":false,\"textposition\":\"auto\",\"x\":[-1.0,-0.5,0.0,0.5,1.0,2.0,3.0,4.0,5.0,6.0,7.0,8.0],\"xaxis\":\"x\",\"y\":[11.585679102684082,9.817645242421452,10.64510380167487,9.729883639521335,9.989996413559691,9.90533708615261,10.24375126761368,10.277462824029417,10.63195993885168,12.118709862090297,12.013707602900293,12.099590234517448],\"yaxis\":\"y\",\"type\":\"bar\"}],                        {\"template\":{\"data\":{\"histogram2dcontour\":[{\"type\":\"histogram2dcontour\",\"colorbar\":{\"outlinewidth\":0,\"ticks\":\"\"},\"colorscale\":[[0.0,\"#0d0887\"],[0.1111111111111111,\"#46039f\"],[0.2222222222222222,\"#7201a8\"],[0.3333333333333333,\"#9c179e\"],[0.4444444444444444,\"#bd3786\"],[0.5555555555555556,\"#d8576b\"],[0.6666666666666666,\"#ed7953\"],[0.7777777777777778,\"#fb9f3a\"],[0.8888888888888888,\"#fdca26\"],[1.0,\"#f0f921\"]]}],\"choropleth\":[{\"type\":\"choropleth\",\"colorbar\":{\"outlinewidth\":0,\"ticks\":\"\"}}],\"histogram2d\":[{\"type\":\"histogram2d\",\"colorbar\":{\"outlinewidth\":0,\"ticks\":\"\"},\"colorscale\":[[0.0,\"#0d0887\"],[0.1111111111111111,\"#46039f\"],[0.2222222222222222,\"#7201a8\"],[0.3333333333333333,\"#9c179e\"],[0.4444444444444444,\"#bd3786\"],[0.5555555555555556,\"#d8576b\"],[0.6666666666666666,\"#ed7953\"],[0.7777777777777778,\"#fb9f3a\"],[0.8888888888888888,\"#fdca26\"],[1.0,\"#f0f921\"]]}],\"heatmap\":[{\"type\":\"heatmap\",\"colorbar\":{\"outlinewidth\":0,\"ticks\":\"\"},\"colorscale\":[[0.0,\"#0d0887\"],[0.1111111111111111,\"#46039f\"],[0.2222222222222222,\"#7201a8\"],[0.3333333333333333,\"#9c179e\"],[0.4444444444444444,\"#bd3786\"],[0.5555555555555556,\"#d8576b\"],[0.6666666666666666,\"#ed7953\"],[0.7777777777777778,\"#fb9f3a\"],[0.8888888888888888,\"#fdca26\"],[1.0,\"#f0f921\"]]}],\"heatmapgl\":[{\"type\":\"heatmapgl\",\"colorbar\":{\"outlinewidth\":0,\"ticks\":\"\"},\"colorscale\":[[0.0,\"#0d0887\"],[0.1111111111111111,\"#46039f\"],[0.2222222222222222,\"#7201a8\"],[0.3333333333333333,\"#9c179e\"],[0.4444444444444444,\"#bd3786\"],[0.5555555555555556,\"#d8576b\"],[0.6666666666666666,\"#ed7953\"],[0.7777777777777778,\"#fb9f3a\"],[0.8888888888888888,\"#fdca26\"],[1.0,\"#f0f921\"]]}],\"contourcarpet\":[{\"type\":\"contourcarpet\",\"colorbar\":{\"outlinewidth\":0,\"ticks\":\"\"}}],\"contour\":[{\"type\":\"contour\",\"colorbar\":{\"outlinewidth\":0,\"ticks\":\"\"},\"colorscale\":[[0.0,\"#0d0887\"],[0.1111111111111111,\"#46039f\"],[0.2222222222222222,\"#7201a8\"],[0.3333333333333333,\"#9c179e\"],[0.4444444444444444,\"#bd3786\"],[0.5555555555555556,\"#d8576b\"],[0.6666666666666666,\"#ed7953\"],[0.7777777777777778,\"#fb9f3a\"],[0.8888888888888888,\"#fdca26\"],[1.0,\"#f0f921\"]]}],\"surface\":[{\"type\":\"surface\",\"colorbar\":{\"outlinewidth\":0,\"ticks\":\"\"},\"colorscale\":[[0.0,\"#0d0887\"],[0.1111111111111111,\"#46039f\"],[0.2222222222222222,\"#7201a8\"],[0.3333333333333333,\"#9c179e\"],[0.4444444444444444,\"#bd3786\"],[0.5555555555555556,\"#d8576b\"],[0.6666666666666666,\"#ed7953\"],[0.7777777777777778,\"#fb9f3a\"],[0.8888888888888888,\"#fdca26\"],[1.0,\"#f0f921\"]]}],\"mesh3d\":[{\"type\":\"mesh3d\",\"colorbar\":{\"outlinewidth\":0,\"ticks\":\"\"}}],\"scatter\":[{\"fillpattern\":{\"fillmode\":\"overlay\",\"size\":10,\"solidity\":0.2},\"type\":\"scatter\"}],\"parcoords\":[{\"type\":\"parcoords\",\"line\":{\"colorbar\":{\"outlinewidth\":0,\"ticks\":\"\"}}}],\"scatterpolargl\":[{\"type\":\"scatterpolargl\",\"marker\":{\"colorbar\":{\"outlinewidth\":0,\"ticks\":\"\"}}}],\"bar\":[{\"error_x\":{\"color\":\"#2a3f5f\"},\"error_y\":{\"color\":\"#2a3f5f\"},\"marker\":{\"line\":{\"color\":\"#E5ECF6\",\"width\":0.5},\"pattern\":{\"fillmode\":\"overlay\",\"size\":10,\"solidity\":0.2}},\"type\":\"bar\"}],\"scattergeo\":[{\"type\":\"scattergeo\",\"marker\":{\"colorbar\":{\"outlinewidth\":0,\"ticks\":\"\"}}}],\"scatterpolar\":[{\"type\":\"scatterpolar\",\"marker\":{\"colorbar\":{\"outlinewidth\":0,\"ticks\":\"\"}}}],\"histogram\":[{\"marker\":{\"pattern\":{\"fillmode\":\"overlay\",\"size\":10,\"solidity\":0.2}},\"type\":\"histogram\"}],\"scattergl\":[{\"type\":\"scattergl\",\"marker\":{\"colorbar\":{\"outlinewidth\":0,\"ticks\":\"\"}}}],\"scatter3d\":[{\"type\":\"scatter3d\",\"line\":{\"colorbar\":{\"outlinewidth\":0,\"ticks\":\"\"}},\"marker\":{\"colorbar\":{\"outlinewidth\":0,\"ticks\":\"\"}}}],\"scattermapbox\":[{\"type\":\"scattermapbox\",\"marker\":{\"colorbar\":{\"outlinewidth\":0,\"ticks\":\"\"}}}],\"scatterternary\":[{\"type\":\"scatterternary\",\"marker\":{\"colorbar\":{\"outlinewidth\":0,\"ticks\":\"\"}}}],\"scattercarpet\":[{\"type\":\"scattercarpet\",\"marker\":{\"colorbar\":{\"outlinewidth\":0,\"ticks\":\"\"}}}],\"carpet\":[{\"aaxis\":{\"endlinecolor\":\"#2a3f5f\",\"gridcolor\":\"white\",\"linecolor\":\"white\",\"minorgridcolor\":\"white\",\"startlinecolor\":\"#2a3f5f\"},\"baxis\":{\"endlinecolor\":\"#2a3f5f\",\"gridcolor\":\"white\",\"linecolor\":\"white\",\"minorgridcolor\":\"white\",\"startlinecolor\":\"#2a3f5f\"},\"type\":\"carpet\"}],\"table\":[{\"cells\":{\"fill\":{\"color\":\"#EBF0F8\"},\"line\":{\"color\":\"white\"}},\"header\":{\"fill\":{\"color\":\"#C8D4E3\"},\"line\":{\"color\":\"white\"}},\"type\":\"table\"}],\"barpolar\":[{\"marker\":{\"line\":{\"color\":\"#E5ECF6\",\"width\":0.5},\"pattern\":{\"fillmode\":\"overlay\",\"size\":10,\"solidity\":0.2}},\"type\":\"barpolar\"}],\"pie\":[{\"automargin\":true,\"type\":\"pie\"}]},\"layout\":{\"autotypenumbers\":\"strict\",\"colorway\":[\"#636efa\",\"#EF553B\",\"#00cc96\",\"#ab63fa\",\"#FFA15A\",\"#19d3f3\",\"#FF6692\",\"#B6E880\",\"#FF97FF\",\"#FECB52\"],\"font\":{\"color\":\"#2a3f5f\"},\"hovermode\":\"closest\",\"hoverlabel\":{\"align\":\"left\"},\"paper_bgcolor\":\"white\",\"plot_bgcolor\":\"#E5ECF6\",\"polar\":{\"bgcolor\":\"#E5ECF6\",\"angularaxis\":{\"gridcolor\":\"white\",\"linecolor\":\"white\",\"ticks\":\"\"},\"radialaxis\":{\"gridcolor\":\"white\",\"linecolor\":\"white\",\"ticks\":\"\"}},\"ternary\":{\"bgcolor\":\"#E5ECF6\",\"aaxis\":{\"gridcolor\":\"white\",\"linecolor\":\"white\",\"ticks\":\"\"},\"baxis\":{\"gridcolor\":\"white\",\"linecolor\":\"white\",\"ticks\":\"\"},\"caxis\":{\"gridcolor\":\"white\",\"linecolor\":\"white\",\"ticks\":\"\"}},\"coloraxis\":{\"colorbar\":{\"outlinewidth\":0,\"ticks\":\"\"}},\"colorscale\":{\"sequential\":[[0.0,\"#0d0887\"],[0.1111111111111111,\"#46039f\"],[0.2222222222222222,\"#7201a8\"],[0.3333333333333333,\"#9c179e\"],[0.4444444444444444,\"#bd3786\"],[0.5555555555555556,\"#d8576b\"],[0.6666666666666666,\"#ed7953\"],[0.7777777777777778,\"#fb9f3a\"],[0.8888888888888888,\"#fdca26\"],[1.0,\"#f0f921\"]],\"sequentialminus\":[[0.0,\"#0d0887\"],[0.1111111111111111,\"#46039f\"],[0.2222222222222222,\"#7201a8\"],[0.3333333333333333,\"#9c179e\"],[0.4444444444444444,\"#bd3786\"],[0.5555555555555556,\"#d8576b\"],[0.6666666666666666,\"#ed7953\"],[0.7777777777777778,\"#fb9f3a\"],[0.8888888888888888,\"#fdca26\"],[1.0,\"#f0f921\"]],\"diverging\":[[0,\"#8e0152\"],[0.1,\"#c51b7d\"],[0.2,\"#de77ae\"],[0.3,\"#f1b6da\"],[0.4,\"#fde0ef\"],[0.5,\"#f7f7f7\"],[0.6,\"#e6f5d0\"],[0.7,\"#b8e186\"],[0.8,\"#7fbc41\"],[0.9,\"#4d9221\"],[1,\"#276419\"]]},\"xaxis\":{\"gridcolor\":\"white\",\"linecolor\":\"white\",\"ticks\":\"\",\"title\":{\"standoff\":15},\"zerolinecolor\":\"white\",\"automargin\":true,\"zerolinewidth\":2},\"yaxis\":{\"gridcolor\":\"white\",\"linecolor\":\"white\",\"ticks\":\"\",\"title\":{\"standoff\":15},\"zerolinecolor\":\"white\",\"automargin\":true,\"zerolinewidth\":2},\"scene\":{\"xaxis\":{\"backgroundcolor\":\"#E5ECF6\",\"gridcolor\":\"white\",\"linecolor\":\"white\",\"showbackground\":true,\"ticks\":\"\",\"zerolinecolor\":\"white\",\"gridwidth\":2},\"yaxis\":{\"backgroundcolor\":\"#E5ECF6\",\"gridcolor\":\"white\",\"linecolor\":\"white\",\"showbackground\":true,\"ticks\":\"\",\"zerolinecolor\":\"white\",\"gridwidth\":2},\"zaxis\":{\"backgroundcolor\":\"#E5ECF6\",\"gridcolor\":\"white\",\"linecolor\":\"white\",\"showbackground\":true,\"ticks\":\"\",\"zerolinecolor\":\"white\",\"gridwidth\":2}},\"shapedefaults\":{\"line\":{\"color\":\"#2a3f5f\"}},\"annotationdefaults\":{\"arrowcolor\":\"#2a3f5f\",\"arrowhead\":0,\"arrowwidth\":1},\"geo\":{\"bgcolor\":\"white\",\"landcolor\":\"#E5ECF6\",\"subunitcolor\":\"white\",\"showland\":true,\"showlakes\":true,\"lakecolor\":\"white\"},\"title\":{\"x\":0.05},\"mapbox\":{\"style\":\"light\"}}},\"xaxis\":{\"anchor\":\"y\",\"domain\":[0.0,1.0],\"title\":{\"text\":\"min_level\"}},\"yaxis\":{\"anchor\":\"x\",\"domain\":[0.0,1.0],\"title\":{\"text\":\"price_per_area\"}},\"legend\":{\"tracegroupgap\":0},\"margin\":{\"t\":60},\"barmode\":\"relative\"},                        {\"responsive\": true}                    ).then(function(){\n",
       "                            \n",
       "var gd = document.getElementById('040644ca-212a-473f-a86c-9cfc2bcebd8c');\n",
       "var x = new MutationObserver(function (mutations, observer) {{\n",
       "        var display = window.getComputedStyle(gd).display;\n",
       "        if (!display || display === 'none') {{\n",
       "            console.log([gd, 'removed!']);\n",
       "            Plotly.purge(gd);\n",
       "            observer.disconnect();\n",
       "        }}\n",
       "}});\n",
       "\n",
       "// Listen for the removal of the full notebook cells\n",
       "var notebookContainer = gd.closest('#notebook-container');\n",
       "if (notebookContainer) {{\n",
       "    x.observe(notebookContainer, {childList: true});\n",
       "}}\n",
       "\n",
       "// Listen for the clearing of the current output cell\n",
       "var outputEl = gd.closest('.output');\n",
       "if (outputEl) {{\n",
       "    x.observe(outputEl, {childList: true});\n",
       "}}\n",
       "\n",
       "                        })                };                });            </script>        </div>"
      ]
     },
     "metadata": {},
     "output_type": "display_data"
    }
   ],
   "source": [
    "fig = px.bar(df_full[df_full['extraction_date'] == \"2023-06-05\"].groupby('min_level')['price_per_area'].mean().reset_index(), x='min_level', y='price_per_area')\n",
    "fig.show()"
   ]
  },
  {
   "cell_type": "code",
   "execution_count": null,
   "id": "87335d82",
   "metadata": {},
   "outputs": [],
   "source": [
    "df_full[df_full['extraction_date'] == \"2023-06-05\"].groupby('min_level')['price_per_area'].mean().reset_index()"
   ]
  },
  {
   "cell_type": "code",
   "execution_count": 15,
   "id": "19fe7156",
   "metadata": {},
   "outputs": [],
   "source": [
    "df_full[\"is_new\"] = df_full[\"days_passed\"] == 0"
   ]
  },
  {
   "cell_type": "code",
   "execution_count": 68,
   "id": "dce4b298",
   "metadata": {},
   "outputs": [],
   "source": [
    "# df_test = df_full.copy()\n",
    "df_test = df_full.groupby('extraction_date')"
   ]
  },
  {
   "cell_type": "code",
   "execution_count": 29,
   "id": "48eee20b",
   "metadata": {},
   "outputs": [
    {
     "data": {
      "application/vnd.plotly.v1+json": {
       "config": {
        "plotlyServerURL": "https://plot.ly"
       },
       "data": [
        {
         "alignmentgroup": "True",
         "hovertemplate": "is_new=%{x}<br>extraction_date=%{y}<extra></extra>",
         "legendgroup": "",
         "marker": {
          "color": "darkcyan",
          "pattern": {
           "shape": ""
          }
         },
         "name": "",
         "offsetgroup": "",
         "orientation": "h",
         "showlegend": false,
         "textposition": "auto",
         "type": "bar",
         "x": [
          226,
          195,
          188,
          40,
          123
         ],
         "xaxis": "x",
         "y": [
          "2023-06-01",
          "2023-06-02",
          "2023-06-03",
          "2023-06-04",
          "2023-06-05"
         ],
         "yaxis": "y"
        }
       ],
       "layout": {
        "barmode": "relative",
        "legend": {
         "tracegroupgap": 0
        },
        "template": {
         "data": {
          "bar": [
           {
            "error_x": {
             "color": "#2a3f5f"
            },
            "error_y": {
             "color": "#2a3f5f"
            },
            "marker": {
             "line": {
              "color": "#E5ECF6",
              "width": 0.5
             },
             "pattern": {
              "fillmode": "overlay",
              "size": 10,
              "solidity": 0.2
             }
            },
            "type": "bar"
           }
          ],
          "barpolar": [
           {
            "marker": {
             "line": {
              "color": "#E5ECF6",
              "width": 0.5
             },
             "pattern": {
              "fillmode": "overlay",
              "size": 10,
              "solidity": 0.2
             }
            },
            "type": "barpolar"
           }
          ],
          "carpet": [
           {
            "aaxis": {
             "endlinecolor": "#2a3f5f",
             "gridcolor": "white",
             "linecolor": "white",
             "minorgridcolor": "white",
             "startlinecolor": "#2a3f5f"
            },
            "baxis": {
             "endlinecolor": "#2a3f5f",
             "gridcolor": "white",
             "linecolor": "white",
             "minorgridcolor": "white",
             "startlinecolor": "#2a3f5f"
            },
            "type": "carpet"
           }
          ],
          "choropleth": [
           {
            "colorbar": {
             "outlinewidth": 0,
             "ticks": ""
            },
            "type": "choropleth"
           }
          ],
          "contour": [
           {
            "colorbar": {
             "outlinewidth": 0,
             "ticks": ""
            },
            "colorscale": [
             [
              0,
              "#0d0887"
             ],
             [
              0.1111111111111111,
              "#46039f"
             ],
             [
              0.2222222222222222,
              "#7201a8"
             ],
             [
              0.3333333333333333,
              "#9c179e"
             ],
             [
              0.4444444444444444,
              "#bd3786"
             ],
             [
              0.5555555555555556,
              "#d8576b"
             ],
             [
              0.6666666666666666,
              "#ed7953"
             ],
             [
              0.7777777777777778,
              "#fb9f3a"
             ],
             [
              0.8888888888888888,
              "#fdca26"
             ],
             [
              1,
              "#f0f921"
             ]
            ],
            "type": "contour"
           }
          ],
          "contourcarpet": [
           {
            "colorbar": {
             "outlinewidth": 0,
             "ticks": ""
            },
            "type": "contourcarpet"
           }
          ],
          "heatmap": [
           {
            "colorbar": {
             "outlinewidth": 0,
             "ticks": ""
            },
            "colorscale": [
             [
              0,
              "#0d0887"
             ],
             [
              0.1111111111111111,
              "#46039f"
             ],
             [
              0.2222222222222222,
              "#7201a8"
             ],
             [
              0.3333333333333333,
              "#9c179e"
             ],
             [
              0.4444444444444444,
              "#bd3786"
             ],
             [
              0.5555555555555556,
              "#d8576b"
             ],
             [
              0.6666666666666666,
              "#ed7953"
             ],
             [
              0.7777777777777778,
              "#fb9f3a"
             ],
             [
              0.8888888888888888,
              "#fdca26"
             ],
             [
              1,
              "#f0f921"
             ]
            ],
            "type": "heatmap"
           }
          ],
          "heatmapgl": [
           {
            "colorbar": {
             "outlinewidth": 0,
             "ticks": ""
            },
            "colorscale": [
             [
              0,
              "#0d0887"
             ],
             [
              0.1111111111111111,
              "#46039f"
             ],
             [
              0.2222222222222222,
              "#7201a8"
             ],
             [
              0.3333333333333333,
              "#9c179e"
             ],
             [
              0.4444444444444444,
              "#bd3786"
             ],
             [
              0.5555555555555556,
              "#d8576b"
             ],
             [
              0.6666666666666666,
              "#ed7953"
             ],
             [
              0.7777777777777778,
              "#fb9f3a"
             ],
             [
              0.8888888888888888,
              "#fdca26"
             ],
             [
              1,
              "#f0f921"
             ]
            ],
            "type": "heatmapgl"
           }
          ],
          "histogram": [
           {
            "marker": {
             "pattern": {
              "fillmode": "overlay",
              "size": 10,
              "solidity": 0.2
             }
            },
            "type": "histogram"
           }
          ],
          "histogram2d": [
           {
            "colorbar": {
             "outlinewidth": 0,
             "ticks": ""
            },
            "colorscale": [
             [
              0,
              "#0d0887"
             ],
             [
              0.1111111111111111,
              "#46039f"
             ],
             [
              0.2222222222222222,
              "#7201a8"
             ],
             [
              0.3333333333333333,
              "#9c179e"
             ],
             [
              0.4444444444444444,
              "#bd3786"
             ],
             [
              0.5555555555555556,
              "#d8576b"
             ],
             [
              0.6666666666666666,
              "#ed7953"
             ],
             [
              0.7777777777777778,
              "#fb9f3a"
             ],
             [
              0.8888888888888888,
              "#fdca26"
             ],
             [
              1,
              "#f0f921"
             ]
            ],
            "type": "histogram2d"
           }
          ],
          "histogram2dcontour": [
           {
            "colorbar": {
             "outlinewidth": 0,
             "ticks": ""
            },
            "colorscale": [
             [
              0,
              "#0d0887"
             ],
             [
              0.1111111111111111,
              "#46039f"
             ],
             [
              0.2222222222222222,
              "#7201a8"
             ],
             [
              0.3333333333333333,
              "#9c179e"
             ],
             [
              0.4444444444444444,
              "#bd3786"
             ],
             [
              0.5555555555555556,
              "#d8576b"
             ],
             [
              0.6666666666666666,
              "#ed7953"
             ],
             [
              0.7777777777777778,
              "#fb9f3a"
             ],
             [
              0.8888888888888888,
              "#fdca26"
             ],
             [
              1,
              "#f0f921"
             ]
            ],
            "type": "histogram2dcontour"
           }
          ],
          "mesh3d": [
           {
            "colorbar": {
             "outlinewidth": 0,
             "ticks": ""
            },
            "type": "mesh3d"
           }
          ],
          "parcoords": [
           {
            "line": {
             "colorbar": {
              "outlinewidth": 0,
              "ticks": ""
             }
            },
            "type": "parcoords"
           }
          ],
          "pie": [
           {
            "automargin": true,
            "type": "pie"
           }
          ],
          "scatter": [
           {
            "fillpattern": {
             "fillmode": "overlay",
             "size": 10,
             "solidity": 0.2
            },
            "type": "scatter"
           }
          ],
          "scatter3d": [
           {
            "line": {
             "colorbar": {
              "outlinewidth": 0,
              "ticks": ""
             }
            },
            "marker": {
             "colorbar": {
              "outlinewidth": 0,
              "ticks": ""
             }
            },
            "type": "scatter3d"
           }
          ],
          "scattercarpet": [
           {
            "marker": {
             "colorbar": {
              "outlinewidth": 0,
              "ticks": ""
             }
            },
            "type": "scattercarpet"
           }
          ],
          "scattergeo": [
           {
            "marker": {
             "colorbar": {
              "outlinewidth": 0,
              "ticks": ""
             }
            },
            "type": "scattergeo"
           }
          ],
          "scattergl": [
           {
            "marker": {
             "colorbar": {
              "outlinewidth": 0,
              "ticks": ""
             }
            },
            "type": "scattergl"
           }
          ],
          "scattermapbox": [
           {
            "marker": {
             "colorbar": {
              "outlinewidth": 0,
              "ticks": ""
             }
            },
            "type": "scattermapbox"
           }
          ],
          "scatterpolar": [
           {
            "marker": {
             "colorbar": {
              "outlinewidth": 0,
              "ticks": ""
             }
            },
            "type": "scatterpolar"
           }
          ],
          "scatterpolargl": [
           {
            "marker": {
             "colorbar": {
              "outlinewidth": 0,
              "ticks": ""
             }
            },
            "type": "scatterpolargl"
           }
          ],
          "scatterternary": [
           {
            "marker": {
             "colorbar": {
              "outlinewidth": 0,
              "ticks": ""
             }
            },
            "type": "scatterternary"
           }
          ],
          "surface": [
           {
            "colorbar": {
             "outlinewidth": 0,
             "ticks": ""
            },
            "colorscale": [
             [
              0,
              "#0d0887"
             ],
             [
              0.1111111111111111,
              "#46039f"
             ],
             [
              0.2222222222222222,
              "#7201a8"
             ],
             [
              0.3333333333333333,
              "#9c179e"
             ],
             [
              0.4444444444444444,
              "#bd3786"
             ],
             [
              0.5555555555555556,
              "#d8576b"
             ],
             [
              0.6666666666666666,
              "#ed7953"
             ],
             [
              0.7777777777777778,
              "#fb9f3a"
             ],
             [
              0.8888888888888888,
              "#fdca26"
             ],
             [
              1,
              "#f0f921"
             ]
            ],
            "type": "surface"
           }
          ],
          "table": [
           {
            "cells": {
             "fill": {
              "color": "#EBF0F8"
             },
             "line": {
              "color": "white"
             }
            },
            "header": {
             "fill": {
              "color": "#C8D4E3"
             },
             "line": {
              "color": "white"
             }
            },
            "type": "table"
           }
          ]
         },
         "layout": {
          "annotationdefaults": {
           "arrowcolor": "#2a3f5f",
           "arrowhead": 0,
           "arrowwidth": 1
          },
          "autotypenumbers": "strict",
          "coloraxis": {
           "colorbar": {
            "outlinewidth": 0,
            "ticks": ""
           }
          },
          "colorscale": {
           "diverging": [
            [
             0,
             "#8e0152"
            ],
            [
             0.1,
             "#c51b7d"
            ],
            [
             0.2,
             "#de77ae"
            ],
            [
             0.3,
             "#f1b6da"
            ],
            [
             0.4,
             "#fde0ef"
            ],
            [
             0.5,
             "#f7f7f7"
            ],
            [
             0.6,
             "#e6f5d0"
            ],
            [
             0.7,
             "#b8e186"
            ],
            [
             0.8,
             "#7fbc41"
            ],
            [
             0.9,
             "#4d9221"
            ],
            [
             1,
             "#276419"
            ]
           ],
           "sequential": [
            [
             0,
             "#0d0887"
            ],
            [
             0.1111111111111111,
             "#46039f"
            ],
            [
             0.2222222222222222,
             "#7201a8"
            ],
            [
             0.3333333333333333,
             "#9c179e"
            ],
            [
             0.4444444444444444,
             "#bd3786"
            ],
            [
             0.5555555555555556,
             "#d8576b"
            ],
            [
             0.6666666666666666,
             "#ed7953"
            ],
            [
             0.7777777777777778,
             "#fb9f3a"
            ],
            [
             0.8888888888888888,
             "#fdca26"
            ],
            [
             1,
             "#f0f921"
            ]
           ],
           "sequentialminus": [
            [
             0,
             "#0d0887"
            ],
            [
             0.1111111111111111,
             "#46039f"
            ],
            [
             0.2222222222222222,
             "#7201a8"
            ],
            [
             0.3333333333333333,
             "#9c179e"
            ],
            [
             0.4444444444444444,
             "#bd3786"
            ],
            [
             0.5555555555555556,
             "#d8576b"
            ],
            [
             0.6666666666666666,
             "#ed7953"
            ],
            [
             0.7777777777777778,
             "#fb9f3a"
            ],
            [
             0.8888888888888888,
             "#fdca26"
            ],
            [
             1,
             "#f0f921"
            ]
           ]
          },
          "colorway": [
           "#636efa",
           "#EF553B",
           "#00cc96",
           "#ab63fa",
           "#FFA15A",
           "#19d3f3",
           "#FF6692",
           "#B6E880",
           "#FF97FF",
           "#FECB52"
          ],
          "font": {
           "color": "#2a3f5f"
          },
          "geo": {
           "bgcolor": "white",
           "lakecolor": "white",
           "landcolor": "#E5ECF6",
           "showlakes": true,
           "showland": true,
           "subunitcolor": "white"
          },
          "hoverlabel": {
           "align": "left"
          },
          "hovermode": "closest",
          "mapbox": {
           "style": "light"
          },
          "paper_bgcolor": "white",
          "plot_bgcolor": "#E5ECF6",
          "polar": {
           "angularaxis": {
            "gridcolor": "white",
            "linecolor": "white",
            "ticks": ""
           },
           "bgcolor": "#E5ECF6",
           "radialaxis": {
            "gridcolor": "white",
            "linecolor": "white",
            "ticks": ""
           }
          },
          "scene": {
           "xaxis": {
            "backgroundcolor": "#E5ECF6",
            "gridcolor": "white",
            "gridwidth": 2,
            "linecolor": "white",
            "showbackground": true,
            "ticks": "",
            "zerolinecolor": "white"
           },
           "yaxis": {
            "backgroundcolor": "#E5ECF6",
            "gridcolor": "white",
            "gridwidth": 2,
            "linecolor": "white",
            "showbackground": true,
            "ticks": "",
            "zerolinecolor": "white"
           },
           "zaxis": {
            "backgroundcolor": "#E5ECF6",
            "gridcolor": "white",
            "gridwidth": 2,
            "linecolor": "white",
            "showbackground": true,
            "ticks": "",
            "zerolinecolor": "white"
           }
          },
          "shapedefaults": {
           "line": {
            "color": "#2a3f5f"
           }
          },
          "ternary": {
           "aaxis": {
            "gridcolor": "white",
            "linecolor": "white",
            "ticks": ""
           },
           "baxis": {
            "gridcolor": "white",
            "linecolor": "white",
            "ticks": ""
           },
           "bgcolor": "#E5ECF6",
           "caxis": {
            "gridcolor": "white",
            "linecolor": "white",
            "ticks": ""
           }
          },
          "title": {
           "x": 0.05
          },
          "xaxis": {
           "automargin": true,
           "gridcolor": "white",
           "linecolor": "white",
           "ticks": "",
           "title": {
            "standoff": 15
           },
           "zerolinecolor": "white",
           "zerolinewidth": 2
          },
          "yaxis": {
           "automargin": true,
           "gridcolor": "white",
           "linecolor": "white",
           "ticks": "",
           "title": {
            "standoff": 15
           },
           "zerolinecolor": "white",
           "zerolinewidth": 2
          }
         }
        },
        "title": {
         "text": "New ads"
        },
        "xaxis": {
         "anchor": "y",
         "domain": [
          0,
          1
         ],
         "title": {
          "text": "New ads"
         }
        },
        "yaxis": {
         "anchor": "x",
         "domain": [
          0,
          1
         ],
         "title": {
          "text": "Date"
         }
        }
       }
      },
      "text/html": [
       "<div>                            <div id=\"07efea9c-893c-4e1b-ba3f-a163c7868dec\" class=\"plotly-graph-div\" style=\"height:525px; width:100%;\"></div>            <script type=\"text/javascript\">                require([\"plotly\"], function(Plotly) {                    window.PLOTLYENV=window.PLOTLYENV || {};                                    if (document.getElementById(\"07efea9c-893c-4e1b-ba3f-a163c7868dec\")) {                    Plotly.newPlot(                        \"07efea9c-893c-4e1b-ba3f-a163c7868dec\",                        [{\"alignmentgroup\":\"True\",\"hovertemplate\":\"is_new=%{x}\\u003cbr\\u003eextraction_date=%{y}\\u003cextra\\u003e\\u003c\\u002fextra\\u003e\",\"legendgroup\":\"\",\"marker\":{\"color\":\"darkcyan\",\"pattern\":{\"shape\":\"\"}},\"name\":\"\",\"offsetgroup\":\"\",\"orientation\":\"h\",\"showlegend\":false,\"textposition\":\"auto\",\"x\":[226,195,188,40,123],\"xaxis\":\"x\",\"y\":[\"2023-06-01\",\"2023-06-02\",\"2023-06-03\",\"2023-06-04\",\"2023-06-05\"],\"yaxis\":\"y\",\"type\":\"bar\"}],                        {\"template\":{\"data\":{\"histogram2dcontour\":[{\"type\":\"histogram2dcontour\",\"colorbar\":{\"outlinewidth\":0,\"ticks\":\"\"},\"colorscale\":[[0.0,\"#0d0887\"],[0.1111111111111111,\"#46039f\"],[0.2222222222222222,\"#7201a8\"],[0.3333333333333333,\"#9c179e\"],[0.4444444444444444,\"#bd3786\"],[0.5555555555555556,\"#d8576b\"],[0.6666666666666666,\"#ed7953\"],[0.7777777777777778,\"#fb9f3a\"],[0.8888888888888888,\"#fdca26\"],[1.0,\"#f0f921\"]]}],\"choropleth\":[{\"type\":\"choropleth\",\"colorbar\":{\"outlinewidth\":0,\"ticks\":\"\"}}],\"histogram2d\":[{\"type\":\"histogram2d\",\"colorbar\":{\"outlinewidth\":0,\"ticks\":\"\"},\"colorscale\":[[0.0,\"#0d0887\"],[0.1111111111111111,\"#46039f\"],[0.2222222222222222,\"#7201a8\"],[0.3333333333333333,\"#9c179e\"],[0.4444444444444444,\"#bd3786\"],[0.5555555555555556,\"#d8576b\"],[0.6666666666666666,\"#ed7953\"],[0.7777777777777778,\"#fb9f3a\"],[0.8888888888888888,\"#fdca26\"],[1.0,\"#f0f921\"]]}],\"heatmap\":[{\"type\":\"heatmap\",\"colorbar\":{\"outlinewidth\":0,\"ticks\":\"\"},\"colorscale\":[[0.0,\"#0d0887\"],[0.1111111111111111,\"#46039f\"],[0.2222222222222222,\"#7201a8\"],[0.3333333333333333,\"#9c179e\"],[0.4444444444444444,\"#bd3786\"],[0.5555555555555556,\"#d8576b\"],[0.6666666666666666,\"#ed7953\"],[0.7777777777777778,\"#fb9f3a\"],[0.8888888888888888,\"#fdca26\"],[1.0,\"#f0f921\"]]}],\"heatmapgl\":[{\"type\":\"heatmapgl\",\"colorbar\":{\"outlinewidth\":0,\"ticks\":\"\"},\"colorscale\":[[0.0,\"#0d0887\"],[0.1111111111111111,\"#46039f\"],[0.2222222222222222,\"#7201a8\"],[0.3333333333333333,\"#9c179e\"],[0.4444444444444444,\"#bd3786\"],[0.5555555555555556,\"#d8576b\"],[0.6666666666666666,\"#ed7953\"],[0.7777777777777778,\"#fb9f3a\"],[0.8888888888888888,\"#fdca26\"],[1.0,\"#f0f921\"]]}],\"contourcarpet\":[{\"type\":\"contourcarpet\",\"colorbar\":{\"outlinewidth\":0,\"ticks\":\"\"}}],\"contour\":[{\"type\":\"contour\",\"colorbar\":{\"outlinewidth\":0,\"ticks\":\"\"},\"colorscale\":[[0.0,\"#0d0887\"],[0.1111111111111111,\"#46039f\"],[0.2222222222222222,\"#7201a8\"],[0.3333333333333333,\"#9c179e\"],[0.4444444444444444,\"#bd3786\"],[0.5555555555555556,\"#d8576b\"],[0.6666666666666666,\"#ed7953\"],[0.7777777777777778,\"#fb9f3a\"],[0.8888888888888888,\"#fdca26\"],[1.0,\"#f0f921\"]]}],\"surface\":[{\"type\":\"surface\",\"colorbar\":{\"outlinewidth\":0,\"ticks\":\"\"},\"colorscale\":[[0.0,\"#0d0887\"],[0.1111111111111111,\"#46039f\"],[0.2222222222222222,\"#7201a8\"],[0.3333333333333333,\"#9c179e\"],[0.4444444444444444,\"#bd3786\"],[0.5555555555555556,\"#d8576b\"],[0.6666666666666666,\"#ed7953\"],[0.7777777777777778,\"#fb9f3a\"],[0.8888888888888888,\"#fdca26\"],[1.0,\"#f0f921\"]]}],\"mesh3d\":[{\"type\":\"mesh3d\",\"colorbar\":{\"outlinewidth\":0,\"ticks\":\"\"}}],\"scatter\":[{\"fillpattern\":{\"fillmode\":\"overlay\",\"size\":10,\"solidity\":0.2},\"type\":\"scatter\"}],\"parcoords\":[{\"type\":\"parcoords\",\"line\":{\"colorbar\":{\"outlinewidth\":0,\"ticks\":\"\"}}}],\"scatterpolargl\":[{\"type\":\"scatterpolargl\",\"marker\":{\"colorbar\":{\"outlinewidth\":0,\"ticks\":\"\"}}}],\"bar\":[{\"error_x\":{\"color\":\"#2a3f5f\"},\"error_y\":{\"color\":\"#2a3f5f\"},\"marker\":{\"line\":{\"color\":\"#E5ECF6\",\"width\":0.5},\"pattern\":{\"fillmode\":\"overlay\",\"size\":10,\"solidity\":0.2}},\"type\":\"bar\"}],\"scattergeo\":[{\"type\":\"scattergeo\",\"marker\":{\"colorbar\":{\"outlinewidth\":0,\"ticks\":\"\"}}}],\"scatterpolar\":[{\"type\":\"scatterpolar\",\"marker\":{\"colorbar\":{\"outlinewidth\":0,\"ticks\":\"\"}}}],\"histogram\":[{\"marker\":{\"pattern\":{\"fillmode\":\"overlay\",\"size\":10,\"solidity\":0.2}},\"type\":\"histogram\"}],\"scattergl\":[{\"type\":\"scattergl\",\"marker\":{\"colorbar\":{\"outlinewidth\":0,\"ticks\":\"\"}}}],\"scatter3d\":[{\"type\":\"scatter3d\",\"line\":{\"colorbar\":{\"outlinewidth\":0,\"ticks\":\"\"}},\"marker\":{\"colorbar\":{\"outlinewidth\":0,\"ticks\":\"\"}}}],\"scattermapbox\":[{\"type\":\"scattermapbox\",\"marker\":{\"colorbar\":{\"outlinewidth\":0,\"ticks\":\"\"}}}],\"scatterternary\":[{\"type\":\"scatterternary\",\"marker\":{\"colorbar\":{\"outlinewidth\":0,\"ticks\":\"\"}}}],\"scattercarpet\":[{\"type\":\"scattercarpet\",\"marker\":{\"colorbar\":{\"outlinewidth\":0,\"ticks\":\"\"}}}],\"carpet\":[{\"aaxis\":{\"endlinecolor\":\"#2a3f5f\",\"gridcolor\":\"white\",\"linecolor\":\"white\",\"minorgridcolor\":\"white\",\"startlinecolor\":\"#2a3f5f\"},\"baxis\":{\"endlinecolor\":\"#2a3f5f\",\"gridcolor\":\"white\",\"linecolor\":\"white\",\"minorgridcolor\":\"white\",\"startlinecolor\":\"#2a3f5f\"},\"type\":\"carpet\"}],\"table\":[{\"cells\":{\"fill\":{\"color\":\"#EBF0F8\"},\"line\":{\"color\":\"white\"}},\"header\":{\"fill\":{\"color\":\"#C8D4E3\"},\"line\":{\"color\":\"white\"}},\"type\":\"table\"}],\"barpolar\":[{\"marker\":{\"line\":{\"color\":\"#E5ECF6\",\"width\":0.5},\"pattern\":{\"fillmode\":\"overlay\",\"size\":10,\"solidity\":0.2}},\"type\":\"barpolar\"}],\"pie\":[{\"automargin\":true,\"type\":\"pie\"}]},\"layout\":{\"autotypenumbers\":\"strict\",\"colorway\":[\"#636efa\",\"#EF553B\",\"#00cc96\",\"#ab63fa\",\"#FFA15A\",\"#19d3f3\",\"#FF6692\",\"#B6E880\",\"#FF97FF\",\"#FECB52\"],\"font\":{\"color\":\"#2a3f5f\"},\"hovermode\":\"closest\",\"hoverlabel\":{\"align\":\"left\"},\"paper_bgcolor\":\"white\",\"plot_bgcolor\":\"#E5ECF6\",\"polar\":{\"bgcolor\":\"#E5ECF6\",\"angularaxis\":{\"gridcolor\":\"white\",\"linecolor\":\"white\",\"ticks\":\"\"},\"radialaxis\":{\"gridcolor\":\"white\",\"linecolor\":\"white\",\"ticks\":\"\"}},\"ternary\":{\"bgcolor\":\"#E5ECF6\",\"aaxis\":{\"gridcolor\":\"white\",\"linecolor\":\"white\",\"ticks\":\"\"},\"baxis\":{\"gridcolor\":\"white\",\"linecolor\":\"white\",\"ticks\":\"\"},\"caxis\":{\"gridcolor\":\"white\",\"linecolor\":\"white\",\"ticks\":\"\"}},\"coloraxis\":{\"colorbar\":{\"outlinewidth\":0,\"ticks\":\"\"}},\"colorscale\":{\"sequential\":[[0.0,\"#0d0887\"],[0.1111111111111111,\"#46039f\"],[0.2222222222222222,\"#7201a8\"],[0.3333333333333333,\"#9c179e\"],[0.4444444444444444,\"#bd3786\"],[0.5555555555555556,\"#d8576b\"],[0.6666666666666666,\"#ed7953\"],[0.7777777777777778,\"#fb9f3a\"],[0.8888888888888888,\"#fdca26\"],[1.0,\"#f0f921\"]],\"sequentialminus\":[[0.0,\"#0d0887\"],[0.1111111111111111,\"#46039f\"],[0.2222222222222222,\"#7201a8\"],[0.3333333333333333,\"#9c179e\"],[0.4444444444444444,\"#bd3786\"],[0.5555555555555556,\"#d8576b\"],[0.6666666666666666,\"#ed7953\"],[0.7777777777777778,\"#fb9f3a\"],[0.8888888888888888,\"#fdca26\"],[1.0,\"#f0f921\"]],\"diverging\":[[0,\"#8e0152\"],[0.1,\"#c51b7d\"],[0.2,\"#de77ae\"],[0.3,\"#f1b6da\"],[0.4,\"#fde0ef\"],[0.5,\"#f7f7f7\"],[0.6,\"#e6f5d0\"],[0.7,\"#b8e186\"],[0.8,\"#7fbc41\"],[0.9,\"#4d9221\"],[1,\"#276419\"]]},\"xaxis\":{\"gridcolor\":\"white\",\"linecolor\":\"white\",\"ticks\":\"\",\"title\":{\"standoff\":15},\"zerolinecolor\":\"white\",\"automargin\":true,\"zerolinewidth\":2},\"yaxis\":{\"gridcolor\":\"white\",\"linecolor\":\"white\",\"ticks\":\"\",\"title\":{\"standoff\":15},\"zerolinecolor\":\"white\",\"automargin\":true,\"zerolinewidth\":2},\"scene\":{\"xaxis\":{\"backgroundcolor\":\"#E5ECF6\",\"gridcolor\":\"white\",\"linecolor\":\"white\",\"showbackground\":true,\"ticks\":\"\",\"zerolinecolor\":\"white\",\"gridwidth\":2},\"yaxis\":{\"backgroundcolor\":\"#E5ECF6\",\"gridcolor\":\"white\",\"linecolor\":\"white\",\"showbackground\":true,\"ticks\":\"\",\"zerolinecolor\":\"white\",\"gridwidth\":2},\"zaxis\":{\"backgroundcolor\":\"#E5ECF6\",\"gridcolor\":\"white\",\"linecolor\":\"white\",\"showbackground\":true,\"ticks\":\"\",\"zerolinecolor\":\"white\",\"gridwidth\":2}},\"shapedefaults\":{\"line\":{\"color\":\"#2a3f5f\"}},\"annotationdefaults\":{\"arrowcolor\":\"#2a3f5f\",\"arrowhead\":0,\"arrowwidth\":1},\"geo\":{\"bgcolor\":\"white\",\"landcolor\":\"#E5ECF6\",\"subunitcolor\":\"white\",\"showland\":true,\"showlakes\":true,\"lakecolor\":\"white\"},\"title\":{\"x\":0.05},\"mapbox\":{\"style\":\"light\"}}},\"xaxis\":{\"anchor\":\"y\",\"domain\":[0.0,1.0],\"title\":{\"text\":\"New ads\"}},\"yaxis\":{\"anchor\":\"x\",\"domain\":[0.0,1.0],\"title\":{\"text\":\"Date\"}},\"legend\":{\"tracegroupgap\":0},\"title\":{\"text\":\"New ads\"},\"barmode\":\"relative\"},                        {\"responsive\": true}                    ).then(function(){\n",
       "                            \n",
       "var gd = document.getElementById('07efea9c-893c-4e1b-ba3f-a163c7868dec');\n",
       "var x = new MutationObserver(function (mutations, observer) {{\n",
       "        var display = window.getComputedStyle(gd).display;\n",
       "        if (!display || display === 'none') {{\n",
       "            console.log([gd, 'removed!']);\n",
       "            Plotly.purge(gd);\n",
       "            observer.disconnect();\n",
       "        }}\n",
       "}});\n",
       "\n",
       "// Listen for the removal of the full notebook cells\n",
       "var notebookContainer = gd.closest('#notebook-container');\n",
       "if (notebookContainer) {{\n",
       "    x.observe(notebookContainer, {childList: true});\n",
       "}}\n",
       "\n",
       "// Listen for the clearing of the current output cell\n",
       "var outputEl = gd.closest('.output');\n",
       "if (outputEl) {{\n",
       "    x.observe(outputEl, {childList: true});\n",
       "}}\n",
       "\n",
       "                        })                };                });            </script>        </div>"
      ]
     },
     "metadata": {},
     "output_type": "display_data"
    }
   ],
   "source": [
    "fig = px.bar(df_full.groupby('extraction_date')['is_new'].sum().reset_index(), x='is_new', y='extraction_date', \n",
    "             orientation='h', title='New ads')\n",
    "fig.update_traces(marker_color='darkcyan')\n",
    "fig.update_layout(\n",
    "    xaxis_title='New ads',\n",
    "    yaxis_title='Date'\n",
    ")\n",
    "\n",
    "fig.show()"
   ]
  },
  {
   "cell_type": "code",
   "execution_count": 67,
   "id": "f081783e",
   "metadata": {},
   "outputs": [
    {
     "data": {
      "application/vnd.plotly.v1+json": {
       "config": {
        "plotlyServerURL": "https://plot.ly"
       },
       "data": [
        {
         "hovertemplate": "extraction_date=%{x}<br>is_new=%{y}<extra></extra>",
         "legendgroup": "",
         "line": {
          "color": "darkcyan",
          "dash": "solid"
         },
         "marker": {
          "symbol": "circle"
         },
         "mode": "lines",
         "name": "",
         "orientation": "v",
         "showlegend": false,
         "type": "scatter",
         "x": [
          "2023-06-01",
          "2023-06-02",
          "2023-06-03",
          "2023-06-04",
          "2023-06-05"
         ],
         "xaxis": "x",
         "y": [
          226,
          195,
          188,
          40,
          123
         ],
         "yaxis": "y"
        }
       ],
       "layout": {
        "legend": {
         "tracegroupgap": 0
        },
        "template": {
         "data": {
          "bar": [
           {
            "error_x": {
             "color": "#2a3f5f"
            },
            "error_y": {
             "color": "#2a3f5f"
            },
            "marker": {
             "line": {
              "color": "#E5ECF6",
              "width": 0.5
             },
             "pattern": {
              "fillmode": "overlay",
              "size": 10,
              "solidity": 0.2
             }
            },
            "type": "bar"
           }
          ],
          "barpolar": [
           {
            "marker": {
             "line": {
              "color": "#E5ECF6",
              "width": 0.5
             },
             "pattern": {
              "fillmode": "overlay",
              "size": 10,
              "solidity": 0.2
             }
            },
            "type": "barpolar"
           }
          ],
          "carpet": [
           {
            "aaxis": {
             "endlinecolor": "#2a3f5f",
             "gridcolor": "white",
             "linecolor": "white",
             "minorgridcolor": "white",
             "startlinecolor": "#2a3f5f"
            },
            "baxis": {
             "endlinecolor": "#2a3f5f",
             "gridcolor": "white",
             "linecolor": "white",
             "minorgridcolor": "white",
             "startlinecolor": "#2a3f5f"
            },
            "type": "carpet"
           }
          ],
          "choropleth": [
           {
            "colorbar": {
             "outlinewidth": 0,
             "ticks": ""
            },
            "type": "choropleth"
           }
          ],
          "contour": [
           {
            "colorbar": {
             "outlinewidth": 0,
             "ticks": ""
            },
            "colorscale": [
             [
              0,
              "#0d0887"
             ],
             [
              0.1111111111111111,
              "#46039f"
             ],
             [
              0.2222222222222222,
              "#7201a8"
             ],
             [
              0.3333333333333333,
              "#9c179e"
             ],
             [
              0.4444444444444444,
              "#bd3786"
             ],
             [
              0.5555555555555556,
              "#d8576b"
             ],
             [
              0.6666666666666666,
              "#ed7953"
             ],
             [
              0.7777777777777778,
              "#fb9f3a"
             ],
             [
              0.8888888888888888,
              "#fdca26"
             ],
             [
              1,
              "#f0f921"
             ]
            ],
            "type": "contour"
           }
          ],
          "contourcarpet": [
           {
            "colorbar": {
             "outlinewidth": 0,
             "ticks": ""
            },
            "type": "contourcarpet"
           }
          ],
          "heatmap": [
           {
            "colorbar": {
             "outlinewidth": 0,
             "ticks": ""
            },
            "colorscale": [
             [
              0,
              "#0d0887"
             ],
             [
              0.1111111111111111,
              "#46039f"
             ],
             [
              0.2222222222222222,
              "#7201a8"
             ],
             [
              0.3333333333333333,
              "#9c179e"
             ],
             [
              0.4444444444444444,
              "#bd3786"
             ],
             [
              0.5555555555555556,
              "#d8576b"
             ],
             [
              0.6666666666666666,
              "#ed7953"
             ],
             [
              0.7777777777777778,
              "#fb9f3a"
             ],
             [
              0.8888888888888888,
              "#fdca26"
             ],
             [
              1,
              "#f0f921"
             ]
            ],
            "type": "heatmap"
           }
          ],
          "heatmapgl": [
           {
            "colorbar": {
             "outlinewidth": 0,
             "ticks": ""
            },
            "colorscale": [
             [
              0,
              "#0d0887"
             ],
             [
              0.1111111111111111,
              "#46039f"
             ],
             [
              0.2222222222222222,
              "#7201a8"
             ],
             [
              0.3333333333333333,
              "#9c179e"
             ],
             [
              0.4444444444444444,
              "#bd3786"
             ],
             [
              0.5555555555555556,
              "#d8576b"
             ],
             [
              0.6666666666666666,
              "#ed7953"
             ],
             [
              0.7777777777777778,
              "#fb9f3a"
             ],
             [
              0.8888888888888888,
              "#fdca26"
             ],
             [
              1,
              "#f0f921"
             ]
            ],
            "type": "heatmapgl"
           }
          ],
          "histogram": [
           {
            "marker": {
             "pattern": {
              "fillmode": "overlay",
              "size": 10,
              "solidity": 0.2
             }
            },
            "type": "histogram"
           }
          ],
          "histogram2d": [
           {
            "colorbar": {
             "outlinewidth": 0,
             "ticks": ""
            },
            "colorscale": [
             [
              0,
              "#0d0887"
             ],
             [
              0.1111111111111111,
              "#46039f"
             ],
             [
              0.2222222222222222,
              "#7201a8"
             ],
             [
              0.3333333333333333,
              "#9c179e"
             ],
             [
              0.4444444444444444,
              "#bd3786"
             ],
             [
              0.5555555555555556,
              "#d8576b"
             ],
             [
              0.6666666666666666,
              "#ed7953"
             ],
             [
              0.7777777777777778,
              "#fb9f3a"
             ],
             [
              0.8888888888888888,
              "#fdca26"
             ],
             [
              1,
              "#f0f921"
             ]
            ],
            "type": "histogram2d"
           }
          ],
          "histogram2dcontour": [
           {
            "colorbar": {
             "outlinewidth": 0,
             "ticks": ""
            },
            "colorscale": [
             [
              0,
              "#0d0887"
             ],
             [
              0.1111111111111111,
              "#46039f"
             ],
             [
              0.2222222222222222,
              "#7201a8"
             ],
             [
              0.3333333333333333,
              "#9c179e"
             ],
             [
              0.4444444444444444,
              "#bd3786"
             ],
             [
              0.5555555555555556,
              "#d8576b"
             ],
             [
              0.6666666666666666,
              "#ed7953"
             ],
             [
              0.7777777777777778,
              "#fb9f3a"
             ],
             [
              0.8888888888888888,
              "#fdca26"
             ],
             [
              1,
              "#f0f921"
             ]
            ],
            "type": "histogram2dcontour"
           }
          ],
          "mesh3d": [
           {
            "colorbar": {
             "outlinewidth": 0,
             "ticks": ""
            },
            "type": "mesh3d"
           }
          ],
          "parcoords": [
           {
            "line": {
             "colorbar": {
              "outlinewidth": 0,
              "ticks": ""
             }
            },
            "type": "parcoords"
           }
          ],
          "pie": [
           {
            "automargin": true,
            "type": "pie"
           }
          ],
          "scatter": [
           {
            "fillpattern": {
             "fillmode": "overlay",
             "size": 10,
             "solidity": 0.2
            },
            "type": "scatter"
           }
          ],
          "scatter3d": [
           {
            "line": {
             "colorbar": {
              "outlinewidth": 0,
              "ticks": ""
             }
            },
            "marker": {
             "colorbar": {
              "outlinewidth": 0,
              "ticks": ""
             }
            },
            "type": "scatter3d"
           }
          ],
          "scattercarpet": [
           {
            "marker": {
             "colorbar": {
              "outlinewidth": 0,
              "ticks": ""
             }
            },
            "type": "scattercarpet"
           }
          ],
          "scattergeo": [
           {
            "marker": {
             "colorbar": {
              "outlinewidth": 0,
              "ticks": ""
             }
            },
            "type": "scattergeo"
           }
          ],
          "scattergl": [
           {
            "marker": {
             "colorbar": {
              "outlinewidth": 0,
              "ticks": ""
             }
            },
            "type": "scattergl"
           }
          ],
          "scattermapbox": [
           {
            "marker": {
             "colorbar": {
              "outlinewidth": 0,
              "ticks": ""
             }
            },
            "type": "scattermapbox"
           }
          ],
          "scatterpolar": [
           {
            "marker": {
             "colorbar": {
              "outlinewidth": 0,
              "ticks": ""
             }
            },
            "type": "scatterpolar"
           }
          ],
          "scatterpolargl": [
           {
            "marker": {
             "colorbar": {
              "outlinewidth": 0,
              "ticks": ""
             }
            },
            "type": "scatterpolargl"
           }
          ],
          "scatterternary": [
           {
            "marker": {
             "colorbar": {
              "outlinewidth": 0,
              "ticks": ""
             }
            },
            "type": "scatterternary"
           }
          ],
          "surface": [
           {
            "colorbar": {
             "outlinewidth": 0,
             "ticks": ""
            },
            "colorscale": [
             [
              0,
              "#0d0887"
             ],
             [
              0.1111111111111111,
              "#46039f"
             ],
             [
              0.2222222222222222,
              "#7201a8"
             ],
             [
              0.3333333333333333,
              "#9c179e"
             ],
             [
              0.4444444444444444,
              "#bd3786"
             ],
             [
              0.5555555555555556,
              "#d8576b"
             ],
             [
              0.6666666666666666,
              "#ed7953"
             ],
             [
              0.7777777777777778,
              "#fb9f3a"
             ],
             [
              0.8888888888888888,
              "#fdca26"
             ],
             [
              1,
              "#f0f921"
             ]
            ],
            "type": "surface"
           }
          ],
          "table": [
           {
            "cells": {
             "fill": {
              "color": "#EBF0F8"
             },
             "line": {
              "color": "white"
             }
            },
            "header": {
             "fill": {
              "color": "#C8D4E3"
             },
             "line": {
              "color": "white"
             }
            },
            "type": "table"
           }
          ]
         },
         "layout": {
          "annotationdefaults": {
           "arrowcolor": "#2a3f5f",
           "arrowhead": 0,
           "arrowwidth": 1
          },
          "autotypenumbers": "strict",
          "coloraxis": {
           "colorbar": {
            "outlinewidth": 0,
            "ticks": ""
           }
          },
          "colorscale": {
           "diverging": [
            [
             0,
             "#8e0152"
            ],
            [
             0.1,
             "#c51b7d"
            ],
            [
             0.2,
             "#de77ae"
            ],
            [
             0.3,
             "#f1b6da"
            ],
            [
             0.4,
             "#fde0ef"
            ],
            [
             0.5,
             "#f7f7f7"
            ],
            [
             0.6,
             "#e6f5d0"
            ],
            [
             0.7,
             "#b8e186"
            ],
            [
             0.8,
             "#7fbc41"
            ],
            [
             0.9,
             "#4d9221"
            ],
            [
             1,
             "#276419"
            ]
           ],
           "sequential": [
            [
             0,
             "#0d0887"
            ],
            [
             0.1111111111111111,
             "#46039f"
            ],
            [
             0.2222222222222222,
             "#7201a8"
            ],
            [
             0.3333333333333333,
             "#9c179e"
            ],
            [
             0.4444444444444444,
             "#bd3786"
            ],
            [
             0.5555555555555556,
             "#d8576b"
            ],
            [
             0.6666666666666666,
             "#ed7953"
            ],
            [
             0.7777777777777778,
             "#fb9f3a"
            ],
            [
             0.8888888888888888,
             "#fdca26"
            ],
            [
             1,
             "#f0f921"
            ]
           ],
           "sequentialminus": [
            [
             0,
             "#0d0887"
            ],
            [
             0.1111111111111111,
             "#46039f"
            ],
            [
             0.2222222222222222,
             "#7201a8"
            ],
            [
             0.3333333333333333,
             "#9c179e"
            ],
            [
             0.4444444444444444,
             "#bd3786"
            ],
            [
             0.5555555555555556,
             "#d8576b"
            ],
            [
             0.6666666666666666,
             "#ed7953"
            ],
            [
             0.7777777777777778,
             "#fb9f3a"
            ],
            [
             0.8888888888888888,
             "#fdca26"
            ],
            [
             1,
             "#f0f921"
            ]
           ]
          },
          "colorway": [
           "#636efa",
           "#EF553B",
           "#00cc96",
           "#ab63fa",
           "#FFA15A",
           "#19d3f3",
           "#FF6692",
           "#B6E880",
           "#FF97FF",
           "#FECB52"
          ],
          "font": {
           "color": "#2a3f5f"
          },
          "geo": {
           "bgcolor": "white",
           "lakecolor": "white",
           "landcolor": "#E5ECF6",
           "showlakes": true,
           "showland": true,
           "subunitcolor": "white"
          },
          "hoverlabel": {
           "align": "left"
          },
          "hovermode": "closest",
          "mapbox": {
           "style": "light"
          },
          "paper_bgcolor": "white",
          "plot_bgcolor": "#E5ECF6",
          "polar": {
           "angularaxis": {
            "gridcolor": "white",
            "linecolor": "white",
            "ticks": ""
           },
           "bgcolor": "#E5ECF6",
           "radialaxis": {
            "gridcolor": "white",
            "linecolor": "white",
            "ticks": ""
           }
          },
          "scene": {
           "xaxis": {
            "backgroundcolor": "#E5ECF6",
            "gridcolor": "white",
            "gridwidth": 2,
            "linecolor": "white",
            "showbackground": true,
            "ticks": "",
            "zerolinecolor": "white"
           },
           "yaxis": {
            "backgroundcolor": "#E5ECF6",
            "gridcolor": "white",
            "gridwidth": 2,
            "linecolor": "white",
            "showbackground": true,
            "ticks": "",
            "zerolinecolor": "white"
           },
           "zaxis": {
            "backgroundcolor": "#E5ECF6",
            "gridcolor": "white",
            "gridwidth": 2,
            "linecolor": "white",
            "showbackground": true,
            "ticks": "",
            "zerolinecolor": "white"
           }
          },
          "shapedefaults": {
           "line": {
            "color": "#2a3f5f"
           }
          },
          "ternary": {
           "aaxis": {
            "gridcolor": "white",
            "linecolor": "white",
            "ticks": ""
           },
           "baxis": {
            "gridcolor": "white",
            "linecolor": "white",
            "ticks": ""
           },
           "bgcolor": "#E5ECF6",
           "caxis": {
            "gridcolor": "white",
            "linecolor": "white",
            "ticks": ""
           }
          },
          "title": {
           "x": 0.05
          },
          "xaxis": {
           "automargin": true,
           "gridcolor": "white",
           "linecolor": "white",
           "ticks": "",
           "title": {
            "standoff": 15
           },
           "zerolinecolor": "white",
           "zerolinewidth": 2
          },
          "yaxis": {
           "automargin": true,
           "gridcolor": "white",
           "linecolor": "white",
           "ticks": "",
           "title": {
            "standoff": 15
           },
           "zerolinecolor": "white",
           "zerolinewidth": 2
          }
         }
        },
        "title": {
         "text": "New ads"
        },
        "xaxis": {
         "anchor": "y",
         "domain": [
          0,
          1
         ],
         "dtick": "D1",
         "tickformat": "%d/%mm",
         "tickmode": "linear",
         "title": {
          "text": "Date"
         }
        },
        "yaxis": {
         "anchor": "x",
         "domain": [
          0,
          1
         ],
         "title": {
          "text": "New ads"
         }
        }
       }
      },
      "text/html": [
       "<div>                            <div id=\"2af7873f-e98f-469e-8c4f-f74fa73bf60f\" class=\"plotly-graph-div\" style=\"height:525px; width:100%;\"></div>            <script type=\"text/javascript\">                require([\"plotly\"], function(Plotly) {                    window.PLOTLYENV=window.PLOTLYENV || {};                                    if (document.getElementById(\"2af7873f-e98f-469e-8c4f-f74fa73bf60f\")) {                    Plotly.newPlot(                        \"2af7873f-e98f-469e-8c4f-f74fa73bf60f\",                        [{\"hovertemplate\":\"extraction_date=%{x}\\u003cbr\\u003eis_new=%{y}\\u003cextra\\u003e\\u003c\\u002fextra\\u003e\",\"legendgroup\":\"\",\"line\":{\"color\":\"darkcyan\",\"dash\":\"solid\"},\"marker\":{\"symbol\":\"circle\"},\"mode\":\"lines\",\"name\":\"\",\"orientation\":\"v\",\"showlegend\":false,\"x\":[\"2023-06-01\",\"2023-06-02\",\"2023-06-03\",\"2023-06-04\",\"2023-06-05\"],\"xaxis\":\"x\",\"y\":[226,195,188,40,123],\"yaxis\":\"y\",\"type\":\"scatter\"}],                        {\"template\":{\"data\":{\"histogram2dcontour\":[{\"type\":\"histogram2dcontour\",\"colorbar\":{\"outlinewidth\":0,\"ticks\":\"\"},\"colorscale\":[[0.0,\"#0d0887\"],[0.1111111111111111,\"#46039f\"],[0.2222222222222222,\"#7201a8\"],[0.3333333333333333,\"#9c179e\"],[0.4444444444444444,\"#bd3786\"],[0.5555555555555556,\"#d8576b\"],[0.6666666666666666,\"#ed7953\"],[0.7777777777777778,\"#fb9f3a\"],[0.8888888888888888,\"#fdca26\"],[1.0,\"#f0f921\"]]}],\"choropleth\":[{\"type\":\"choropleth\",\"colorbar\":{\"outlinewidth\":0,\"ticks\":\"\"}}],\"histogram2d\":[{\"type\":\"histogram2d\",\"colorbar\":{\"outlinewidth\":0,\"ticks\":\"\"},\"colorscale\":[[0.0,\"#0d0887\"],[0.1111111111111111,\"#46039f\"],[0.2222222222222222,\"#7201a8\"],[0.3333333333333333,\"#9c179e\"],[0.4444444444444444,\"#bd3786\"],[0.5555555555555556,\"#d8576b\"],[0.6666666666666666,\"#ed7953\"],[0.7777777777777778,\"#fb9f3a\"],[0.8888888888888888,\"#fdca26\"],[1.0,\"#f0f921\"]]}],\"heatmap\":[{\"type\":\"heatmap\",\"colorbar\":{\"outlinewidth\":0,\"ticks\":\"\"},\"colorscale\":[[0.0,\"#0d0887\"],[0.1111111111111111,\"#46039f\"],[0.2222222222222222,\"#7201a8\"],[0.3333333333333333,\"#9c179e\"],[0.4444444444444444,\"#bd3786\"],[0.5555555555555556,\"#d8576b\"],[0.6666666666666666,\"#ed7953\"],[0.7777777777777778,\"#fb9f3a\"],[0.8888888888888888,\"#fdca26\"],[1.0,\"#f0f921\"]]}],\"heatmapgl\":[{\"type\":\"heatmapgl\",\"colorbar\":{\"outlinewidth\":0,\"ticks\":\"\"},\"colorscale\":[[0.0,\"#0d0887\"],[0.1111111111111111,\"#46039f\"],[0.2222222222222222,\"#7201a8\"],[0.3333333333333333,\"#9c179e\"],[0.4444444444444444,\"#bd3786\"],[0.5555555555555556,\"#d8576b\"],[0.6666666666666666,\"#ed7953\"],[0.7777777777777778,\"#fb9f3a\"],[0.8888888888888888,\"#fdca26\"],[1.0,\"#f0f921\"]]}],\"contourcarpet\":[{\"type\":\"contourcarpet\",\"colorbar\":{\"outlinewidth\":0,\"ticks\":\"\"}}],\"contour\":[{\"type\":\"contour\",\"colorbar\":{\"outlinewidth\":0,\"ticks\":\"\"},\"colorscale\":[[0.0,\"#0d0887\"],[0.1111111111111111,\"#46039f\"],[0.2222222222222222,\"#7201a8\"],[0.3333333333333333,\"#9c179e\"],[0.4444444444444444,\"#bd3786\"],[0.5555555555555556,\"#d8576b\"],[0.6666666666666666,\"#ed7953\"],[0.7777777777777778,\"#fb9f3a\"],[0.8888888888888888,\"#fdca26\"],[1.0,\"#f0f921\"]]}],\"surface\":[{\"type\":\"surface\",\"colorbar\":{\"outlinewidth\":0,\"ticks\":\"\"},\"colorscale\":[[0.0,\"#0d0887\"],[0.1111111111111111,\"#46039f\"],[0.2222222222222222,\"#7201a8\"],[0.3333333333333333,\"#9c179e\"],[0.4444444444444444,\"#bd3786\"],[0.5555555555555556,\"#d8576b\"],[0.6666666666666666,\"#ed7953\"],[0.7777777777777778,\"#fb9f3a\"],[0.8888888888888888,\"#fdca26\"],[1.0,\"#f0f921\"]]}],\"mesh3d\":[{\"type\":\"mesh3d\",\"colorbar\":{\"outlinewidth\":0,\"ticks\":\"\"}}],\"scatter\":[{\"fillpattern\":{\"fillmode\":\"overlay\",\"size\":10,\"solidity\":0.2},\"type\":\"scatter\"}],\"parcoords\":[{\"type\":\"parcoords\",\"line\":{\"colorbar\":{\"outlinewidth\":0,\"ticks\":\"\"}}}],\"scatterpolargl\":[{\"type\":\"scatterpolargl\",\"marker\":{\"colorbar\":{\"outlinewidth\":0,\"ticks\":\"\"}}}],\"bar\":[{\"error_x\":{\"color\":\"#2a3f5f\"},\"error_y\":{\"color\":\"#2a3f5f\"},\"marker\":{\"line\":{\"color\":\"#E5ECF6\",\"width\":0.5},\"pattern\":{\"fillmode\":\"overlay\",\"size\":10,\"solidity\":0.2}},\"type\":\"bar\"}],\"scattergeo\":[{\"type\":\"scattergeo\",\"marker\":{\"colorbar\":{\"outlinewidth\":0,\"ticks\":\"\"}}}],\"scatterpolar\":[{\"type\":\"scatterpolar\",\"marker\":{\"colorbar\":{\"outlinewidth\":0,\"ticks\":\"\"}}}],\"histogram\":[{\"marker\":{\"pattern\":{\"fillmode\":\"overlay\",\"size\":10,\"solidity\":0.2}},\"type\":\"histogram\"}],\"scattergl\":[{\"type\":\"scattergl\",\"marker\":{\"colorbar\":{\"outlinewidth\":0,\"ticks\":\"\"}}}],\"scatter3d\":[{\"type\":\"scatter3d\",\"line\":{\"colorbar\":{\"outlinewidth\":0,\"ticks\":\"\"}},\"marker\":{\"colorbar\":{\"outlinewidth\":0,\"ticks\":\"\"}}}],\"scattermapbox\":[{\"type\":\"scattermapbox\",\"marker\":{\"colorbar\":{\"outlinewidth\":0,\"ticks\":\"\"}}}],\"scatterternary\":[{\"type\":\"scatterternary\",\"marker\":{\"colorbar\":{\"outlinewidth\":0,\"ticks\":\"\"}}}],\"scattercarpet\":[{\"type\":\"scattercarpet\",\"marker\":{\"colorbar\":{\"outlinewidth\":0,\"ticks\":\"\"}}}],\"carpet\":[{\"aaxis\":{\"endlinecolor\":\"#2a3f5f\",\"gridcolor\":\"white\",\"linecolor\":\"white\",\"minorgridcolor\":\"white\",\"startlinecolor\":\"#2a3f5f\"},\"baxis\":{\"endlinecolor\":\"#2a3f5f\",\"gridcolor\":\"white\",\"linecolor\":\"white\",\"minorgridcolor\":\"white\",\"startlinecolor\":\"#2a3f5f\"},\"type\":\"carpet\"}],\"table\":[{\"cells\":{\"fill\":{\"color\":\"#EBF0F8\"},\"line\":{\"color\":\"white\"}},\"header\":{\"fill\":{\"color\":\"#C8D4E3\"},\"line\":{\"color\":\"white\"}},\"type\":\"table\"}],\"barpolar\":[{\"marker\":{\"line\":{\"color\":\"#E5ECF6\",\"width\":0.5},\"pattern\":{\"fillmode\":\"overlay\",\"size\":10,\"solidity\":0.2}},\"type\":\"barpolar\"}],\"pie\":[{\"automargin\":true,\"type\":\"pie\"}]},\"layout\":{\"autotypenumbers\":\"strict\",\"colorway\":[\"#636efa\",\"#EF553B\",\"#00cc96\",\"#ab63fa\",\"#FFA15A\",\"#19d3f3\",\"#FF6692\",\"#B6E880\",\"#FF97FF\",\"#FECB52\"],\"font\":{\"color\":\"#2a3f5f\"},\"hovermode\":\"closest\",\"hoverlabel\":{\"align\":\"left\"},\"paper_bgcolor\":\"white\",\"plot_bgcolor\":\"#E5ECF6\",\"polar\":{\"bgcolor\":\"#E5ECF6\",\"angularaxis\":{\"gridcolor\":\"white\",\"linecolor\":\"white\",\"ticks\":\"\"},\"radialaxis\":{\"gridcolor\":\"white\",\"linecolor\":\"white\",\"ticks\":\"\"}},\"ternary\":{\"bgcolor\":\"#E5ECF6\",\"aaxis\":{\"gridcolor\":\"white\",\"linecolor\":\"white\",\"ticks\":\"\"},\"baxis\":{\"gridcolor\":\"white\",\"linecolor\":\"white\",\"ticks\":\"\"},\"caxis\":{\"gridcolor\":\"white\",\"linecolor\":\"white\",\"ticks\":\"\"}},\"coloraxis\":{\"colorbar\":{\"outlinewidth\":0,\"ticks\":\"\"}},\"colorscale\":{\"sequential\":[[0.0,\"#0d0887\"],[0.1111111111111111,\"#46039f\"],[0.2222222222222222,\"#7201a8\"],[0.3333333333333333,\"#9c179e\"],[0.4444444444444444,\"#bd3786\"],[0.5555555555555556,\"#d8576b\"],[0.6666666666666666,\"#ed7953\"],[0.7777777777777778,\"#fb9f3a\"],[0.8888888888888888,\"#fdca26\"],[1.0,\"#f0f921\"]],\"sequentialminus\":[[0.0,\"#0d0887\"],[0.1111111111111111,\"#46039f\"],[0.2222222222222222,\"#7201a8\"],[0.3333333333333333,\"#9c179e\"],[0.4444444444444444,\"#bd3786\"],[0.5555555555555556,\"#d8576b\"],[0.6666666666666666,\"#ed7953\"],[0.7777777777777778,\"#fb9f3a\"],[0.8888888888888888,\"#fdca26\"],[1.0,\"#f0f921\"]],\"diverging\":[[0,\"#8e0152\"],[0.1,\"#c51b7d\"],[0.2,\"#de77ae\"],[0.3,\"#f1b6da\"],[0.4,\"#fde0ef\"],[0.5,\"#f7f7f7\"],[0.6,\"#e6f5d0\"],[0.7,\"#b8e186\"],[0.8,\"#7fbc41\"],[0.9,\"#4d9221\"],[1,\"#276419\"]]},\"xaxis\":{\"gridcolor\":\"white\",\"linecolor\":\"white\",\"ticks\":\"\",\"title\":{\"standoff\":15},\"zerolinecolor\":\"white\",\"automargin\":true,\"zerolinewidth\":2},\"yaxis\":{\"gridcolor\":\"white\",\"linecolor\":\"white\",\"ticks\":\"\",\"title\":{\"standoff\":15},\"zerolinecolor\":\"white\",\"automargin\":true,\"zerolinewidth\":2},\"scene\":{\"xaxis\":{\"backgroundcolor\":\"#E5ECF6\",\"gridcolor\":\"white\",\"linecolor\":\"white\",\"showbackground\":true,\"ticks\":\"\",\"zerolinecolor\":\"white\",\"gridwidth\":2},\"yaxis\":{\"backgroundcolor\":\"#E5ECF6\",\"gridcolor\":\"white\",\"linecolor\":\"white\",\"showbackground\":true,\"ticks\":\"\",\"zerolinecolor\":\"white\",\"gridwidth\":2},\"zaxis\":{\"backgroundcolor\":\"#E5ECF6\",\"gridcolor\":\"white\",\"linecolor\":\"white\",\"showbackground\":true,\"ticks\":\"\",\"zerolinecolor\":\"white\",\"gridwidth\":2}},\"shapedefaults\":{\"line\":{\"color\":\"#2a3f5f\"}},\"annotationdefaults\":{\"arrowcolor\":\"#2a3f5f\",\"arrowhead\":0,\"arrowwidth\":1},\"geo\":{\"bgcolor\":\"white\",\"landcolor\":\"#E5ECF6\",\"subunitcolor\":\"white\",\"showland\":true,\"showlakes\":true,\"lakecolor\":\"white\"},\"title\":{\"x\":0.05},\"mapbox\":{\"style\":\"light\"}}},\"xaxis\":{\"anchor\":\"y\",\"domain\":[0.0,1.0],\"title\":{\"text\":\"Date\"},\"tickmode\":\"linear\",\"dtick\":\"D1\",\"tickformat\":\"%d\\u002f%mm\"},\"yaxis\":{\"anchor\":\"x\",\"domain\":[0.0,1.0],\"title\":{\"text\":\"New ads\"}},\"legend\":{\"tracegroupgap\":0},\"title\":{\"text\":\"New ads\"}},                        {\"responsive\": true}                    ).then(function(){\n",
       "                            \n",
       "var gd = document.getElementById('2af7873f-e98f-469e-8c4f-f74fa73bf60f');\n",
       "var x = new MutationObserver(function (mutations, observer) {{\n",
       "        var display = window.getComputedStyle(gd).display;\n",
       "        if (!display || display === 'none') {{\n",
       "            console.log([gd, 'removed!']);\n",
       "            Plotly.purge(gd);\n",
       "            observer.disconnect();\n",
       "        }}\n",
       "}});\n",
       "\n",
       "// Listen for the removal of the full notebook cells\n",
       "var notebookContainer = gd.closest('#notebook-container');\n",
       "if (notebookContainer) {{\n",
       "    x.observe(notebookContainer, {childList: true});\n",
       "}}\n",
       "\n",
       "// Listen for the clearing of the current output cell\n",
       "var outputEl = gd.closest('.output');\n",
       "if (outputEl) {{\n",
       "    x.observe(outputEl, {childList: true});\n",
       "}}\n",
       "\n",
       "                        })                };                });            </script>        </div>"
      ]
     },
     "metadata": {},
     "output_type": "display_data"
    }
   ],
   "source": [
    "fig = px.line(df_full.groupby('extraction_date')['is_new'].sum().reset_index(), \n",
    "              x='extraction_date', y='is_new', title='New ads')\n",
    "fig.update_traces(line_color='darkcyan')\n",
    "fig.update_layout(\n",
    "    xaxis=dict(tickmode='linear', dtick='D1', tickformat='%d/%m/%Y'),\n",
    "#     yaxis=dict(showgrid=False, zeroline=False),\n",
    "    xaxis_title='Date',\n",
    "    yaxis_title='New ads'\n",
    ")\n",
    "\n",
    "\n",
    "fig.show()"
   ]
  },
  {
   "cell_type": "code",
   "execution_count": 62,
   "id": "e72795aa",
   "metadata": {},
   "outputs": [
    {
     "data": {
      "application/vnd.plotly.v1+json": {
       "config": {
        "plotlyServerURL": "https://plot.ly"
       },
       "data": [
        {
         "alignmentgroup": "True",
         "hovertemplate": "age=%{x}<br>Count=%{y}<extra></extra>",
         "legendgroup": "",
         "marker": {
          "color": "darkcyan",
          "pattern": {
           "shape": ""
          }
         },
         "name": "",
         "offsetgroup": "",
         "orientation": "v",
         "showlegend": false,
         "textposition": "inside",
         "texttemplate": "%{text:.2s}",
         "type": "bar",
         "x": [
          "1 day",
          "< 1 week",
          "< 2 weeks",
          "< 3 weeks",
          "< 1 month",
          "< 2 months"
         ],
         "xaxis": "x",
         "y": [
          123,
          1062,
          549,
          511,
          266,
          2935
         ],
         "yaxis": "y"
        }
       ],
       "layout": {
        "barmode": "relative",
        "legend": {
         "tracegroupgap": 0
        },
        "template": {
         "data": {
          "bar": [
           {
            "error_x": {
             "color": "#2a3f5f"
            },
            "error_y": {
             "color": "#2a3f5f"
            },
            "marker": {
             "line": {
              "color": "#E5ECF6",
              "width": 0.5
             },
             "pattern": {
              "fillmode": "overlay",
              "size": 10,
              "solidity": 0.2
             }
            },
            "type": "bar"
           }
          ],
          "barpolar": [
           {
            "marker": {
             "line": {
              "color": "#E5ECF6",
              "width": 0.5
             },
             "pattern": {
              "fillmode": "overlay",
              "size": 10,
              "solidity": 0.2
             }
            },
            "type": "barpolar"
           }
          ],
          "carpet": [
           {
            "aaxis": {
             "endlinecolor": "#2a3f5f",
             "gridcolor": "white",
             "linecolor": "white",
             "minorgridcolor": "white",
             "startlinecolor": "#2a3f5f"
            },
            "baxis": {
             "endlinecolor": "#2a3f5f",
             "gridcolor": "white",
             "linecolor": "white",
             "minorgridcolor": "white",
             "startlinecolor": "#2a3f5f"
            },
            "type": "carpet"
           }
          ],
          "choropleth": [
           {
            "colorbar": {
             "outlinewidth": 0,
             "ticks": ""
            },
            "type": "choropleth"
           }
          ],
          "contour": [
           {
            "colorbar": {
             "outlinewidth": 0,
             "ticks": ""
            },
            "colorscale": [
             [
              0,
              "#0d0887"
             ],
             [
              0.1111111111111111,
              "#46039f"
             ],
             [
              0.2222222222222222,
              "#7201a8"
             ],
             [
              0.3333333333333333,
              "#9c179e"
             ],
             [
              0.4444444444444444,
              "#bd3786"
             ],
             [
              0.5555555555555556,
              "#d8576b"
             ],
             [
              0.6666666666666666,
              "#ed7953"
             ],
             [
              0.7777777777777778,
              "#fb9f3a"
             ],
             [
              0.8888888888888888,
              "#fdca26"
             ],
             [
              1,
              "#f0f921"
             ]
            ],
            "type": "contour"
           }
          ],
          "contourcarpet": [
           {
            "colorbar": {
             "outlinewidth": 0,
             "ticks": ""
            },
            "type": "contourcarpet"
           }
          ],
          "heatmap": [
           {
            "colorbar": {
             "outlinewidth": 0,
             "ticks": ""
            },
            "colorscale": [
             [
              0,
              "#0d0887"
             ],
             [
              0.1111111111111111,
              "#46039f"
             ],
             [
              0.2222222222222222,
              "#7201a8"
             ],
             [
              0.3333333333333333,
              "#9c179e"
             ],
             [
              0.4444444444444444,
              "#bd3786"
             ],
             [
              0.5555555555555556,
              "#d8576b"
             ],
             [
              0.6666666666666666,
              "#ed7953"
             ],
             [
              0.7777777777777778,
              "#fb9f3a"
             ],
             [
              0.8888888888888888,
              "#fdca26"
             ],
             [
              1,
              "#f0f921"
             ]
            ],
            "type": "heatmap"
           }
          ],
          "heatmapgl": [
           {
            "colorbar": {
             "outlinewidth": 0,
             "ticks": ""
            },
            "colorscale": [
             [
              0,
              "#0d0887"
             ],
             [
              0.1111111111111111,
              "#46039f"
             ],
             [
              0.2222222222222222,
              "#7201a8"
             ],
             [
              0.3333333333333333,
              "#9c179e"
             ],
             [
              0.4444444444444444,
              "#bd3786"
             ],
             [
              0.5555555555555556,
              "#d8576b"
             ],
             [
              0.6666666666666666,
              "#ed7953"
             ],
             [
              0.7777777777777778,
              "#fb9f3a"
             ],
             [
              0.8888888888888888,
              "#fdca26"
             ],
             [
              1,
              "#f0f921"
             ]
            ],
            "type": "heatmapgl"
           }
          ],
          "histogram": [
           {
            "marker": {
             "pattern": {
              "fillmode": "overlay",
              "size": 10,
              "solidity": 0.2
             }
            },
            "type": "histogram"
           }
          ],
          "histogram2d": [
           {
            "colorbar": {
             "outlinewidth": 0,
             "ticks": ""
            },
            "colorscale": [
             [
              0,
              "#0d0887"
             ],
             [
              0.1111111111111111,
              "#46039f"
             ],
             [
              0.2222222222222222,
              "#7201a8"
             ],
             [
              0.3333333333333333,
              "#9c179e"
             ],
             [
              0.4444444444444444,
              "#bd3786"
             ],
             [
              0.5555555555555556,
              "#d8576b"
             ],
             [
              0.6666666666666666,
              "#ed7953"
             ],
             [
              0.7777777777777778,
              "#fb9f3a"
             ],
             [
              0.8888888888888888,
              "#fdca26"
             ],
             [
              1,
              "#f0f921"
             ]
            ],
            "type": "histogram2d"
           }
          ],
          "histogram2dcontour": [
           {
            "colorbar": {
             "outlinewidth": 0,
             "ticks": ""
            },
            "colorscale": [
             [
              0,
              "#0d0887"
             ],
             [
              0.1111111111111111,
              "#46039f"
             ],
             [
              0.2222222222222222,
              "#7201a8"
             ],
             [
              0.3333333333333333,
              "#9c179e"
             ],
             [
              0.4444444444444444,
              "#bd3786"
             ],
             [
              0.5555555555555556,
              "#d8576b"
             ],
             [
              0.6666666666666666,
              "#ed7953"
             ],
             [
              0.7777777777777778,
              "#fb9f3a"
             ],
             [
              0.8888888888888888,
              "#fdca26"
             ],
             [
              1,
              "#f0f921"
             ]
            ],
            "type": "histogram2dcontour"
           }
          ],
          "mesh3d": [
           {
            "colorbar": {
             "outlinewidth": 0,
             "ticks": ""
            },
            "type": "mesh3d"
           }
          ],
          "parcoords": [
           {
            "line": {
             "colorbar": {
              "outlinewidth": 0,
              "ticks": ""
             }
            },
            "type": "parcoords"
           }
          ],
          "pie": [
           {
            "automargin": true,
            "type": "pie"
           }
          ],
          "scatter": [
           {
            "fillpattern": {
             "fillmode": "overlay",
             "size": 10,
             "solidity": 0.2
            },
            "type": "scatter"
           }
          ],
          "scatter3d": [
           {
            "line": {
             "colorbar": {
              "outlinewidth": 0,
              "ticks": ""
             }
            },
            "marker": {
             "colorbar": {
              "outlinewidth": 0,
              "ticks": ""
             }
            },
            "type": "scatter3d"
           }
          ],
          "scattercarpet": [
           {
            "marker": {
             "colorbar": {
              "outlinewidth": 0,
              "ticks": ""
             }
            },
            "type": "scattercarpet"
           }
          ],
          "scattergeo": [
           {
            "marker": {
             "colorbar": {
              "outlinewidth": 0,
              "ticks": ""
             }
            },
            "type": "scattergeo"
           }
          ],
          "scattergl": [
           {
            "marker": {
             "colorbar": {
              "outlinewidth": 0,
              "ticks": ""
             }
            },
            "type": "scattergl"
           }
          ],
          "scattermapbox": [
           {
            "marker": {
             "colorbar": {
              "outlinewidth": 0,
              "ticks": ""
             }
            },
            "type": "scattermapbox"
           }
          ],
          "scatterpolar": [
           {
            "marker": {
             "colorbar": {
              "outlinewidth": 0,
              "ticks": ""
             }
            },
            "type": "scatterpolar"
           }
          ],
          "scatterpolargl": [
           {
            "marker": {
             "colorbar": {
              "outlinewidth": 0,
              "ticks": ""
             }
            },
            "type": "scatterpolargl"
           }
          ],
          "scatterternary": [
           {
            "marker": {
             "colorbar": {
              "outlinewidth": 0,
              "ticks": ""
             }
            },
            "type": "scatterternary"
           }
          ],
          "surface": [
           {
            "colorbar": {
             "outlinewidth": 0,
             "ticks": ""
            },
            "colorscale": [
             [
              0,
              "#0d0887"
             ],
             [
              0.1111111111111111,
              "#46039f"
             ],
             [
              0.2222222222222222,
              "#7201a8"
             ],
             [
              0.3333333333333333,
              "#9c179e"
             ],
             [
              0.4444444444444444,
              "#bd3786"
             ],
             [
              0.5555555555555556,
              "#d8576b"
             ],
             [
              0.6666666666666666,
              "#ed7953"
             ],
             [
              0.7777777777777778,
              "#fb9f3a"
             ],
             [
              0.8888888888888888,
              "#fdca26"
             ],
             [
              1,
              "#f0f921"
             ]
            ],
            "type": "surface"
           }
          ],
          "table": [
           {
            "cells": {
             "fill": {
              "color": "#EBF0F8"
             },
             "line": {
              "color": "white"
             }
            },
            "header": {
             "fill": {
              "color": "#C8D4E3"
             },
             "line": {
              "color": "white"
             }
            },
            "type": "table"
           }
          ]
         },
         "layout": {
          "annotationdefaults": {
           "arrowcolor": "#2a3f5f",
           "arrowhead": 0,
           "arrowwidth": 1
          },
          "autotypenumbers": "strict",
          "coloraxis": {
           "colorbar": {
            "outlinewidth": 0,
            "ticks": ""
           }
          },
          "colorscale": {
           "diverging": [
            [
             0,
             "#8e0152"
            ],
            [
             0.1,
             "#c51b7d"
            ],
            [
             0.2,
             "#de77ae"
            ],
            [
             0.3,
             "#f1b6da"
            ],
            [
             0.4,
             "#fde0ef"
            ],
            [
             0.5,
             "#f7f7f7"
            ],
            [
             0.6,
             "#e6f5d0"
            ],
            [
             0.7,
             "#b8e186"
            ],
            [
             0.8,
             "#7fbc41"
            ],
            [
             0.9,
             "#4d9221"
            ],
            [
             1,
             "#276419"
            ]
           ],
           "sequential": [
            [
             0,
             "#0d0887"
            ],
            [
             0.1111111111111111,
             "#46039f"
            ],
            [
             0.2222222222222222,
             "#7201a8"
            ],
            [
             0.3333333333333333,
             "#9c179e"
            ],
            [
             0.4444444444444444,
             "#bd3786"
            ],
            [
             0.5555555555555556,
             "#d8576b"
            ],
            [
             0.6666666666666666,
             "#ed7953"
            ],
            [
             0.7777777777777778,
             "#fb9f3a"
            ],
            [
             0.8888888888888888,
             "#fdca26"
            ],
            [
             1,
             "#f0f921"
            ]
           ],
           "sequentialminus": [
            [
             0,
             "#0d0887"
            ],
            [
             0.1111111111111111,
             "#46039f"
            ],
            [
             0.2222222222222222,
             "#7201a8"
            ],
            [
             0.3333333333333333,
             "#9c179e"
            ],
            [
             0.4444444444444444,
             "#bd3786"
            ],
            [
             0.5555555555555556,
             "#d8576b"
            ],
            [
             0.6666666666666666,
             "#ed7953"
            ],
            [
             0.7777777777777778,
             "#fb9f3a"
            ],
            [
             0.8888888888888888,
             "#fdca26"
            ],
            [
             1,
             "#f0f921"
            ]
           ]
          },
          "colorway": [
           "#636efa",
           "#EF553B",
           "#00cc96",
           "#ab63fa",
           "#FFA15A",
           "#19d3f3",
           "#FF6692",
           "#B6E880",
           "#FF97FF",
           "#FECB52"
          ],
          "font": {
           "color": "#2a3f5f"
          },
          "geo": {
           "bgcolor": "white",
           "lakecolor": "white",
           "landcolor": "#E5ECF6",
           "showlakes": true,
           "showland": true,
           "subunitcolor": "white"
          },
          "hoverlabel": {
           "align": "left"
          },
          "hovermode": "closest",
          "mapbox": {
           "style": "light"
          },
          "paper_bgcolor": "white",
          "plot_bgcolor": "#E5ECF6",
          "polar": {
           "angularaxis": {
            "gridcolor": "white",
            "linecolor": "white",
            "ticks": ""
           },
           "bgcolor": "#E5ECF6",
           "radialaxis": {
            "gridcolor": "white",
            "linecolor": "white",
            "ticks": ""
           }
          },
          "scene": {
           "xaxis": {
            "backgroundcolor": "#E5ECF6",
            "gridcolor": "white",
            "gridwidth": 2,
            "linecolor": "white",
            "showbackground": true,
            "ticks": "",
            "zerolinecolor": "white"
           },
           "yaxis": {
            "backgroundcolor": "#E5ECF6",
            "gridcolor": "white",
            "gridwidth": 2,
            "linecolor": "white",
            "showbackground": true,
            "ticks": "",
            "zerolinecolor": "white"
           },
           "zaxis": {
            "backgroundcolor": "#E5ECF6",
            "gridcolor": "white",
            "gridwidth": 2,
            "linecolor": "white",
            "showbackground": true,
            "ticks": "",
            "zerolinecolor": "white"
           }
          },
          "shapedefaults": {
           "line": {
            "color": "#2a3f5f"
           }
          },
          "ternary": {
           "aaxis": {
            "gridcolor": "white",
            "linecolor": "white",
            "ticks": ""
           },
           "baxis": {
            "gridcolor": "white",
            "linecolor": "white",
            "ticks": ""
           },
           "bgcolor": "#E5ECF6",
           "caxis": {
            "gridcolor": "white",
            "linecolor": "white",
            "ticks": ""
           }
          },
          "title": {
           "x": 0.05
          },
          "xaxis": {
           "automargin": true,
           "gridcolor": "white",
           "linecolor": "white",
           "ticks": "",
           "title": {
            "standoff": 15
           },
           "zerolinecolor": "white",
           "zerolinewidth": 2
          },
          "yaxis": {
           "automargin": true,
           "gridcolor": "white",
           "linecolor": "white",
           "ticks": "",
           "title": {
            "standoff": 15
           },
           "zerolinecolor": "white",
           "zerolinewidth": 2
          }
         }
        },
        "title": {
         "text": "Ad age (2023-06-05)"
        },
        "xaxis": {
         "anchor": "y",
         "domain": [
          0,
          1
         ],
         "title": {
          "text": "Age"
         }
        },
        "yaxis": {
         "anchor": "x",
         "domain": [
          0,
          1
         ],
         "title": {
          "text": "Count"
         }
        }
       }
      },
      "text/html": [
       "<div>                            <div id=\"9086634d-ca4d-4c94-baf9-5789594d3a67\" class=\"plotly-graph-div\" style=\"height:525px; width:100%;\"></div>            <script type=\"text/javascript\">                require([\"plotly\"], function(Plotly) {                    window.PLOTLYENV=window.PLOTLYENV || {};                                    if (document.getElementById(\"9086634d-ca4d-4c94-baf9-5789594d3a67\")) {                    Plotly.newPlot(                        \"9086634d-ca4d-4c94-baf9-5789594d3a67\",                        [{\"alignmentgroup\":\"True\",\"hovertemplate\":\"age=%{x}\\u003cbr\\u003eCount=%{y}\\u003cextra\\u003e\\u003c\\u002fextra\\u003e\",\"legendgroup\":\"\",\"marker\":{\"color\":\"darkcyan\",\"pattern\":{\"shape\":\"\"}},\"name\":\"\",\"offsetgroup\":\"\",\"orientation\":\"v\",\"showlegend\":false,\"textposition\":\"inside\",\"x\":[\"1 day\",\"\\u003c 1 week\",\"\\u003c 2 weeks\",\"\\u003c 3 weeks\",\"\\u003c 1 month\",\"\\u003c 2 months\"],\"xaxis\":\"x\",\"y\":[123,1062,549,511,266,2935],\"yaxis\":\"y\",\"type\":\"bar\",\"texttemplate\":\"%{text:.2s}\"}],                        {\"template\":{\"data\":{\"histogram2dcontour\":[{\"type\":\"histogram2dcontour\",\"colorbar\":{\"outlinewidth\":0,\"ticks\":\"\"},\"colorscale\":[[0.0,\"#0d0887\"],[0.1111111111111111,\"#46039f\"],[0.2222222222222222,\"#7201a8\"],[0.3333333333333333,\"#9c179e\"],[0.4444444444444444,\"#bd3786\"],[0.5555555555555556,\"#d8576b\"],[0.6666666666666666,\"#ed7953\"],[0.7777777777777778,\"#fb9f3a\"],[0.8888888888888888,\"#fdca26\"],[1.0,\"#f0f921\"]]}],\"choropleth\":[{\"type\":\"choropleth\",\"colorbar\":{\"outlinewidth\":0,\"ticks\":\"\"}}],\"histogram2d\":[{\"type\":\"histogram2d\",\"colorbar\":{\"outlinewidth\":0,\"ticks\":\"\"},\"colorscale\":[[0.0,\"#0d0887\"],[0.1111111111111111,\"#46039f\"],[0.2222222222222222,\"#7201a8\"],[0.3333333333333333,\"#9c179e\"],[0.4444444444444444,\"#bd3786\"],[0.5555555555555556,\"#d8576b\"],[0.6666666666666666,\"#ed7953\"],[0.7777777777777778,\"#fb9f3a\"],[0.8888888888888888,\"#fdca26\"],[1.0,\"#f0f921\"]]}],\"heatmap\":[{\"type\":\"heatmap\",\"colorbar\":{\"outlinewidth\":0,\"ticks\":\"\"},\"colorscale\":[[0.0,\"#0d0887\"],[0.1111111111111111,\"#46039f\"],[0.2222222222222222,\"#7201a8\"],[0.3333333333333333,\"#9c179e\"],[0.4444444444444444,\"#bd3786\"],[0.5555555555555556,\"#d8576b\"],[0.6666666666666666,\"#ed7953\"],[0.7777777777777778,\"#fb9f3a\"],[0.8888888888888888,\"#fdca26\"],[1.0,\"#f0f921\"]]}],\"heatmapgl\":[{\"type\":\"heatmapgl\",\"colorbar\":{\"outlinewidth\":0,\"ticks\":\"\"},\"colorscale\":[[0.0,\"#0d0887\"],[0.1111111111111111,\"#46039f\"],[0.2222222222222222,\"#7201a8\"],[0.3333333333333333,\"#9c179e\"],[0.4444444444444444,\"#bd3786\"],[0.5555555555555556,\"#d8576b\"],[0.6666666666666666,\"#ed7953\"],[0.7777777777777778,\"#fb9f3a\"],[0.8888888888888888,\"#fdca26\"],[1.0,\"#f0f921\"]]}],\"contourcarpet\":[{\"type\":\"contourcarpet\",\"colorbar\":{\"outlinewidth\":0,\"ticks\":\"\"}}],\"contour\":[{\"type\":\"contour\",\"colorbar\":{\"outlinewidth\":0,\"ticks\":\"\"},\"colorscale\":[[0.0,\"#0d0887\"],[0.1111111111111111,\"#46039f\"],[0.2222222222222222,\"#7201a8\"],[0.3333333333333333,\"#9c179e\"],[0.4444444444444444,\"#bd3786\"],[0.5555555555555556,\"#d8576b\"],[0.6666666666666666,\"#ed7953\"],[0.7777777777777778,\"#fb9f3a\"],[0.8888888888888888,\"#fdca26\"],[1.0,\"#f0f921\"]]}],\"surface\":[{\"type\":\"surface\",\"colorbar\":{\"outlinewidth\":0,\"ticks\":\"\"},\"colorscale\":[[0.0,\"#0d0887\"],[0.1111111111111111,\"#46039f\"],[0.2222222222222222,\"#7201a8\"],[0.3333333333333333,\"#9c179e\"],[0.4444444444444444,\"#bd3786\"],[0.5555555555555556,\"#d8576b\"],[0.6666666666666666,\"#ed7953\"],[0.7777777777777778,\"#fb9f3a\"],[0.8888888888888888,\"#fdca26\"],[1.0,\"#f0f921\"]]}],\"mesh3d\":[{\"type\":\"mesh3d\",\"colorbar\":{\"outlinewidth\":0,\"ticks\":\"\"}}],\"scatter\":[{\"fillpattern\":{\"fillmode\":\"overlay\",\"size\":10,\"solidity\":0.2},\"type\":\"scatter\"}],\"parcoords\":[{\"type\":\"parcoords\",\"line\":{\"colorbar\":{\"outlinewidth\":0,\"ticks\":\"\"}}}],\"scatterpolargl\":[{\"type\":\"scatterpolargl\",\"marker\":{\"colorbar\":{\"outlinewidth\":0,\"ticks\":\"\"}}}],\"bar\":[{\"error_x\":{\"color\":\"#2a3f5f\"},\"error_y\":{\"color\":\"#2a3f5f\"},\"marker\":{\"line\":{\"color\":\"#E5ECF6\",\"width\":0.5},\"pattern\":{\"fillmode\":\"overlay\",\"size\":10,\"solidity\":0.2}},\"type\":\"bar\"}],\"scattergeo\":[{\"type\":\"scattergeo\",\"marker\":{\"colorbar\":{\"outlinewidth\":0,\"ticks\":\"\"}}}],\"scatterpolar\":[{\"type\":\"scatterpolar\",\"marker\":{\"colorbar\":{\"outlinewidth\":0,\"ticks\":\"\"}}}],\"histogram\":[{\"marker\":{\"pattern\":{\"fillmode\":\"overlay\",\"size\":10,\"solidity\":0.2}},\"type\":\"histogram\"}],\"scattergl\":[{\"type\":\"scattergl\",\"marker\":{\"colorbar\":{\"outlinewidth\":0,\"ticks\":\"\"}}}],\"scatter3d\":[{\"type\":\"scatter3d\",\"line\":{\"colorbar\":{\"outlinewidth\":0,\"ticks\":\"\"}},\"marker\":{\"colorbar\":{\"outlinewidth\":0,\"ticks\":\"\"}}}],\"scattermapbox\":[{\"type\":\"scattermapbox\",\"marker\":{\"colorbar\":{\"outlinewidth\":0,\"ticks\":\"\"}}}],\"scatterternary\":[{\"type\":\"scatterternary\",\"marker\":{\"colorbar\":{\"outlinewidth\":0,\"ticks\":\"\"}}}],\"scattercarpet\":[{\"type\":\"scattercarpet\",\"marker\":{\"colorbar\":{\"outlinewidth\":0,\"ticks\":\"\"}}}],\"carpet\":[{\"aaxis\":{\"endlinecolor\":\"#2a3f5f\",\"gridcolor\":\"white\",\"linecolor\":\"white\",\"minorgridcolor\":\"white\",\"startlinecolor\":\"#2a3f5f\"},\"baxis\":{\"endlinecolor\":\"#2a3f5f\",\"gridcolor\":\"white\",\"linecolor\":\"white\",\"minorgridcolor\":\"white\",\"startlinecolor\":\"#2a3f5f\"},\"type\":\"carpet\"}],\"table\":[{\"cells\":{\"fill\":{\"color\":\"#EBF0F8\"},\"line\":{\"color\":\"white\"}},\"header\":{\"fill\":{\"color\":\"#C8D4E3\"},\"line\":{\"color\":\"white\"}},\"type\":\"table\"}],\"barpolar\":[{\"marker\":{\"line\":{\"color\":\"#E5ECF6\",\"width\":0.5},\"pattern\":{\"fillmode\":\"overlay\",\"size\":10,\"solidity\":0.2}},\"type\":\"barpolar\"}],\"pie\":[{\"automargin\":true,\"type\":\"pie\"}]},\"layout\":{\"autotypenumbers\":\"strict\",\"colorway\":[\"#636efa\",\"#EF553B\",\"#00cc96\",\"#ab63fa\",\"#FFA15A\",\"#19d3f3\",\"#FF6692\",\"#B6E880\",\"#FF97FF\",\"#FECB52\"],\"font\":{\"color\":\"#2a3f5f\"},\"hovermode\":\"closest\",\"hoverlabel\":{\"align\":\"left\"},\"paper_bgcolor\":\"white\",\"plot_bgcolor\":\"#E5ECF6\",\"polar\":{\"bgcolor\":\"#E5ECF6\",\"angularaxis\":{\"gridcolor\":\"white\",\"linecolor\":\"white\",\"ticks\":\"\"},\"radialaxis\":{\"gridcolor\":\"white\",\"linecolor\":\"white\",\"ticks\":\"\"}},\"ternary\":{\"bgcolor\":\"#E5ECF6\",\"aaxis\":{\"gridcolor\":\"white\",\"linecolor\":\"white\",\"ticks\":\"\"},\"baxis\":{\"gridcolor\":\"white\",\"linecolor\":\"white\",\"ticks\":\"\"},\"caxis\":{\"gridcolor\":\"white\",\"linecolor\":\"white\",\"ticks\":\"\"}},\"coloraxis\":{\"colorbar\":{\"outlinewidth\":0,\"ticks\":\"\"}},\"colorscale\":{\"sequential\":[[0.0,\"#0d0887\"],[0.1111111111111111,\"#46039f\"],[0.2222222222222222,\"#7201a8\"],[0.3333333333333333,\"#9c179e\"],[0.4444444444444444,\"#bd3786\"],[0.5555555555555556,\"#d8576b\"],[0.6666666666666666,\"#ed7953\"],[0.7777777777777778,\"#fb9f3a\"],[0.8888888888888888,\"#fdca26\"],[1.0,\"#f0f921\"]],\"sequentialminus\":[[0.0,\"#0d0887\"],[0.1111111111111111,\"#46039f\"],[0.2222222222222222,\"#7201a8\"],[0.3333333333333333,\"#9c179e\"],[0.4444444444444444,\"#bd3786\"],[0.5555555555555556,\"#d8576b\"],[0.6666666666666666,\"#ed7953\"],[0.7777777777777778,\"#fb9f3a\"],[0.8888888888888888,\"#fdca26\"],[1.0,\"#f0f921\"]],\"diverging\":[[0,\"#8e0152\"],[0.1,\"#c51b7d\"],[0.2,\"#de77ae\"],[0.3,\"#f1b6da\"],[0.4,\"#fde0ef\"],[0.5,\"#f7f7f7\"],[0.6,\"#e6f5d0\"],[0.7,\"#b8e186\"],[0.8,\"#7fbc41\"],[0.9,\"#4d9221\"],[1,\"#276419\"]]},\"xaxis\":{\"gridcolor\":\"white\",\"linecolor\":\"white\",\"ticks\":\"\",\"title\":{\"standoff\":15},\"zerolinecolor\":\"white\",\"automargin\":true,\"zerolinewidth\":2},\"yaxis\":{\"gridcolor\":\"white\",\"linecolor\":\"white\",\"ticks\":\"\",\"title\":{\"standoff\":15},\"zerolinecolor\":\"white\",\"automargin\":true,\"zerolinewidth\":2},\"scene\":{\"xaxis\":{\"backgroundcolor\":\"#E5ECF6\",\"gridcolor\":\"white\",\"linecolor\":\"white\",\"showbackground\":true,\"ticks\":\"\",\"zerolinecolor\":\"white\",\"gridwidth\":2},\"yaxis\":{\"backgroundcolor\":\"#E5ECF6\",\"gridcolor\":\"white\",\"linecolor\":\"white\",\"showbackground\":true,\"ticks\":\"\",\"zerolinecolor\":\"white\",\"gridwidth\":2},\"zaxis\":{\"backgroundcolor\":\"#E5ECF6\",\"gridcolor\":\"white\",\"linecolor\":\"white\",\"showbackground\":true,\"ticks\":\"\",\"zerolinecolor\":\"white\",\"gridwidth\":2}},\"shapedefaults\":{\"line\":{\"color\":\"#2a3f5f\"}},\"annotationdefaults\":{\"arrowcolor\":\"#2a3f5f\",\"arrowhead\":0,\"arrowwidth\":1},\"geo\":{\"bgcolor\":\"white\",\"landcolor\":\"#E5ECF6\",\"subunitcolor\":\"white\",\"showland\":true,\"showlakes\":true,\"lakecolor\":\"white\"},\"title\":{\"x\":0.05},\"mapbox\":{\"style\":\"light\"}}},\"xaxis\":{\"anchor\":\"y\",\"domain\":[0.0,1.0],\"title\":{\"text\":\"Age\"}},\"yaxis\":{\"anchor\":\"x\",\"domain\":[0.0,1.0],\"title\":{\"text\":\"Count\"}},\"legend\":{\"tracegroupgap\":0},\"title\":{\"text\":\"Ad age (2023-06-05)\"},\"barmode\":\"relative\"},                        {\"responsive\": true}                    ).then(function(){\n",
       "                            \n",
       "var gd = document.getElementById('9086634d-ca4d-4c94-baf9-5789594d3a67');\n",
       "var x = new MutationObserver(function (mutations, observer) {{\n",
       "        var display = window.getComputedStyle(gd).display;\n",
       "        if (!display || display === 'none') {{\n",
       "            console.log([gd, 'removed!']);\n",
       "            Plotly.purge(gd);\n",
       "            observer.disconnect();\n",
       "        }}\n",
       "}});\n",
       "\n",
       "// Listen for the removal of the full notebook cells\n",
       "var notebookContainer = gd.closest('#notebook-container');\n",
       "if (notebookContainer) {{\n",
       "    x.observe(notebookContainer, {childList: true});\n",
       "}}\n",
       "\n",
       "// Listen for the clearing of the current output cell\n",
       "var outputEl = gd.closest('.output');\n",
       "if (outputEl) {{\n",
       "    x.observe(outputEl, {childList: true});\n",
       "}}\n",
       "\n",
       "                        })                };                });            </script>        </div>"
      ]
     },
     "metadata": {},
     "output_type": "display_data"
    }
   ],
   "source": [
    "df_ad_age = df_full[df_full['extraction_date'] == \"2023-06-05\"].groupby('days_passed').size().reset_index(name='Count')\n",
    "df_ad_age['age'] = pd.cut(df_ad_age['days_passed'], bins=[-1, 0, 7, 14, 21, 28, 60], labels=['1 day', '< 1 week', '< 2 weeks', '< 3 weeks', '< 1 month', '< 2 months'])\n",
    "df_age_graph = df_ad_age.groupby('age')['Count'].sum().reset_index(name='Count')\n",
    "fig = px.bar(df_age_graph, x='age', y='Count', \n",
    "             orientation='v', title='Ad age (2023-06-05)')\n",
    "fig.update_traces(marker_color='darkcyan')\n",
    "fig.update_traces(texttemplate='%{text:.2s}', textposition='inside')\n",
    "fig.update_layout(\n",
    "    xaxis_title='Age',\n",
    "    yaxis_title='Count'\n",
    ")\n",
    "\n",
    "fig.show()"
   ]
  },
  {
   "cell_type": "code",
   "execution_count": 51,
   "id": "4bb5c6c4",
   "metadata": {},
   "outputs": [
    {
     "data": {
      "text/plain": [
       "27"
      ]
     },
     "execution_count": 51,
     "metadata": {},
     "output_type": "execute_result"
    }
   ],
   "source": [
    "df_full[df_full['dimos'].isin(['Μοσχάτο', 'Ταύρος'])]['id'].nunique()"
   ]
  },
  {
   "cell_type": "code",
   "execution_count": 64,
   "id": "ba996b1b",
   "metadata": {
    "scrolled": true
   },
   "outputs": [
    {
     "data": {
      "application/vnd.plotly.v1+json": {
       "config": {
        "plotlyServerURL": "https://plot.ly"
       },
       "data": [
        {
         "alignmentgroup": "True",
         "hovertemplate": "country=%{x}<br>pop=%{text}<extra></extra>",
         "legendgroup": "",
         "marker": {
          "color": "#636efa",
          "pattern": {
           "shape": ""
          }
         },
         "name": "",
         "offsetgroup": "",
         "orientation": "v",
         "showlegend": false,
         "text": [
          3600523,
          8199783,
          10392226,
          4552198,
          7322858,
          4493312,
          10228744,
          5468120,
          5238460,
          61083916,
          82400996,
          10706290,
          9956108,
          4109086,
          58147733,
          16570613,
          4627926,
          38518241,
          10642836,
          22276056,
          10150265,
          5447502,
          2009245,
          40448191,
          9031088,
          7554661,
          71158647,
          60776238
         ],
         "textposition": "inside",
         "texttemplate": "%{text:.2s}",
         "type": "bar",
         "x": [
          "Albania",
          "Austria",
          "Belgium",
          "Bosnia and Herzegovina",
          "Bulgaria",
          "Croatia",
          "Czech Republic",
          "Denmark",
          "Finland",
          "France",
          "Germany",
          "Greece",
          "Hungary",
          "Ireland",
          "Italy",
          "Netherlands",
          "Norway",
          "Poland",
          "Portugal",
          "Romania",
          "Serbia",
          "Slovak Republic",
          "Slovenia",
          "Spain",
          "Sweden",
          "Switzerland",
          "Turkey",
          "United Kingdom"
         ],
         "xaxis": "x",
         "y": [
          3600523,
          8199783,
          10392226,
          4552198,
          7322858,
          4493312,
          10228744,
          5468120,
          5238460,
          61083916,
          82400996,
          10706290,
          9956108,
          4109086,
          58147733,
          16570613,
          4627926,
          38518241,
          10642836,
          22276056,
          10150265,
          5447502,
          2009245,
          40448191,
          9031088,
          7554661,
          71158647,
          60776238
         ],
         "yaxis": "y"
        }
       ],
       "layout": {
        "barmode": "relative",
        "legend": {
         "tracegroupgap": 0
        },
        "margin": {
         "t": 60
        },
        "template": {
         "data": {
          "bar": [
           {
            "error_x": {
             "color": "#2a3f5f"
            },
            "error_y": {
             "color": "#2a3f5f"
            },
            "marker": {
             "line": {
              "color": "#E5ECF6",
              "width": 0.5
             },
             "pattern": {
              "fillmode": "overlay",
              "size": 10,
              "solidity": 0.2
             }
            },
            "type": "bar"
           }
          ],
          "barpolar": [
           {
            "marker": {
             "line": {
              "color": "#E5ECF6",
              "width": 0.5
             },
             "pattern": {
              "fillmode": "overlay",
              "size": 10,
              "solidity": 0.2
             }
            },
            "type": "barpolar"
           }
          ],
          "carpet": [
           {
            "aaxis": {
             "endlinecolor": "#2a3f5f",
             "gridcolor": "white",
             "linecolor": "white",
             "minorgridcolor": "white",
             "startlinecolor": "#2a3f5f"
            },
            "baxis": {
             "endlinecolor": "#2a3f5f",
             "gridcolor": "white",
             "linecolor": "white",
             "minorgridcolor": "white",
             "startlinecolor": "#2a3f5f"
            },
            "type": "carpet"
           }
          ],
          "choropleth": [
           {
            "colorbar": {
             "outlinewidth": 0,
             "ticks": ""
            },
            "type": "choropleth"
           }
          ],
          "contour": [
           {
            "colorbar": {
             "outlinewidth": 0,
             "ticks": ""
            },
            "colorscale": [
             [
              0,
              "#0d0887"
             ],
             [
              0.1111111111111111,
              "#46039f"
             ],
             [
              0.2222222222222222,
              "#7201a8"
             ],
             [
              0.3333333333333333,
              "#9c179e"
             ],
             [
              0.4444444444444444,
              "#bd3786"
             ],
             [
              0.5555555555555556,
              "#d8576b"
             ],
             [
              0.6666666666666666,
              "#ed7953"
             ],
             [
              0.7777777777777778,
              "#fb9f3a"
             ],
             [
              0.8888888888888888,
              "#fdca26"
             ],
             [
              1,
              "#f0f921"
             ]
            ],
            "type": "contour"
           }
          ],
          "contourcarpet": [
           {
            "colorbar": {
             "outlinewidth": 0,
             "ticks": ""
            },
            "type": "contourcarpet"
           }
          ],
          "heatmap": [
           {
            "colorbar": {
             "outlinewidth": 0,
             "ticks": ""
            },
            "colorscale": [
             [
              0,
              "#0d0887"
             ],
             [
              0.1111111111111111,
              "#46039f"
             ],
             [
              0.2222222222222222,
              "#7201a8"
             ],
             [
              0.3333333333333333,
              "#9c179e"
             ],
             [
              0.4444444444444444,
              "#bd3786"
             ],
             [
              0.5555555555555556,
              "#d8576b"
             ],
             [
              0.6666666666666666,
              "#ed7953"
             ],
             [
              0.7777777777777778,
              "#fb9f3a"
             ],
             [
              0.8888888888888888,
              "#fdca26"
             ],
             [
              1,
              "#f0f921"
             ]
            ],
            "type": "heatmap"
           }
          ],
          "heatmapgl": [
           {
            "colorbar": {
             "outlinewidth": 0,
             "ticks": ""
            },
            "colorscale": [
             [
              0,
              "#0d0887"
             ],
             [
              0.1111111111111111,
              "#46039f"
             ],
             [
              0.2222222222222222,
              "#7201a8"
             ],
             [
              0.3333333333333333,
              "#9c179e"
             ],
             [
              0.4444444444444444,
              "#bd3786"
             ],
             [
              0.5555555555555556,
              "#d8576b"
             ],
             [
              0.6666666666666666,
              "#ed7953"
             ],
             [
              0.7777777777777778,
              "#fb9f3a"
             ],
             [
              0.8888888888888888,
              "#fdca26"
             ],
             [
              1,
              "#f0f921"
             ]
            ],
            "type": "heatmapgl"
           }
          ],
          "histogram": [
           {
            "marker": {
             "pattern": {
              "fillmode": "overlay",
              "size": 10,
              "solidity": 0.2
             }
            },
            "type": "histogram"
           }
          ],
          "histogram2d": [
           {
            "colorbar": {
             "outlinewidth": 0,
             "ticks": ""
            },
            "colorscale": [
             [
              0,
              "#0d0887"
             ],
             [
              0.1111111111111111,
              "#46039f"
             ],
             [
              0.2222222222222222,
              "#7201a8"
             ],
             [
              0.3333333333333333,
              "#9c179e"
             ],
             [
              0.4444444444444444,
              "#bd3786"
             ],
             [
              0.5555555555555556,
              "#d8576b"
             ],
             [
              0.6666666666666666,
              "#ed7953"
             ],
             [
              0.7777777777777778,
              "#fb9f3a"
             ],
             [
              0.8888888888888888,
              "#fdca26"
             ],
             [
              1,
              "#f0f921"
             ]
            ],
            "type": "histogram2d"
           }
          ],
          "histogram2dcontour": [
           {
            "colorbar": {
             "outlinewidth": 0,
             "ticks": ""
            },
            "colorscale": [
             [
              0,
              "#0d0887"
             ],
             [
              0.1111111111111111,
              "#46039f"
             ],
             [
              0.2222222222222222,
              "#7201a8"
             ],
             [
              0.3333333333333333,
              "#9c179e"
             ],
             [
              0.4444444444444444,
              "#bd3786"
             ],
             [
              0.5555555555555556,
              "#d8576b"
             ],
             [
              0.6666666666666666,
              "#ed7953"
             ],
             [
              0.7777777777777778,
              "#fb9f3a"
             ],
             [
              0.8888888888888888,
              "#fdca26"
             ],
             [
              1,
              "#f0f921"
             ]
            ],
            "type": "histogram2dcontour"
           }
          ],
          "mesh3d": [
           {
            "colorbar": {
             "outlinewidth": 0,
             "ticks": ""
            },
            "type": "mesh3d"
           }
          ],
          "parcoords": [
           {
            "line": {
             "colorbar": {
              "outlinewidth": 0,
              "ticks": ""
             }
            },
            "type": "parcoords"
           }
          ],
          "pie": [
           {
            "automargin": true,
            "type": "pie"
           }
          ],
          "scatter": [
           {
            "fillpattern": {
             "fillmode": "overlay",
             "size": 10,
             "solidity": 0.2
            },
            "type": "scatter"
           }
          ],
          "scatter3d": [
           {
            "line": {
             "colorbar": {
              "outlinewidth": 0,
              "ticks": ""
             }
            },
            "marker": {
             "colorbar": {
              "outlinewidth": 0,
              "ticks": ""
             }
            },
            "type": "scatter3d"
           }
          ],
          "scattercarpet": [
           {
            "marker": {
             "colorbar": {
              "outlinewidth": 0,
              "ticks": ""
             }
            },
            "type": "scattercarpet"
           }
          ],
          "scattergeo": [
           {
            "marker": {
             "colorbar": {
              "outlinewidth": 0,
              "ticks": ""
             }
            },
            "type": "scattergeo"
           }
          ],
          "scattergl": [
           {
            "marker": {
             "colorbar": {
              "outlinewidth": 0,
              "ticks": ""
             }
            },
            "type": "scattergl"
           }
          ],
          "scattermapbox": [
           {
            "marker": {
             "colorbar": {
              "outlinewidth": 0,
              "ticks": ""
             }
            },
            "type": "scattermapbox"
           }
          ],
          "scatterpolar": [
           {
            "marker": {
             "colorbar": {
              "outlinewidth": 0,
              "ticks": ""
             }
            },
            "type": "scatterpolar"
           }
          ],
          "scatterpolargl": [
           {
            "marker": {
             "colorbar": {
              "outlinewidth": 0,
              "ticks": ""
             }
            },
            "type": "scatterpolargl"
           }
          ],
          "scatterternary": [
           {
            "marker": {
             "colorbar": {
              "outlinewidth": 0,
              "ticks": ""
             }
            },
            "type": "scatterternary"
           }
          ],
          "surface": [
           {
            "colorbar": {
             "outlinewidth": 0,
             "ticks": ""
            },
            "colorscale": [
             [
              0,
              "#0d0887"
             ],
             [
              0.1111111111111111,
              "#46039f"
             ],
             [
              0.2222222222222222,
              "#7201a8"
             ],
             [
              0.3333333333333333,
              "#9c179e"
             ],
             [
              0.4444444444444444,
              "#bd3786"
             ],
             [
              0.5555555555555556,
              "#d8576b"
             ],
             [
              0.6666666666666666,
              "#ed7953"
             ],
             [
              0.7777777777777778,
              "#fb9f3a"
             ],
             [
              0.8888888888888888,
              "#fdca26"
             ],
             [
              1,
              "#f0f921"
             ]
            ],
            "type": "surface"
           }
          ],
          "table": [
           {
            "cells": {
             "fill": {
              "color": "#EBF0F8"
             },
             "line": {
              "color": "white"
             }
            },
            "header": {
             "fill": {
              "color": "#C8D4E3"
             },
             "line": {
              "color": "white"
             }
            },
            "type": "table"
           }
          ]
         },
         "layout": {
          "annotationdefaults": {
           "arrowcolor": "#2a3f5f",
           "arrowhead": 0,
           "arrowwidth": 1
          },
          "autotypenumbers": "strict",
          "coloraxis": {
           "colorbar": {
            "outlinewidth": 0,
            "ticks": ""
           }
          },
          "colorscale": {
           "diverging": [
            [
             0,
             "#8e0152"
            ],
            [
             0.1,
             "#c51b7d"
            ],
            [
             0.2,
             "#de77ae"
            ],
            [
             0.3,
             "#f1b6da"
            ],
            [
             0.4,
             "#fde0ef"
            ],
            [
             0.5,
             "#f7f7f7"
            ],
            [
             0.6,
             "#e6f5d0"
            ],
            [
             0.7,
             "#b8e186"
            ],
            [
             0.8,
             "#7fbc41"
            ],
            [
             0.9,
             "#4d9221"
            ],
            [
             1,
             "#276419"
            ]
           ],
           "sequential": [
            [
             0,
             "#0d0887"
            ],
            [
             0.1111111111111111,
             "#46039f"
            ],
            [
             0.2222222222222222,
             "#7201a8"
            ],
            [
             0.3333333333333333,
             "#9c179e"
            ],
            [
             0.4444444444444444,
             "#bd3786"
            ],
            [
             0.5555555555555556,
             "#d8576b"
            ],
            [
             0.6666666666666666,
             "#ed7953"
            ],
            [
             0.7777777777777778,
             "#fb9f3a"
            ],
            [
             0.8888888888888888,
             "#fdca26"
            ],
            [
             1,
             "#f0f921"
            ]
           ],
           "sequentialminus": [
            [
             0,
             "#0d0887"
            ],
            [
             0.1111111111111111,
             "#46039f"
            ],
            [
             0.2222222222222222,
             "#7201a8"
            ],
            [
             0.3333333333333333,
             "#9c179e"
            ],
            [
             0.4444444444444444,
             "#bd3786"
            ],
            [
             0.5555555555555556,
             "#d8576b"
            ],
            [
             0.6666666666666666,
             "#ed7953"
            ],
            [
             0.7777777777777778,
             "#fb9f3a"
            ],
            [
             0.8888888888888888,
             "#fdca26"
            ],
            [
             1,
             "#f0f921"
            ]
           ]
          },
          "colorway": [
           "#636efa",
           "#EF553B",
           "#00cc96",
           "#ab63fa",
           "#FFA15A",
           "#19d3f3",
           "#FF6692",
           "#B6E880",
           "#FF97FF",
           "#FECB52"
          ],
          "font": {
           "color": "#2a3f5f"
          },
          "geo": {
           "bgcolor": "white",
           "lakecolor": "white",
           "landcolor": "#E5ECF6",
           "showlakes": true,
           "showland": true,
           "subunitcolor": "white"
          },
          "hoverlabel": {
           "align": "left"
          },
          "hovermode": "closest",
          "mapbox": {
           "style": "light"
          },
          "paper_bgcolor": "white",
          "plot_bgcolor": "#E5ECF6",
          "polar": {
           "angularaxis": {
            "gridcolor": "white",
            "linecolor": "white",
            "ticks": ""
           },
           "bgcolor": "#E5ECF6",
           "radialaxis": {
            "gridcolor": "white",
            "linecolor": "white",
            "ticks": ""
           }
          },
          "scene": {
           "xaxis": {
            "backgroundcolor": "#E5ECF6",
            "gridcolor": "white",
            "gridwidth": 2,
            "linecolor": "white",
            "showbackground": true,
            "ticks": "",
            "zerolinecolor": "white"
           },
           "yaxis": {
            "backgroundcolor": "#E5ECF6",
            "gridcolor": "white",
            "gridwidth": 2,
            "linecolor": "white",
            "showbackground": true,
            "ticks": "",
            "zerolinecolor": "white"
           },
           "zaxis": {
            "backgroundcolor": "#E5ECF6",
            "gridcolor": "white",
            "gridwidth": 2,
            "linecolor": "white",
            "showbackground": true,
            "ticks": "",
            "zerolinecolor": "white"
           }
          },
          "shapedefaults": {
           "line": {
            "color": "#2a3f5f"
           }
          },
          "ternary": {
           "aaxis": {
            "gridcolor": "white",
            "linecolor": "white",
            "ticks": ""
           },
           "baxis": {
            "gridcolor": "white",
            "linecolor": "white",
            "ticks": ""
           },
           "bgcolor": "#E5ECF6",
           "caxis": {
            "gridcolor": "white",
            "linecolor": "white",
            "ticks": ""
           }
          },
          "title": {
           "x": 0.05
          },
          "xaxis": {
           "automargin": true,
           "gridcolor": "white",
           "linecolor": "white",
           "ticks": "",
           "title": {
            "standoff": 15
           },
           "zerolinecolor": "white",
           "zerolinewidth": 2
          },
          "yaxis": {
           "automargin": true,
           "gridcolor": "white",
           "linecolor": "white",
           "ticks": "",
           "title": {
            "standoff": 15
           },
           "zerolinecolor": "white",
           "zerolinewidth": 2
          }
         }
        },
        "uniformtext": {
         "minsize": 8,
         "mode": "hide"
        },
        "xaxis": {
         "anchor": "y",
         "domain": [
          0,
          1
         ],
         "title": {
          "text": "country"
         }
        },
        "yaxis": {
         "anchor": "x",
         "domain": [
          0,
          1
         ],
         "title": {
          "text": "pop"
         }
        }
       }
      },
      "text/html": [
       "<div>                            <div id=\"7cfc4567-1e99-416b-9cfb-0e343f456b66\" class=\"plotly-graph-div\" style=\"height:525px; width:100%;\"></div>            <script type=\"text/javascript\">                require([\"plotly\"], function(Plotly) {                    window.PLOTLYENV=window.PLOTLYENV || {};                                    if (document.getElementById(\"7cfc4567-1e99-416b-9cfb-0e343f456b66\")) {                    Plotly.newPlot(                        \"7cfc4567-1e99-416b-9cfb-0e343f456b66\",                        [{\"alignmentgroup\":\"True\",\"hovertemplate\":\"country=%{x}\\u003cbr\\u003epop=%{text}\\u003cextra\\u003e\\u003c\\u002fextra\\u003e\",\"legendgroup\":\"\",\"marker\":{\"color\":\"#636efa\",\"pattern\":{\"shape\":\"\"}},\"name\":\"\",\"offsetgroup\":\"\",\"orientation\":\"v\",\"showlegend\":false,\"text\":[3600523.0,8199783.0,10392226.0,4552198.0,7322858.0,4493312.0,10228744.0,5468120.0,5238460.0,61083916.0,82400996.0,10706290.0,9956108.0,4109086.0,58147733.0,16570613.0,4627926.0,38518241.0,10642836.0,22276056.0,10150265.0,5447502.0,2009245.0,40448191.0,9031088.0,7554661.0,71158647.0,60776238.0],\"textposition\":\"inside\",\"x\":[\"Albania\",\"Austria\",\"Belgium\",\"Bosnia and Herzegovina\",\"Bulgaria\",\"Croatia\",\"Czech Republic\",\"Denmark\",\"Finland\",\"France\",\"Germany\",\"Greece\",\"Hungary\",\"Ireland\",\"Italy\",\"Netherlands\",\"Norway\",\"Poland\",\"Portugal\",\"Romania\",\"Serbia\",\"Slovak Republic\",\"Slovenia\",\"Spain\",\"Sweden\",\"Switzerland\",\"Turkey\",\"United Kingdom\"],\"xaxis\":\"x\",\"y\":[3600523,8199783,10392226,4552198,7322858,4493312,10228744,5468120,5238460,61083916,82400996,10706290,9956108,4109086,58147733,16570613,4627926,38518241,10642836,22276056,10150265,5447502,2009245,40448191,9031088,7554661,71158647,60776238],\"yaxis\":\"y\",\"type\":\"bar\",\"texttemplate\":\"%{text:.2s}\"}],                        {\"template\":{\"data\":{\"histogram2dcontour\":[{\"type\":\"histogram2dcontour\",\"colorbar\":{\"outlinewidth\":0,\"ticks\":\"\"},\"colorscale\":[[0.0,\"#0d0887\"],[0.1111111111111111,\"#46039f\"],[0.2222222222222222,\"#7201a8\"],[0.3333333333333333,\"#9c179e\"],[0.4444444444444444,\"#bd3786\"],[0.5555555555555556,\"#d8576b\"],[0.6666666666666666,\"#ed7953\"],[0.7777777777777778,\"#fb9f3a\"],[0.8888888888888888,\"#fdca26\"],[1.0,\"#f0f921\"]]}],\"choropleth\":[{\"type\":\"choropleth\",\"colorbar\":{\"outlinewidth\":0,\"ticks\":\"\"}}],\"histogram2d\":[{\"type\":\"histogram2d\",\"colorbar\":{\"outlinewidth\":0,\"ticks\":\"\"},\"colorscale\":[[0.0,\"#0d0887\"],[0.1111111111111111,\"#46039f\"],[0.2222222222222222,\"#7201a8\"],[0.3333333333333333,\"#9c179e\"],[0.4444444444444444,\"#bd3786\"],[0.5555555555555556,\"#d8576b\"],[0.6666666666666666,\"#ed7953\"],[0.7777777777777778,\"#fb9f3a\"],[0.8888888888888888,\"#fdca26\"],[1.0,\"#f0f921\"]]}],\"heatmap\":[{\"type\":\"heatmap\",\"colorbar\":{\"outlinewidth\":0,\"ticks\":\"\"},\"colorscale\":[[0.0,\"#0d0887\"],[0.1111111111111111,\"#46039f\"],[0.2222222222222222,\"#7201a8\"],[0.3333333333333333,\"#9c179e\"],[0.4444444444444444,\"#bd3786\"],[0.5555555555555556,\"#d8576b\"],[0.6666666666666666,\"#ed7953\"],[0.7777777777777778,\"#fb9f3a\"],[0.8888888888888888,\"#fdca26\"],[1.0,\"#f0f921\"]]}],\"heatmapgl\":[{\"type\":\"heatmapgl\",\"colorbar\":{\"outlinewidth\":0,\"ticks\":\"\"},\"colorscale\":[[0.0,\"#0d0887\"],[0.1111111111111111,\"#46039f\"],[0.2222222222222222,\"#7201a8\"],[0.3333333333333333,\"#9c179e\"],[0.4444444444444444,\"#bd3786\"],[0.5555555555555556,\"#d8576b\"],[0.6666666666666666,\"#ed7953\"],[0.7777777777777778,\"#fb9f3a\"],[0.8888888888888888,\"#fdca26\"],[1.0,\"#f0f921\"]]}],\"contourcarpet\":[{\"type\":\"contourcarpet\",\"colorbar\":{\"outlinewidth\":0,\"ticks\":\"\"}}],\"contour\":[{\"type\":\"contour\",\"colorbar\":{\"outlinewidth\":0,\"ticks\":\"\"},\"colorscale\":[[0.0,\"#0d0887\"],[0.1111111111111111,\"#46039f\"],[0.2222222222222222,\"#7201a8\"],[0.3333333333333333,\"#9c179e\"],[0.4444444444444444,\"#bd3786\"],[0.5555555555555556,\"#d8576b\"],[0.6666666666666666,\"#ed7953\"],[0.7777777777777778,\"#fb9f3a\"],[0.8888888888888888,\"#fdca26\"],[1.0,\"#f0f921\"]]}],\"surface\":[{\"type\":\"surface\",\"colorbar\":{\"outlinewidth\":0,\"ticks\":\"\"},\"colorscale\":[[0.0,\"#0d0887\"],[0.1111111111111111,\"#46039f\"],[0.2222222222222222,\"#7201a8\"],[0.3333333333333333,\"#9c179e\"],[0.4444444444444444,\"#bd3786\"],[0.5555555555555556,\"#d8576b\"],[0.6666666666666666,\"#ed7953\"],[0.7777777777777778,\"#fb9f3a\"],[0.8888888888888888,\"#fdca26\"],[1.0,\"#f0f921\"]]}],\"mesh3d\":[{\"type\":\"mesh3d\",\"colorbar\":{\"outlinewidth\":0,\"ticks\":\"\"}}],\"scatter\":[{\"fillpattern\":{\"fillmode\":\"overlay\",\"size\":10,\"solidity\":0.2},\"type\":\"scatter\"}],\"parcoords\":[{\"type\":\"parcoords\",\"line\":{\"colorbar\":{\"outlinewidth\":0,\"ticks\":\"\"}}}],\"scatterpolargl\":[{\"type\":\"scatterpolargl\",\"marker\":{\"colorbar\":{\"outlinewidth\":0,\"ticks\":\"\"}}}],\"bar\":[{\"error_x\":{\"color\":\"#2a3f5f\"},\"error_y\":{\"color\":\"#2a3f5f\"},\"marker\":{\"line\":{\"color\":\"#E5ECF6\",\"width\":0.5},\"pattern\":{\"fillmode\":\"overlay\",\"size\":10,\"solidity\":0.2}},\"type\":\"bar\"}],\"scattergeo\":[{\"type\":\"scattergeo\",\"marker\":{\"colorbar\":{\"outlinewidth\":0,\"ticks\":\"\"}}}],\"scatterpolar\":[{\"type\":\"scatterpolar\",\"marker\":{\"colorbar\":{\"outlinewidth\":0,\"ticks\":\"\"}}}],\"histogram\":[{\"marker\":{\"pattern\":{\"fillmode\":\"overlay\",\"size\":10,\"solidity\":0.2}},\"type\":\"histogram\"}],\"scattergl\":[{\"type\":\"scattergl\",\"marker\":{\"colorbar\":{\"outlinewidth\":0,\"ticks\":\"\"}}}],\"scatter3d\":[{\"type\":\"scatter3d\",\"line\":{\"colorbar\":{\"outlinewidth\":0,\"ticks\":\"\"}},\"marker\":{\"colorbar\":{\"outlinewidth\":0,\"ticks\":\"\"}}}],\"scattermapbox\":[{\"type\":\"scattermapbox\",\"marker\":{\"colorbar\":{\"outlinewidth\":0,\"ticks\":\"\"}}}],\"scatterternary\":[{\"type\":\"scatterternary\",\"marker\":{\"colorbar\":{\"outlinewidth\":0,\"ticks\":\"\"}}}],\"scattercarpet\":[{\"type\":\"scattercarpet\",\"marker\":{\"colorbar\":{\"outlinewidth\":0,\"ticks\":\"\"}}}],\"carpet\":[{\"aaxis\":{\"endlinecolor\":\"#2a3f5f\",\"gridcolor\":\"white\",\"linecolor\":\"white\",\"minorgridcolor\":\"white\",\"startlinecolor\":\"#2a3f5f\"},\"baxis\":{\"endlinecolor\":\"#2a3f5f\",\"gridcolor\":\"white\",\"linecolor\":\"white\",\"minorgridcolor\":\"white\",\"startlinecolor\":\"#2a3f5f\"},\"type\":\"carpet\"}],\"table\":[{\"cells\":{\"fill\":{\"color\":\"#EBF0F8\"},\"line\":{\"color\":\"white\"}},\"header\":{\"fill\":{\"color\":\"#C8D4E3\"},\"line\":{\"color\":\"white\"}},\"type\":\"table\"}],\"barpolar\":[{\"marker\":{\"line\":{\"color\":\"#E5ECF6\",\"width\":0.5},\"pattern\":{\"fillmode\":\"overlay\",\"size\":10,\"solidity\":0.2}},\"type\":\"barpolar\"}],\"pie\":[{\"automargin\":true,\"type\":\"pie\"}]},\"layout\":{\"autotypenumbers\":\"strict\",\"colorway\":[\"#636efa\",\"#EF553B\",\"#00cc96\",\"#ab63fa\",\"#FFA15A\",\"#19d3f3\",\"#FF6692\",\"#B6E880\",\"#FF97FF\",\"#FECB52\"],\"font\":{\"color\":\"#2a3f5f\"},\"hovermode\":\"closest\",\"hoverlabel\":{\"align\":\"left\"},\"paper_bgcolor\":\"white\",\"plot_bgcolor\":\"#E5ECF6\",\"polar\":{\"bgcolor\":\"#E5ECF6\",\"angularaxis\":{\"gridcolor\":\"white\",\"linecolor\":\"white\",\"ticks\":\"\"},\"radialaxis\":{\"gridcolor\":\"white\",\"linecolor\":\"white\",\"ticks\":\"\"}},\"ternary\":{\"bgcolor\":\"#E5ECF6\",\"aaxis\":{\"gridcolor\":\"white\",\"linecolor\":\"white\",\"ticks\":\"\"},\"baxis\":{\"gridcolor\":\"white\",\"linecolor\":\"white\",\"ticks\":\"\"},\"caxis\":{\"gridcolor\":\"white\",\"linecolor\":\"white\",\"ticks\":\"\"}},\"coloraxis\":{\"colorbar\":{\"outlinewidth\":0,\"ticks\":\"\"}},\"colorscale\":{\"sequential\":[[0.0,\"#0d0887\"],[0.1111111111111111,\"#46039f\"],[0.2222222222222222,\"#7201a8\"],[0.3333333333333333,\"#9c179e\"],[0.4444444444444444,\"#bd3786\"],[0.5555555555555556,\"#d8576b\"],[0.6666666666666666,\"#ed7953\"],[0.7777777777777778,\"#fb9f3a\"],[0.8888888888888888,\"#fdca26\"],[1.0,\"#f0f921\"]],\"sequentialminus\":[[0.0,\"#0d0887\"],[0.1111111111111111,\"#46039f\"],[0.2222222222222222,\"#7201a8\"],[0.3333333333333333,\"#9c179e\"],[0.4444444444444444,\"#bd3786\"],[0.5555555555555556,\"#d8576b\"],[0.6666666666666666,\"#ed7953\"],[0.7777777777777778,\"#fb9f3a\"],[0.8888888888888888,\"#fdca26\"],[1.0,\"#f0f921\"]],\"diverging\":[[0,\"#8e0152\"],[0.1,\"#c51b7d\"],[0.2,\"#de77ae\"],[0.3,\"#f1b6da\"],[0.4,\"#fde0ef\"],[0.5,\"#f7f7f7\"],[0.6,\"#e6f5d0\"],[0.7,\"#b8e186\"],[0.8,\"#7fbc41\"],[0.9,\"#4d9221\"],[1,\"#276419\"]]},\"xaxis\":{\"gridcolor\":\"white\",\"linecolor\":\"white\",\"ticks\":\"\",\"title\":{\"standoff\":15},\"zerolinecolor\":\"white\",\"automargin\":true,\"zerolinewidth\":2},\"yaxis\":{\"gridcolor\":\"white\",\"linecolor\":\"white\",\"ticks\":\"\",\"title\":{\"standoff\":15},\"zerolinecolor\":\"white\",\"automargin\":true,\"zerolinewidth\":2},\"scene\":{\"xaxis\":{\"backgroundcolor\":\"#E5ECF6\",\"gridcolor\":\"white\",\"linecolor\":\"white\",\"showbackground\":true,\"ticks\":\"\",\"zerolinecolor\":\"white\",\"gridwidth\":2},\"yaxis\":{\"backgroundcolor\":\"#E5ECF6\",\"gridcolor\":\"white\",\"linecolor\":\"white\",\"showbackground\":true,\"ticks\":\"\",\"zerolinecolor\":\"white\",\"gridwidth\":2},\"zaxis\":{\"backgroundcolor\":\"#E5ECF6\",\"gridcolor\":\"white\",\"linecolor\":\"white\",\"showbackground\":true,\"ticks\":\"\",\"zerolinecolor\":\"white\",\"gridwidth\":2}},\"shapedefaults\":{\"line\":{\"color\":\"#2a3f5f\"}},\"annotationdefaults\":{\"arrowcolor\":\"#2a3f5f\",\"arrowhead\":0,\"arrowwidth\":1},\"geo\":{\"bgcolor\":\"white\",\"landcolor\":\"#E5ECF6\",\"subunitcolor\":\"white\",\"showland\":true,\"showlakes\":true,\"lakecolor\":\"white\"},\"title\":{\"x\":0.05},\"mapbox\":{\"style\":\"light\"}}},\"xaxis\":{\"anchor\":\"y\",\"domain\":[0.0,1.0],\"title\":{\"text\":\"country\"}},\"yaxis\":{\"anchor\":\"x\",\"domain\":[0.0,1.0],\"title\":{\"text\":\"pop\"}},\"legend\":{\"tracegroupgap\":0},\"margin\":{\"t\":60},\"barmode\":\"relative\",\"uniformtext\":{\"minsize\":8,\"mode\":\"hide\"}},                        {\"responsive\": true}                    ).then(function(){\n",
       "                            \n",
       "var gd = document.getElementById('7cfc4567-1e99-416b-9cfb-0e343f456b66');\n",
       "var x = new MutationObserver(function (mutations, observer) {{\n",
       "        var display = window.getComputedStyle(gd).display;\n",
       "        if (!display || display === 'none') {{\n",
       "            console.log([gd, 'removed!']);\n",
       "            Plotly.purge(gd);\n",
       "            observer.disconnect();\n",
       "        }}\n",
       "}});\n",
       "\n",
       "// Listen for the removal of the full notebook cells\n",
       "var notebookContainer = gd.closest('#notebook-container');\n",
       "if (notebookContainer) {{\n",
       "    x.observe(notebookContainer, {childList: true});\n",
       "}}\n",
       "\n",
       "// Listen for the clearing of the current output cell\n",
       "var outputEl = gd.closest('.output');\n",
       "if (outputEl) {{\n",
       "    x.observe(outputEl, {childList: true});\n",
       "}}\n",
       "\n",
       "                        })                };                });            </script>        </div>"
      ]
     },
     "metadata": {},
     "output_type": "display_data"
    }
   ],
   "source": [
    "df = px.data.gapminder().query(\"continent == 'Europe' and year == 2007 and pop > 2.e6\")\n",
    "fig = px.bar(df, y='pop', x='country', text='pop')\n",
    "fig.update_traces(texttemplate='%{text:.2s}', textposition='inside')\n",
    "fig.update_layout(uniformtext_minsize=8, uniformtext_mode='hide')\n",
    "fig.show()"
   ]
  },
  {
   "cell_type": "code",
   "execution_count": 70,
   "id": "10575175",
   "metadata": {},
   "outputs": [
    {
     "data": {
      "text/plain": [
       "6206"
      ]
     },
     "execution_count": 70,
     "metadata": {},
     "output_type": "execute_result"
    }
   ],
   "source": [
    "df_full['id'].nunique()"
   ]
  },
  {
   "cell_type": "code",
   "execution_count": 73,
   "id": "206097e0",
   "metadata": {},
   "outputs": [],
   "source": [
    "df2 = pd.read_csv('full_dataset2.csv')\n",
    "df_ypes = pd.read_csv('kwd_ypes.csv')"
   ]
  },
  {
   "cell_type": "code",
   "execution_count": 74,
   "id": "4611573e",
   "metadata": {},
   "outputs": [
    {
     "data": {
      "text/html": [
       "<div>\n",
       "<style scoped>\n",
       "    .dataframe tbody tr th:only-of-type {\n",
       "        vertical-align: middle;\n",
       "    }\n",
       "\n",
       "    .dataframe tbody tr th {\n",
       "        vertical-align: top;\n",
       "    }\n",
       "\n",
       "    .dataframe thead th {\n",
       "        text-align: right;\n",
       "    }\n",
       "</style>\n",
       "<table border=\"1\" class=\"dataframe\">\n",
       "  <thead>\n",
       "    <tr style=\"text-align: right;\">\n",
       "      <th></th>\n",
       "      <th>dimos</th>\n",
       "      <th>kwd_ypes</th>\n",
       "      <th>enotites</th>\n",
       "    </tr>\n",
       "  </thead>\n",
       "  <tbody>\n",
       "    <tr>\n",
       "      <th>0</th>\n",
       "      <td>Άγιοι Ανάργυροι - Καματερό</td>\n",
       "      <td>9180</td>\n",
       "      <td>ΔΥΤΙΚΟΥ ΤΟΜΕΑ ΑΘΗΝΩΝ</td>\n",
       "    </tr>\n",
       "    <tr>\n",
       "      <th>1</th>\n",
       "      <td>Άγιος Δημήτριος</td>\n",
       "      <td>9194</td>\n",
       "      <td>ΝΟΤΙΟΣ ΤΟΜΕΑΣ ΑΘΗΝΩΝ</td>\n",
       "    </tr>\n",
       "    <tr>\n",
       "      <th>2</th>\n",
       "      <td>Αθηναίων</td>\n",
       "      <td>9186</td>\n",
       "      <td>ΚΕΝΤΡΙΚΟΣ ΤΟΜΕΑΣ ΑΘΗΝΩΝ</td>\n",
       "    </tr>\n",
       "    <tr>\n",
       "      <th>3</th>\n",
       "      <td>Αιγάλεω</td>\n",
       "      <td>9181</td>\n",
       "      <td>ΔΥΤΙΚΟΥ ΤΟΜΕΑ ΑΘΗΝΩΝ</td>\n",
       "    </tr>\n",
       "    <tr>\n",
       "      <th>4</th>\n",
       "      <td>Βύρωνας</td>\n",
       "      <td>9187</td>\n",
       "      <td>ΚΕΝΤΡΙΚΟΣ ΤΟΜΕΑΣ ΑΘΗΝΩΝ</td>\n",
       "    </tr>\n",
       "    <tr>\n",
       "      <th>5</th>\n",
       "      <td>Γαλάτσι</td>\n",
       "      <td>9188</td>\n",
       "      <td>ΚΕΝΤΡΙΚΟΣ ΤΟΜΕΑΣ ΑΘΗΝΩΝ</td>\n",
       "    </tr>\n",
       "    <tr>\n",
       "      <th>6</th>\n",
       "      <td>Γλυφάδα</td>\n",
       "      <td>9196</td>\n",
       "      <td>ΝΟΤΙΟΣ ΤΟΜΕΑΣ ΑΘΗΝΩΝ</td>\n",
       "    </tr>\n",
       "    <tr>\n",
       "      <th>7</th>\n",
       "      <td>Δάφνη - Υμηττός</td>\n",
       "      <td>9189</td>\n",
       "      <td>ΚΕΝΤΡΙΚΟΣ ΤΟΜΕΑΣ ΑΘΗΝΩΝ</td>\n",
       "    </tr>\n",
       "    <tr>\n",
       "      <th>8</th>\n",
       "      <td>Ζωγράφου</td>\n",
       "      <td>9190</td>\n",
       "      <td>ΚΕΝΤΡΙΚΟΣ ΤΟΜΕΑΣ ΑΘΗΝΩΝ</td>\n",
       "    </tr>\n",
       "    <tr>\n",
       "      <th>9</th>\n",
       "      <td>Ηλιούπολη</td>\n",
       "      <td>9191</td>\n",
       "      <td>ΚΕΝΤΡΙΚΟΣ ΤΟΜΕΑΣ ΑΘΗΝΩΝ</td>\n",
       "    </tr>\n",
       "    <tr>\n",
       "      <th>10</th>\n",
       "      <td>Ίλιον</td>\n",
       "      <td>9182</td>\n",
       "      <td>ΔΥΤΙΚΟΥ ΤΟΜΕΑ ΑΘΗΝΩΝ</td>\n",
       "    </tr>\n",
       "    <tr>\n",
       "      <th>11</th>\n",
       "      <td>Καισαριανή</td>\n",
       "      <td>9192</td>\n",
       "      <td>ΚΕΝΤΡΙΚΟΣ ΤΟΜΕΑΣ ΑΘΗΝΩΝ</td>\n",
       "    </tr>\n",
       "    <tr>\n",
       "      <th>12</th>\n",
       "      <td>Καλλιθέα</td>\n",
       "      <td>9198</td>\n",
       "      <td>ΝΟΤΙΟΣ ΤΟΜΕΑΣ ΑΘΗΝΩΝ</td>\n",
       "    </tr>\n",
       "    <tr>\n",
       "      <th>13</th>\n",
       "      <td>Μαρούσι</td>\n",
       "      <td>9168</td>\n",
       "      <td>ΒΟΡΕΙΟΥ ΤΟΜΕΑ ΑΘΗΝΩΝ</td>\n",
       "    </tr>\n",
       "    <tr>\n",
       "      <th>14</th>\n",
       "      <td>Νέα Ιωνία</td>\n",
       "      <td>9174</td>\n",
       "      <td>ΒΟΡΕΙΟΥ ΤΟΜΕΑ ΑΘΗΝΩΝ</td>\n",
       "    </tr>\n",
       "    <tr>\n",
       "      <th>15</th>\n",
       "      <td>Νέα Σμύρνη</td>\n",
       "      <td>9200</td>\n",
       "      <td>ΝΟΤΙΟΣ ΤΟΜΕΑΣ ΑΘΗΝΩΝ</td>\n",
       "    </tr>\n",
       "    <tr>\n",
       "      <th>16</th>\n",
       "      <td>Παπάγου - Χολαργός</td>\n",
       "      <td>9175</td>\n",
       "      <td>ΒΟΡΕΙΟΥ ΤΟΜΕΑ ΑΘΗΝΩΝ</td>\n",
       "    </tr>\n",
       "    <tr>\n",
       "      <th>17</th>\n",
       "      <td>Περιστέρι</td>\n",
       "      <td>9183</td>\n",
       "      <td>ΔΥΤΙΚΟΥ ΤΟΜΕΑ ΑΘΗΝΩΝ</td>\n",
       "    </tr>\n",
       "    <tr>\n",
       "      <th>18</th>\n",
       "      <td>Φιλαδέλφεια - Χαλκηδόνα</td>\n",
       "      <td>9193</td>\n",
       "      <td>ΚΕΝΤΡΙΚΟΣ ΤΟΜΕΑΣ ΑΘΗΝΩΝ</td>\n",
       "    </tr>\n",
       "    <tr>\n",
       "      <th>19</th>\n",
       "      <td>Φιλοθέης - Ψυχικού</td>\n",
       "      <td>9177</td>\n",
       "      <td>ΒΟΡΕΙΟΥ ΤΟΜΕΑ ΑΘΗΝΩΝ</td>\n",
       "    </tr>\n",
       "    <tr>\n",
       "      <th>20</th>\n",
       "      <td>Χαλάνδρι</td>\n",
       "      <td>9178</td>\n",
       "      <td>ΒΟΡΕΙΟΥ ΤΟΜΕΑ ΑΘΗΝΩΝ</td>\n",
       "    </tr>\n",
       "  </tbody>\n",
       "</table>\n",
       "</div>"
      ],
      "text/plain": [
       "                         dimos  kwd_ypes                 enotites\n",
       "0   Άγιοι Ανάργυροι - Καματερό      9180     ΔΥΤΙΚΟΥ ΤΟΜΕΑ ΑΘΗΝΩΝ\n",
       "1              Άγιος Δημήτριος      9194     ΝΟΤΙΟΣ ΤΟΜΕΑΣ ΑΘΗΝΩΝ\n",
       "2                     Αθηναίων      9186  ΚΕΝΤΡΙΚΟΣ ΤΟΜΕΑΣ ΑΘΗΝΩΝ\n",
       "3                      Αιγάλεω      9181     ΔΥΤΙΚΟΥ ΤΟΜΕΑ ΑΘΗΝΩΝ\n",
       "4                      Βύρωνας      9187  ΚΕΝΤΡΙΚΟΣ ΤΟΜΕΑΣ ΑΘΗΝΩΝ\n",
       "5                      Γαλάτσι      9188  ΚΕΝΤΡΙΚΟΣ ΤΟΜΕΑΣ ΑΘΗΝΩΝ\n",
       "6                      Γλυφάδα      9196     ΝΟΤΙΟΣ ΤΟΜΕΑΣ ΑΘΗΝΩΝ\n",
       "7              Δάφνη - Υμηττός      9189  ΚΕΝΤΡΙΚΟΣ ΤΟΜΕΑΣ ΑΘΗΝΩΝ\n",
       "8                     Ζωγράφου      9190  ΚΕΝΤΡΙΚΟΣ ΤΟΜΕΑΣ ΑΘΗΝΩΝ\n",
       "9                    Ηλιούπολη      9191  ΚΕΝΤΡΙΚΟΣ ΤΟΜΕΑΣ ΑΘΗΝΩΝ\n",
       "10                       Ίλιον      9182     ΔΥΤΙΚΟΥ ΤΟΜΕΑ ΑΘΗΝΩΝ\n",
       "11                  Καισαριανή      9192  ΚΕΝΤΡΙΚΟΣ ΤΟΜΕΑΣ ΑΘΗΝΩΝ\n",
       "12                    Καλλιθέα      9198     ΝΟΤΙΟΣ ΤΟΜΕΑΣ ΑΘΗΝΩΝ\n",
       "13                     Μαρούσι      9168     ΒΟΡΕΙΟΥ ΤΟΜΕΑ ΑΘΗΝΩΝ\n",
       "14                   Νέα Ιωνία      9174     ΒΟΡΕΙΟΥ ΤΟΜΕΑ ΑΘΗΝΩΝ\n",
       "15                  Νέα Σμύρνη      9200     ΝΟΤΙΟΣ ΤΟΜΕΑΣ ΑΘΗΝΩΝ\n",
       "16          Παπάγου - Χολαργός      9175     ΒΟΡΕΙΟΥ ΤΟΜΕΑ ΑΘΗΝΩΝ\n",
       "17                   Περιστέρι      9183     ΔΥΤΙΚΟΥ ΤΟΜΕΑ ΑΘΗΝΩΝ\n",
       "18     Φιλαδέλφεια - Χαλκηδόνα      9193  ΚΕΝΤΡΙΚΟΣ ΤΟΜΕΑΣ ΑΘΗΝΩΝ\n",
       "19          Φιλοθέης - Ψυχικού      9177     ΒΟΡΕΙΟΥ ΤΟΜΕΑ ΑΘΗΝΩΝ\n",
       "20                    Χαλάνδρι      9178     ΒΟΡΕΙΟΥ ΤΟΜΕΑ ΑΘΗΝΩΝ"
      ]
     },
     "execution_count": 74,
     "metadata": {},
     "output_type": "execute_result"
    }
   ],
   "source": [
    "df_ypes"
   ]
  },
  {
   "cell_type": "code",
   "execution_count": 75,
   "id": "a47e553c",
   "metadata": {},
   "outputs": [],
   "source": [
    "df3 = df2.merge(df_ypes, on='dimos')"
   ]
  },
  {
   "cell_type": "code",
   "execution_count": 79,
   "id": "d55638ec",
   "metadata": {},
   "outputs": [],
   "source": [
    "df3.to_csv('full_dataset2_with_types.csv', encoding='utf-8-sig', index=False)"
   ]
  }
 ],
 "metadata": {
  "kernelspec": {
   "display_name": "Python 3 (ipykernel)",
   "language": "python",
   "name": "python3"
  },
  "language_info": {
   "codemirror_mode": {
    "name": "ipython",
    "version": 3
   },
   "file_extension": ".py",
   "mimetype": "text/x-python",
   "name": "python",
   "nbconvert_exporter": "python",
   "pygments_lexer": "ipython3",
   "version": "3.9.16"
  }
 },
 "nbformat": 4,
 "nbformat_minor": 5
}
