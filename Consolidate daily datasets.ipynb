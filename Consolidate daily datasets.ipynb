{
 "cells": [
  {
   "cell_type": "code",
   "execution_count": 1,
   "id": "e90bbb6f",
   "metadata": {},
   "outputs": [],
   "source": [
    "import pandas as pd\n",
    "import numpy as np\n",
    "import os\n",
    "import re\n",
    "\n",
    "pd.set_option('display.max_columns', None) \n",
    "pd.options.mode.chained_assignment = None"
   ]
  },
  {
   "cell_type": "code",
   "execution_count": 2,
   "id": "0e24adc2",
   "metadata": {},
   "outputs": [],
   "source": [
    "clean_files = list(filter(lambda x: re.search(r'_clean_', x), os.listdir()))"
   ]
  },
  {
   "cell_type": "code",
   "execution_count": 3,
   "id": "197408fe",
   "metadata": {},
   "outputs": [],
   "source": [
    "clean_df_list = list(map(pd.read_csv, clean_files))"
   ]
  },
  {
   "cell_type": "code",
   "execution_count": 4,
   "id": "0de3899d",
   "metadata": {},
   "outputs": [],
   "source": [
    "final_pdf = pd.concat(clean_df_list)"
   ]
  },
  {
   "cell_type": "code",
   "execution_count": 5,
   "id": "7c5a5161",
   "metadata": {},
   "outputs": [],
   "source": [
    "final_pdf.to_csv('full_dataset.csv', encoding='utf-8-sig', index=False)"
   ]
  }
 ],
 "metadata": {
  "kernelspec": {
   "display_name": "Python 3 (ipykernel)",
   "language": "python",
   "name": "python3"
  },
  "language_info": {
   "codemirror_mode": {
    "name": "ipython",
    "version": 3
   },
   "file_extension": ".py",
   "mimetype": "text/x-python",
   "name": "python",
   "nbconvert_exporter": "python",
   "pygments_lexer": "ipython3",
   "version": "3.9.16"
  }
 },
 "nbformat": 4,
 "nbformat_minor": 5
}
